{
  "cells": [
    {
      "cell_type": "markdown",
      "metadata": {
        "id": "8d7cD2KIXTcc"
      },
      "source": [
        "# Project: cleanning - [candy data]\n",
        "### this notebook is for educational purpose . in this notebook we will do some cleanning\n",
        "\n",
        "## Table of Contents\n",
        "<ul>\n",
        "<li><a href=\"#intro\">Introduction</a></li>\n",
        "<li><a href=\"#wrangling\">wrangling</a></li>\n",
        "  \n",
        "</ul>"
      ]
    },
    {
      "cell_type": "markdown",
      "metadata": {
        "id": "KFoNGhawXTcf"
      },
      "source": [
        "<a id='intro'></a>\n",
        "## Introduction\n",
        "\n",
        "### Dataset Description\n",
        "\n",
        "> i will go through candy data 2017 , this data has :\n",
        "- Internal_ID\n",
        "- Q1-Going Out?: Are you actually going trick or treating yourself? \"has values `Yes or No`\"\n",
        "- Q2-Gender: It has four different options, `Femal ,Male ,Other ,I'd rather not say`\n",
        "- Q3-Age: Numerical field\n",
        "- Q4-Country: Text Field, but users have written their own version of the names. Example, for America, there are entries such as USA, us, US, America so we should consider that while cleanning\n",
        "- Q5-State/Province: Text Field, but users have written their own version of the names. Same as the country data.\n",
        "- Q6-Joy Or Despair: All kinds of chocolate bars are the questions with three distinct options to choose from (Joy, Meh, Despair).\n",
        "- Q7-Joy Other: Text Field to write items not included above that give you JOY. Lots of missing values.\n",
        "- Q8-Despair Other: Text Field ti write items not included above that give you DESPAIR. Lots of missing values.\n",
        "- Q9-Other Comments: Text Field. Lots of missing values.\n",
        "- Q10-Dress: Binary field. Missing values present\n",
        "- Unnamed: 113\n",
        "- Q11-Day: Binary Answer Field. Missing values present\n"
      ]
    },
    {
      "cell_type": "markdown",
      "metadata": {
        "id": "3v4iYQrHXTcf"
      },
      "source": [
        "# 1- import packages and load data"
      ]
    },
    {
      "cell_type": "code",
      "execution_count": null,
      "metadata": {
        "id": "V8Te5QVmXTcg",
        "colab": {
          "base_uri": "https://localhost:8080/"
        },
        "outputId": "fcd80e93-0a21-489d-d305-d7cc0538e88b"
      },
      "outputs": [
        {
          "output_type": "stream",
          "name": "stderr",
          "text": [
            "/usr/local/lib/python3.10/dist-packages/fuzzywuzzy/fuzz.py:11: UserWarning: Using slow pure-python SequenceMatcher. Install python-Levenshtein to remove this warning\n",
            "  warnings.warn('Using slow pure-python SequenceMatcher. Install python-Levenshtein to remove this warning')\n"
          ]
        }
      ],
      "source": [
        "import numpy as np\n",
        "import pandas as pd\n",
        "import matplotlib.pyplot as plt\n",
        "import seaborn as sns\n",
        "import warnings\n",
        "from fuzzywuzzy import process\n",
        "warnings.simplefilter(\"ignore\")\n"
      ]
    },
    {
      "cell_type": "code",
      "source": [
        "df = pd.read_excel(\"/content/candyhierarchy2017.xlsx\")\n",
        "df.head(5)"
      ],
      "metadata": {
        "colab": {
          "base_uri": "https://localhost:8080/",
          "height": 516
        },
        "id": "fftAjZr9ZF42",
        "outputId": "8cb22c80-3d7f-4706-c1db-3ef5c1d353d4"
      },
      "execution_count": null,
      "outputs": [
        {
          "output_type": "execute_result",
          "data": {
            "text/plain": [
              "   Internal ID Q1: GOING OUT? Q2: GENDER Q3: AGE Q4: COUNTRY  \\\n",
              "0     90258773            NaN        NaN     NaN         NaN   \n",
              "1     90272821             No       Male      44        USA    \n",
              "2     90272829            NaN       Male      49         USA   \n",
              "3     90272840             No       Male      40          us   \n",
              "4     90272841             No       Male      23         usa   \n",
              "\n",
              "  Q5: STATE, PROVINCE, COUNTY, ETC Q6 | 100 Grand Bar  \\\n",
              "0                              NaN                NaN   \n",
              "1                               NM                MEH   \n",
              "2                         Virginia                NaN   \n",
              "3                               or                MEH   \n",
              "4                         exton pa                JOY   \n",
              "\n",
              "  Q6 | Anonymous brown globs that come in black and orange wrappers\\t(a.k.a. Mary Janes)  \\\n",
              "0                                                NaN                                       \n",
              "1                                            DESPAIR                                       \n",
              "2                                                NaN                                       \n",
              "3                                            DESPAIR                                       \n",
              "4                                            DESPAIR                                       \n",
              "\n",
              "  Q6 | Any full-sized candy bar Q6 | Black Jacks  ... Q8: DESPAIR OTHER  \\\n",
              "0                           NaN              NaN  ...               NaN   \n",
              "1                           JOY              MEH  ...               NaN   \n",
              "2                           NaN              NaN  ...               NaN   \n",
              "3                           JOY              MEH  ...               NaN   \n",
              "4                           JOY          DESPAIR  ...               NaN   \n",
              "\n",
              "                                  Q9: OTHER COMMENTS      Q10: DRESS  \\\n",
              "0                                                NaN             NaN   \n",
              "1  Bottom line is Twix is really the only candy w...  White and gold   \n",
              "2                                                NaN             NaN   \n",
              "3                             Raisins can go to hell  White and gold   \n",
              "4                                                NaN  White and gold   \n",
              "\n",
              "  Unnamed: 113 Q11: DAY Q12: MEDIA [Daily Dish] Q12: MEDIA [Science]  \\\n",
              "0          NaN      NaN                     NaN                  NaN   \n",
              "1          NaN   Sunday                     NaN                  1.0   \n",
              "2          NaN      NaN                     NaN                  NaN   \n",
              "3          NaN   Sunday                     NaN                  1.0   \n",
              "4          NaN   Friday                     NaN                  1.0   \n",
              "\n",
              "  Q12: MEDIA [ESPN] Q12: MEDIA [Yahoo] Click Coordinates (x, y)  \n",
              "0               NaN                NaN                      NaN  \n",
              "1               NaN                NaN                 (84, 25)  \n",
              "2               NaN                NaN                      NaN  \n",
              "3               NaN                NaN                 (75, 23)  \n",
              "4               NaN                NaN                 (70, 10)  \n",
              "\n",
              "[5 rows x 120 columns]"
            ],
            "text/html": [
              "\n",
              "  <div id=\"df-044e7b49-2f41-4989-8ce6-67898f91c315\" class=\"colab-df-container\">\n",
              "    <div>\n",
              "<style scoped>\n",
              "    .dataframe tbody tr th:only-of-type {\n",
              "        vertical-align: middle;\n",
              "    }\n",
              "\n",
              "    .dataframe tbody tr th {\n",
              "        vertical-align: top;\n",
              "    }\n",
              "\n",
              "    .dataframe thead th {\n",
              "        text-align: right;\n",
              "    }\n",
              "</style>\n",
              "<table border=\"1\" class=\"dataframe\">\n",
              "  <thead>\n",
              "    <tr style=\"text-align: right;\">\n",
              "      <th></th>\n",
              "      <th>Internal ID</th>\n",
              "      <th>Q1: GOING OUT?</th>\n",
              "      <th>Q2: GENDER</th>\n",
              "      <th>Q3: AGE</th>\n",
              "      <th>Q4: COUNTRY</th>\n",
              "      <th>Q5: STATE, PROVINCE, COUNTY, ETC</th>\n",
              "      <th>Q6 | 100 Grand Bar</th>\n",
              "      <th>Q6 | Anonymous brown globs that come in black and orange wrappers\\t(a.k.a. Mary Janes)</th>\n",
              "      <th>Q6 | Any full-sized candy bar</th>\n",
              "      <th>Q6 | Black Jacks</th>\n",
              "      <th>...</th>\n",
              "      <th>Q8: DESPAIR OTHER</th>\n",
              "      <th>Q9: OTHER COMMENTS</th>\n",
              "      <th>Q10: DRESS</th>\n",
              "      <th>Unnamed: 113</th>\n",
              "      <th>Q11: DAY</th>\n",
              "      <th>Q12: MEDIA [Daily Dish]</th>\n",
              "      <th>Q12: MEDIA [Science]</th>\n",
              "      <th>Q12: MEDIA [ESPN]</th>\n",
              "      <th>Q12: MEDIA [Yahoo]</th>\n",
              "      <th>Click Coordinates (x, y)</th>\n",
              "    </tr>\n",
              "  </thead>\n",
              "  <tbody>\n",
              "    <tr>\n",
              "      <th>0</th>\n",
              "      <td>90258773</td>\n",
              "      <td>NaN</td>\n",
              "      <td>NaN</td>\n",
              "      <td>NaN</td>\n",
              "      <td>NaN</td>\n",
              "      <td>NaN</td>\n",
              "      <td>NaN</td>\n",
              "      <td>NaN</td>\n",
              "      <td>NaN</td>\n",
              "      <td>NaN</td>\n",
              "      <td>...</td>\n",
              "      <td>NaN</td>\n",
              "      <td>NaN</td>\n",
              "      <td>NaN</td>\n",
              "      <td>NaN</td>\n",
              "      <td>NaN</td>\n",
              "      <td>NaN</td>\n",
              "      <td>NaN</td>\n",
              "      <td>NaN</td>\n",
              "      <td>NaN</td>\n",
              "      <td>NaN</td>\n",
              "    </tr>\n",
              "    <tr>\n",
              "      <th>1</th>\n",
              "      <td>90272821</td>\n",
              "      <td>No</td>\n",
              "      <td>Male</td>\n",
              "      <td>44</td>\n",
              "      <td>USA</td>\n",
              "      <td>NM</td>\n",
              "      <td>MEH</td>\n",
              "      <td>DESPAIR</td>\n",
              "      <td>JOY</td>\n",
              "      <td>MEH</td>\n",
              "      <td>...</td>\n",
              "      <td>NaN</td>\n",
              "      <td>Bottom line is Twix is really the only candy w...</td>\n",
              "      <td>White and gold</td>\n",
              "      <td>NaN</td>\n",
              "      <td>Sunday</td>\n",
              "      <td>NaN</td>\n",
              "      <td>1.0</td>\n",
              "      <td>NaN</td>\n",
              "      <td>NaN</td>\n",
              "      <td>(84, 25)</td>\n",
              "    </tr>\n",
              "    <tr>\n",
              "      <th>2</th>\n",
              "      <td>90272829</td>\n",
              "      <td>NaN</td>\n",
              "      <td>Male</td>\n",
              "      <td>49</td>\n",
              "      <td>USA</td>\n",
              "      <td>Virginia</td>\n",
              "      <td>NaN</td>\n",
              "      <td>NaN</td>\n",
              "      <td>NaN</td>\n",
              "      <td>NaN</td>\n",
              "      <td>...</td>\n",
              "      <td>NaN</td>\n",
              "      <td>NaN</td>\n",
              "      <td>NaN</td>\n",
              "      <td>NaN</td>\n",
              "      <td>NaN</td>\n",
              "      <td>NaN</td>\n",
              "      <td>NaN</td>\n",
              "      <td>NaN</td>\n",
              "      <td>NaN</td>\n",
              "      <td>NaN</td>\n",
              "    </tr>\n",
              "    <tr>\n",
              "      <th>3</th>\n",
              "      <td>90272840</td>\n",
              "      <td>No</td>\n",
              "      <td>Male</td>\n",
              "      <td>40</td>\n",
              "      <td>us</td>\n",
              "      <td>or</td>\n",
              "      <td>MEH</td>\n",
              "      <td>DESPAIR</td>\n",
              "      <td>JOY</td>\n",
              "      <td>MEH</td>\n",
              "      <td>...</td>\n",
              "      <td>NaN</td>\n",
              "      <td>Raisins can go to hell</td>\n",
              "      <td>White and gold</td>\n",
              "      <td>NaN</td>\n",
              "      <td>Sunday</td>\n",
              "      <td>NaN</td>\n",
              "      <td>1.0</td>\n",
              "      <td>NaN</td>\n",
              "      <td>NaN</td>\n",
              "      <td>(75, 23)</td>\n",
              "    </tr>\n",
              "    <tr>\n",
              "      <th>4</th>\n",
              "      <td>90272841</td>\n",
              "      <td>No</td>\n",
              "      <td>Male</td>\n",
              "      <td>23</td>\n",
              "      <td>usa</td>\n",
              "      <td>exton pa</td>\n",
              "      <td>JOY</td>\n",
              "      <td>DESPAIR</td>\n",
              "      <td>JOY</td>\n",
              "      <td>DESPAIR</td>\n",
              "      <td>...</td>\n",
              "      <td>NaN</td>\n",
              "      <td>NaN</td>\n",
              "      <td>White and gold</td>\n",
              "      <td>NaN</td>\n",
              "      <td>Friday</td>\n",
              "      <td>NaN</td>\n",
              "      <td>1.0</td>\n",
              "      <td>NaN</td>\n",
              "      <td>NaN</td>\n",
              "      <td>(70, 10)</td>\n",
              "    </tr>\n",
              "  </tbody>\n",
              "</table>\n",
              "<p>5 rows × 120 columns</p>\n",
              "</div>\n",
              "    <div class=\"colab-df-buttons\">\n",
              "\n",
              "  <div class=\"colab-df-container\">\n",
              "    <button class=\"colab-df-convert\" onclick=\"convertToInteractive('df-044e7b49-2f41-4989-8ce6-67898f91c315')\"\n",
              "            title=\"Convert this dataframe to an interactive table.\"\n",
              "            style=\"display:none;\">\n",
              "\n",
              "  <svg xmlns=\"http://www.w3.org/2000/svg\" height=\"24px\" viewBox=\"0 -960 960 960\">\n",
              "    <path d=\"M120-120v-720h720v720H120Zm60-500h600v-160H180v160Zm220 220h160v-160H400v160Zm0 220h160v-160H400v160ZM180-400h160v-160H180v160Zm440 0h160v-160H620v160ZM180-180h160v-160H180v160Zm440 0h160v-160H620v160Z\"/>\n",
              "  </svg>\n",
              "    </button>\n",
              "\n",
              "  <style>\n",
              "    .colab-df-container {\n",
              "      display:flex;\n",
              "      gap: 12px;\n",
              "    }\n",
              "\n",
              "    .colab-df-convert {\n",
              "      background-color: #E8F0FE;\n",
              "      border: none;\n",
              "      border-radius: 50%;\n",
              "      cursor: pointer;\n",
              "      display: none;\n",
              "      fill: #1967D2;\n",
              "      height: 32px;\n",
              "      padding: 0 0 0 0;\n",
              "      width: 32px;\n",
              "    }\n",
              "\n",
              "    .colab-df-convert:hover {\n",
              "      background-color: #E2EBFA;\n",
              "      box-shadow: 0px 1px 2px rgba(60, 64, 67, 0.3), 0px 1px 3px 1px rgba(60, 64, 67, 0.15);\n",
              "      fill: #174EA6;\n",
              "    }\n",
              "\n",
              "    .colab-df-buttons div {\n",
              "      margin-bottom: 4px;\n",
              "    }\n",
              "\n",
              "    [theme=dark] .colab-df-convert {\n",
              "      background-color: #3B4455;\n",
              "      fill: #D2E3FC;\n",
              "    }\n",
              "\n",
              "    [theme=dark] .colab-df-convert:hover {\n",
              "      background-color: #434B5C;\n",
              "      box-shadow: 0px 1px 3px 1px rgba(0, 0, 0, 0.15);\n",
              "      filter: drop-shadow(0px 1px 2px rgba(0, 0, 0, 0.3));\n",
              "      fill: #FFFFFF;\n",
              "    }\n",
              "  </style>\n",
              "\n",
              "    <script>\n",
              "      const buttonEl =\n",
              "        document.querySelector('#df-044e7b49-2f41-4989-8ce6-67898f91c315 button.colab-df-convert');\n",
              "      buttonEl.style.display =\n",
              "        google.colab.kernel.accessAllowed ? 'block' : 'none';\n",
              "\n",
              "      async function convertToInteractive(key) {\n",
              "        const element = document.querySelector('#df-044e7b49-2f41-4989-8ce6-67898f91c315');\n",
              "        const dataTable =\n",
              "          await google.colab.kernel.invokeFunction('convertToInteractive',\n",
              "                                                    [key], {});\n",
              "        if (!dataTable) return;\n",
              "\n",
              "        const docLinkHtml = 'Like what you see? Visit the ' +\n",
              "          '<a target=\"_blank\" href=https://colab.research.google.com/notebooks/data_table.ipynb>data table notebook</a>'\n",
              "          + ' to learn more about interactive tables.';\n",
              "        element.innerHTML = '';\n",
              "        dataTable['output_type'] = 'display_data';\n",
              "        await google.colab.output.renderOutput(dataTable, element);\n",
              "        const docLink = document.createElement('div');\n",
              "        docLink.innerHTML = docLinkHtml;\n",
              "        element.appendChild(docLink);\n",
              "      }\n",
              "    </script>\n",
              "  </div>\n",
              "\n",
              "\n",
              "<div id=\"df-074a1f36-d610-41a2-843b-896275d1b2a7\">\n",
              "  <button class=\"colab-df-quickchart\" onclick=\"quickchart('df-074a1f36-d610-41a2-843b-896275d1b2a7')\"\n",
              "            title=\"Suggest charts\"\n",
              "            style=\"display:none;\">\n",
              "\n",
              "<svg xmlns=\"http://www.w3.org/2000/svg\" height=\"24px\"viewBox=\"0 0 24 24\"\n",
              "     width=\"24px\">\n",
              "    <g>\n",
              "        <path d=\"M19 3H5c-1.1 0-2 .9-2 2v14c0 1.1.9 2 2 2h14c1.1 0 2-.9 2-2V5c0-1.1-.9-2-2-2zM9 17H7v-7h2v7zm4 0h-2V7h2v10zm4 0h-2v-4h2v4z\"/>\n",
              "    </g>\n",
              "</svg>\n",
              "  </button>\n",
              "\n",
              "<style>\n",
              "  .colab-df-quickchart {\n",
              "      --bg-color: #E8F0FE;\n",
              "      --fill-color: #1967D2;\n",
              "      --hover-bg-color: #E2EBFA;\n",
              "      --hover-fill-color: #174EA6;\n",
              "      --disabled-fill-color: #AAA;\n",
              "      --disabled-bg-color: #DDD;\n",
              "  }\n",
              "\n",
              "  [theme=dark] .colab-df-quickchart {\n",
              "      --bg-color: #3B4455;\n",
              "      --fill-color: #D2E3FC;\n",
              "      --hover-bg-color: #434B5C;\n",
              "      --hover-fill-color: #FFFFFF;\n",
              "      --disabled-bg-color: #3B4455;\n",
              "      --disabled-fill-color: #666;\n",
              "  }\n",
              "\n",
              "  .colab-df-quickchart {\n",
              "    background-color: var(--bg-color);\n",
              "    border: none;\n",
              "    border-radius: 50%;\n",
              "    cursor: pointer;\n",
              "    display: none;\n",
              "    fill: var(--fill-color);\n",
              "    height: 32px;\n",
              "    padding: 0;\n",
              "    width: 32px;\n",
              "  }\n",
              "\n",
              "  .colab-df-quickchart:hover {\n",
              "    background-color: var(--hover-bg-color);\n",
              "    box-shadow: 0 1px 2px rgba(60, 64, 67, 0.3), 0 1px 3px 1px rgba(60, 64, 67, 0.15);\n",
              "    fill: var(--button-hover-fill-color);\n",
              "  }\n",
              "\n",
              "  .colab-df-quickchart-complete:disabled,\n",
              "  .colab-df-quickchart-complete:disabled:hover {\n",
              "    background-color: var(--disabled-bg-color);\n",
              "    fill: var(--disabled-fill-color);\n",
              "    box-shadow: none;\n",
              "  }\n",
              "\n",
              "  .colab-df-spinner {\n",
              "    border: 2px solid var(--fill-color);\n",
              "    border-color: transparent;\n",
              "    border-bottom-color: var(--fill-color);\n",
              "    animation:\n",
              "      spin 1s steps(1) infinite;\n",
              "  }\n",
              "\n",
              "  @keyframes spin {\n",
              "    0% {\n",
              "      border-color: transparent;\n",
              "      border-bottom-color: var(--fill-color);\n",
              "      border-left-color: var(--fill-color);\n",
              "    }\n",
              "    20% {\n",
              "      border-color: transparent;\n",
              "      border-left-color: var(--fill-color);\n",
              "      border-top-color: var(--fill-color);\n",
              "    }\n",
              "    30% {\n",
              "      border-color: transparent;\n",
              "      border-left-color: var(--fill-color);\n",
              "      border-top-color: var(--fill-color);\n",
              "      border-right-color: var(--fill-color);\n",
              "    }\n",
              "    40% {\n",
              "      border-color: transparent;\n",
              "      border-right-color: var(--fill-color);\n",
              "      border-top-color: var(--fill-color);\n",
              "    }\n",
              "    60% {\n",
              "      border-color: transparent;\n",
              "      border-right-color: var(--fill-color);\n",
              "    }\n",
              "    80% {\n",
              "      border-color: transparent;\n",
              "      border-right-color: var(--fill-color);\n",
              "      border-bottom-color: var(--fill-color);\n",
              "    }\n",
              "    90% {\n",
              "      border-color: transparent;\n",
              "      border-bottom-color: var(--fill-color);\n",
              "    }\n",
              "  }\n",
              "</style>\n",
              "\n",
              "  <script>\n",
              "    async function quickchart(key) {\n",
              "      const quickchartButtonEl =\n",
              "        document.querySelector('#' + key + ' button');\n",
              "      quickchartButtonEl.disabled = true;  // To prevent multiple clicks.\n",
              "      quickchartButtonEl.classList.add('colab-df-spinner');\n",
              "      try {\n",
              "        const charts = await google.colab.kernel.invokeFunction(\n",
              "            'suggestCharts', [key], {});\n",
              "      } catch (error) {\n",
              "        console.error('Error during call to suggestCharts:', error);\n",
              "      }\n",
              "      quickchartButtonEl.classList.remove('colab-df-spinner');\n",
              "      quickchartButtonEl.classList.add('colab-df-quickchart-complete');\n",
              "    }\n",
              "    (() => {\n",
              "      let quickchartButtonEl =\n",
              "        document.querySelector('#df-074a1f36-d610-41a2-843b-896275d1b2a7 button');\n",
              "      quickchartButtonEl.style.display =\n",
              "        google.colab.kernel.accessAllowed ? 'block' : 'none';\n",
              "    })();\n",
              "  </script>\n",
              "</div>\n",
              "\n",
              "    </div>\n",
              "  </div>\n"
            ],
            "application/vnd.google.colaboratory.intrinsic+json": {
              "type": "dataframe",
              "variable_name": "df"
            }
          },
          "metadata": {},
          "execution_count": 4
        }
      ]
    },
    {
      "cell_type": "markdown",
      "metadata": {
        "id": "Y8zTo874XTcg"
      },
      "source": [
        "<a id='wrangling'></a>\n",
        "## Data Wrangling\n",
        "\n",
        "\n",
        "\n",
        "### General Properties"
      ]
    },
    {
      "cell_type": "markdown",
      "metadata": {
        "id": "4JOuQPWLXTcg"
      },
      "source": [
        "# 2- show some general properties for the data"
      ]
    },
    {
      "cell_type": "code",
      "execution_count": null,
      "metadata": {
        "colab": {
          "base_uri": "https://localhost:8080/"
        },
        "id": "-qdX3ByPXTcg",
        "outputId": "ec7dc4e2-f4c9-476a-a488-5315f8175cd1"
      },
      "outputs": [
        {
          "output_type": "stream",
          "name": "stdout",
          "text": [
            "<class 'pandas.core.frame.DataFrame'>\n",
            "RangeIndex: 2460 entries, 0 to 2459\n",
            "Columns: 120 entries, Internal ID to Click Coordinates (x, y)\n",
            "dtypes: float64(4), int64(1), object(115)\n",
            "memory usage: 2.3+ MB\n"
          ]
        }
      ],
      "source": [
        "df.info()"
      ]
    },
    {
      "cell_type": "code",
      "source": [
        "df.shape"
      ],
      "metadata": {
        "colab": {
          "base_uri": "https://localhost:8080/"
        },
        "id": "GU7UKgveY3B2",
        "outputId": "857a19c3-33b8-4580-8c2f-76d5c85639da"
      },
      "execution_count": null,
      "outputs": [
        {
          "output_type": "execute_result",
          "data": {
            "text/plain": [
              "(2460, 120)"
            ]
          },
          "metadata": {},
          "execution_count": 6
        }
      ]
    },
    {
      "cell_type": "code",
      "source": [
        "df.isna().sum()"
      ],
      "metadata": {
        "colab": {
          "base_uri": "https://localhost:8080/"
        },
        "id": "6a7Y0E1cYx3r",
        "outputId": "0fde2827-68dc-4764-b814-daca5ed29ccc"
      },
      "execution_count": null,
      "outputs": [
        {
          "output_type": "execute_result",
          "data": {
            "text/plain": [
              "Internal ID                    0\n",
              "Q1: GOING OUT?               110\n",
              "Q2: GENDER                    41\n",
              "Q3: AGE                       84\n",
              "Q4: COUNTRY                   64\n",
              "                            ... \n",
              "Q12: MEDIA [Daily Dish]     2375\n",
              "Q12: MEDIA [Science]        1098\n",
              "Q12: MEDIA [ESPN]           2361\n",
              "Q12: MEDIA [Yahoo]          2393\n",
              "Click Coordinates (x, y)     855\n",
              "Length: 120, dtype: int64"
            ]
          },
          "metadata": {},
          "execution_count": 7
        }
      ]
    },
    {
      "cell_type": "code",
      "source": [
        "df.nunique()"
      ],
      "metadata": {
        "colab": {
          "base_uri": "https://localhost:8080/"
        },
        "id": "xm8-1uMvYy16",
        "outputId": "263d9ae3-86f4-47c8-cc75-cded1d0f73a8"
      },
      "execution_count": null,
      "outputs": [
        {
          "output_type": "execute_result",
          "data": {
            "text/plain": [
              "Internal ID                 2460\n",
              "Q1: GOING OUT?                 2\n",
              "Q2: GENDER                     4\n",
              "Q3: AGE                      106\n",
              "Q4: COUNTRY                  128\n",
              "                            ... \n",
              "Q12: MEDIA [Daily Dish]        1\n",
              "Q12: MEDIA [Science]           1\n",
              "Q12: MEDIA [ESPN]              1\n",
              "Q12: MEDIA [Yahoo]             1\n",
              "Click Coordinates (x, y)     952\n",
              "Length: 120, dtype: int64"
            ]
          },
          "metadata": {},
          "execution_count": 8
        }
      ]
    },
    {
      "cell_type": "code",
      "source": [
        "df.describe()"
      ],
      "metadata": {
        "colab": {
          "base_uri": "https://localhost:8080/",
          "height": 300
        },
        "id": "-46XP6rEYzM3",
        "outputId": "87632fdb-d4d5-43d1-ec4d-96c41f4d4aa7"
      },
      "execution_count": null,
      "outputs": [
        {
          "output_type": "execute_result",
          "data": {
            "text/plain": [
              "        Internal ID  Q12: MEDIA [Daily Dish]  Q12: MEDIA [Science]  \\\n",
              "count  2.460000e+03                     85.0                1362.0   \n",
              "mean   9.028016e+07                      1.0                   1.0   \n",
              "std    7.435532e+03                      0.0                   0.0   \n",
              "min    9.025877e+07                      1.0                   1.0   \n",
              "25%    9.027520e+07                      1.0                   1.0   \n",
              "50%    9.027780e+07                      1.0                   1.0   \n",
              "75%    9.028242e+07                      1.0                   1.0   \n",
              "max    9.031480e+07                      1.0                   1.0   \n",
              "\n",
              "       Q12: MEDIA [ESPN]  Q12: MEDIA [Yahoo]  \n",
              "count               99.0                67.0  \n",
              "mean                 1.0                 1.0  \n",
              "std                  0.0                 0.0  \n",
              "min                  1.0                 1.0  \n",
              "25%                  1.0                 1.0  \n",
              "50%                  1.0                 1.0  \n",
              "75%                  1.0                 1.0  \n",
              "max                  1.0                 1.0  "
            ],
            "text/html": [
              "\n",
              "  <div id=\"df-4c92c1de-8e6e-48be-a6e9-227dfd715438\" class=\"colab-df-container\">\n",
              "    <div>\n",
              "<style scoped>\n",
              "    .dataframe tbody tr th:only-of-type {\n",
              "        vertical-align: middle;\n",
              "    }\n",
              "\n",
              "    .dataframe tbody tr th {\n",
              "        vertical-align: top;\n",
              "    }\n",
              "\n",
              "    .dataframe thead th {\n",
              "        text-align: right;\n",
              "    }\n",
              "</style>\n",
              "<table border=\"1\" class=\"dataframe\">\n",
              "  <thead>\n",
              "    <tr style=\"text-align: right;\">\n",
              "      <th></th>\n",
              "      <th>Internal ID</th>\n",
              "      <th>Q12: MEDIA [Daily Dish]</th>\n",
              "      <th>Q12: MEDIA [Science]</th>\n",
              "      <th>Q12: MEDIA [ESPN]</th>\n",
              "      <th>Q12: MEDIA [Yahoo]</th>\n",
              "    </tr>\n",
              "  </thead>\n",
              "  <tbody>\n",
              "    <tr>\n",
              "      <th>count</th>\n",
              "      <td>2.460000e+03</td>\n",
              "      <td>85.0</td>\n",
              "      <td>1362.0</td>\n",
              "      <td>99.0</td>\n",
              "      <td>67.0</td>\n",
              "    </tr>\n",
              "    <tr>\n",
              "      <th>mean</th>\n",
              "      <td>9.028016e+07</td>\n",
              "      <td>1.0</td>\n",
              "      <td>1.0</td>\n",
              "      <td>1.0</td>\n",
              "      <td>1.0</td>\n",
              "    </tr>\n",
              "    <tr>\n",
              "      <th>std</th>\n",
              "      <td>7.435532e+03</td>\n",
              "      <td>0.0</td>\n",
              "      <td>0.0</td>\n",
              "      <td>0.0</td>\n",
              "      <td>0.0</td>\n",
              "    </tr>\n",
              "    <tr>\n",
              "      <th>min</th>\n",
              "      <td>9.025877e+07</td>\n",
              "      <td>1.0</td>\n",
              "      <td>1.0</td>\n",
              "      <td>1.0</td>\n",
              "      <td>1.0</td>\n",
              "    </tr>\n",
              "    <tr>\n",
              "      <th>25%</th>\n",
              "      <td>9.027520e+07</td>\n",
              "      <td>1.0</td>\n",
              "      <td>1.0</td>\n",
              "      <td>1.0</td>\n",
              "      <td>1.0</td>\n",
              "    </tr>\n",
              "    <tr>\n",
              "      <th>50%</th>\n",
              "      <td>9.027780e+07</td>\n",
              "      <td>1.0</td>\n",
              "      <td>1.0</td>\n",
              "      <td>1.0</td>\n",
              "      <td>1.0</td>\n",
              "    </tr>\n",
              "    <tr>\n",
              "      <th>75%</th>\n",
              "      <td>9.028242e+07</td>\n",
              "      <td>1.0</td>\n",
              "      <td>1.0</td>\n",
              "      <td>1.0</td>\n",
              "      <td>1.0</td>\n",
              "    </tr>\n",
              "    <tr>\n",
              "      <th>max</th>\n",
              "      <td>9.031480e+07</td>\n",
              "      <td>1.0</td>\n",
              "      <td>1.0</td>\n",
              "      <td>1.0</td>\n",
              "      <td>1.0</td>\n",
              "    </tr>\n",
              "  </tbody>\n",
              "</table>\n",
              "</div>\n",
              "    <div class=\"colab-df-buttons\">\n",
              "\n",
              "  <div class=\"colab-df-container\">\n",
              "    <button class=\"colab-df-convert\" onclick=\"convertToInteractive('df-4c92c1de-8e6e-48be-a6e9-227dfd715438')\"\n",
              "            title=\"Convert this dataframe to an interactive table.\"\n",
              "            style=\"display:none;\">\n",
              "\n",
              "  <svg xmlns=\"http://www.w3.org/2000/svg\" height=\"24px\" viewBox=\"0 -960 960 960\">\n",
              "    <path d=\"M120-120v-720h720v720H120Zm60-500h600v-160H180v160Zm220 220h160v-160H400v160Zm0 220h160v-160H400v160ZM180-400h160v-160H180v160Zm440 0h160v-160H620v160ZM180-180h160v-160H180v160Zm440 0h160v-160H620v160Z\"/>\n",
              "  </svg>\n",
              "    </button>\n",
              "\n",
              "  <style>\n",
              "    .colab-df-container {\n",
              "      display:flex;\n",
              "      gap: 12px;\n",
              "    }\n",
              "\n",
              "    .colab-df-convert {\n",
              "      background-color: #E8F0FE;\n",
              "      border: none;\n",
              "      border-radius: 50%;\n",
              "      cursor: pointer;\n",
              "      display: none;\n",
              "      fill: #1967D2;\n",
              "      height: 32px;\n",
              "      padding: 0 0 0 0;\n",
              "      width: 32px;\n",
              "    }\n",
              "\n",
              "    .colab-df-convert:hover {\n",
              "      background-color: #E2EBFA;\n",
              "      box-shadow: 0px 1px 2px rgba(60, 64, 67, 0.3), 0px 1px 3px 1px rgba(60, 64, 67, 0.15);\n",
              "      fill: #174EA6;\n",
              "    }\n",
              "\n",
              "    .colab-df-buttons div {\n",
              "      margin-bottom: 4px;\n",
              "    }\n",
              "\n",
              "    [theme=dark] .colab-df-convert {\n",
              "      background-color: #3B4455;\n",
              "      fill: #D2E3FC;\n",
              "    }\n",
              "\n",
              "    [theme=dark] .colab-df-convert:hover {\n",
              "      background-color: #434B5C;\n",
              "      box-shadow: 0px 1px 3px 1px rgba(0, 0, 0, 0.15);\n",
              "      filter: drop-shadow(0px 1px 2px rgba(0, 0, 0, 0.3));\n",
              "      fill: #FFFFFF;\n",
              "    }\n",
              "  </style>\n",
              "\n",
              "    <script>\n",
              "      const buttonEl =\n",
              "        document.querySelector('#df-4c92c1de-8e6e-48be-a6e9-227dfd715438 button.colab-df-convert');\n",
              "      buttonEl.style.display =\n",
              "        google.colab.kernel.accessAllowed ? 'block' : 'none';\n",
              "\n",
              "      async function convertToInteractive(key) {\n",
              "        const element = document.querySelector('#df-4c92c1de-8e6e-48be-a6e9-227dfd715438');\n",
              "        const dataTable =\n",
              "          await google.colab.kernel.invokeFunction('convertToInteractive',\n",
              "                                                    [key], {});\n",
              "        if (!dataTable) return;\n",
              "\n",
              "        const docLinkHtml = 'Like what you see? Visit the ' +\n",
              "          '<a target=\"_blank\" href=https://colab.research.google.com/notebooks/data_table.ipynb>data table notebook</a>'\n",
              "          + ' to learn more about interactive tables.';\n",
              "        element.innerHTML = '';\n",
              "        dataTable['output_type'] = 'display_data';\n",
              "        await google.colab.output.renderOutput(dataTable, element);\n",
              "        const docLink = document.createElement('div');\n",
              "        docLink.innerHTML = docLinkHtml;\n",
              "        element.appendChild(docLink);\n",
              "      }\n",
              "    </script>\n",
              "  </div>\n",
              "\n",
              "\n",
              "<div id=\"df-fcd87347-c0a5-436f-83de-1c14285a5503\">\n",
              "  <button class=\"colab-df-quickchart\" onclick=\"quickchart('df-fcd87347-c0a5-436f-83de-1c14285a5503')\"\n",
              "            title=\"Suggest charts\"\n",
              "            style=\"display:none;\">\n",
              "\n",
              "<svg xmlns=\"http://www.w3.org/2000/svg\" height=\"24px\"viewBox=\"0 0 24 24\"\n",
              "     width=\"24px\">\n",
              "    <g>\n",
              "        <path d=\"M19 3H5c-1.1 0-2 .9-2 2v14c0 1.1.9 2 2 2h14c1.1 0 2-.9 2-2V5c0-1.1-.9-2-2-2zM9 17H7v-7h2v7zm4 0h-2V7h2v10zm4 0h-2v-4h2v4z\"/>\n",
              "    </g>\n",
              "</svg>\n",
              "  </button>\n",
              "\n",
              "<style>\n",
              "  .colab-df-quickchart {\n",
              "      --bg-color: #E8F0FE;\n",
              "      --fill-color: #1967D2;\n",
              "      --hover-bg-color: #E2EBFA;\n",
              "      --hover-fill-color: #174EA6;\n",
              "      --disabled-fill-color: #AAA;\n",
              "      --disabled-bg-color: #DDD;\n",
              "  }\n",
              "\n",
              "  [theme=dark] .colab-df-quickchart {\n",
              "      --bg-color: #3B4455;\n",
              "      --fill-color: #D2E3FC;\n",
              "      --hover-bg-color: #434B5C;\n",
              "      --hover-fill-color: #FFFFFF;\n",
              "      --disabled-bg-color: #3B4455;\n",
              "      --disabled-fill-color: #666;\n",
              "  }\n",
              "\n",
              "  .colab-df-quickchart {\n",
              "    background-color: var(--bg-color);\n",
              "    border: none;\n",
              "    border-radius: 50%;\n",
              "    cursor: pointer;\n",
              "    display: none;\n",
              "    fill: var(--fill-color);\n",
              "    height: 32px;\n",
              "    padding: 0;\n",
              "    width: 32px;\n",
              "  }\n",
              "\n",
              "  .colab-df-quickchart:hover {\n",
              "    background-color: var(--hover-bg-color);\n",
              "    box-shadow: 0 1px 2px rgba(60, 64, 67, 0.3), 0 1px 3px 1px rgba(60, 64, 67, 0.15);\n",
              "    fill: var(--button-hover-fill-color);\n",
              "  }\n",
              "\n",
              "  .colab-df-quickchart-complete:disabled,\n",
              "  .colab-df-quickchart-complete:disabled:hover {\n",
              "    background-color: var(--disabled-bg-color);\n",
              "    fill: var(--disabled-fill-color);\n",
              "    box-shadow: none;\n",
              "  }\n",
              "\n",
              "  .colab-df-spinner {\n",
              "    border: 2px solid var(--fill-color);\n",
              "    border-color: transparent;\n",
              "    border-bottom-color: var(--fill-color);\n",
              "    animation:\n",
              "      spin 1s steps(1) infinite;\n",
              "  }\n",
              "\n",
              "  @keyframes spin {\n",
              "    0% {\n",
              "      border-color: transparent;\n",
              "      border-bottom-color: var(--fill-color);\n",
              "      border-left-color: var(--fill-color);\n",
              "    }\n",
              "    20% {\n",
              "      border-color: transparent;\n",
              "      border-left-color: var(--fill-color);\n",
              "      border-top-color: var(--fill-color);\n",
              "    }\n",
              "    30% {\n",
              "      border-color: transparent;\n",
              "      border-left-color: var(--fill-color);\n",
              "      border-top-color: var(--fill-color);\n",
              "      border-right-color: var(--fill-color);\n",
              "    }\n",
              "    40% {\n",
              "      border-color: transparent;\n",
              "      border-right-color: var(--fill-color);\n",
              "      border-top-color: var(--fill-color);\n",
              "    }\n",
              "    60% {\n",
              "      border-color: transparent;\n",
              "      border-right-color: var(--fill-color);\n",
              "    }\n",
              "    80% {\n",
              "      border-color: transparent;\n",
              "      border-right-color: var(--fill-color);\n",
              "      border-bottom-color: var(--fill-color);\n",
              "    }\n",
              "    90% {\n",
              "      border-color: transparent;\n",
              "      border-bottom-color: var(--fill-color);\n",
              "    }\n",
              "  }\n",
              "</style>\n",
              "\n",
              "  <script>\n",
              "    async function quickchart(key) {\n",
              "      const quickchartButtonEl =\n",
              "        document.querySelector('#' + key + ' button');\n",
              "      quickchartButtonEl.disabled = true;  // To prevent multiple clicks.\n",
              "      quickchartButtonEl.classList.add('colab-df-spinner');\n",
              "      try {\n",
              "        const charts = await google.colab.kernel.invokeFunction(\n",
              "            'suggestCharts', [key], {});\n",
              "      } catch (error) {\n",
              "        console.error('Error during call to suggestCharts:', error);\n",
              "      }\n",
              "      quickchartButtonEl.classList.remove('colab-df-spinner');\n",
              "      quickchartButtonEl.classList.add('colab-df-quickchart-complete');\n",
              "    }\n",
              "    (() => {\n",
              "      let quickchartButtonEl =\n",
              "        document.querySelector('#df-fcd87347-c0a5-436f-83de-1c14285a5503 button');\n",
              "      quickchartButtonEl.style.display =\n",
              "        google.colab.kernel.accessAllowed ? 'block' : 'none';\n",
              "    })();\n",
              "  </script>\n",
              "</div>\n",
              "\n",
              "    </div>\n",
              "  </div>\n"
            ],
            "application/vnd.google.colaboratory.intrinsic+json": {
              "type": "dataframe",
              "summary": "{\n  \"name\": \"df\",\n  \"rows\": 8,\n  \"fields\": [\n    {\n      \"column\": \"Internal ID\",\n      \"properties\": {\n        \"dtype\": \"number\",\n        \"std\": 41789937.900682166,\n        \"min\": 2460.0,\n        \"max\": 90314802.0,\n        \"num_unique_values\": 8,\n        \"samples\": [\n          90280160.9910569,\n          90277800.0,\n          2460.0\n        ],\n        \"semantic_type\": \"\",\n        \"description\": \"\"\n      }\n    },\n    {\n      \"column\": \"Q12: MEDIA [Daily Dish]\",\n      \"properties\": {\n        \"dtype\": \"number\",\n        \"std\": 29.75105040162448,\n        \"min\": 0.0,\n        \"max\": 85.0,\n        \"num_unique_values\": 3,\n        \"samples\": [\n          85.0,\n          1.0,\n          0.0\n        ],\n        \"semantic_type\": \"\",\n        \"description\": \"\"\n      }\n    },\n    {\n      \"column\": \"Q12: MEDIA [Science]\",\n      \"properties\": {\n        \"dtype\": \"number\",\n        \"std\": 481.23679944789876,\n        \"min\": 0.0,\n        \"max\": 1362.0,\n        \"num_unique_values\": 3,\n        \"samples\": [\n          1362.0,\n          1.0,\n          0.0\n        ],\n        \"semantic_type\": \"\",\n        \"description\": \"\"\n      }\n    },\n    {\n      \"column\": \"Q12: MEDIA [ESPN]\",\n      \"properties\": {\n        \"dtype\": \"number\",\n        \"std\": 34.70050431910176,\n        \"min\": 0.0,\n        \"max\": 99.0,\n        \"num_unique_values\": 3,\n        \"samples\": [\n          99.0,\n          1.0,\n          0.0\n        ],\n        \"semantic_type\": \"\",\n        \"description\": \"\"\n      }\n    },\n    {\n      \"column\": \"Q12: MEDIA [Yahoo]\",\n      \"properties\": {\n        \"dtype\": \"number\",\n        \"std\": 23.387649365790118,\n        \"min\": 0.0,\n        \"max\": 67.0,\n        \"num_unique_values\": 3,\n        \"samples\": [\n          67.0,\n          1.0,\n          0.0\n        ],\n        \"semantic_type\": \"\",\n        \"description\": \"\"\n      }\n    }\n  ]\n}"
            }
          },
          "metadata": {},
          "execution_count": 9
        }
      ]
    },
    {
      "cell_type": "markdown",
      "metadata": {
        "id": "gNLtO2a_XTch"
      },
      "source": [
        "# 3- write summary about what you get form the above functions\n",
        "> #### tips : this summary can be about : if there is any missing values , if there a wrong data type , if there a wrong range of values , ...."
      ]
    },
    {
      "cell_type": "markdown",
      "source": [
        "There are so many null and missing values and wrong ranges"
      ],
      "metadata": {
        "id": "-QSBiqsTZ_0w"
      }
    },
    {
      "cell_type": "markdown",
      "metadata": {
        "id": "hauBt_gRXTch"
      },
      "source": [
        "# cleaning"
      ]
    },
    {
      "cell_type": "markdown",
      "metadata": {
        "id": "W7iT9n9iXTch"
      },
      "source": [
        "### 4- drop all the useless columns and  rows with too much NaN ,\n",
        "> tip : useless columns can be like `Internal ID`and can be also columns with too much NaN\n",
        "- rename columns for easy access"
      ]
    },
    {
      "cell_type": "code",
      "execution_count": null,
      "metadata": {
        "colab": {
          "base_uri": "https://localhost:8080/",
          "height": 516
        },
        "id": "x-KgNbmrXTch",
        "outputId": "8398c039-6fb3-4fd0-d2d1-a4152fbf2632"
      },
      "outputs": [
        {
          "output_type": "execute_result",
          "data": {
            "text/plain": [
              "   Internal ID Going out Gender  Age Country     State 100 Grand Bar  \\\n",
              "0     90258773       NaN    NaN  NaN     NaN       NaN           NaN   \n",
              "1     90272821        No   Male   44    USA         NM           MEH   \n",
              "2     90272829       NaN   Male   49     USA  Virginia           NaN   \n",
              "3     90272840        No   Male   40      us        or           MEH   \n",
              "4     90272841        No   Male   23     usa  exton pa           JOY   \n",
              "\n",
              "  Anonymous brown globs that come in black and orange wrappers\\t(a.k.a. Mary Janes)  \\\n",
              "0                                                NaN                                  \n",
              "1                                            DESPAIR                                  \n",
              "2                                                NaN                                  \n",
              "3                                            DESPAIR                                  \n",
              "4                                            DESPAIR                                  \n",
              "\n",
              "  Any full-sized candy bar Black Jacks  ... Despair other  \\\n",
              "0                      NaN         NaN  ...           NaN   \n",
              "1                      JOY         MEH  ...           NaN   \n",
              "2                      NaN         NaN  ...           NaN   \n",
              "3                      JOY         MEH  ...           NaN   \n",
              "4                      JOY     DESPAIR  ...           NaN   \n",
              "\n",
              "                                      Other comments           Dress  \\\n",
              "0                                                NaN             NaN   \n",
              "1  Bottom line is Twix is really the only candy w...  White and gold   \n",
              "2                                                NaN             NaN   \n",
              "3                             Raisins can go to hell  White and gold   \n",
              "4                                                NaN  White and gold   \n",
              "\n",
              "  Unnamed: 113     Day Daily Dish Science ESPN Yahoo Click Coordinates (x, y)  \n",
              "0          NaN     NaN        NaN     NaN  NaN   NaN                      NaN  \n",
              "1          NaN  Sunday        NaN     1.0  NaN   NaN                 (84, 25)  \n",
              "2          NaN     NaN        NaN     NaN  NaN   NaN                      NaN  \n",
              "3          NaN  Sunday        NaN     1.0  NaN   NaN                 (75, 23)  \n",
              "4          NaN  Friday        NaN     1.0  NaN   NaN                 (70, 10)  \n",
              "\n",
              "[5 rows x 120 columns]"
            ],
            "text/html": [
              "\n",
              "  <div id=\"df-26e61ead-a048-48cf-9b4f-73fbded592e6\" class=\"colab-df-container\">\n",
              "    <div>\n",
              "<style scoped>\n",
              "    .dataframe tbody tr th:only-of-type {\n",
              "        vertical-align: middle;\n",
              "    }\n",
              "\n",
              "    .dataframe tbody tr th {\n",
              "        vertical-align: top;\n",
              "    }\n",
              "\n",
              "    .dataframe thead th {\n",
              "        text-align: right;\n",
              "    }\n",
              "</style>\n",
              "<table border=\"1\" class=\"dataframe\">\n",
              "  <thead>\n",
              "    <tr style=\"text-align: right;\">\n",
              "      <th></th>\n",
              "      <th>Internal ID</th>\n",
              "      <th>Going out</th>\n",
              "      <th>Gender</th>\n",
              "      <th>Age</th>\n",
              "      <th>Country</th>\n",
              "      <th>State</th>\n",
              "      <th>100 Grand Bar</th>\n",
              "      <th>Anonymous brown globs that come in black and orange wrappers\\t(a.k.a. Mary Janes)</th>\n",
              "      <th>Any full-sized candy bar</th>\n",
              "      <th>Black Jacks</th>\n",
              "      <th>...</th>\n",
              "      <th>Despair other</th>\n",
              "      <th>Other comments</th>\n",
              "      <th>Dress</th>\n",
              "      <th>Unnamed: 113</th>\n",
              "      <th>Day</th>\n",
              "      <th>Daily Dish</th>\n",
              "      <th>Science</th>\n",
              "      <th>ESPN</th>\n",
              "      <th>Yahoo</th>\n",
              "      <th>Click Coordinates (x, y)</th>\n",
              "    </tr>\n",
              "  </thead>\n",
              "  <tbody>\n",
              "    <tr>\n",
              "      <th>0</th>\n",
              "      <td>90258773</td>\n",
              "      <td>NaN</td>\n",
              "      <td>NaN</td>\n",
              "      <td>NaN</td>\n",
              "      <td>NaN</td>\n",
              "      <td>NaN</td>\n",
              "      <td>NaN</td>\n",
              "      <td>NaN</td>\n",
              "      <td>NaN</td>\n",
              "      <td>NaN</td>\n",
              "      <td>...</td>\n",
              "      <td>NaN</td>\n",
              "      <td>NaN</td>\n",
              "      <td>NaN</td>\n",
              "      <td>NaN</td>\n",
              "      <td>NaN</td>\n",
              "      <td>NaN</td>\n",
              "      <td>NaN</td>\n",
              "      <td>NaN</td>\n",
              "      <td>NaN</td>\n",
              "      <td>NaN</td>\n",
              "    </tr>\n",
              "    <tr>\n",
              "      <th>1</th>\n",
              "      <td>90272821</td>\n",
              "      <td>No</td>\n",
              "      <td>Male</td>\n",
              "      <td>44</td>\n",
              "      <td>USA</td>\n",
              "      <td>NM</td>\n",
              "      <td>MEH</td>\n",
              "      <td>DESPAIR</td>\n",
              "      <td>JOY</td>\n",
              "      <td>MEH</td>\n",
              "      <td>...</td>\n",
              "      <td>NaN</td>\n",
              "      <td>Bottom line is Twix is really the only candy w...</td>\n",
              "      <td>White and gold</td>\n",
              "      <td>NaN</td>\n",
              "      <td>Sunday</td>\n",
              "      <td>NaN</td>\n",
              "      <td>1.0</td>\n",
              "      <td>NaN</td>\n",
              "      <td>NaN</td>\n",
              "      <td>(84, 25)</td>\n",
              "    </tr>\n",
              "    <tr>\n",
              "      <th>2</th>\n",
              "      <td>90272829</td>\n",
              "      <td>NaN</td>\n",
              "      <td>Male</td>\n",
              "      <td>49</td>\n",
              "      <td>USA</td>\n",
              "      <td>Virginia</td>\n",
              "      <td>NaN</td>\n",
              "      <td>NaN</td>\n",
              "      <td>NaN</td>\n",
              "      <td>NaN</td>\n",
              "      <td>...</td>\n",
              "      <td>NaN</td>\n",
              "      <td>NaN</td>\n",
              "      <td>NaN</td>\n",
              "      <td>NaN</td>\n",
              "      <td>NaN</td>\n",
              "      <td>NaN</td>\n",
              "      <td>NaN</td>\n",
              "      <td>NaN</td>\n",
              "      <td>NaN</td>\n",
              "      <td>NaN</td>\n",
              "    </tr>\n",
              "    <tr>\n",
              "      <th>3</th>\n",
              "      <td>90272840</td>\n",
              "      <td>No</td>\n",
              "      <td>Male</td>\n",
              "      <td>40</td>\n",
              "      <td>us</td>\n",
              "      <td>or</td>\n",
              "      <td>MEH</td>\n",
              "      <td>DESPAIR</td>\n",
              "      <td>JOY</td>\n",
              "      <td>MEH</td>\n",
              "      <td>...</td>\n",
              "      <td>NaN</td>\n",
              "      <td>Raisins can go to hell</td>\n",
              "      <td>White and gold</td>\n",
              "      <td>NaN</td>\n",
              "      <td>Sunday</td>\n",
              "      <td>NaN</td>\n",
              "      <td>1.0</td>\n",
              "      <td>NaN</td>\n",
              "      <td>NaN</td>\n",
              "      <td>(75, 23)</td>\n",
              "    </tr>\n",
              "    <tr>\n",
              "      <th>4</th>\n",
              "      <td>90272841</td>\n",
              "      <td>No</td>\n",
              "      <td>Male</td>\n",
              "      <td>23</td>\n",
              "      <td>usa</td>\n",
              "      <td>exton pa</td>\n",
              "      <td>JOY</td>\n",
              "      <td>DESPAIR</td>\n",
              "      <td>JOY</td>\n",
              "      <td>DESPAIR</td>\n",
              "      <td>...</td>\n",
              "      <td>NaN</td>\n",
              "      <td>NaN</td>\n",
              "      <td>White and gold</td>\n",
              "      <td>NaN</td>\n",
              "      <td>Friday</td>\n",
              "      <td>NaN</td>\n",
              "      <td>1.0</td>\n",
              "      <td>NaN</td>\n",
              "      <td>NaN</td>\n",
              "      <td>(70, 10)</td>\n",
              "    </tr>\n",
              "  </tbody>\n",
              "</table>\n",
              "<p>5 rows × 120 columns</p>\n",
              "</div>\n",
              "    <div class=\"colab-df-buttons\">\n",
              "\n",
              "  <div class=\"colab-df-container\">\n",
              "    <button class=\"colab-df-convert\" onclick=\"convertToInteractive('df-26e61ead-a048-48cf-9b4f-73fbded592e6')\"\n",
              "            title=\"Convert this dataframe to an interactive table.\"\n",
              "            style=\"display:none;\">\n",
              "\n",
              "  <svg xmlns=\"http://www.w3.org/2000/svg\" height=\"24px\" viewBox=\"0 -960 960 960\">\n",
              "    <path d=\"M120-120v-720h720v720H120Zm60-500h600v-160H180v160Zm220 220h160v-160H400v160Zm0 220h160v-160H400v160ZM180-400h160v-160H180v160Zm440 0h160v-160H620v160ZM180-180h160v-160H180v160Zm440 0h160v-160H620v160Z\"/>\n",
              "  </svg>\n",
              "    </button>\n",
              "\n",
              "  <style>\n",
              "    .colab-df-container {\n",
              "      display:flex;\n",
              "      gap: 12px;\n",
              "    }\n",
              "\n",
              "    .colab-df-convert {\n",
              "      background-color: #E8F0FE;\n",
              "      border: none;\n",
              "      border-radius: 50%;\n",
              "      cursor: pointer;\n",
              "      display: none;\n",
              "      fill: #1967D2;\n",
              "      height: 32px;\n",
              "      padding: 0 0 0 0;\n",
              "      width: 32px;\n",
              "    }\n",
              "\n",
              "    .colab-df-convert:hover {\n",
              "      background-color: #E2EBFA;\n",
              "      box-shadow: 0px 1px 2px rgba(60, 64, 67, 0.3), 0px 1px 3px 1px rgba(60, 64, 67, 0.15);\n",
              "      fill: #174EA6;\n",
              "    }\n",
              "\n",
              "    .colab-df-buttons div {\n",
              "      margin-bottom: 4px;\n",
              "    }\n",
              "\n",
              "    [theme=dark] .colab-df-convert {\n",
              "      background-color: #3B4455;\n",
              "      fill: #D2E3FC;\n",
              "    }\n",
              "\n",
              "    [theme=dark] .colab-df-convert:hover {\n",
              "      background-color: #434B5C;\n",
              "      box-shadow: 0px 1px 3px 1px rgba(0, 0, 0, 0.15);\n",
              "      filter: drop-shadow(0px 1px 2px rgba(0, 0, 0, 0.3));\n",
              "      fill: #FFFFFF;\n",
              "    }\n",
              "  </style>\n",
              "\n",
              "    <script>\n",
              "      const buttonEl =\n",
              "        document.querySelector('#df-26e61ead-a048-48cf-9b4f-73fbded592e6 button.colab-df-convert');\n",
              "      buttonEl.style.display =\n",
              "        google.colab.kernel.accessAllowed ? 'block' : 'none';\n",
              "\n",
              "      async function convertToInteractive(key) {\n",
              "        const element = document.querySelector('#df-26e61ead-a048-48cf-9b4f-73fbded592e6');\n",
              "        const dataTable =\n",
              "          await google.colab.kernel.invokeFunction('convertToInteractive',\n",
              "                                                    [key], {});\n",
              "        if (!dataTable) return;\n",
              "\n",
              "        const docLinkHtml = 'Like what you see? Visit the ' +\n",
              "          '<a target=\"_blank\" href=https://colab.research.google.com/notebooks/data_table.ipynb>data table notebook</a>'\n",
              "          + ' to learn more about interactive tables.';\n",
              "        element.innerHTML = '';\n",
              "        dataTable['output_type'] = 'display_data';\n",
              "        await google.colab.output.renderOutput(dataTable, element);\n",
              "        const docLink = document.createElement('div');\n",
              "        docLink.innerHTML = docLinkHtml;\n",
              "        element.appendChild(docLink);\n",
              "      }\n",
              "    </script>\n",
              "  </div>\n",
              "\n",
              "\n",
              "<div id=\"df-d9846d17-55a4-42ba-ac31-55b3322df905\">\n",
              "  <button class=\"colab-df-quickchart\" onclick=\"quickchart('df-d9846d17-55a4-42ba-ac31-55b3322df905')\"\n",
              "            title=\"Suggest charts\"\n",
              "            style=\"display:none;\">\n",
              "\n",
              "<svg xmlns=\"http://www.w3.org/2000/svg\" height=\"24px\"viewBox=\"0 0 24 24\"\n",
              "     width=\"24px\">\n",
              "    <g>\n",
              "        <path d=\"M19 3H5c-1.1 0-2 .9-2 2v14c0 1.1.9 2 2 2h14c1.1 0 2-.9 2-2V5c0-1.1-.9-2-2-2zM9 17H7v-7h2v7zm4 0h-2V7h2v10zm4 0h-2v-4h2v4z\"/>\n",
              "    </g>\n",
              "</svg>\n",
              "  </button>\n",
              "\n",
              "<style>\n",
              "  .colab-df-quickchart {\n",
              "      --bg-color: #E8F0FE;\n",
              "      --fill-color: #1967D2;\n",
              "      --hover-bg-color: #E2EBFA;\n",
              "      --hover-fill-color: #174EA6;\n",
              "      --disabled-fill-color: #AAA;\n",
              "      --disabled-bg-color: #DDD;\n",
              "  }\n",
              "\n",
              "  [theme=dark] .colab-df-quickchart {\n",
              "      --bg-color: #3B4455;\n",
              "      --fill-color: #D2E3FC;\n",
              "      --hover-bg-color: #434B5C;\n",
              "      --hover-fill-color: #FFFFFF;\n",
              "      --disabled-bg-color: #3B4455;\n",
              "      --disabled-fill-color: #666;\n",
              "  }\n",
              "\n",
              "  .colab-df-quickchart {\n",
              "    background-color: var(--bg-color);\n",
              "    border: none;\n",
              "    border-radius: 50%;\n",
              "    cursor: pointer;\n",
              "    display: none;\n",
              "    fill: var(--fill-color);\n",
              "    height: 32px;\n",
              "    padding: 0;\n",
              "    width: 32px;\n",
              "  }\n",
              "\n",
              "  .colab-df-quickchart:hover {\n",
              "    background-color: var(--hover-bg-color);\n",
              "    box-shadow: 0 1px 2px rgba(60, 64, 67, 0.3), 0 1px 3px 1px rgba(60, 64, 67, 0.15);\n",
              "    fill: var(--button-hover-fill-color);\n",
              "  }\n",
              "\n",
              "  .colab-df-quickchart-complete:disabled,\n",
              "  .colab-df-quickchart-complete:disabled:hover {\n",
              "    background-color: var(--disabled-bg-color);\n",
              "    fill: var(--disabled-fill-color);\n",
              "    box-shadow: none;\n",
              "  }\n",
              "\n",
              "  .colab-df-spinner {\n",
              "    border: 2px solid var(--fill-color);\n",
              "    border-color: transparent;\n",
              "    border-bottom-color: var(--fill-color);\n",
              "    animation:\n",
              "      spin 1s steps(1) infinite;\n",
              "  }\n",
              "\n",
              "  @keyframes spin {\n",
              "    0% {\n",
              "      border-color: transparent;\n",
              "      border-bottom-color: var(--fill-color);\n",
              "      border-left-color: var(--fill-color);\n",
              "    }\n",
              "    20% {\n",
              "      border-color: transparent;\n",
              "      border-left-color: var(--fill-color);\n",
              "      border-top-color: var(--fill-color);\n",
              "    }\n",
              "    30% {\n",
              "      border-color: transparent;\n",
              "      border-left-color: var(--fill-color);\n",
              "      border-top-color: var(--fill-color);\n",
              "      border-right-color: var(--fill-color);\n",
              "    }\n",
              "    40% {\n",
              "      border-color: transparent;\n",
              "      border-right-color: var(--fill-color);\n",
              "      border-top-color: var(--fill-color);\n",
              "    }\n",
              "    60% {\n",
              "      border-color: transparent;\n",
              "      border-right-color: var(--fill-color);\n",
              "    }\n",
              "    80% {\n",
              "      border-color: transparent;\n",
              "      border-right-color: var(--fill-color);\n",
              "      border-bottom-color: var(--fill-color);\n",
              "    }\n",
              "    90% {\n",
              "      border-color: transparent;\n",
              "      border-bottom-color: var(--fill-color);\n",
              "    }\n",
              "  }\n",
              "</style>\n",
              "\n",
              "  <script>\n",
              "    async function quickchart(key) {\n",
              "      const quickchartButtonEl =\n",
              "        document.querySelector('#' + key + ' button');\n",
              "      quickchartButtonEl.disabled = true;  // To prevent multiple clicks.\n",
              "      quickchartButtonEl.classList.add('colab-df-spinner');\n",
              "      try {\n",
              "        const charts = await google.colab.kernel.invokeFunction(\n",
              "            'suggestCharts', [key], {});\n",
              "      } catch (error) {\n",
              "        console.error('Error during call to suggestCharts:', error);\n",
              "      }\n",
              "      quickchartButtonEl.classList.remove('colab-df-spinner');\n",
              "      quickchartButtonEl.classList.add('colab-df-quickchart-complete');\n",
              "    }\n",
              "    (() => {\n",
              "      let quickchartButtonEl =\n",
              "        document.querySelector('#df-d9846d17-55a4-42ba-ac31-55b3322df905 button');\n",
              "      quickchartButtonEl.style.display =\n",
              "        google.colab.kernel.accessAllowed ? 'block' : 'none';\n",
              "    })();\n",
              "  </script>\n",
              "</div>\n",
              "\n",
              "    </div>\n",
              "  </div>\n"
            ],
            "application/vnd.google.colaboratory.intrinsic+json": {
              "type": "dataframe",
              "variable_name": "df"
            }
          },
          "metadata": {},
          "execution_count": 10
        }
      ],
      "source": [
        "#Renaming Column\n",
        "df = df.rename(columns={'Q1: GOING OUT?':'Going out', 'Q2: GENDER':'Gender', 'Q3: AGE':'Age',\n",
        "'Q4: COUNTRY':'Country','Q5: STATE, PROVINCE, COUNTY, ETC':'State', 'Q7: JOY OTHER':'Joy other',\n",
        "'Q8: DESPAIR OTHER':'Despair other', 'Q9: OTHER COMMENTS':'Other comments',\n",
        "'Q10: DRESS':'Dress','Q11: DAY':'Day', 'Q12: MEDIA [Science]':'Science',\n",
        "'Q12: MEDIA [Daily Dish]':'Daily Dish', 'Q12: MEDIA [ESPN]':'ESPN',\n",
        "'Q12: MEDIA [Yahoo]':'Yahoo'})\n",
        "df.columns=df.columns.str.strip('Q6 |')\n",
        "df.head()"
      ]
    },
    {
      "cell_type": "code",
      "source": [
        "# Drop useless column like Inernal ID& x,y corr and columns with so null values\n",
        "df = df.drop(columns=['Internal ID','Joy other','Despair other','Other comments','Unnamed: 113','Click Coordinates (x, y)'])"
      ],
      "metadata": {
        "id": "dOWSfysFaXyb"
      },
      "execution_count": null,
      "outputs": []
    },
    {
      "cell_type": "code",
      "source": [
        "df.head()"
      ],
      "metadata": {
        "colab": {
          "base_uri": "https://localhost:8080/",
          "height": 446
        },
        "id": "BE0ZPIeMaYL0",
        "outputId": "6ab1d7af-c249-4a1a-f589-af3421801ae3"
      },
      "execution_count": null,
      "outputs": [
        {
          "output_type": "execute_result",
          "data": {
            "text/plain": [
              "  Going out Gender  Age Country     State 100 Grand Bar  \\\n",
              "0       NaN    NaN  NaN     NaN       NaN           NaN   \n",
              "1        No   Male   44    USA         NM           MEH   \n",
              "2       NaN   Male   49     USA  Virginia           NaN   \n",
              "3        No   Male   40      us        or           MEH   \n",
              "4        No   Male   23     usa  exton pa           JOY   \n",
              "\n",
              "  Anonymous brown globs that come in black and orange wrappers\\t(a.k.a. Mary Janes)  \\\n",
              "0                                                NaN                                  \n",
              "1                                            DESPAIR                                  \n",
              "2                                                NaN                                  \n",
              "3                                            DESPAIR                                  \n",
              "4                                            DESPAIR                                  \n",
              "\n",
              "  Any full-sized candy bar Black Jacks Bonkers (the candy)  ...  \\\n",
              "0                      NaN         NaN                 NaN  ...   \n",
              "1                      JOY         MEH             DESPAIR  ...   \n",
              "2                      NaN         NaN                 NaN  ...   \n",
              "3                      JOY         MEH                 MEH  ...   \n",
              "4                      JOY     DESPAIR                 MEH  ...   \n",
              "\n",
              "  Whatchamacallit Bars White Bread Whole Wheat anything  \\\n",
              "0                  NaN         NaN                  NaN   \n",
              "1              DESPAIR     DESPAIR              DESPAIR   \n",
              "2                  NaN         NaN                  NaN   \n",
              "3                  JOY     DESPAIR              DESPAIR   \n",
              "4                  JOY     DESPAIR              DESPAIR   \n",
              "\n",
              "  York Peppermint Patties           Dress     Day Daily Dish Science ESPN  \\\n",
              "0                     NaN             NaN     NaN        NaN     NaN  NaN   \n",
              "1                 DESPAIR  White and gold  Sunday        NaN     1.0  NaN   \n",
              "2                     NaN             NaN     NaN        NaN     NaN  NaN   \n",
              "3                 DESPAIR  White and gold  Sunday        NaN     1.0  NaN   \n",
              "4                     JOY  White and gold  Friday        NaN     1.0  NaN   \n",
              "\n",
              "  Yahoo  \n",
              "0   NaN  \n",
              "1   NaN  \n",
              "2   NaN  \n",
              "3   NaN  \n",
              "4   NaN  \n",
              "\n",
              "[5 rows x 114 columns]"
            ],
            "text/html": [
              "\n",
              "  <div id=\"df-4ed46711-3e71-4110-983d-6cc741afa59a\" class=\"colab-df-container\">\n",
              "    <div>\n",
              "<style scoped>\n",
              "    .dataframe tbody tr th:only-of-type {\n",
              "        vertical-align: middle;\n",
              "    }\n",
              "\n",
              "    .dataframe tbody tr th {\n",
              "        vertical-align: top;\n",
              "    }\n",
              "\n",
              "    .dataframe thead th {\n",
              "        text-align: right;\n",
              "    }\n",
              "</style>\n",
              "<table border=\"1\" class=\"dataframe\">\n",
              "  <thead>\n",
              "    <tr style=\"text-align: right;\">\n",
              "      <th></th>\n",
              "      <th>Going out</th>\n",
              "      <th>Gender</th>\n",
              "      <th>Age</th>\n",
              "      <th>Country</th>\n",
              "      <th>State</th>\n",
              "      <th>100 Grand Bar</th>\n",
              "      <th>Anonymous brown globs that come in black and orange wrappers\\t(a.k.a. Mary Janes)</th>\n",
              "      <th>Any full-sized candy bar</th>\n",
              "      <th>Black Jacks</th>\n",
              "      <th>Bonkers (the candy)</th>\n",
              "      <th>...</th>\n",
              "      <th>Whatchamacallit Bars</th>\n",
              "      <th>White Bread</th>\n",
              "      <th>Whole Wheat anything</th>\n",
              "      <th>York Peppermint Patties</th>\n",
              "      <th>Dress</th>\n",
              "      <th>Day</th>\n",
              "      <th>Daily Dish</th>\n",
              "      <th>Science</th>\n",
              "      <th>ESPN</th>\n",
              "      <th>Yahoo</th>\n",
              "    </tr>\n",
              "  </thead>\n",
              "  <tbody>\n",
              "    <tr>\n",
              "      <th>0</th>\n",
              "      <td>NaN</td>\n",
              "      <td>NaN</td>\n",
              "      <td>NaN</td>\n",
              "      <td>NaN</td>\n",
              "      <td>NaN</td>\n",
              "      <td>NaN</td>\n",
              "      <td>NaN</td>\n",
              "      <td>NaN</td>\n",
              "      <td>NaN</td>\n",
              "      <td>NaN</td>\n",
              "      <td>...</td>\n",
              "      <td>NaN</td>\n",
              "      <td>NaN</td>\n",
              "      <td>NaN</td>\n",
              "      <td>NaN</td>\n",
              "      <td>NaN</td>\n",
              "      <td>NaN</td>\n",
              "      <td>NaN</td>\n",
              "      <td>NaN</td>\n",
              "      <td>NaN</td>\n",
              "      <td>NaN</td>\n",
              "    </tr>\n",
              "    <tr>\n",
              "      <th>1</th>\n",
              "      <td>No</td>\n",
              "      <td>Male</td>\n",
              "      <td>44</td>\n",
              "      <td>USA</td>\n",
              "      <td>NM</td>\n",
              "      <td>MEH</td>\n",
              "      <td>DESPAIR</td>\n",
              "      <td>JOY</td>\n",
              "      <td>MEH</td>\n",
              "      <td>DESPAIR</td>\n",
              "      <td>...</td>\n",
              "      <td>DESPAIR</td>\n",
              "      <td>DESPAIR</td>\n",
              "      <td>DESPAIR</td>\n",
              "      <td>DESPAIR</td>\n",
              "      <td>White and gold</td>\n",
              "      <td>Sunday</td>\n",
              "      <td>NaN</td>\n",
              "      <td>1.0</td>\n",
              "      <td>NaN</td>\n",
              "      <td>NaN</td>\n",
              "    </tr>\n",
              "    <tr>\n",
              "      <th>2</th>\n",
              "      <td>NaN</td>\n",
              "      <td>Male</td>\n",
              "      <td>49</td>\n",
              "      <td>USA</td>\n",
              "      <td>Virginia</td>\n",
              "      <td>NaN</td>\n",
              "      <td>NaN</td>\n",
              "      <td>NaN</td>\n",
              "      <td>NaN</td>\n",
              "      <td>NaN</td>\n",
              "      <td>...</td>\n",
              "      <td>NaN</td>\n",
              "      <td>NaN</td>\n",
              "      <td>NaN</td>\n",
              "      <td>NaN</td>\n",
              "      <td>NaN</td>\n",
              "      <td>NaN</td>\n",
              "      <td>NaN</td>\n",
              "      <td>NaN</td>\n",
              "      <td>NaN</td>\n",
              "      <td>NaN</td>\n",
              "    </tr>\n",
              "    <tr>\n",
              "      <th>3</th>\n",
              "      <td>No</td>\n",
              "      <td>Male</td>\n",
              "      <td>40</td>\n",
              "      <td>us</td>\n",
              "      <td>or</td>\n",
              "      <td>MEH</td>\n",
              "      <td>DESPAIR</td>\n",
              "      <td>JOY</td>\n",
              "      <td>MEH</td>\n",
              "      <td>MEH</td>\n",
              "      <td>...</td>\n",
              "      <td>JOY</td>\n",
              "      <td>DESPAIR</td>\n",
              "      <td>DESPAIR</td>\n",
              "      <td>DESPAIR</td>\n",
              "      <td>White and gold</td>\n",
              "      <td>Sunday</td>\n",
              "      <td>NaN</td>\n",
              "      <td>1.0</td>\n",
              "      <td>NaN</td>\n",
              "      <td>NaN</td>\n",
              "    </tr>\n",
              "    <tr>\n",
              "      <th>4</th>\n",
              "      <td>No</td>\n",
              "      <td>Male</td>\n",
              "      <td>23</td>\n",
              "      <td>usa</td>\n",
              "      <td>exton pa</td>\n",
              "      <td>JOY</td>\n",
              "      <td>DESPAIR</td>\n",
              "      <td>JOY</td>\n",
              "      <td>DESPAIR</td>\n",
              "      <td>MEH</td>\n",
              "      <td>...</td>\n",
              "      <td>JOY</td>\n",
              "      <td>DESPAIR</td>\n",
              "      <td>DESPAIR</td>\n",
              "      <td>JOY</td>\n",
              "      <td>White and gold</td>\n",
              "      <td>Friday</td>\n",
              "      <td>NaN</td>\n",
              "      <td>1.0</td>\n",
              "      <td>NaN</td>\n",
              "      <td>NaN</td>\n",
              "    </tr>\n",
              "  </tbody>\n",
              "</table>\n",
              "<p>5 rows × 114 columns</p>\n",
              "</div>\n",
              "    <div class=\"colab-df-buttons\">\n",
              "\n",
              "  <div class=\"colab-df-container\">\n",
              "    <button class=\"colab-df-convert\" onclick=\"convertToInteractive('df-4ed46711-3e71-4110-983d-6cc741afa59a')\"\n",
              "            title=\"Convert this dataframe to an interactive table.\"\n",
              "            style=\"display:none;\">\n",
              "\n",
              "  <svg xmlns=\"http://www.w3.org/2000/svg\" height=\"24px\" viewBox=\"0 -960 960 960\">\n",
              "    <path d=\"M120-120v-720h720v720H120Zm60-500h600v-160H180v160Zm220 220h160v-160H400v160Zm0 220h160v-160H400v160ZM180-400h160v-160H180v160Zm440 0h160v-160H620v160ZM180-180h160v-160H180v160Zm440 0h160v-160H620v160Z\"/>\n",
              "  </svg>\n",
              "    </button>\n",
              "\n",
              "  <style>\n",
              "    .colab-df-container {\n",
              "      display:flex;\n",
              "      gap: 12px;\n",
              "    }\n",
              "\n",
              "    .colab-df-convert {\n",
              "      background-color: #E8F0FE;\n",
              "      border: none;\n",
              "      border-radius: 50%;\n",
              "      cursor: pointer;\n",
              "      display: none;\n",
              "      fill: #1967D2;\n",
              "      height: 32px;\n",
              "      padding: 0 0 0 0;\n",
              "      width: 32px;\n",
              "    }\n",
              "\n",
              "    .colab-df-convert:hover {\n",
              "      background-color: #E2EBFA;\n",
              "      box-shadow: 0px 1px 2px rgba(60, 64, 67, 0.3), 0px 1px 3px 1px rgba(60, 64, 67, 0.15);\n",
              "      fill: #174EA6;\n",
              "    }\n",
              "\n",
              "    .colab-df-buttons div {\n",
              "      margin-bottom: 4px;\n",
              "    }\n",
              "\n",
              "    [theme=dark] .colab-df-convert {\n",
              "      background-color: #3B4455;\n",
              "      fill: #D2E3FC;\n",
              "    }\n",
              "\n",
              "    [theme=dark] .colab-df-convert:hover {\n",
              "      background-color: #434B5C;\n",
              "      box-shadow: 0px 1px 3px 1px rgba(0, 0, 0, 0.15);\n",
              "      filter: drop-shadow(0px 1px 2px rgba(0, 0, 0, 0.3));\n",
              "      fill: #FFFFFF;\n",
              "    }\n",
              "  </style>\n",
              "\n",
              "    <script>\n",
              "      const buttonEl =\n",
              "        document.querySelector('#df-4ed46711-3e71-4110-983d-6cc741afa59a button.colab-df-convert');\n",
              "      buttonEl.style.display =\n",
              "        google.colab.kernel.accessAllowed ? 'block' : 'none';\n",
              "\n",
              "      async function convertToInteractive(key) {\n",
              "        const element = document.querySelector('#df-4ed46711-3e71-4110-983d-6cc741afa59a');\n",
              "        const dataTable =\n",
              "          await google.colab.kernel.invokeFunction('convertToInteractive',\n",
              "                                                    [key], {});\n",
              "        if (!dataTable) return;\n",
              "\n",
              "        const docLinkHtml = 'Like what you see? Visit the ' +\n",
              "          '<a target=\"_blank\" href=https://colab.research.google.com/notebooks/data_table.ipynb>data table notebook</a>'\n",
              "          + ' to learn more about interactive tables.';\n",
              "        element.innerHTML = '';\n",
              "        dataTable['output_type'] = 'display_data';\n",
              "        await google.colab.output.renderOutput(dataTable, element);\n",
              "        const docLink = document.createElement('div');\n",
              "        docLink.innerHTML = docLinkHtml;\n",
              "        element.appendChild(docLink);\n",
              "      }\n",
              "    </script>\n",
              "  </div>\n",
              "\n",
              "\n",
              "<div id=\"df-2cfb26f7-292b-4403-bc94-a1fd8ee55c6f\">\n",
              "  <button class=\"colab-df-quickchart\" onclick=\"quickchart('df-2cfb26f7-292b-4403-bc94-a1fd8ee55c6f')\"\n",
              "            title=\"Suggest charts\"\n",
              "            style=\"display:none;\">\n",
              "\n",
              "<svg xmlns=\"http://www.w3.org/2000/svg\" height=\"24px\"viewBox=\"0 0 24 24\"\n",
              "     width=\"24px\">\n",
              "    <g>\n",
              "        <path d=\"M19 3H5c-1.1 0-2 .9-2 2v14c0 1.1.9 2 2 2h14c1.1 0 2-.9 2-2V5c0-1.1-.9-2-2-2zM9 17H7v-7h2v7zm4 0h-2V7h2v10zm4 0h-2v-4h2v4z\"/>\n",
              "    </g>\n",
              "</svg>\n",
              "  </button>\n",
              "\n",
              "<style>\n",
              "  .colab-df-quickchart {\n",
              "      --bg-color: #E8F0FE;\n",
              "      --fill-color: #1967D2;\n",
              "      --hover-bg-color: #E2EBFA;\n",
              "      --hover-fill-color: #174EA6;\n",
              "      --disabled-fill-color: #AAA;\n",
              "      --disabled-bg-color: #DDD;\n",
              "  }\n",
              "\n",
              "  [theme=dark] .colab-df-quickchart {\n",
              "      --bg-color: #3B4455;\n",
              "      --fill-color: #D2E3FC;\n",
              "      --hover-bg-color: #434B5C;\n",
              "      --hover-fill-color: #FFFFFF;\n",
              "      --disabled-bg-color: #3B4455;\n",
              "      --disabled-fill-color: #666;\n",
              "  }\n",
              "\n",
              "  .colab-df-quickchart {\n",
              "    background-color: var(--bg-color);\n",
              "    border: none;\n",
              "    border-radius: 50%;\n",
              "    cursor: pointer;\n",
              "    display: none;\n",
              "    fill: var(--fill-color);\n",
              "    height: 32px;\n",
              "    padding: 0;\n",
              "    width: 32px;\n",
              "  }\n",
              "\n",
              "  .colab-df-quickchart:hover {\n",
              "    background-color: var(--hover-bg-color);\n",
              "    box-shadow: 0 1px 2px rgba(60, 64, 67, 0.3), 0 1px 3px 1px rgba(60, 64, 67, 0.15);\n",
              "    fill: var(--button-hover-fill-color);\n",
              "  }\n",
              "\n",
              "  .colab-df-quickchart-complete:disabled,\n",
              "  .colab-df-quickchart-complete:disabled:hover {\n",
              "    background-color: var(--disabled-bg-color);\n",
              "    fill: var(--disabled-fill-color);\n",
              "    box-shadow: none;\n",
              "  }\n",
              "\n",
              "  .colab-df-spinner {\n",
              "    border: 2px solid var(--fill-color);\n",
              "    border-color: transparent;\n",
              "    border-bottom-color: var(--fill-color);\n",
              "    animation:\n",
              "      spin 1s steps(1) infinite;\n",
              "  }\n",
              "\n",
              "  @keyframes spin {\n",
              "    0% {\n",
              "      border-color: transparent;\n",
              "      border-bottom-color: var(--fill-color);\n",
              "      border-left-color: var(--fill-color);\n",
              "    }\n",
              "    20% {\n",
              "      border-color: transparent;\n",
              "      border-left-color: var(--fill-color);\n",
              "      border-top-color: var(--fill-color);\n",
              "    }\n",
              "    30% {\n",
              "      border-color: transparent;\n",
              "      border-left-color: var(--fill-color);\n",
              "      border-top-color: var(--fill-color);\n",
              "      border-right-color: var(--fill-color);\n",
              "    }\n",
              "    40% {\n",
              "      border-color: transparent;\n",
              "      border-right-color: var(--fill-color);\n",
              "      border-top-color: var(--fill-color);\n",
              "    }\n",
              "    60% {\n",
              "      border-color: transparent;\n",
              "      border-right-color: var(--fill-color);\n",
              "    }\n",
              "    80% {\n",
              "      border-color: transparent;\n",
              "      border-right-color: var(--fill-color);\n",
              "      border-bottom-color: var(--fill-color);\n",
              "    }\n",
              "    90% {\n",
              "      border-color: transparent;\n",
              "      border-bottom-color: var(--fill-color);\n",
              "    }\n",
              "  }\n",
              "</style>\n",
              "\n",
              "  <script>\n",
              "    async function quickchart(key) {\n",
              "      const quickchartButtonEl =\n",
              "        document.querySelector('#' + key + ' button');\n",
              "      quickchartButtonEl.disabled = true;  // To prevent multiple clicks.\n",
              "      quickchartButtonEl.classList.add('colab-df-spinner');\n",
              "      try {\n",
              "        const charts = await google.colab.kernel.invokeFunction(\n",
              "            'suggestCharts', [key], {});\n",
              "      } catch (error) {\n",
              "        console.error('Error during call to suggestCharts:', error);\n",
              "      }\n",
              "      quickchartButtonEl.classList.remove('colab-df-spinner');\n",
              "      quickchartButtonEl.classList.add('colab-df-quickchart-complete');\n",
              "    }\n",
              "    (() => {\n",
              "      let quickchartButtonEl =\n",
              "        document.querySelector('#df-2cfb26f7-292b-4403-bc94-a1fd8ee55c6f button');\n",
              "      quickchartButtonEl.style.display =\n",
              "        google.colab.kernel.accessAllowed ? 'block' : 'none';\n",
              "    })();\n",
              "  </script>\n",
              "</div>\n",
              "\n",
              "    </div>\n",
              "  </div>\n"
            ],
            "application/vnd.google.colaboratory.intrinsic+json": {
              "type": "dataframe",
              "variable_name": "df"
            }
          },
          "metadata": {},
          "execution_count": 12
        }
      ]
    },
    {
      "cell_type": "code",
      "source": [
        "df.dropna(subset=df.columns[5:-6],how='all',inplace=True)"
      ],
      "metadata": {
        "id": "2efdVFvCaYjS"
      },
      "execution_count": null,
      "outputs": []
    },
    {
      "cell_type": "code",
      "source": [
        "df.reset_index(inplace=True,drop=True)\n",
        "df.head()"
      ],
      "metadata": {
        "colab": {
          "base_uri": "https://localhost:8080/",
          "height": 481
        },
        "id": "finN69fIdehb",
        "outputId": "19c29ddb-1d7b-4e81-c515-6110953e15b2"
      },
      "execution_count": null,
      "outputs": [
        {
          "output_type": "execute_result",
          "data": {
            "text/plain": [
              "  Going out Gender  Age Country     State 100 Grand Bar  \\\n",
              "0        No   Male   44    USA         NM           MEH   \n",
              "1        No   Male   40      us        or           MEH   \n",
              "2        No   Male   23     usa  exton pa           JOY   \n",
              "3        No   Male  NaN     NaN       NaN           JOY   \n",
              "4        No   Male   33  canada   ontario           JOY   \n",
              "\n",
              "  Anonymous brown globs that come in black and orange wrappers\\t(a.k.a. Mary Janes)  \\\n",
              "0                                            DESPAIR                                  \n",
              "1                                            DESPAIR                                  \n",
              "2                                            DESPAIR                                  \n",
              "3                                            DESPAIR                                  \n",
              "4                                            DESPAIR                                  \n",
              "\n",
              "  Any full-sized candy bar Black Jacks Bonkers (the candy)  ...  \\\n",
              "0                      JOY         MEH             DESPAIR  ...   \n",
              "1                      JOY         MEH                 MEH  ...   \n",
              "2                      JOY     DESPAIR                 MEH  ...   \n",
              "3                      JOY         NaN                 NaN  ...   \n",
              "4                      JOY     DESPAIR             DESPAIR  ...   \n",
              "\n",
              "  Whatchamacallit Bars White Bread Whole Wheat anything  \\\n",
              "0              DESPAIR     DESPAIR              DESPAIR   \n",
              "1                  JOY     DESPAIR              DESPAIR   \n",
              "2                  JOY     DESPAIR              DESPAIR   \n",
              "3                  JOY     DESPAIR              DESPAIR   \n",
              "4              DESPAIR     DESPAIR              DESPAIR   \n",
              "\n",
              "  York Peppermint Patties           Dress     Day Daily Dish Science ESPN  \\\n",
              "0                 DESPAIR  White and gold  Sunday        NaN     1.0  NaN   \n",
              "1                 DESPAIR  White and gold  Sunday        NaN     1.0  NaN   \n",
              "2                     JOY  White and gold  Friday        NaN     1.0  NaN   \n",
              "3                     JOY             NaN     NaN        NaN     1.0  NaN   \n",
              "4                 DESPAIR  Blue and black  Friday        NaN     1.0  NaN   \n",
              "\n",
              "  Yahoo  \n",
              "0   NaN  \n",
              "1   NaN  \n",
              "2   NaN  \n",
              "3   NaN  \n",
              "4   NaN  \n",
              "\n",
              "[5 rows x 114 columns]"
            ],
            "text/html": [
              "\n",
              "  <div id=\"df-efd5d8b4-76cd-429e-a411-30199c26bac3\" class=\"colab-df-container\">\n",
              "    <div>\n",
              "<style scoped>\n",
              "    .dataframe tbody tr th:only-of-type {\n",
              "        vertical-align: middle;\n",
              "    }\n",
              "\n",
              "    .dataframe tbody tr th {\n",
              "        vertical-align: top;\n",
              "    }\n",
              "\n",
              "    .dataframe thead th {\n",
              "        text-align: right;\n",
              "    }\n",
              "</style>\n",
              "<table border=\"1\" class=\"dataframe\">\n",
              "  <thead>\n",
              "    <tr style=\"text-align: right;\">\n",
              "      <th></th>\n",
              "      <th>Going out</th>\n",
              "      <th>Gender</th>\n",
              "      <th>Age</th>\n",
              "      <th>Country</th>\n",
              "      <th>State</th>\n",
              "      <th>100 Grand Bar</th>\n",
              "      <th>Anonymous brown globs that come in black and orange wrappers\\t(a.k.a. Mary Janes)</th>\n",
              "      <th>Any full-sized candy bar</th>\n",
              "      <th>Black Jacks</th>\n",
              "      <th>Bonkers (the candy)</th>\n",
              "      <th>...</th>\n",
              "      <th>Whatchamacallit Bars</th>\n",
              "      <th>White Bread</th>\n",
              "      <th>Whole Wheat anything</th>\n",
              "      <th>York Peppermint Patties</th>\n",
              "      <th>Dress</th>\n",
              "      <th>Day</th>\n",
              "      <th>Daily Dish</th>\n",
              "      <th>Science</th>\n",
              "      <th>ESPN</th>\n",
              "      <th>Yahoo</th>\n",
              "    </tr>\n",
              "  </thead>\n",
              "  <tbody>\n",
              "    <tr>\n",
              "      <th>0</th>\n",
              "      <td>No</td>\n",
              "      <td>Male</td>\n",
              "      <td>44</td>\n",
              "      <td>USA</td>\n",
              "      <td>NM</td>\n",
              "      <td>MEH</td>\n",
              "      <td>DESPAIR</td>\n",
              "      <td>JOY</td>\n",
              "      <td>MEH</td>\n",
              "      <td>DESPAIR</td>\n",
              "      <td>...</td>\n",
              "      <td>DESPAIR</td>\n",
              "      <td>DESPAIR</td>\n",
              "      <td>DESPAIR</td>\n",
              "      <td>DESPAIR</td>\n",
              "      <td>White and gold</td>\n",
              "      <td>Sunday</td>\n",
              "      <td>NaN</td>\n",
              "      <td>1.0</td>\n",
              "      <td>NaN</td>\n",
              "      <td>NaN</td>\n",
              "    </tr>\n",
              "    <tr>\n",
              "      <th>1</th>\n",
              "      <td>No</td>\n",
              "      <td>Male</td>\n",
              "      <td>40</td>\n",
              "      <td>us</td>\n",
              "      <td>or</td>\n",
              "      <td>MEH</td>\n",
              "      <td>DESPAIR</td>\n",
              "      <td>JOY</td>\n",
              "      <td>MEH</td>\n",
              "      <td>MEH</td>\n",
              "      <td>...</td>\n",
              "      <td>JOY</td>\n",
              "      <td>DESPAIR</td>\n",
              "      <td>DESPAIR</td>\n",
              "      <td>DESPAIR</td>\n",
              "      <td>White and gold</td>\n",
              "      <td>Sunday</td>\n",
              "      <td>NaN</td>\n",
              "      <td>1.0</td>\n",
              "      <td>NaN</td>\n",
              "      <td>NaN</td>\n",
              "    </tr>\n",
              "    <tr>\n",
              "      <th>2</th>\n",
              "      <td>No</td>\n",
              "      <td>Male</td>\n",
              "      <td>23</td>\n",
              "      <td>usa</td>\n",
              "      <td>exton pa</td>\n",
              "      <td>JOY</td>\n",
              "      <td>DESPAIR</td>\n",
              "      <td>JOY</td>\n",
              "      <td>DESPAIR</td>\n",
              "      <td>MEH</td>\n",
              "      <td>...</td>\n",
              "      <td>JOY</td>\n",
              "      <td>DESPAIR</td>\n",
              "      <td>DESPAIR</td>\n",
              "      <td>JOY</td>\n",
              "      <td>White and gold</td>\n",
              "      <td>Friday</td>\n",
              "      <td>NaN</td>\n",
              "      <td>1.0</td>\n",
              "      <td>NaN</td>\n",
              "      <td>NaN</td>\n",
              "    </tr>\n",
              "    <tr>\n",
              "      <th>3</th>\n",
              "      <td>No</td>\n",
              "      <td>Male</td>\n",
              "      <td>NaN</td>\n",
              "      <td>NaN</td>\n",
              "      <td>NaN</td>\n",
              "      <td>JOY</td>\n",
              "      <td>DESPAIR</td>\n",
              "      <td>JOY</td>\n",
              "      <td>NaN</td>\n",
              "      <td>NaN</td>\n",
              "      <td>...</td>\n",
              "      <td>JOY</td>\n",
              "      <td>DESPAIR</td>\n",
              "      <td>DESPAIR</td>\n",
              "      <td>JOY</td>\n",
              "      <td>NaN</td>\n",
              "      <td>NaN</td>\n",
              "      <td>NaN</td>\n",
              "      <td>1.0</td>\n",
              "      <td>NaN</td>\n",
              "      <td>NaN</td>\n",
              "    </tr>\n",
              "    <tr>\n",
              "      <th>4</th>\n",
              "      <td>No</td>\n",
              "      <td>Male</td>\n",
              "      <td>33</td>\n",
              "      <td>canada</td>\n",
              "      <td>ontario</td>\n",
              "      <td>JOY</td>\n",
              "      <td>DESPAIR</td>\n",
              "      <td>JOY</td>\n",
              "      <td>DESPAIR</td>\n",
              "      <td>DESPAIR</td>\n",
              "      <td>...</td>\n",
              "      <td>DESPAIR</td>\n",
              "      <td>DESPAIR</td>\n",
              "      <td>DESPAIR</td>\n",
              "      <td>DESPAIR</td>\n",
              "      <td>Blue and black</td>\n",
              "      <td>Friday</td>\n",
              "      <td>NaN</td>\n",
              "      <td>1.0</td>\n",
              "      <td>NaN</td>\n",
              "      <td>NaN</td>\n",
              "    </tr>\n",
              "  </tbody>\n",
              "</table>\n",
              "<p>5 rows × 114 columns</p>\n",
              "</div>\n",
              "    <div class=\"colab-df-buttons\">\n",
              "\n",
              "  <div class=\"colab-df-container\">\n",
              "    <button class=\"colab-df-convert\" onclick=\"convertToInteractive('df-efd5d8b4-76cd-429e-a411-30199c26bac3')\"\n",
              "            title=\"Convert this dataframe to an interactive table.\"\n",
              "            style=\"display:none;\">\n",
              "\n",
              "  <svg xmlns=\"http://www.w3.org/2000/svg\" height=\"24px\" viewBox=\"0 -960 960 960\">\n",
              "    <path d=\"M120-120v-720h720v720H120Zm60-500h600v-160H180v160Zm220 220h160v-160H400v160Zm0 220h160v-160H400v160ZM180-400h160v-160H180v160Zm440 0h160v-160H620v160ZM180-180h160v-160H180v160Zm440 0h160v-160H620v160Z\"/>\n",
              "  </svg>\n",
              "    </button>\n",
              "\n",
              "  <style>\n",
              "    .colab-df-container {\n",
              "      display:flex;\n",
              "      gap: 12px;\n",
              "    }\n",
              "\n",
              "    .colab-df-convert {\n",
              "      background-color: #E8F0FE;\n",
              "      border: none;\n",
              "      border-radius: 50%;\n",
              "      cursor: pointer;\n",
              "      display: none;\n",
              "      fill: #1967D2;\n",
              "      height: 32px;\n",
              "      padding: 0 0 0 0;\n",
              "      width: 32px;\n",
              "    }\n",
              "\n",
              "    .colab-df-convert:hover {\n",
              "      background-color: #E2EBFA;\n",
              "      box-shadow: 0px 1px 2px rgba(60, 64, 67, 0.3), 0px 1px 3px 1px rgba(60, 64, 67, 0.15);\n",
              "      fill: #174EA6;\n",
              "    }\n",
              "\n",
              "    .colab-df-buttons div {\n",
              "      margin-bottom: 4px;\n",
              "    }\n",
              "\n",
              "    [theme=dark] .colab-df-convert {\n",
              "      background-color: #3B4455;\n",
              "      fill: #D2E3FC;\n",
              "    }\n",
              "\n",
              "    [theme=dark] .colab-df-convert:hover {\n",
              "      background-color: #434B5C;\n",
              "      box-shadow: 0px 1px 3px 1px rgba(0, 0, 0, 0.15);\n",
              "      filter: drop-shadow(0px 1px 2px rgba(0, 0, 0, 0.3));\n",
              "      fill: #FFFFFF;\n",
              "    }\n",
              "  </style>\n",
              "\n",
              "    <script>\n",
              "      const buttonEl =\n",
              "        document.querySelector('#df-efd5d8b4-76cd-429e-a411-30199c26bac3 button.colab-df-convert');\n",
              "      buttonEl.style.display =\n",
              "        google.colab.kernel.accessAllowed ? 'block' : 'none';\n",
              "\n",
              "      async function convertToInteractive(key) {\n",
              "        const element = document.querySelector('#df-efd5d8b4-76cd-429e-a411-30199c26bac3');\n",
              "        const dataTable =\n",
              "          await google.colab.kernel.invokeFunction('convertToInteractive',\n",
              "                                                    [key], {});\n",
              "        if (!dataTable) return;\n",
              "\n",
              "        const docLinkHtml = 'Like what you see? Visit the ' +\n",
              "          '<a target=\"_blank\" href=https://colab.research.google.com/notebooks/data_table.ipynb>data table notebook</a>'\n",
              "          + ' to learn more about interactive tables.';\n",
              "        element.innerHTML = '';\n",
              "        dataTable['output_type'] = 'display_data';\n",
              "        await google.colab.output.renderOutput(dataTable, element);\n",
              "        const docLink = document.createElement('div');\n",
              "        docLink.innerHTML = docLinkHtml;\n",
              "        element.appendChild(docLink);\n",
              "      }\n",
              "    </script>\n",
              "  </div>\n",
              "\n",
              "\n",
              "<div id=\"df-4770feae-4bd2-4962-95bf-bf11b79baab7\">\n",
              "  <button class=\"colab-df-quickchart\" onclick=\"quickchart('df-4770feae-4bd2-4962-95bf-bf11b79baab7')\"\n",
              "            title=\"Suggest charts\"\n",
              "            style=\"display:none;\">\n",
              "\n",
              "<svg xmlns=\"http://www.w3.org/2000/svg\" height=\"24px\"viewBox=\"0 0 24 24\"\n",
              "     width=\"24px\">\n",
              "    <g>\n",
              "        <path d=\"M19 3H5c-1.1 0-2 .9-2 2v14c0 1.1.9 2 2 2h14c1.1 0 2-.9 2-2V5c0-1.1-.9-2-2-2zM9 17H7v-7h2v7zm4 0h-2V7h2v10zm4 0h-2v-4h2v4z\"/>\n",
              "    </g>\n",
              "</svg>\n",
              "  </button>\n",
              "\n",
              "<style>\n",
              "  .colab-df-quickchart {\n",
              "      --bg-color: #E8F0FE;\n",
              "      --fill-color: #1967D2;\n",
              "      --hover-bg-color: #E2EBFA;\n",
              "      --hover-fill-color: #174EA6;\n",
              "      --disabled-fill-color: #AAA;\n",
              "      --disabled-bg-color: #DDD;\n",
              "  }\n",
              "\n",
              "  [theme=dark] .colab-df-quickchart {\n",
              "      --bg-color: #3B4455;\n",
              "      --fill-color: #D2E3FC;\n",
              "      --hover-bg-color: #434B5C;\n",
              "      --hover-fill-color: #FFFFFF;\n",
              "      --disabled-bg-color: #3B4455;\n",
              "      --disabled-fill-color: #666;\n",
              "  }\n",
              "\n",
              "  .colab-df-quickchart {\n",
              "    background-color: var(--bg-color);\n",
              "    border: none;\n",
              "    border-radius: 50%;\n",
              "    cursor: pointer;\n",
              "    display: none;\n",
              "    fill: var(--fill-color);\n",
              "    height: 32px;\n",
              "    padding: 0;\n",
              "    width: 32px;\n",
              "  }\n",
              "\n",
              "  .colab-df-quickchart:hover {\n",
              "    background-color: var(--hover-bg-color);\n",
              "    box-shadow: 0 1px 2px rgba(60, 64, 67, 0.3), 0 1px 3px 1px rgba(60, 64, 67, 0.15);\n",
              "    fill: var(--button-hover-fill-color);\n",
              "  }\n",
              "\n",
              "  .colab-df-quickchart-complete:disabled,\n",
              "  .colab-df-quickchart-complete:disabled:hover {\n",
              "    background-color: var(--disabled-bg-color);\n",
              "    fill: var(--disabled-fill-color);\n",
              "    box-shadow: none;\n",
              "  }\n",
              "\n",
              "  .colab-df-spinner {\n",
              "    border: 2px solid var(--fill-color);\n",
              "    border-color: transparent;\n",
              "    border-bottom-color: var(--fill-color);\n",
              "    animation:\n",
              "      spin 1s steps(1) infinite;\n",
              "  }\n",
              "\n",
              "  @keyframes spin {\n",
              "    0% {\n",
              "      border-color: transparent;\n",
              "      border-bottom-color: var(--fill-color);\n",
              "      border-left-color: var(--fill-color);\n",
              "    }\n",
              "    20% {\n",
              "      border-color: transparent;\n",
              "      border-left-color: var(--fill-color);\n",
              "      border-top-color: var(--fill-color);\n",
              "    }\n",
              "    30% {\n",
              "      border-color: transparent;\n",
              "      border-left-color: var(--fill-color);\n",
              "      border-top-color: var(--fill-color);\n",
              "      border-right-color: var(--fill-color);\n",
              "    }\n",
              "    40% {\n",
              "      border-color: transparent;\n",
              "      border-right-color: var(--fill-color);\n",
              "      border-top-color: var(--fill-color);\n",
              "    }\n",
              "    60% {\n",
              "      border-color: transparent;\n",
              "      border-right-color: var(--fill-color);\n",
              "    }\n",
              "    80% {\n",
              "      border-color: transparent;\n",
              "      border-right-color: var(--fill-color);\n",
              "      border-bottom-color: var(--fill-color);\n",
              "    }\n",
              "    90% {\n",
              "      border-color: transparent;\n",
              "      border-bottom-color: var(--fill-color);\n",
              "    }\n",
              "  }\n",
              "</style>\n",
              "\n",
              "  <script>\n",
              "    async function quickchart(key) {\n",
              "      const quickchartButtonEl =\n",
              "        document.querySelector('#' + key + ' button');\n",
              "      quickchartButtonEl.disabled = true;  // To prevent multiple clicks.\n",
              "      quickchartButtonEl.classList.add('colab-df-spinner');\n",
              "      try {\n",
              "        const charts = await google.colab.kernel.invokeFunction(\n",
              "            'suggestCharts', [key], {});\n",
              "      } catch (error) {\n",
              "        console.error('Error during call to suggestCharts:', error);\n",
              "      }\n",
              "      quickchartButtonEl.classList.remove('colab-df-spinner');\n",
              "      quickchartButtonEl.classList.add('colab-df-quickchart-complete');\n",
              "    }\n",
              "    (() => {\n",
              "      let quickchartButtonEl =\n",
              "        document.querySelector('#df-4770feae-4bd2-4962-95bf-bf11b79baab7 button');\n",
              "      quickchartButtonEl.style.display =\n",
              "        google.colab.kernel.accessAllowed ? 'block' : 'none';\n",
              "    })();\n",
              "  </script>\n",
              "</div>\n",
              "\n",
              "    </div>\n",
              "  </div>\n"
            ],
            "application/vnd.google.colaboratory.intrinsic+json": {
              "type": "dataframe",
              "variable_name": "df"
            }
          },
          "metadata": {},
          "execution_count": 14
        }
      ]
    },
    {
      "cell_type": "markdown",
      "metadata": {
        "id": "PBsCXynsXTci"
      },
      "source": [
        "### 5 - clean `going out` column\n",
        "> tip : you should choose which best value to put in place of these NaNs ( mode, unknown,other ....etc)"
      ]
    },
    {
      "cell_type": "code",
      "source": [
        "df[\"Going out\"].value_counts()"
      ],
      "metadata": {
        "colab": {
          "base_uri": "https://localhost:8080/"
        },
        "id": "OmACdBM1aW9b",
        "outputId": "b486a1ae-587d-4cfe-f028-cc3886637ff8"
      },
      "execution_count": null,
      "outputs": [
        {
          "output_type": "execute_result",
          "data": {
            "text/plain": [
              "Going out\n",
              "No     1500\n",
              "Yes     239\n",
              "Name: count, dtype: int64"
            ]
          },
          "metadata": {},
          "execution_count": 15
        }
      ]
    },
    {
      "cell_type": "code",
      "execution_count": null,
      "metadata": {
        "colab": {
          "base_uri": "https://localhost:8080/"
        },
        "id": "V339XUFsXTci",
        "outputId": "7be80c0e-0fc0-40eb-e820-f67e6b085346"
      },
      "outputs": [
        {
          "output_type": "execute_result",
          "data": {
            "text/plain": [
              "array(['No', 'Yes', nan], dtype=object)"
            ]
          },
          "metadata": {},
          "execution_count": 16
        }
      ],
      "source": [
        "df[\"Going out\"].unique()"
      ]
    },
    {
      "cell_type": "code",
      "source": [
        "df['Going out']=df[\"Going out\"].fillna('Not Decided Yet')\n",
        "df['Going out'].unique()"
      ],
      "metadata": {
        "colab": {
          "base_uri": "https://localhost:8080/"
        },
        "id": "0gXaa2qDeXec",
        "outputId": "bc2096fd-22a7-4b9c-a963-b9b146f1bb64"
      },
      "execution_count": null,
      "outputs": [
        {
          "output_type": "execute_result",
          "data": {
            "text/plain": [
              "array(['No', 'Yes', 'Not Decided Yet'], dtype=object)"
            ]
          },
          "metadata": {},
          "execution_count": 17
        }
      ]
    },
    {
      "cell_type": "code",
      "source": [
        "#Plotting\n",
        "insights=round(df['Going out'].value_counts(normalize=True)*100,2)\n",
        "plt.pie(insights.values,labels=insights.index,autopct='%2.1f%%')\n",
        "plt.show()"
      ],
      "metadata": {
        "colab": {
          "base_uri": "https://localhost:8080/",
          "height": 406
        },
        "id": "WRaB-oX-e9OM",
        "outputId": "54962f3a-7932-4211-f9c1-bb641d7d47e9"
      },
      "execution_count": null,
      "outputs": [
        {
          "output_type": "display_data",
          "data": {
            "text/plain": [
              "<Figure size 640x480 with 1 Axes>"
            ],
            "image/png": "[encoded data removed]"
          },
          "metadata": {}
        }
      ]
    },
    {
      "cell_type": "markdown",
      "source": [
        "a lot of the people answered the survey are not going out"
      ],
      "metadata": {
        "id": "aVzEPv57gfoC"
      }
    },
    {
      "cell_type": "markdown",
      "metadata": {
        "id": "U014t_rBXTci"
      },
      "source": [
        "### 6 - clean ` gender` column\n",
        "> tip : you should choose which best value to put in place of these NaNs ( mode, unknown,other ....etc)"
      ]
    },
    {
      "cell_type": "code",
      "execution_count": null,
      "metadata": {
        "colab": {
          "base_uri": "https://localhost:8080/"
        },
        "id": "6tleNzTLXTci",
        "outputId": "2858d546-3cc3-409a-d3fc-c81686ed4085"
      },
      "outputs": [
        {
          "output_type": "execute_result",
          "data": {
            "text/plain": [
              "array(['Male', 'Female', \"I'd rather not say\", 'Other', nan], dtype=object)"
            ]
          },
          "metadata": {},
          "execution_count": 19
        }
      ],
      "source": [
        "df['Gender'].unique()"
      ]
    },
    {
      "cell_type": "code",
      "source": [
        "df['Gender']=df['Gender'].fillna(method='bfill',axis=0)\n",
        "#backfill / bfill: use next valid observation to fill gap"
      ],
      "metadata": {
        "id": "KhViNxtpi0nf"
      },
      "execution_count": null,
      "outputs": []
    },
    {
      "cell_type": "code",
      "source": [
        "#plotting\n",
        "insights2=round(df['Gender'].value_counts(normalize=True)*100,2)\n",
        "plt.pie(insights2.values,labels=insights2.index,autopct='%2.1f%%')\n",
        "plt.show()"
      ],
      "metadata": {
        "colab": {
          "base_uri": "https://localhost:8080/",
          "height": 406
        },
        "id": "7Nxx1eRji1U0",
        "outputId": "fe25159e-9195-4b4c-dea2-ed7fc2a51267"
      },
      "execution_count": null,
      "outputs": [
        {
          "output_type": "display_data",
          "data": {
            "text/plain": [
              "<Figure size 640x480 with 1 Axes>"
            ],
            "image/png": "[encoded data removed]"
          },
          "metadata": {}
        }
      ]
    },
    {
      "cell_type": "markdown",
      "source": [
        "Most of them are males"
      ],
      "metadata": {
        "id": "MZ9Qa-gmlSyf"
      }
    },
    {
      "cell_type": "markdown",
      "metadata": {
        "id": "rQQQv70SXTci"
      },
      "source": [
        "### 7 - clean ` age` column\n",
        "> tip : note the type of age column , and NaN values\n",
        " - try to use `to_numeric`\n",
        " - tip : you should choose which best value to put in place of these NaNs ( mean, median, ....etc)"
      ]
    },
    {
      "cell_type": "code",
      "execution_count": null,
      "metadata": {
        "colab": {
          "base_uri": "https://localhost:8080/"
        },
        "id": "ip_u2skBXTci",
        "outputId": "93b3aa44-6464-4d0c-f389-e7375a5e11c1"
      },
      "outputs": [
        {
          "output_type": "stream",
          "name": "stdout",
          "text": [
            "<class 'pandas.core.series.Series'>\n",
            "RangeIndex: 1803 entries, 0 to 1802\n",
            "Series name: Age\n",
            "Non-Null Count  Dtype \n",
            "--------------  ----- \n",
            "1767 non-null   object\n",
            "dtypes: object(1)\n",
            "memory usage: 14.2+ KB\n"
          ]
        }
      ],
      "source": [
        "df['Age'].info()\n",
        "df['Age']=pd.to_numeric(df['Age'],errors='coerce')"
      ]
    },
    {
      "cell_type": "code",
      "source": [
        "df['Age'].value_counts()"
      ],
      "metadata": {
        "colab": {
          "base_uri": "https://localhost:8080/"
        },
        "id": "0eYAoHllmOdq",
        "outputId": "e8d22086-d980-4ab8-f8ec-2c4a656108b7"
      },
      "execution_count": null,
      "outputs": [
        {
          "output_type": "execute_result",
          "data": {
            "text/plain": [
              "Age\n",
              "40.0      66\n",
              "37.0      66\n",
              "43.0      64\n",
              "44.0      62\n",
              "34.0      61\n",
              "          ..\n",
              "1000.0     1\n",
              "99.0       1\n",
              "77.0       1\n",
              "4.0        1\n",
              "312.0      1\n",
              "Name: count, Length: 81, dtype: int64"
            ]
          },
          "metadata": {},
          "execution_count": 23
        }
      ]
    },
    {
      "cell_type": "code",
      "source": [
        "df['Age'].unique()"
      ],
      "metadata": {
        "colab": {
          "base_uri": "https://localhost:8080/"
        },
        "id": "zlRax5n_mO5T",
        "outputId": "d9eac90e-37d1-4c16-88b9-3834f5cefa34"
      },
      "execution_count": null,
      "outputs": [
        {
          "output_type": "execute_result",
          "data": {
            "text/plain": [
              "array([  44. ,   40. ,   23. ,    nan,   33. ,   53. ,   56. ,   64. ,\n",
              "         43. ,   37. ,   59. ,   48. ,   45. ,   49. ,   34. ,   35. ,\n",
              "         38. ,   58. ,   50. ,   47. ,   52. ,   63. ,   65. ,   41. ,\n",
              "         31. ,   61. ,   46. ,   54. ,   62. ,   29. ,   42. ,   39. ,\n",
              "         36. ,   32. ,   28. ,   69. ,   67. ,   30. ,   25. ,   22. ,\n",
              "         51. ,   70. ,   24. ,   27. ,   18. ,   19. ,   57. ,   66. ,\n",
              "         12. ,   60. ,   55. ,   21. ,   11. ,   68. ,   20. ,    6. ,\n",
              "         10. ,   71. ,   90. ,   13. ,   26. ,  312. ,   72. ,   99. ,\n",
              "          9. ,   88. ,   39.4,   74. ,  102. ,   15. ,    8. ,   75. ,\n",
              "         17. ,    7. ,   14. ,   76. ,  100. , 1000. ,   16. ,   77. ,\n",
              "          4. ,   73. ])"
            ]
          },
          "metadata": {},
          "execution_count": 24
        }
      ]
    },
    {
      "cell_type": "code",
      "source": [
        "df['Age'].describe()"
      ],
      "metadata": {
        "colab": {
          "base_uri": "https://localhost:8080/"
        },
        "id": "TZdDsUo6mPQz",
        "outputId": "965166ec-199f-48ca-c488-c29337045b5f"
      },
      "execution_count": null,
      "outputs": [
        {
          "output_type": "execute_result",
          "data": {
            "text/plain": [
              "count    1748.000000\n",
              "mean       43.474485\n",
              "std        26.649718\n",
              "min         4.000000\n",
              "25%        35.000000\n",
              "50%        42.000000\n",
              "75%        50.000000\n",
              "max      1000.000000\n",
              "Name: Age, dtype: float64"
            ]
          },
          "metadata": {},
          "execution_count": 25
        }
      ]
    },
    {
      "cell_type": "markdown",
      "source": [
        "there are outliers"
      ],
      "metadata": {
        "id": "aJIgtTMHmmYc"
      }
    },
    {
      "cell_type": "code",
      "source": [
        "sns.boxplot(df['Age'])"
      ],
      "metadata": {
        "colab": {
          "base_uri": "https://localhost:8080/",
          "height": 428
        },
        "id": "Fvm55NfomPm-",
        "outputId": "7abb3c8d-0d3d-4996-fd07-16323be4aaa2"
      },
      "execution_count": null,
      "outputs": [
        {
          "output_type": "execute_result",
          "data": {
            "text/plain": [
              "<Axes: ylabel='Age'>"
            ]
          },
          "metadata": {},
          "execution_count": 26
        },
        {
          "output_type": "display_data",
          "data": {
            "text/plain": [
              "<Figure size 640x480 with 1 Axes>"
            ],
            "image/png": "[encoded data removed]"
          },
          "metadata": {}
        }
      ]
    },
    {
      "cell_type": "code",
      "source": [
        "Q1 = df['Age'].quantile(0.25)\n",
        "Q3 = df['Age'].quantile(0.75)\n",
        "IQR = Q3 - Q1\n",
        "l = Q1 - 1.5*IQR\n",
        "r = Q3 + 1.5*IQR"
      ],
      "metadata": {
        "id": "W9uDb-OlmQB9"
      },
      "execution_count": null,
      "outputs": []
    },
    {
      "cell_type": "code",
      "source": [
        "filt = (df['Age'] < l) | (df['Age'] > r)\n",
        "df.loc[filt, 'Age'] = np.nan\n",
        "df['Age'] = df['Age'].fillna(df['Age'].mean())"
      ],
      "metadata": {
        "id": "Ft0K0ZqWnU72"
      },
      "execution_count": null,
      "outputs": []
    },
    {
      "cell_type": "code",
      "source": [
        "df[\"Age\"].describe()"
      ],
      "metadata": {
        "colab": {
          "base_uri": "https://localhost:8080/"
        },
        "id": "QhTEq7tOnVLr",
        "outputId": "9c67c662-9274-4c01-c227-a8d12f40aced"
      },
      "execution_count": null,
      "outputs": [
        {
          "output_type": "execute_result",
          "data": {
            "text/plain": [
              "count    1803.000000\n",
              "mean       42.898828\n",
              "std        10.542512\n",
              "min        13.000000\n",
              "25%        36.000000\n",
              "50%        42.898828\n",
              "75%        50.000000\n",
              "max        72.000000\n",
              "Name: Age, dtype: float64"
            ]
          },
          "metadata": {},
          "execution_count": 29
        }
      ]
    },
    {
      "cell_type": "markdown",
      "metadata": {
        "id": "ktc8ThmLXTci"
      },
      "source": [
        "### 8 - clean ` country` column\n",
        "> tip : note that country column has country names with different writing ways\n",
        "  - use fuzzywuzzy to deal with this problem\n",
        "  - you should choose which best value to put in place of these NaNs ( mode, unknown,other ....etc)"
      ]
    },
    {
      "cell_type": "code",
      "execution_count": null,
      "metadata": {
        "id": "CdWZbEhKXTci",
        "colab": {
          "base_uri": "https://localhost:8080/"
        },
        "outputId": "b1329860-29e4-470d-b74e-dbc7b357db44"
      },
      "outputs": [
        {
          "output_type": "execute_result",
          "data": {
            "text/plain": [
              "array(['USA ', 'us', 'usa', nan, 'canada', 'Canada', 'Us', 'US', 'Murica',\n",
              "       'USA', 'uk', 'United States', 'united states', 'Usa',\n",
              "       'United staes', 'United Kingdom', 'United States of America',\n",
              "       'UAE', 'United States ', 'England', 'canada ', 'United states',\n",
              "       'u.s.a.', 'USAUSAUSA', 'america', 'france',\n",
              "       'United States of America ', 'U.S.A.', 'Mexico', 'Canada ',\n",
              "       'united states of america', 'US of A', 'UK', 'Unites States',\n",
              "       'The United States', 'North Carolina ', 'Netherlands', 'Europe',\n",
              "       'Earth', 'U S', 'u.s.', 'Costa Rica',\n",
              "       'The United States of America', 'cascadia', 'insanity lately',\n",
              "       'Greece', 'USA? Hard to tell anymore..', \"'merica\", 'Pittsburgh',\n",
              "       'United State', 'France', 'U.S.', 'A', 'Can', 'Canae', 'New York',\n",
              "       'Trumpistan', 'Ireland', 'United Sates', 'Korea', 'Australia',\n",
              "       'California', 'Japan', 'USa', 'South africa',\n",
              "       'I pretend to be from Canada, but I am really from the United States.',\n",
              "       'Usa ', 'Iceland', 'Canada`', 'Scotland', 'Denmark', 'France ',\n",
              "       'Uk', 'Switzerland', 'Ahem....Amerca', 'South Korea', 'New Jersey',\n",
              "       'CANADA', 'United Stated', 'Germany', 'America', 'United Statss',\n",
              "       'endland', 'Atlantis', 'murrika', 'Alaska', 'united States ',\n",
              "       'germany', 'N. America', 'Singapore', 'USSA', 'Taiwan', 'China',\n",
              "       'spain', 'U.S. ', 'Narnia', 'u s a', 'United Statea',\n",
              "       'subscribe to dm4uz3 on youtube', 'USA USA USA!!!!',\n",
              "       \"I don't know anymore\", 'Fear and Loathing'], dtype=object)"
            ]
          },
          "metadata": {},
          "execution_count": 30
        }
      ],
      "source": [
        "df['Country'].unique()"
      ]
    },
    {
      "cell_type": "code",
      "source": [
        "df['Country'] = df['Country'].str.strip().str.lower()"
      ],
      "metadata": {
        "id": "l0KakJmbkMwP"
      },
      "execution_count": null,
      "outputs": []
    },
    {
      "cell_type": "code",
      "source": [
        "df['Country']"
      ],
      "metadata": {
        "colab": {
          "base_uri": "https://localhost:8080/"
        },
        "id": "TcMXBO0lkLSp",
        "outputId": "0fdcb297-46e2-4271-9a0a-409072871906"
      },
      "execution_count": null,
      "outputs": [
        {
          "output_type": "execute_result",
          "data": {
            "text/plain": [
              "0          usa\n",
              "1           us\n",
              "2          usa\n",
              "3          NaN\n",
              "4       canada\n",
              "         ...  \n",
              "1798       usa\n",
              "1799       usa\n",
              "1800       usa\n",
              "1801       usa\n",
              "1802       usa\n",
              "Name: Country, Length: 1803, dtype: object"
            ]
          },
          "metadata": {},
          "execution_count": 32
        }
      ]
    },
    {
      "cell_type": "code",
      "source": [
        "countries = pd.Series(['usa', 'united states of america','america','united kingdom england', 'hong kong', 'china', 'sweden', 'spain',\n",
        "                       'ireland', 'taiwan', 'singapore', 'netherlands',  'switzerland', 'denmark', 'scotland', 'canada', 'iceland', 'south africa',\n",
        "                       'japan', 'greece', 'costa rica', 'germany', 'finland','indonesia', 'south korea', 'france', 'mexico'])\n"
      ],
      "metadata": {
        "id": "dJ7vSH9ukMCA"
      },
      "execution_count": null,
      "outputs": []
    },
    {
      "cell_type": "code",
      "source": [
        "# Record Linkage Process\n",
        "for country in countries:\n",
        "    matches = process.extract(country, df['Country'], limit = df.shape[0])\n",
        "    for potential_match in matches:\n",
        "        if potential_match[1] >= 80:\n",
        "            df.loc[df['Country'] == potential_match[0], 'Country'] = country\n"
      ],
      "metadata": {
        "id": "Nc5MyVLBk-KE"
      },
      "execution_count": null,
      "outputs": []
    },
    {
      "cell_type": "code",
      "source": [
        "df['Country'].unique()"
      ],
      "metadata": {
        "colab": {
          "base_uri": "https://localhost:8080/"
        },
        "id": "2PFj_DL-k-Ao",
        "outputId": "3f5012e4-e9c8-4393-a198-0086e400a26b"
      },
      "execution_count": null,
      "outputs": [
        {
          "output_type": "execute_result",
          "data": {
            "text/plain": [
              "array(['usa', nan, 'canada', 'murica', 'uk', 'america', 'uae',\n",
              "       'united kingdom england', 'u.s.a.', 'france', 'mexico',\n",
              "       'north carolina', 'netherlands', 'europe', 'earth', 'costa rica',\n",
              "       'cascadia', 'insanity lately', 'greece',\n",
              "       'usa? hard to tell anymore..', 'pittsburgh', 'canae', 'new york',\n",
              "       'trumpistan', 'iceland', 'south korea', 'australia', 'california',\n",
              "       'japan', 'south africa', 'scotland', 'denmark', 'switzerland',\n",
              "       'new jersey', 'germany', 'endland', 'atlantis', 'murrika',\n",
              "       'alaska', 'singapore', 'taiwan', 'china', 'spain', 'narnia',\n",
              "       'u s a', 'subscribe to dm4uz3 on youtube', \"i don't know anymore\",\n",
              "       'fear and loathing'], dtype=object)"
            ]
          },
          "metadata": {},
          "execution_count": 35
        }
      ]
    },
    {
      "cell_type": "code",
      "source": [
        "df['Country'].value_counts()"
      ],
      "metadata": {
        "colab": {
          "base_uri": "https://localhost:8080/"
        },
        "id": "4m8CfpcOmgdE",
        "outputId": "a2d91f01-ef41-462b-ac1e-a782299b8eb9"
      },
      "execution_count": null,
      "outputs": [
        {
          "output_type": "execute_result",
          "data": {
            "text/plain": [
              "Country\n",
              "usa                               979\n",
              "america                           557\n",
              "canada                            160\n",
              "uk                                 12\n",
              "u.s.a.                              8\n",
              "germany                             7\n",
              "netherlands                         4\n",
              "iceland                             4\n",
              "france                              3\n",
              "scotland                            3\n",
              "japan                               3\n",
              "denmark                             2\n",
              "switzerland                         2\n",
              "mexico                              2\n",
              "australia                           2\n",
              "south korea                         2\n",
              "new jersey                          1\n",
              "murica                              1\n",
              "endland                             1\n",
              "atlantis                            1\n",
              "murrika                             1\n",
              "united kingdom england              1\n",
              "singapore                           1\n",
              "taiwan                              1\n",
              "china                               1\n",
              "spain                               1\n",
              "narnia                              1\n",
              "u s a                               1\n",
              "subscribe to dm4uz3 on youtube      1\n",
              "i don't know anymore                1\n",
              "alaska                              1\n",
              "north carolina                      1\n",
              "europe                              1\n",
              "south africa                        1\n",
              "california                          1\n",
              "uae                                 1\n",
              "trumpistan                          1\n",
              "new york                            1\n",
              "canae                               1\n",
              "pittsburgh                          1\n",
              "usa? hard to tell anymore..         1\n",
              "greece                              1\n",
              "insanity lately                     1\n",
              "cascadia                            1\n",
              "costa rica                          1\n",
              "earth                               1\n",
              "fear and loathing                   1\n",
              "Name: count, dtype: int64"
            ]
          },
          "metadata": {},
          "execution_count": 36
        }
      ]
    },
    {
      "cell_type": "code",
      "source": [
        "#pip install fuzzywuzzy"
      ],
      "metadata": {
        "id": "5InMTxJXkMVa",
        "colab": {
          "base_uri": "https://localhost:8080/"
        },
        "outputId": "8ea028ab-a75b-4fd8-f630-4d64da7f5c54"
      },
      "execution_count": null,
      "outputs": [
        {
          "output_type": "stream",
          "name": "stdout",
          "text": [
            "Requirement already satisfied: fuzzywuzzy in /usr/local/lib/python3.10/dist-packages (0.18.0)\n"
          ]
        }
      ]
    },
    {
      "cell_type": "code",
      "source": [
        "# Mapping The same country into on name and replace nan with other\n",
        "mapping = {'murica':'usa', 'united states of america':'usa','america':'usa', 'u.s.a.':'usa',\n",
        "'north carolina':'usa', 'usa? hard to tell anymore..':'usa', 'pittsburgh':'usa', 'new york':'usa', 'trumpistan':'usa',\n",
        "          'california':'usa', 'ud':'usa', 'new jersey':'usa', 'endland':'uk', 'soviet canuckistan':'canada',\n",
        "           'u s a':'usa', 'united kingdom england':'uk', 'u.k.':'uk', 'cascadia':'usa'}\n",
        "df['Country'] = df['Country'].replace(mapping)"
      ],
      "metadata": {
        "id": "VqK55y5InPBZ"
      },
      "execution_count": null,
      "outputs": []
    },
    {
      "cell_type": "code",
      "source": [
        "# Replace Other With Nan\n",
        "df.Country[~df['Country'].isin(['usa', 'uk','canada'])]='other'"
      ],
      "metadata": {
        "id": "Qw_Iq1EcnO-o"
      },
      "execution_count": null,
      "outputs": []
    },
    {
      "cell_type": "code",
      "source": [
        "df['Country'] =df['Country'].str.upper()\n",
        "df['Country'].value_counts()"
      ],
      "metadata": {
        "colab": {
          "base_uri": "https://localhost:8080/"
        },
        "id": "WuEd8G5XnO7j",
        "outputId": "1cef8d05-a7a5-4800-f412-e0ae0f077253"
      },
      "execution_count": null,
      "outputs": [
        {
          "output_type": "execute_result",
          "data": {
            "text/plain": [
              "Country\n",
              "USA       1554\n",
              "CANADA     160\n",
              "OTHER       75\n",
              "UK          14\n",
              "Name: count, dtype: int64"
            ]
          },
          "metadata": {},
          "execution_count": 40
        }
      ]
    },
    {
      "cell_type": "code",
      "source": [
        "x=df['Country'].value_counts()\n",
        "plt.bar(x.index, x.values, color='skyblue')\n",
        "plt.show()"
      ],
      "metadata": {
        "colab": {
          "base_uri": "https://localhost:8080/",
          "height": 430
        },
        "id": "ilEDKRDjtmd4",
        "outputId": "a13f4ac2-8909-4a4d-a74d-3e0b3112738c"
      },
      "execution_count": null,
      "outputs": [
        {
          "output_type": "display_data",
          "data": {
            "text/plain": [
              "<Figure size 640x480 with 1 Axes>"
            ],
            "image/png": "[encoded data removed]"
          },
          "metadata": {}
        }
      ]
    },
    {
      "cell_type": "markdown",
      "source": [
        "***9 - clean area column***"
      ],
      "metadata": {
        "id": "rlzP6woot_1z"
      }
    },
    {
      "cell_type": "code",
      "execution_count": null,
      "metadata": {
        "id": "eilcqWTdXTci",
        "colab": {
          "base_uri": "https://localhost:8080/"
        },
        "outputId": "cd204819-8768-4d2e-b661-3474fbd042d6"
      },
      "outputs": [
        {
          "output_type": "execute_result",
          "data": {
            "text/plain": [
              "array(['NM', 'or', 'exton pa', nan, 'ontario', 'Ontario', 'Wa', 'Quebec',\n",
              "       'NY', 'California', 'Texas', 'NEW YORK', 'CO', 'aberdeenshire',\n",
              "       'Alberta', 'Wisconsin, 53705', 'RI', 'minnesota', 'Michigan',\n",
              "       'Florida', 'New Jersey', 'Colorado', 'Los Angeles, California',\n",
              "       'CA', 'Chicago, Illinois', 'Wisconsin', 'Minnesota ', 'London',\n",
              "       'mn', 'TEXAS', 'District of Columbia', 'Washington',\n",
              "       'Massachusetts ', 'OR', 'Illinois', 'New York', 'massachusetts',\n",
              "       'Abu Dhabi', 'TX', 'Dc', 'VA', 'MN', 'yukon', 'Pennsylvania ',\n",
              "       'MD', 'Virginia', 'Alberta ', 'OXFORDSHIRE', 'DC', 'Iowa', 'Mn',\n",
              "       'TN', 'Ohio', 'BC', 'Maryland', 'MI', 'Wisconsin ', 'Ny',\n",
              "       'Colorado, Jefferson county ', 'Louisiana', 'pa',\n",
              "       'CO, Larimer County', 'Nebraska ', 'Oregon', 'UT', 'ny',\n",
              "       'Pennsylvania', 'north carolina', 'Tennessee ',\n",
              "       'Knox county, Tennessee', 'New Mexico', 'Maine', 'maine',\n",
              "       'Virginia, Arlington', 'WA', 'Illinois ', 'Il', 'New Hampshire ',\n",
              "       'Washington ', 'Georgia', 'IL', 'Oregon ', 'Washington, Clark ',\n",
              "       'NE', 'Oklahoma', 'mi', 'Nevada', 'va', 'California ',\n",
              "       'Oregon - but will be in Washington for Halloween', 'Ri',\n",
              "       'Washington, King', 'MA', 'wa', 'PA', 'md', 'VT, Chittenden',\n",
              "       'North Carolina', 'pennsylvania', 'PEnnsylvania', 'Alabama', 'GA',\n",
              "       'california ', 'South Carolina', 'Massachusetts',\n",
              "       'Baja California', 'IN', 'illinois',\n",
              "       'Santa Cruz County, California', 'MARYLAND', 'North Dakota', 'NC',\n",
              "       'Colorado ', 'Kansas ', 'Oxfordshire', 'British Columbia',\n",
              "       'Nebraska', 'Arizona', 'West Virginia', 'Harris County, Texas',\n",
              "       'USA ', 'ohio', 'ma', 'nc', 'Minnesota', 'Bc', 'philadelphia',\n",
              "       'Kentucky', 'HI', 'South Holland', 'Derbyshire',\n",
              "       'Massachusetts, Plymouth county', 'hi', 'Co', 'New York ', 'vt',\n",
              "       'CA, Alameda', 'Utah', 'FL', 'Michigan, Shiawassee County',\n",
              "       'Newfoundland', 'Missouri', 'Indiana', 'wisconsin', 'Idaho ada',\n",
              "       'La', 'America', 'Hawaii', 'California, Alameda', 'Az', 'VT',\n",
              "       'Sub Earth', 'North dakota', 'virginia', 'Ca', 'MO',\n",
              "       'alameda county, california', 'Greater London', 'Texas ', 'bc',\n",
              "       'WV, Kanawha County ', 'Florida ', 'ca', 'Washington State',\n",
              "       'Alaska', 'Washington, King County', 'San Jose', 'florida', 'AZ',\n",
              "       'Connecticut', 'New Jersey ', 'ON', 'South Carolina ', 'texas',\n",
              "       'newfoundland', 'AB', 'mississippi', 'Oklahoma ', 'washington',\n",
              "       'Manchester', 'cascadia', 'in', 'rhode island', 'Ohio ', 'Pa',\n",
              "       'FL ', 'CT', 'oblivion if things keep going this way', 'Montana',\n",
              "       'connecticut', 'British Columbia ', 'Nunya, Bizness, USA', 'OH',\n",
              "       'Washington state', 'Oakland, California', 'Ontario,  Canada',\n",
              "       'phoenix, maricopa county, arizona', 'Merlin', 'NS',\n",
              "       'Washington state, Kitsap County', 'cailifornia', 'QC',\n",
              "       'Missouri ', 'Pittsburgh pa', 'Washington, seattle, king',\n",
              "       'Massachussets ', 'NJ', 'Whatcom County, WA', 'Mt', 'NH',\n",
              "       'Michigin', 'Ma', 'KS', 'Oakland County, Michigan', 'Marne',\n",
              "       'Noord-Holland', 'Tennessee, Knox County', 'Henrico, VA',\n",
              "       'Washington State, King County, City of Seattle', 'Washington, DC',\n",
              "       'nyc', 'Brooklyn', 'Santa Barbara co. California', 'Maryland ',\n",
              "       'Ky', 'New Orleans la ', 'COLORADO', 'Nh', 'A', 'ri',\n",
              "       'Kalamazoo County, MI', 'OREGON', 'Wi', 'Ontario ', 'wv',\n",
              "       'ulster county, NY', 'NJ, Gloucester', 'Mi', 'calif', 'Or', 'tn',\n",
              "       'MS', 'Queens', 'Vermont', 'Kildare', 'Vermont ', 'ND',\n",
              "       'tennessee', 'Washington DC', 'oregon', 'Kings, New York ', 'Cook',\n",
              "       'Toronto, Ontario', 'Victoria', 'Virginia ', 'On', 'nova scotia',\n",
              "       'Tehama', 'suffolk county ny', 'Santa Clara County, California',\n",
              "       'SC', 'louisiana', 'Md', 'Missoure', 'IA',\n",
              "       'Colorado larimer county', 'Tokyo', 'ont', 'tx', 'Califor',\n",
              "       'Idaho', 'Kansas', 'NV', 'Brooklyn, kings county ny',\n",
              "       'King County, Washington', 'california', 'WI', 'KwaZulu-Natal',\n",
              "       'Carver county, MN', 'DUTCHESS COUNTY NY', 'Ny ', 'Wyoming ',\n",
              "       'colorado', 'british columbia', 'California, San Francisco',\n",
              "       'Glendora, Los Angeles, California', 'Edinburgh', 'Strathclyde',\n",
              "       'Ørbæk', 'Idf', 'Osaka', 'Surrey', 'Northern ireland', 'Vaud',\n",
              "       'Arizona ', 'Michigan ', 'az', 'see question 2', 'Scotland',\n",
              "       'Midlothian', 'Tennessee', 'Durham County, North Carolina',\n",
              "       'Cuyahoga County, Ohio', 'Seoul', 'Canada', 'The Shore',\n",
              "       'Manitoba', 'MD ', 'Devonshire', 'Tx.', 'PENNSYLVANIA', 'ONTARIO',\n",
              "       'maryland', 'kansas', 'Mannheim, Baden-Württemberg ', '|NC',\n",
              "       'Wyoming', 'Rotterdam', 'Arkansas', 'Georgia ', 'Greifswald', 'ar',\n",
              "       'British Columbia, Canada', 'kent', 'Hessen', 'Kentucky ', 'NOYB',\n",
              "       'mo', 'New york', 'South Dakota', 'Emerald City, Petrolia',\n",
              "       'wa, spokane', 'new york ', 'Buncombe County, North Carolina',\n",
              "       'California, San Diego', 'new hampshire', 'USA',\n",
              "       'NY, Tompkins County', 'Nj ', 'kentucky', 'alberta',\n",
              "       'Philadelphia', 'Portland, maine', 'sc', 'nh', 'califormia',\n",
              "       'New jersey', 'montana', 'indiana ', 'il', 'ct', 'NSW', 'WV',\n",
              "       'Oregon, Multnomah County', 'Vancouver, Wa', 'Nc', 'Nova Scotia',\n",
              "       'Atlanta, GA', 'Washington state ', 'Singapore', 'Manitoba ',\n",
              "       'west virginia', 'North carolina', 'Mo', 'Nj', 'Fl', 'wyoming',\n",
              "       'Nm', 'Dona Ana county, New Mexico', 'UT, Salt Lake',\n",
              "       'Saskatchewan', 'Ks',\n",
              "       'California, Contra Costa County, Pleasant Hill', 'Monroe county',\n",
              "       'Hong Kong', 'Washingto', 'California, Mendocino County', 'madrid',\n",
              "       'Hesse', 'Tree Town, USA', 'New Hampshire', 'Philadelphia, PA',\n",
              "       'Bristol County, Rhode Island', 'Newfoundland and Labrador',\n",
              "       'Dublin', 'NL', 'DC ', 'oklahoma', 'NJ; Essex', 'Glasgow', 'Va',\n",
              "       'Ia', 'Québec', 'orange county, ca', 'BERKELEY, CA',\n",
              "       'California, USA', 'NYC', 'Munster', 'Chicago, IL',\n",
              "       'Philadelphia PA', 'Rappahannock County, VA', 'OK', 'Mexico City',\n",
              "       'dc', 'Illinois  ', 'WASHINGTON DC', 'Tn', 'new york',\n",
              "       'Connecticut ', 'ill', 'Idaho ',\n",
              "       'New York County, New York City, New York State', 'West Yorkshire',\n",
              "       'Berlin', 'arlington, va', 'ur mom',\n",
              "       'Alaska, Matanuska-Susitna Borough', 'utah', 'Northbrook, IL',\n",
              "       'delaware', 'Tx', 'Northampton County, PA', 'Rhode Island',\n",
              "       'Bloomington, IN', 'indiana', 'Quenec', 'nj',\n",
              "       'st. augustine florida', 'iowa',\n",
              "       \"The Democratic People's Republic of North Carolina\", 'SC ', 'KY',\n",
              "       'pennsylvania, northampton couny, easton', 'Psychotic'],\n",
              "      dtype=object)"
            ]
          },
          "metadata": {},
          "execution_count": 42
        }
      ],
      "source": [
        "df['State'].unique()"
      ]
    },
    {
      "cell_type": "code",
      "source": [
        "df.drop('State',axis ='columns',inplace=True)"
      ],
      "metadata": {
        "id": "04uvpIBAm421"
      },
      "execution_count": null,
      "outputs": []
    },
    {
      "cell_type": "markdown",
      "source": [
        "Soooooooooo Many diff Values"
      ],
      "metadata": {
        "id": "aP_0S2aWn37Z"
      }
    },
    {
      "cell_type": "code",
      "source": [
        "df.head()"
      ],
      "metadata": {
        "colab": {
          "base_uri": "https://localhost:8080/",
          "height": 481
        },
        "id": "QCqMKUBFm5xy",
        "outputId": "89c29fed-4f83-41f2-e155-4564ac2c5a3d"
      },
      "execution_count": null,
      "outputs": [
        {
          "output_type": "execute_result",
          "data": {
            "text/plain": [
              "  Going out Gender        Age Country 100 Grand Bar  \\\n",
              "0        No   Male  44.000000     USA           MEH   \n",
              "1        No   Male  40.000000     USA           MEH   \n",
              "2        No   Male  23.000000     USA           JOY   \n",
              "3        No   Male  42.898828   OTHER           JOY   \n",
              "4        No   Male  33.000000  CANADA           JOY   \n",
              "\n",
              "  Anonymous brown globs that come in black and orange wrappers\\t(a.k.a. Mary Janes)  \\\n",
              "0                                            DESPAIR                                  \n",
              "1                                            DESPAIR                                  \n",
              "2                                            DESPAIR                                  \n",
              "3                                            DESPAIR                                  \n",
              "4                                            DESPAIR                                  \n",
              "\n",
              "  Any full-sized candy bar Black Jacks Bonkers (the candy)  \\\n",
              "0                      JOY         MEH             DESPAIR   \n",
              "1                      JOY         MEH                 MEH   \n",
              "2                      JOY     DESPAIR                 MEH   \n",
              "3                      JOY         NaN                 NaN   \n",
              "4                      JOY     DESPAIR             DESPAIR   \n",
              "\n",
              "  Bonkers (the board game)  ... Whatchamacallit Bars White Bread  \\\n",
              "0                  DESPAIR  ...              DESPAIR     DESPAIR   \n",
              "1                  DESPAIR  ...                  JOY     DESPAIR   \n",
              "2                  DESPAIR  ...                  JOY     DESPAIR   \n",
              "3                      NaN  ...                  JOY     DESPAIR   \n",
              "4                      MEH  ...              DESPAIR     DESPAIR   \n",
              "\n",
              "  Whole Wheat anything York Peppermint Patties           Dress     Day  \\\n",
              "0              DESPAIR                 DESPAIR  White and gold  Sunday   \n",
              "1              DESPAIR                 DESPAIR  White and gold  Sunday   \n",
              "2              DESPAIR                     JOY  White and gold  Friday   \n",
              "3              DESPAIR                     JOY             NaN     NaN   \n",
              "4              DESPAIR                 DESPAIR  Blue and black  Friday   \n",
              "\n",
              "  Daily Dish Science ESPN Yahoo  \n",
              "0        NaN     1.0  NaN   NaN  \n",
              "1        NaN     1.0  NaN   NaN  \n",
              "2        NaN     1.0  NaN   NaN  \n",
              "3        NaN     1.0  NaN   NaN  \n",
              "4        NaN     1.0  NaN   NaN  \n",
              "\n",
              "[5 rows x 113 columns]"
            ],
            "text/html": [
              "\n",
              "  <div id=\"df-cf3e5491-fcf6-4b45-840b-4ccec796fcf8\" class=\"colab-df-container\">\n",
              "    <div>\n",
              "<style scoped>\n",
              "    .dataframe tbody tr th:only-of-type {\n",
              "        vertical-align: middle;\n",
              "    }\n",
              "\n",
              "    .dataframe tbody tr th {\n",
              "        vertical-align: top;\n",
              "    }\n",
              "\n",
              "    .dataframe thead th {\n",
              "        text-align: right;\n",
              "    }\n",
              "</style>\n",
              "<table border=\"1\" class=\"dataframe\">\n",
              "  <thead>\n",
              "    <tr style=\"text-align: right;\">\n",
              "      <th></th>\n",
              "      <th>Going out</th>\n",
              "      <th>Gender</th>\n",
              "      <th>Age</th>\n",
              "      <th>Country</th>\n",
              "      <th>100 Grand Bar</th>\n",
              "      <th>Anonymous brown globs that come in black and orange wrappers\\t(a.k.a. Mary Janes)</th>\n",
              "      <th>Any full-sized candy bar</th>\n",
              "      <th>Black Jacks</th>\n",
              "      <th>Bonkers (the candy)</th>\n",
              "      <th>Bonkers (the board game)</th>\n",
              "      <th>...</th>\n",
              "      <th>Whatchamacallit Bars</th>\n",
              "      <th>White Bread</th>\n",
              "      <th>Whole Wheat anything</th>\n",
              "      <th>York Peppermint Patties</th>\n",
              "      <th>Dress</th>\n",
              "      <th>Day</th>\n",
              "      <th>Daily Dish</th>\n",
              "      <th>Science</th>\n",
              "      <th>ESPN</th>\n",
              "      <th>Yahoo</th>\n",
              "    </tr>\n",
              "  </thead>\n",
              "  <tbody>\n",
              "    <tr>\n",
              "      <th>0</th>\n",
              "      <td>No</td>\n",
              "      <td>Male</td>\n",
              "      <td>44.000000</td>\n",
              "      <td>USA</td>\n",
              "      <td>MEH</td>\n",
              "      <td>DESPAIR</td>\n",
              "      <td>JOY</td>\n",
              "      <td>MEH</td>\n",
              "      <td>DESPAIR</td>\n",
              "      <td>DESPAIR</td>\n",
              "      <td>...</td>\n",
              "      <td>DESPAIR</td>\n",
              "      <td>DESPAIR</td>\n",
              "      <td>DESPAIR</td>\n",
              "      <td>DESPAIR</td>\n",
              "      <td>White and gold</td>\n",
              "      <td>Sunday</td>\n",
              "      <td>NaN</td>\n",
              "      <td>1.0</td>\n",
              "      <td>NaN</td>\n",
              "      <td>NaN</td>\n",
              "    </tr>\n",
              "    <tr>\n",
              "      <th>1</th>\n",
              "      <td>No</td>\n",
              "      <td>Male</td>\n",
              "      <td>40.000000</td>\n",
              "      <td>USA</td>\n",
              "      <td>MEH</td>\n",
              "      <td>DESPAIR</td>\n",
              "      <td>JOY</td>\n",
              "      <td>MEH</td>\n",
              "      <td>MEH</td>\n",
              "      <td>DESPAIR</td>\n",
              "      <td>...</td>\n",
              "      <td>JOY</td>\n",
              "      <td>DESPAIR</td>\n",
              "      <td>DESPAIR</td>\n",
              "      <td>DESPAIR</td>\n",
              "      <td>White and gold</td>\n",
              "      <td>Sunday</td>\n",
              "      <td>NaN</td>\n",
              "      <td>1.0</td>\n",
              "      <td>NaN</td>\n",
              "      <td>NaN</td>\n",
              "    </tr>\n",
              "    <tr>\n",
              "      <th>2</th>\n",
              "      <td>No</td>\n",
              "      <td>Male</td>\n",
              "      <td>23.000000</td>\n",
              "      <td>USA</td>\n",
              "      <td>JOY</td>\n",
              "      <td>DESPAIR</td>\n",
              "      <td>JOY</td>\n",
              "      <td>DESPAIR</td>\n",
              "      <td>MEH</td>\n",
              "      <td>DESPAIR</td>\n",
              "      <td>...</td>\n",
              "      <td>JOY</td>\n",
              "      <td>DESPAIR</td>\n",
              "      <td>DESPAIR</td>\n",
              "      <td>JOY</td>\n",
              "      <td>White and gold</td>\n",
              "      <td>Friday</td>\n",
              "      <td>NaN</td>\n",
              "      <td>1.0</td>\n",
              "      <td>NaN</td>\n",
              "      <td>NaN</td>\n",
              "    </tr>\n",
              "    <tr>\n",
              "      <th>3</th>\n",
              "      <td>No</td>\n",
              "      <td>Male</td>\n",
              "      <td>42.898828</td>\n",
              "      <td>OTHER</td>\n",
              "      <td>JOY</td>\n",
              "      <td>DESPAIR</td>\n",
              "      <td>JOY</td>\n",
              "      <td>NaN</td>\n",
              "      <td>NaN</td>\n",
              "      <td>NaN</td>\n",
              "      <td>...</td>\n",
              "      <td>JOY</td>\n",
              "      <td>DESPAIR</td>\n",
              "      <td>DESPAIR</td>\n",
              "      <td>JOY</td>\n",
              "      <td>NaN</td>\n",
              "      <td>NaN</td>\n",
              "      <td>NaN</td>\n",
              "      <td>1.0</td>\n",
              "      <td>NaN</td>\n",
              "      <td>NaN</td>\n",
              "    </tr>\n",
              "    <tr>\n",
              "      <th>4</th>\n",
              "      <td>No</td>\n",
              "      <td>Male</td>\n",
              "      <td>33.000000</td>\n",
              "      <td>CANADA</td>\n",
              "      <td>JOY</td>\n",
              "      <td>DESPAIR</td>\n",
              "      <td>JOY</td>\n",
              "      <td>DESPAIR</td>\n",
              "      <td>DESPAIR</td>\n",
              "      <td>MEH</td>\n",
              "      <td>...</td>\n",
              "      <td>DESPAIR</td>\n",
              "      <td>DESPAIR</td>\n",
              "      <td>DESPAIR</td>\n",
              "      <td>DESPAIR</td>\n",
              "      <td>Blue and black</td>\n",
              "      <td>Friday</td>\n",
              "      <td>NaN</td>\n",
              "      <td>1.0</td>\n",
              "      <td>NaN</td>\n",
              "      <td>NaN</td>\n",
              "    </tr>\n",
              "  </tbody>\n",
              "</table>\n",
              "<p>5 rows × 113 columns</p>\n",
              "</div>\n",
              "    <div class=\"colab-df-buttons\">\n",
              "\n",
              "  <div class=\"colab-df-container\">\n",
              "    <button class=\"colab-df-convert\" onclick=\"convertToInteractive('df-cf3e5491-fcf6-4b45-840b-4ccec796fcf8')\"\n",
              "            title=\"Convert this dataframe to an interactive table.\"\n",
              "            style=\"display:none;\">\n",
              "\n",
              "  <svg xmlns=\"http://www.w3.org/2000/svg\" height=\"24px\" viewBox=\"0 -960 960 960\">\n",
              "    <path d=\"M120-120v-720h720v720H120Zm60-500h600v-160H180v160Zm220 220h160v-160H400v160Zm0 220h160v-160H400v160ZM180-400h160v-160H180v160Zm440 0h160v-160H620v160ZM180-180h160v-160H180v160Zm440 0h160v-160H620v160Z\"/>\n",
              "  </svg>\n",
              "    </button>\n",
              "\n",
              "  <style>\n",
              "    .colab-df-container {\n",
              "      display:flex;\n",
              "      gap: 12px;\n",
              "    }\n",
              "\n",
              "    .colab-df-convert {\n",
              "      background-color: #E8F0FE;\n",
              "      border: none;\n",
              "      border-radius: 50%;\n",
              "      cursor: pointer;\n",
              "      display: none;\n",
              "      fill: #1967D2;\n",
              "      height: 32px;\n",
              "      padding: 0 0 0 0;\n",
              "      width: 32px;\n",
              "    }\n",
              "\n",
              "    .colab-df-convert:hover {\n",
              "      background-color: #E2EBFA;\n",
              "      box-shadow: 0px 1px 2px rgba(60, 64, 67, 0.3), 0px 1px 3px 1px rgba(60, 64, 67, 0.15);\n",
              "      fill: #174EA6;\n",
              "    }\n",
              "\n",
              "    .colab-df-buttons div {\n",
              "      margin-bottom: 4px;\n",
              "    }\n",
              "\n",
              "    [theme=dark] .colab-df-convert {\n",
              "      background-color: #3B4455;\n",
              "      fill: #D2E3FC;\n",
              "    }\n",
              "\n",
              "    [theme=dark] .colab-df-convert:hover {\n",
              "      background-color: #434B5C;\n",
              "      box-shadow: 0px 1px 3px 1px rgba(0, 0, 0, 0.15);\n",
              "      filter: drop-shadow(0px 1px 2px rgba(0, 0, 0, 0.3));\n",
              "      fill: #FFFFFF;\n",
              "    }\n",
              "  </style>\n",
              "\n",
              "    <script>\n",
              "      const buttonEl =\n",
              "        document.querySelector('#df-cf3e5491-fcf6-4b45-840b-4ccec796fcf8 button.colab-df-convert');\n",
              "      buttonEl.style.display =\n",
              "        google.colab.kernel.accessAllowed ? 'block' : 'none';\n",
              "\n",
              "      async function convertToInteractive(key) {\n",
              "        const element = document.querySelector('#df-cf3e5491-fcf6-4b45-840b-4ccec796fcf8');\n",
              "        const dataTable =\n",
              "          await google.colab.kernel.invokeFunction('convertToInteractive',\n",
              "                                                    [key], {});\n",
              "        if (!dataTable) return;\n",
              "\n",
              "        const docLinkHtml = 'Like what you see? Visit the ' +\n",
              "          '<a target=\"_blank\" href=https://colab.research.google.com/notebooks/data_table.ipynb>data table notebook</a>'\n",
              "          + ' to learn more about interactive tables.';\n",
              "        element.innerHTML = '';\n",
              "        dataTable['output_type'] = 'display_data';\n",
              "        await google.colab.output.renderOutput(dataTable, element);\n",
              "        const docLink = document.createElement('div');\n",
              "        docLink.innerHTML = docLinkHtml;\n",
              "        element.appendChild(docLink);\n",
              "      }\n",
              "    </script>\n",
              "  </div>\n",
              "\n",
              "\n",
              "<div id=\"df-849f4bc6-802d-4570-8813-da3ad6aa5828\">\n",
              "  <button class=\"colab-df-quickchart\" onclick=\"quickchart('df-849f4bc6-802d-4570-8813-da3ad6aa5828')\"\n",
              "            title=\"Suggest charts\"\n",
              "            style=\"display:none;\">\n",
              "\n",
              "<svg xmlns=\"http://www.w3.org/2000/svg\" height=\"24px\"viewBox=\"0 0 24 24\"\n",
              "     width=\"24px\">\n",
              "    <g>\n",
              "        <path d=\"M19 3H5c-1.1 0-2 .9-2 2v14c0 1.1.9 2 2 2h14c1.1 0 2-.9 2-2V5c0-1.1-.9-2-2-2zM9 17H7v-7h2v7zm4 0h-2V7h2v10zm4 0h-2v-4h2v4z\"/>\n",
              "    </g>\n",
              "</svg>\n",
              "  </button>\n",
              "\n",
              "<style>\n",
              "  .colab-df-quickchart {\n",
              "      --bg-color: #E8F0FE;\n",
              "      --fill-color: #1967D2;\n",
              "      --hover-bg-color: #E2EBFA;\n",
              "      --hover-fill-color: #174EA6;\n",
              "      --disabled-fill-color: #AAA;\n",
              "      --disabled-bg-color: #DDD;\n",
              "  }\n",
              "\n",
              "  [theme=dark] .colab-df-quickchart {\n",
              "      --bg-color: #3B4455;\n",
              "      --fill-color: #D2E3FC;\n",
              "      --hover-bg-color: #434B5C;\n",
              "      --hover-fill-color: #FFFFFF;\n",
              "      --disabled-bg-color: #3B4455;\n",
              "      --disabled-fill-color: #666;\n",
              "  }\n",
              "\n",
              "  .colab-df-quickchart {\n",
              "    background-color: var(--bg-color);\n",
              "    border: none;\n",
              "    border-radius: 50%;\n",
              "    cursor: pointer;\n",
              "    display: none;\n",
              "    fill: var(--fill-color);\n",
              "    height: 32px;\n",
              "    padding: 0;\n",
              "    width: 32px;\n",
              "  }\n",
              "\n",
              "  .colab-df-quickchart:hover {\n",
              "    background-color: var(--hover-bg-color);\n",
              "    box-shadow: 0 1px 2px rgba(60, 64, 67, 0.3), 0 1px 3px 1px rgba(60, 64, 67, 0.15);\n",
              "    fill: var(--button-hover-fill-color);\n",
              "  }\n",
              "\n",
              "  .colab-df-quickchart-complete:disabled,\n",
              "  .colab-df-quickchart-complete:disabled:hover {\n",
              "    background-color: var(--disabled-bg-color);\n",
              "    fill: var(--disabled-fill-color);\n",
              "    box-shadow: none;\n",
              "  }\n",
              "\n",
              "  .colab-df-spinner {\n",
              "    border: 2px solid var(--fill-color);\n",
              "    border-color: transparent;\n",
              "    border-bottom-color: var(--fill-color);\n",
              "    animation:\n",
              "      spin 1s steps(1) infinite;\n",
              "  }\n",
              "\n",
              "  @keyframes spin {\n",
              "    0% {\n",
              "      border-color: transparent;\n",
              "      border-bottom-color: var(--fill-color);\n",
              "      border-left-color: var(--fill-color);\n",
              "    }\n",
              "    20% {\n",
              "      border-color: transparent;\n",
              "      border-left-color: var(--fill-color);\n",
              "      border-top-color: var(--fill-color);\n",
              "    }\n",
              "    30% {\n",
              "      border-color: transparent;\n",
              "      border-left-color: var(--fill-color);\n",
              "      border-top-color: var(--fill-color);\n",
              "      border-right-color: var(--fill-color);\n",
              "    }\n",
              "    40% {\n",
              "      border-color: transparent;\n",
              "      border-right-color: var(--fill-color);\n",
              "      border-top-color: var(--fill-color);\n",
              "    }\n",
              "    60% {\n",
              "      border-color: transparent;\n",
              "      border-right-color: var(--fill-color);\n",
              "    }\n",
              "    80% {\n",
              "      border-color: transparent;\n",
              "      border-right-color: var(--fill-color);\n",
              "      border-bottom-color: var(--fill-color);\n",
              "    }\n",
              "    90% {\n",
              "      border-color: transparent;\n",
              "      border-bottom-color: var(--fill-color);\n",
              "    }\n",
              "  }\n",
              "</style>\n",
              "\n",
              "  <script>\n",
              "    async function quickchart(key) {\n",
              "      const quickchartButtonEl =\n",
              "        document.querySelector('#' + key + ' button');\n",
              "      quickchartButtonEl.disabled = true;  // To prevent multiple clicks.\n",
              "      quickchartButtonEl.classList.add('colab-df-spinner');\n",
              "      try {\n",
              "        const charts = await google.colab.kernel.invokeFunction(\n",
              "            'suggestCharts', [key], {});\n",
              "      } catch (error) {\n",
              "        console.error('Error during call to suggestCharts:', error);\n",
              "      }\n",
              "      quickchartButtonEl.classList.remove('colab-df-spinner');\n",
              "      quickchartButtonEl.classList.add('colab-df-quickchart-complete');\n",
              "    }\n",
              "    (() => {\n",
              "      let quickchartButtonEl =\n",
              "        document.querySelector('#df-849f4bc6-802d-4570-8813-da3ad6aa5828 button');\n",
              "      quickchartButtonEl.style.display =\n",
              "        google.colab.kernel.accessAllowed ? 'block' : 'none';\n",
              "    })();\n",
              "  </script>\n",
              "</div>\n",
              "\n",
              "    </div>\n",
              "  </div>\n"
            ],
            "application/vnd.google.colaboratory.intrinsic+json": {
              "type": "dataframe",
              "variable_name": "df"
            }
          },
          "metadata": {},
          "execution_count": 44
        }
      ]
    },
    {
      "cell_type": "markdown",
      "metadata": {
        "id": "EpR99SEPXTcj"
      },
      "source": [
        "### 10 - clean ` Q6` columns\n",
        ">- tip : Q6 has all kinds of chocolate bars and questions with three distinct options to choose from (Joy, Meh, Despair).\n",
        "- so all the column that has Q6 is a candy name , so you should go through all these column and you should choose which best value to put in place of these NaNs ( mode, unknown,other ....etc)"
      ]
    },
    {
      "cell_type": "code",
      "execution_count": null,
      "metadata": {
        "id": "EtfQc3guXTcj"
      },
      "outputs": [],
      "source": [
        "#df.columns.get_loc('York Peppermint Patties') --> 106\n",
        "#df.columns.get_loc('100 Grand Bar') --> 4\n"
      ]
    },
    {
      "cell_type": "code",
      "source": [
        "df = df.drop(df[df.iloc[:,4:106].isnull().all(axis=1)].index)"
      ],
      "metadata": {
        "id": "ZGThewi-r42l"
      },
      "execution_count": null,
      "outputs": []
    },
    {
      "cell_type": "code",
      "source": [
        "df['100 Grand Bar'].unique()\n",
        "# fill nan with \"MEH\" between JOY , DESPAIR"
      ],
      "metadata": {
        "colab": {
          "base_uri": "https://localhost:8080/"
        },
        "id": "JBLVnpgdr4z4",
        "outputId": "e023cc1c-3b48-4a2b-fc65-db78370dc5e4"
      },
      "execution_count": null,
      "outputs": [
        {
          "output_type": "execute_result",
          "data": {
            "text/plain": [
              "array(['MEH', 'JOY', nan, 'DESPAIR'], dtype=object)"
            ]
          },
          "metadata": {},
          "execution_count": 47
        }
      ]
    },
    {
      "cell_type": "code",
      "source": [
        "df.iloc[:,4:106]=df.iloc[:,4:106].fillna('MEH')\n",
        "df.iloc[:,4:106].isnull().sum()"
      ],
      "metadata": {
        "colab": {
          "base_uri": "https://localhost:8080/"
        },
        "id": "0Zn3_684r4lA",
        "outputId": "ca3fe7fc-103e-4667-8938-70bc95efa0fb"
      },
      "execution_count": null,
      "outputs": [
        {
          "output_type": "execute_result",
          "data": {
            "text/plain": [
              "100 Grand Bar                                                                        0\n",
              "Anonymous brown globs that come in black and orange wrappers\\t(a.k.a. Mary Janes)    0\n",
              "Any full-sized candy bar                                                             0\n",
              "Black Jacks                                                                          0\n",
              "Bonkers (the candy)                                                                  0\n",
              "                                                                                    ..\n",
              "Vials of pure high fructose corn syrup, for main-lining into your vein               0\n",
              "Vicodin                                                                              0\n",
              "Whatchamacallit Bars                                                                 0\n",
              "White Bread                                                                          0\n",
              "Whole Wheat anything                                                                 0\n",
              "Length: 102, dtype: int64"
            ]
          },
          "metadata": {},
          "execution_count": 48
        }
      ]
    },
    {
      "cell_type": "markdown",
      "metadata": {
        "id": "fCSXOS5lXTcj"
      },
      "source": [
        "### 11 - clean ` dress` column\n",
        ">tip : you should choose which best value to put in place of these NaNs ( mode, unknown,other ....etc)"
      ]
    },
    {
      "cell_type": "code",
      "execution_count": null,
      "metadata": {
        "id": "lT9BgSBAXTcj",
        "colab": {
          "base_uri": "https://localhost:8080/"
        },
        "outputId": "67ac6245-7fb4-452f-9d6c-5900926a09de"
      },
      "outputs": [
        {
          "output_type": "execute_result",
          "data": {
            "text/plain": [
              "array(['White and gold', nan, 'Blue and black'], dtype=object)"
            ]
          },
          "metadata": {},
          "execution_count": 49
        }
      ],
      "source": [
        "df['Dress'].unique()"
      ]
    },
    {
      "cell_type": "code",
      "source": [
        "df['Dress']=df['Dress'].fillna('Unknown')"
      ],
      "metadata": {
        "id": "b26ia0pctQDE"
      },
      "execution_count": null,
      "outputs": []
    },
    {
      "cell_type": "code",
      "source": [
        "#plotting\n",
        "insights4=round(df['Dress'].value_counts(normalize=True)*100,2)\n",
        "plt.pie(insights4.values,labels=insights4.index,autopct='%2.1f%%')\n",
        "plt.show()"
      ],
      "metadata": {
        "colab": {
          "base_uri": "https://localhost:8080/",
          "height": 406
        },
        "id": "k5f83uLvtQbr",
        "outputId": "bff36554-6c3a-48fb-e6a9-fa4b594b5484"
      },
      "execution_count": null,
      "outputs": [
        {
          "output_type": "display_data",
          "data": {
            "text/plain": [
              "<Figure size 640x480 with 1 Axes>"
            ],
            "image/png": "[encoded data removed]"
          },
          "metadata": {}
        }
      ]
    },
    {
      "cell_type": "markdown",
      "source": [
        "White and gold is the most"
      ],
      "metadata": {
        "id": "74ePSskJtbSt"
      }
    },
    {
      "cell_type": "markdown",
      "metadata": {
        "id": "jm6nuld6XTcj"
      },
      "source": [
        "### 12 - clean ` day` column\n",
        ">tip : you should choose which best value to put in place of these NaNs ( mode, unknown,other ....etc)"
      ]
    },
    {
      "cell_type": "code",
      "execution_count": null,
      "metadata": {
        "id": "X0rM1S1wXTcj",
        "colab": {
          "base_uri": "https://localhost:8080/"
        },
        "outputId": "8152974b-dc42-4014-daf0-fa2a8ca56bfe"
      },
      "outputs": [
        {
          "output_type": "execute_result",
          "data": {
            "text/plain": [
              "70"
            ]
          },
          "metadata": {},
          "execution_count": 52
        }
      ],
      "source": [
        "df['Day'].isna().sum()"
      ]
    },
    {
      "cell_type": "code",
      "source": [
        "\n",
        "df['Day']=df['Day'].fillna('Friday')\n",
        "df['Day'].value_counts()"
      ],
      "metadata": {
        "colab": {
          "base_uri": "https://localhost:8080/"
        },
        "id": "_5v3oElus369",
        "outputId": "a9719fee-164b-499c-9e61-ed8fa485416d"
      },
      "execution_count": null,
      "outputs": [
        {
          "output_type": "execute_result",
          "data": {
            "text/plain": [
              "Day\n",
              "Friday    1160\n",
              "Sunday     642\n",
              "Name: count, dtype: int64"
            ]
          },
          "metadata": {},
          "execution_count": 53
        }
      ]
    },
    {
      "cell_type": "markdown",
      "metadata": {
        "id": "H0VGV0v6XTcj"
      },
      "source": [
        "### 13 - check\n",
        "> after finish cleaning you should make sure your data is clean and that :\n",
        "- there is no wrong data type\n",
        "- there is no NaN values\n",
        "- all the column are cleaing and ready for the next step `EDA`"
      ]
    },
    {
      "cell_type": "code",
      "source": [
        "df.isna().sum()"
      ],
      "metadata": {
        "colab": {
          "base_uri": "https://localhost:8080/"
        },
        "id": "NgMQZSyVwC8I",
        "outputId": "ab8cfe36-61ee-4dfb-f943-f3bf7d3a91be"
      },
      "execution_count": null,
      "outputs": [
        {
          "output_type": "execute_result",
          "data": {
            "text/plain": [
              "Going out           0\n",
              "Gender              0\n",
              "Age                 0\n",
              "Country             0\n",
              "100 Grand Bar       0\n",
              "                 ... \n",
              "Day                 0\n",
              "Daily Dish       1717\n",
              "Science           444\n",
              "ESPN             1703\n",
              "Yahoo            1735\n",
              "Length: 113, dtype: int64"
            ]
          },
          "metadata": {},
          "execution_count": 54
        }
      ]
    },
    {
      "cell_type": "code",
      "source": [
        "# So many nan in last 4 columns\n",
        "df.drop(columns=['Daily Dish', 'Science', 'ESPN', 'Yahoo'],inplace=True)"
      ],
      "metadata": {
        "id": "SzfbIplEwC41"
      },
      "execution_count": null,
      "outputs": []
    },
    {
      "cell_type": "code",
      "source": [
        "df.head(5)"
      ],
      "metadata": {
        "colab": {
          "base_uri": "https://localhost:8080/",
          "height": 516
        },
        "id": "CvrDLPbLwC14",
        "outputId": "b78ad88c-d328-4326-a7da-094487edc096"
      },
      "execution_count": null,
      "outputs": [
        {
          "output_type": "execute_result",
          "data": {
            "text/plain": [
              "  Going out Gender        Age Country 100 Grand Bar  \\\n",
              "0        No   Male  44.000000     USA           MEH   \n",
              "1        No   Male  40.000000     USA           MEH   \n",
              "2        No   Male  23.000000     USA           JOY   \n",
              "3        No   Male  42.898828   OTHER           JOY   \n",
              "4        No   Male  33.000000  CANADA           JOY   \n",
              "\n",
              "  Anonymous brown globs that come in black and orange wrappers\\t(a.k.a. Mary Janes)  \\\n",
              "0                                            DESPAIR                                  \n",
              "1                                            DESPAIR                                  \n",
              "2                                            DESPAIR                                  \n",
              "3                                            DESPAIR                                  \n",
              "4                                            DESPAIR                                  \n",
              "\n",
              "  Any full-sized candy bar Black Jacks Bonkers (the candy)  \\\n",
              "0                      JOY         MEH             DESPAIR   \n",
              "1                      JOY         MEH                 MEH   \n",
              "2                      JOY     DESPAIR                 MEH   \n",
              "3                      JOY         MEH                 MEH   \n",
              "4                      JOY     DESPAIR             DESPAIR   \n",
              "\n",
              "  Bonkers (the board game)  ... Trail Mix Twix  \\\n",
              "0                  DESPAIR  ...   DESPAIR  JOY   \n",
              "1                  DESPAIR  ...       MEH  JOY   \n",
              "2                  DESPAIR  ...   DESPAIR  JOY   \n",
              "3                      MEH  ...       MEH  JOY   \n",
              "4                      MEH  ...   DESPAIR  JOY   \n",
              "\n",
              "  Vials of pure high fructose corn syrup, for main-lining into your vein  \\\n",
              "0                                            DESPAIR                       \n",
              "1                                            DESPAIR                       \n",
              "2                                                MEH                       \n",
              "3                                            DESPAIR                       \n",
              "4                                                JOY                       \n",
              "\n",
              "   Vicodin Whatchamacallit Bars White Bread Whole Wheat anything  \\\n",
              "0  DESPAIR              DESPAIR     DESPAIR              DESPAIR   \n",
              "1      JOY                  JOY     DESPAIR              DESPAIR   \n",
              "2      JOY                  JOY     DESPAIR              DESPAIR   \n",
              "3  DESPAIR                  JOY     DESPAIR              DESPAIR   \n",
              "4      MEH              DESPAIR     DESPAIR              DESPAIR   \n",
              "\n",
              "  York Peppermint Patties           Dress     Day  \n",
              "0                 DESPAIR  White and gold  Sunday  \n",
              "1                 DESPAIR  White and gold  Sunday  \n",
              "2                     JOY  White and gold  Friday  \n",
              "3                     JOY         Unknown  Friday  \n",
              "4                 DESPAIR  Blue and black  Friday  \n",
              "\n",
              "[5 rows x 109 columns]"
            ],
            "text/html": [
              "\n",
              "  <div id=\"df-8c60d8b2-3e4e-4b5b-a41f-c3b839afe05e\" class=\"colab-df-container\">\n",
              "    <div>\n",
              "<style scoped>\n",
              "    .dataframe tbody tr th:only-of-type {\n",
              "        vertical-align: middle;\n",
              "    }\n",
              "\n",
              "    .dataframe tbody tr th {\n",
              "        vertical-align: top;\n",
              "    }\n",
              "\n",
              "    .dataframe thead th {\n",
              "        text-align: right;\n",
              "    }\n",
              "</style>\n",
              "<table border=\"1\" class=\"dataframe\">\n",
              "  <thead>\n",
              "    <tr style=\"text-align: right;\">\n",
              "      <th></th>\n",
              "      <th>Going out</th>\n",
              "      <th>Gender</th>\n",
              "      <th>Age</th>\n",
              "      <th>Country</th>\n",
              "      <th>100 Grand Bar</th>\n",
              "      <th>Anonymous brown globs that come in black and orange wrappers\\t(a.k.a. Mary Janes)</th>\n",
              "      <th>Any full-sized candy bar</th>\n",
              "      <th>Black Jacks</th>\n",
              "      <th>Bonkers (the candy)</th>\n",
              "      <th>Bonkers (the board game)</th>\n",
              "      <th>...</th>\n",
              "      <th>Trail Mix</th>\n",
              "      <th>Twix</th>\n",
              "      <th>Vials of pure high fructose corn syrup, for main-lining into your vein</th>\n",
              "      <th>Vicodin</th>\n",
              "      <th>Whatchamacallit Bars</th>\n",
              "      <th>White Bread</th>\n",
              "      <th>Whole Wheat anything</th>\n",
              "      <th>York Peppermint Patties</th>\n",
              "      <th>Dress</th>\n",
              "      <th>Day</th>\n",
              "    </tr>\n",
              "  </thead>\n",
              "  <tbody>\n",
              "    <tr>\n",
              "      <th>0</th>\n",
              "      <td>No</td>\n",
              "      <td>Male</td>\n",
              "      <td>44.000000</td>\n",
              "      <td>USA</td>\n",
              "      <td>MEH</td>\n",
              "      <td>DESPAIR</td>\n",
              "      <td>JOY</td>\n",
              "      <td>MEH</td>\n",
              "      <td>DESPAIR</td>\n",
              "      <td>DESPAIR</td>\n",
              "      <td>...</td>\n",
              "      <td>DESPAIR</td>\n",
              "      <td>JOY</td>\n",
              "      <td>DESPAIR</td>\n",
              "      <td>DESPAIR</td>\n",
              "      <td>DESPAIR</td>\n",
              "      <td>DESPAIR</td>\n",
              "      <td>DESPAIR</td>\n",
              "      <td>DESPAIR</td>\n",
              "      <td>White and gold</td>\n",
              "      <td>Sunday</td>\n",
              "    </tr>\n",
              "    <tr>\n",
              "      <th>1</th>\n",
              "      <td>No</td>\n",
              "      <td>Male</td>\n",
              "      <td>40.000000</td>\n",
              "      <td>USA</td>\n",
              "      <td>MEH</td>\n",
              "      <td>DESPAIR</td>\n",
              "      <td>JOY</td>\n",
              "      <td>MEH</td>\n",
              "      <td>MEH</td>\n",
              "      <td>DESPAIR</td>\n",
              "      <td>...</td>\n",
              "      <td>MEH</td>\n",
              "      <td>JOY</td>\n",
              "      <td>DESPAIR</td>\n",
              "      <td>JOY</td>\n",
              "      <td>JOY</td>\n",
              "      <td>DESPAIR</td>\n",
              "      <td>DESPAIR</td>\n",
              "      <td>DESPAIR</td>\n",
              "      <td>White and gold</td>\n",
              "      <td>Sunday</td>\n",
              "    </tr>\n",
              "    <tr>\n",
              "      <th>2</th>\n",
              "      <td>No</td>\n",
              "      <td>Male</td>\n",
              "      <td>23.000000</td>\n",
              "      <td>USA</td>\n",
              "      <td>JOY</td>\n",
              "      <td>DESPAIR</td>\n",
              "      <td>JOY</td>\n",
              "      <td>DESPAIR</td>\n",
              "      <td>MEH</td>\n",
              "      <td>DESPAIR</td>\n",
              "      <td>...</td>\n",
              "      <td>DESPAIR</td>\n",
              "      <td>JOY</td>\n",
              "      <td>MEH</td>\n",
              "      <td>JOY</td>\n",
              "      <td>JOY</td>\n",
              "      <td>DESPAIR</td>\n",
              "      <td>DESPAIR</td>\n",
              "      <td>JOY</td>\n",
              "      <td>White and gold</td>\n",
              "      <td>Friday</td>\n",
              "    </tr>\n",
              "    <tr>\n",
              "      <th>3</th>\n",
              "      <td>No</td>\n",
              "      <td>Male</td>\n",
              "      <td>42.898828</td>\n",
              "      <td>OTHER</td>\n",
              "      <td>JOY</td>\n",
              "      <td>DESPAIR</td>\n",
              "      <td>JOY</td>\n",
              "      <td>MEH</td>\n",
              "      <td>MEH</td>\n",
              "      <td>MEH</td>\n",
              "      <td>...</td>\n",
              "      <td>MEH</td>\n",
              "      <td>JOY</td>\n",
              "      <td>DESPAIR</td>\n",
              "      <td>DESPAIR</td>\n",
              "      <td>JOY</td>\n",
              "      <td>DESPAIR</td>\n",
              "      <td>DESPAIR</td>\n",
              "      <td>JOY</td>\n",
              "      <td>Unknown</td>\n",
              "      <td>Friday</td>\n",
              "    </tr>\n",
              "    <tr>\n",
              "      <th>4</th>\n",
              "      <td>No</td>\n",
              "      <td>Male</td>\n",
              "      <td>33.000000</td>\n",
              "      <td>CANADA</td>\n",
              "      <td>JOY</td>\n",
              "      <td>DESPAIR</td>\n",
              "      <td>JOY</td>\n",
              "      <td>DESPAIR</td>\n",
              "      <td>DESPAIR</td>\n",
              "      <td>MEH</td>\n",
              "      <td>...</td>\n",
              "      <td>DESPAIR</td>\n",
              "      <td>JOY</td>\n",
              "      <td>JOY</td>\n",
              "      <td>MEH</td>\n",
              "      <td>DESPAIR</td>\n",
              "      <td>DESPAIR</td>\n",
              "      <td>DESPAIR</td>\n",
              "      <td>DESPAIR</td>\n",
              "      <td>Blue and black</td>\n",
              "      <td>Friday</td>\n",
              "    </tr>\n",
              "  </tbody>\n",
              "</table>\n",
              "<p>5 rows × 109 columns</p>\n",
              "</div>\n",
              "    <div class=\"colab-df-buttons\">\n",
              "\n",
              "  <div class=\"colab-df-container\">\n",
              "    <button class=\"colab-df-convert\" onclick=\"convertToInteractive('df-8c60d8b2-3e4e-4b5b-a41f-c3b839afe05e')\"\n",
              "            title=\"Convert this dataframe to an interactive table.\"\n",
              "            style=\"display:none;\">\n",
              "\n",
              "  <svg xmlns=\"http://www.w3.org/2000/svg\" height=\"24px\" viewBox=\"0 -960 960 960\">\n",
              "    <path d=\"M120-120v-720h720v720H120Zm60-500h600v-160H180v160Zm220 220h160v-160H400v160Zm0 220h160v-160H400v160ZM180-400h160v-160H180v160Zm440 0h160v-160H620v160ZM180-180h160v-160H180v160Zm440 0h160v-160H620v160Z\"/>\n",
              "  </svg>\n",
              "    </button>\n",
              "\n",
              "  <style>\n",
              "    .colab-df-container {\n",
              "      display:flex;\n",
              "      gap: 12px;\n",
              "    }\n",
              "\n",
              "    .colab-df-convert {\n",
              "      background-color: #E8F0FE;\n",
              "      border: none;\n",
              "      border-radius: 50%;\n",
              "      cursor: pointer;\n",
              "      display: none;\n",
              "      fill: #1967D2;\n",
              "      height: 32px;\n",
              "      padding: 0 0 0 0;\n",
              "      width: 32px;\n",
              "    }\n",
              "\n",
              "    .colab-df-convert:hover {\n",
              "      background-color: #E2EBFA;\n",
              "      box-shadow: 0px 1px 2px rgba(60, 64, 67, 0.3), 0px 1px 3px 1px rgba(60, 64, 67, 0.15);\n",
              "      fill: #174EA6;\n",
              "    }\n",
              "\n",
              "    .colab-df-buttons div {\n",
              "      margin-bottom: 4px;\n",
              "    }\n",
              "\n",
              "    [theme=dark] .colab-df-convert {\n",
              "      background-color: #3B4455;\n",
              "      fill: #D2E3FC;\n",
              "    }\n",
              "\n",
              "    [theme=dark] .colab-df-convert:hover {\n",
              "      background-color: #434B5C;\n",
              "      box-shadow: 0px 1px 3px 1px rgba(0, 0, 0, 0.15);\n",
              "      filter: drop-shadow(0px 1px 2px rgba(0, 0, 0, 0.3));\n",
              "      fill: #FFFFFF;\n",
              "    }\n",
              "  </style>\n",
              "\n",
              "    <script>\n",
              "      const buttonEl =\n",
              "        document.querySelector('#df-8c60d8b2-3e4e-4b5b-a41f-c3b839afe05e button.colab-df-convert');\n",
              "      buttonEl.style.display =\n",
              "        google.colab.kernel.accessAllowed ? 'block' : 'none';\n",
              "\n",
              "      async function convertToInteractive(key) {\n",
              "        const element = document.querySelector('#df-8c60d8b2-3e4e-4b5b-a41f-c3b839afe05e');\n",
              "        const dataTable =\n",
              "          await google.colab.kernel.invokeFunction('convertToInteractive',\n",
              "                                                    [key], {});\n",
              "        if (!dataTable) return;\n",
              "\n",
              "        const docLinkHtml = 'Like what you see? Visit the ' +\n",
              "          '<a target=\"_blank\" href=https://colab.research.google.com/notebooks/data_table.ipynb>data table notebook</a>'\n",
              "          + ' to learn more about interactive tables.';\n",
              "        element.innerHTML = '';\n",
              "        dataTable['output_type'] = 'display_data';\n",
              "        await google.colab.output.renderOutput(dataTable, element);\n",
              "        const docLink = document.createElement('div');\n",
              "        docLink.innerHTML = docLinkHtml;\n",
              "        element.appendChild(docLink);\n",
              "      }\n",
              "    </script>\n",
              "  </div>\n",
              "\n",
              "\n",
              "<div id=\"df-87880f93-4b72-4dd1-b8cd-74cfc6673368\">\n",
              "  <button class=\"colab-df-quickchart\" onclick=\"quickchart('df-87880f93-4b72-4dd1-b8cd-74cfc6673368')\"\n",
              "            title=\"Suggest charts\"\n",
              "            style=\"display:none;\">\n",
              "\n",
              "<svg xmlns=\"http://www.w3.org/2000/svg\" height=\"24px\"viewBox=\"0 0 24 24\"\n",
              "     width=\"24px\">\n",
              "    <g>\n",
              "        <path d=\"M19 3H5c-1.1 0-2 .9-2 2v14c0 1.1.9 2 2 2h14c1.1 0 2-.9 2-2V5c0-1.1-.9-2-2-2zM9 17H7v-7h2v7zm4 0h-2V7h2v10zm4 0h-2v-4h2v4z\"/>\n",
              "    </g>\n",
              "</svg>\n",
              "  </button>\n",
              "\n",
              "<style>\n",
              "  .colab-df-quickchart {\n",
              "      --bg-color: #E8F0FE;\n",
              "      --fill-color: #1967D2;\n",
              "      --hover-bg-color: #E2EBFA;\n",
              "      --hover-fill-color: #174EA6;\n",
              "      --disabled-fill-color: #AAA;\n",
              "      --disabled-bg-color: #DDD;\n",
              "  }\n",
              "\n",
              "  [theme=dark] .colab-df-quickchart {\n",
              "      --bg-color: #3B4455;\n",
              "      --fill-color: #D2E3FC;\n",
              "      --hover-bg-color: #434B5C;\n",
              "      --hover-fill-color: #FFFFFF;\n",
              "      --disabled-bg-color: #3B4455;\n",
              "      --disabled-fill-color: #666;\n",
              "  }\n",
              "\n",
              "  .colab-df-quickchart {\n",
              "    background-color: var(--bg-color);\n",
              "    border: none;\n",
              "    border-radius: 50%;\n",
              "    cursor: pointer;\n",
              "    display: none;\n",
              "    fill: var(--fill-color);\n",
              "    height: 32px;\n",
              "    padding: 0;\n",
              "    width: 32px;\n",
              "  }\n",
              "\n",
              "  .colab-df-quickchart:hover {\n",
              "    background-color: var(--hover-bg-color);\n",
              "    box-shadow: 0 1px 2px rgba(60, 64, 67, 0.3), 0 1px 3px 1px rgba(60, 64, 67, 0.15);\n",
              "    fill: var(--button-hover-fill-color);\n",
              "  }\n",
              "\n",
              "  .colab-df-quickchart-complete:disabled,\n",
              "  .colab-df-quickchart-complete:disabled:hover {\n",
              "    background-color: var(--disabled-bg-color);\n",
              "    fill: var(--disabled-fill-color);\n",
              "    box-shadow: none;\n",
              "  }\n",
              "\n",
              "  .colab-df-spinner {\n",
              "    border: 2px solid var(--fill-color);\n",
              "    border-color: transparent;\n",
              "    border-bottom-color: var(--fill-color);\n",
              "    animation:\n",
              "      spin 1s steps(1) infinite;\n",
              "  }\n",
              "\n",
              "  @keyframes spin {\n",
              "    0% {\n",
              "      border-color: transparent;\n",
              "      border-bottom-color: var(--fill-color);\n",
              "      border-left-color: var(--fill-color);\n",
              "    }\n",
              "    20% {\n",
              "      border-color: transparent;\n",
              "      border-left-color: var(--fill-color);\n",
              "      border-top-color: var(--fill-color);\n",
              "    }\n",
              "    30% {\n",
              "      border-color: transparent;\n",
              "      border-left-color: var(--fill-color);\n",
              "      border-top-color: var(--fill-color);\n",
              "      border-right-color: var(--fill-color);\n",
              "    }\n",
              "    40% {\n",
              "      border-color: transparent;\n",
              "      border-right-color: var(--fill-color);\n",
              "      border-top-color: var(--fill-color);\n",
              "    }\n",
              "    60% {\n",
              "      border-color: transparent;\n",
              "      border-right-color: var(--fill-color);\n",
              "    }\n",
              "    80% {\n",
              "      border-color: transparent;\n",
              "      border-right-color: var(--fill-color);\n",
              "      border-bottom-color: var(--fill-color);\n",
              "    }\n",
              "    90% {\n",
              "      border-color: transparent;\n",
              "      border-bottom-color: var(--fill-color);\n",
              "    }\n",
              "  }\n",
              "</style>\n",
              "\n",
              "  <script>\n",
              "    async function quickchart(key) {\n",
              "      const quickchartButtonEl =\n",
              "        document.querySelector('#' + key + ' button');\n",
              "      quickchartButtonEl.disabled = true;  // To prevent multiple clicks.\n",
              "      quickchartButtonEl.classList.add('colab-df-spinner');\n",
              "      try {\n",
              "        const charts = await google.colab.kernel.invokeFunction(\n",
              "            'suggestCharts', [key], {});\n",
              "      } catch (error) {\n",
              "        console.error('Error during call to suggestCharts:', error);\n",
              "      }\n",
              "      quickchartButtonEl.classList.remove('colab-df-spinner');\n",
              "      quickchartButtonEl.classList.add('colab-df-quickchart-complete');\n",
              "    }\n",
              "    (() => {\n",
              "      let quickchartButtonEl =\n",
              "        document.querySelector('#df-87880f93-4b72-4dd1-b8cd-74cfc6673368 button');\n",
              "      quickchartButtonEl.style.display =\n",
              "        google.colab.kernel.accessAllowed ? 'block' : 'none';\n",
              "    })();\n",
              "  </script>\n",
              "</div>\n",
              "\n",
              "    </div>\n",
              "  </div>\n"
            ],
            "application/vnd.google.colaboratory.intrinsic+json": {
              "type": "dataframe",
              "variable_name": "df"
            }
          },
          "metadata": {},
          "execution_count": 56
        }
      ]
    },
    {
      "cell_type": "code",
      "source": [
        "choclets=df.iloc[:,4:106]\n",
        "df2=pd.DataFrame(data=choclets)\n",
        "#df2.head()"
      ],
      "metadata": {
        "id": "ZbyS9xJmzWtj"
      },
      "execution_count": null,
      "outputs": []
    },
    {
      "cell_type": "code",
      "source": [
        "#df2 = df2.transpose()\n",
        "#df2"
      ],
      "metadata": {
        "id": "ovvTafKxwCzP"
      },
      "execution_count": null,
      "outputs": []
    },
    {
      "cell_type": "code",
      "source": [
        "#df2.index"
      ],
      "metadata": {
        "id": "wA_gJlyyBFWu"
      },
      "execution_count": null,
      "outputs": []
    },
    {
      "cell_type": "code",
      "source": [
        "thee= df2.iloc[:,0:-1]\n",
        "joy,despair,candy = [],[],[]\n",
        "for i in thee:\n",
        "    candy.append(i[0:])\n",
        "    joy.append(df[i].value_counts()['JOY'])\n",
        "    despair.append(df[i].value_counts()['DESPAIR'])"
      ],
      "metadata": {
        "id": "H0NQ5xfPBFHW"
      },
      "execution_count": null,
      "outputs": []
    },
    {
      "cell_type": "code",
      "source": [
        "dd = pd.DataFrame()\n",
        "dd['col'] = candy\n",
        "dd['joy']=joy\n",
        "dd['despair'] =despair\n",
        "dd.sort_values(['joy','despair'],ascending=[False,False],inplace=True)\n",
        "sns.catplot(y='col',x='joy',data=dd[:10],kind='bar',palette='Set1',margin_titles=True)\n",
        "plt.title('Most 10 Loved Candy ')\n",
        "plt.show()\n"
      ],
      "metadata": {
        "colab": {
          "base_uri": "https://localhost:8080/",
          "height": 529
        },
        "id": "6BQ1C74OBFDk",
        "outputId": "b8dcdb52-2b88-4060-e0a3-7947d234e700"
      },
      "execution_count": null,
      "outputs": [
        {
          "output_type": "display_data",
          "data": {
            "text/plain": [
              "<Figure size 500x500 with 1 Axes>"
            ],
            "image/png": "[encoded data removed]"
          },
          "metadata": {}
        }
      ]
    },
    {
      "cell_type": "code",
      "source": [
        "dd.sort_values(by='despair',ascending=False,inplace=True)\n",
        "sns.catplot(y='col',x='despair',data=dd[:10],kind='bar',palette='Set1',margin_titles=True)\n",
        "plt.title('Most 10 Hated Candy ')\n",
        "plt.show()"
      ],
      "metadata": {
        "colab": {
          "base_uri": "https://localhost:8080/",
          "height": 543
        },
        "id": "w7V821svBE6d",
        "outputId": "f5c25f1a-4e06-4a03-8b3b-5a6c0c1d068d"
      },
      "execution_count": null,
      "outputs": [
        {
          "output_type": "display_data",
          "data": {
            "text/plain": [
              "<Figure size 500x500 with 1 Axes>"
            ],
            "image/png": "[encoded data removed]"
          },
          "metadata": {}
        }
      ]
    },
    {
      "cell_type": "code",
      "source": [
        "df.to_excel(\"candy.xlsx\")"
      ],
      "metadata": {
        "id": "duybSk9jS-xw"
      },
      "execution_count": null,
      "outputs": []
    },
    {
      "cell_type": "code",
      "source": [
        "from google.colab import drive\n",
        "drive.mount('/content/drive')"
      ],
      "metadata": {
        "id": "XrSga7f--sMx"
      },
      "execution_count": null,
      "outputs": []
    },
    {
      "cell_type": "code",
      "source": [],
      "metadata": {
        "id": "5LbALZnjS-m5"
      },
      "execution_count": null,
      "outputs": []
    },
    {
      "cell_type": "code",
      "source": [],
      "metadata": {
        "id": "oT8Ci2xyS-iR"
      },
      "execution_count": null,
      "outputs": []
    },
    {
      "cell_type": "markdown",
      "metadata": {
        "id": "cHGsBpu8XTcj"
      },
      "source": [
        "### 14 - write a summary about all the cleaning steps"
      ]
    },
    {
      "cell_type": "markdown",
      "source": [
        "clean each column from invalid data.\n",
        "fill the NaN values in each column with the suitable value.\n",
        "drop some columns and rows that was not important and the survery are not affected by them.\n"
      ],
      "metadata": {
        "id": "GGdF_RW83Eu-"
      }
    },
    {
      "cell_type": "code",
      "source": [],
      "metadata": {
        "id": "4NNStoSb9Vvd"
      },
      "execution_count": null,
      "outputs": []
    },
    {
      "cell_type": "code",
      "source": [],
      "metadata": {
        "id": "y8MrK2iz9Vst"
      },
      "execution_count": null,
      "outputs": []
    },
    {
      "cell_type": "code",
      "source": [],
      "metadata": {
        "id": "xYdqCBur9Vpt"
      },
      "execution_count": null,
      "outputs": []
    },
    {
      "cell_type": "code",
      "source": [],
      "metadata": {
        "id": "-gWbvz1h9Vnn"
      },
      "execution_count": null,
      "outputs": []
    },
    {
      "cell_type": "code",
      "source": [],
      "metadata": {
        "id": "58_P7FaU9Vfl"
      },
      "execution_count": null,
      "outputs": []
    }
  ],
  "metadata": {
    "kernelspec": {
      "display_name": "Python 3",
      "language": "python",
      "name": "python3"
    },
    "language_info": {
      "codemirror_mode": {
        "name": "ipython",
        "version": 3
      },
      "file_extension": ".py",
      "mimetype": "text/x-python",
      "name": "python",
      "nbconvert_exporter": "python",
      "pygments_lexer": "ipython3",
      "version": "3.7.6"
    },
    "colab": {
      "provenance": []
    }
  },
  "nbformat": 4,
  "nbformat_minor": 0
}