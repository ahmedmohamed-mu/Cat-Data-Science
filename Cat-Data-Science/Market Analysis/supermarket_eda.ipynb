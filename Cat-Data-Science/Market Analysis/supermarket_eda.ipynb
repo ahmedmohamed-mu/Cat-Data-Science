{
 "cells": [
  {
   "cell_type": "code",
   "execution_count": 99,
   "metadata": {},
   "outputs": [],
   "source": [
    "import pandas as pd\n",
    "import numpy as np\n",
    "import matplotlib.pyplot as plt\n",
    "import seaborn as sns\n",
    "import plotly.express as px"
   ]
  },
  {
   "cell_type": "code",
   "execution_count": 100,
   "metadata": {},
   "outputs": [],
   "source": [
    "df = pd.read_csv('supermarket_sales - Sheet1.csv')"
   ]
  },
  {
   "cell_type": "code",
   "execution_count": 101,
   "metadata": {},
   "outputs": [
    {
     "data": {
      "text/html": [
       "<div>\n",
       "<style scoped>\n",
       "    .dataframe tbody tr th:only-of-type {\n",
       "        vertical-align: middle;\n",
       "    }\n",
       "\n",
       "    .dataframe tbody tr th {\n",
       "        vertical-align: top;\n",
       "    }\n",
       "\n",
       "    .dataframe thead th {\n",
       "        text-align: right;\n",
       "    }\n",
       "</style>\n",
       "<table border=\"1\" class=\"dataframe\">\n",
       "  <thead>\n",
       "    <tr style=\"text-align: right;\">\n",
       "      <th></th>\n",
       "      <th>Invoice ID</th>\n",
       "      <th>Branch</th>\n",
       "      <th>City</th>\n",
       "      <th>Customer type</th>\n",
       "      <th>Gender</th>\n",
       "      <th>Product line</th>\n",
       "      <th>Unit price</th>\n",
       "      <th>Quantity</th>\n",
       "      <th>Tax 5%</th>\n",
       "      <th>Total</th>\n",
       "      <th>Date</th>\n",
       "      <th>Time</th>\n",
       "      <th>Payment</th>\n",
       "      <th>cogs</th>\n",
       "      <th>gross margin percentage</th>\n",
       "      <th>gross income</th>\n",
       "      <th>Rating</th>\n",
       "    </tr>\n",
       "  </thead>\n",
       "  <tbody>\n",
       "    <tr>\n",
       "      <th>0</th>\n",
       "      <td>750-67-8428</td>\n",
       "      <td>A</td>\n",
       "      <td>Yangon</td>\n",
       "      <td>Member</td>\n",
       "      <td>Female</td>\n",
       "      <td>Health and beauty</td>\n",
       "      <td>74.69</td>\n",
       "      <td>7</td>\n",
       "      <td>26.1415</td>\n",
       "      <td>548.9715</td>\n",
       "      <td>1/5/2019</td>\n",
       "      <td>13:08</td>\n",
       "      <td>Ewallet</td>\n",
       "      <td>522.83</td>\n",
       "      <td>4.761905</td>\n",
       "      <td>26.1415</td>\n",
       "      <td>9.1</td>\n",
       "    </tr>\n",
       "    <tr>\n",
       "      <th>1</th>\n",
       "      <td>226-31-3081</td>\n",
       "      <td>C</td>\n",
       "      <td>Naypyitaw</td>\n",
       "      <td>Normal</td>\n",
       "      <td>Female</td>\n",
       "      <td>Electronic accessories</td>\n",
       "      <td>15.28</td>\n",
       "      <td>5</td>\n",
       "      <td>3.8200</td>\n",
       "      <td>80.2200</td>\n",
       "      <td>3/8/2019</td>\n",
       "      <td>10:29</td>\n",
       "      <td>Cash</td>\n",
       "      <td>76.40</td>\n",
       "      <td>4.761905</td>\n",
       "      <td>3.8200</td>\n",
       "      <td>9.6</td>\n",
       "    </tr>\n",
       "    <tr>\n",
       "      <th>2</th>\n",
       "      <td>631-41-3108</td>\n",
       "      <td>A</td>\n",
       "      <td>Yangon</td>\n",
       "      <td>Normal</td>\n",
       "      <td>Male</td>\n",
       "      <td>Home and lifestyle</td>\n",
       "      <td>46.33</td>\n",
       "      <td>7</td>\n",
       "      <td>16.2155</td>\n",
       "      <td>340.5255</td>\n",
       "      <td>3/3/2019</td>\n",
       "      <td>13:23</td>\n",
       "      <td>Credit card</td>\n",
       "      <td>324.31</td>\n",
       "      <td>4.761905</td>\n",
       "      <td>16.2155</td>\n",
       "      <td>7.4</td>\n",
       "    </tr>\n",
       "    <tr>\n",
       "      <th>3</th>\n",
       "      <td>123-19-1176</td>\n",
       "      <td>A</td>\n",
       "      <td>Yangon</td>\n",
       "      <td>Member</td>\n",
       "      <td>Male</td>\n",
       "      <td>Health and beauty</td>\n",
       "      <td>58.22</td>\n",
       "      <td>8</td>\n",
       "      <td>23.2880</td>\n",
       "      <td>489.0480</td>\n",
       "      <td>1/27/2019</td>\n",
       "      <td>20:33</td>\n",
       "      <td>Ewallet</td>\n",
       "      <td>465.76</td>\n",
       "      <td>4.761905</td>\n",
       "      <td>23.2880</td>\n",
       "      <td>8.4</td>\n",
       "    </tr>\n",
       "    <tr>\n",
       "      <th>4</th>\n",
       "      <td>373-73-7910</td>\n",
       "      <td>A</td>\n",
       "      <td>Yangon</td>\n",
       "      <td>Normal</td>\n",
       "      <td>Male</td>\n",
       "      <td>Sports and travel</td>\n",
       "      <td>86.31</td>\n",
       "      <td>7</td>\n",
       "      <td>30.2085</td>\n",
       "      <td>634.3785</td>\n",
       "      <td>2/8/2019</td>\n",
       "      <td>10:37</td>\n",
       "      <td>Ewallet</td>\n",
       "      <td>604.17</td>\n",
       "      <td>4.761905</td>\n",
       "      <td>30.2085</td>\n",
       "      <td>5.3</td>\n",
       "    </tr>\n",
       "    <tr>\n",
       "      <th>5</th>\n",
       "      <td>699-14-3026</td>\n",
       "      <td>C</td>\n",
       "      <td>Naypyitaw</td>\n",
       "      <td>Normal</td>\n",
       "      <td>Male</td>\n",
       "      <td>Electronic accessories</td>\n",
       "      <td>85.39</td>\n",
       "      <td>7</td>\n",
       "      <td>29.8865</td>\n",
       "      <td>627.6165</td>\n",
       "      <td>3/25/2019</td>\n",
       "      <td>18:30</td>\n",
       "      <td>Ewallet</td>\n",
       "      <td>597.73</td>\n",
       "      <td>4.761905</td>\n",
       "      <td>29.8865</td>\n",
       "      <td>4.1</td>\n",
       "    </tr>\n",
       "    <tr>\n",
       "      <th>6</th>\n",
       "      <td>355-53-5943</td>\n",
       "      <td>A</td>\n",
       "      <td>Yangon</td>\n",
       "      <td>Member</td>\n",
       "      <td>Female</td>\n",
       "      <td>Electronic accessories</td>\n",
       "      <td>68.84</td>\n",
       "      <td>6</td>\n",
       "      <td>20.6520</td>\n",
       "      <td>433.6920</td>\n",
       "      <td>2/25/2019</td>\n",
       "      <td>14:36</td>\n",
       "      <td>Ewallet</td>\n",
       "      <td>413.04</td>\n",
       "      <td>4.761905</td>\n",
       "      <td>20.6520</td>\n",
       "      <td>5.8</td>\n",
       "    </tr>\n",
       "    <tr>\n",
       "      <th>7</th>\n",
       "      <td>315-22-5665</td>\n",
       "      <td>C</td>\n",
       "      <td>Naypyitaw</td>\n",
       "      <td>Normal</td>\n",
       "      <td>Female</td>\n",
       "      <td>Home and lifestyle</td>\n",
       "      <td>73.56</td>\n",
       "      <td>10</td>\n",
       "      <td>36.7800</td>\n",
       "      <td>772.3800</td>\n",
       "      <td>2/24/2019</td>\n",
       "      <td>11:38</td>\n",
       "      <td>Ewallet</td>\n",
       "      <td>735.60</td>\n",
       "      <td>4.761905</td>\n",
       "      <td>36.7800</td>\n",
       "      <td>8.0</td>\n",
       "    </tr>\n",
       "    <tr>\n",
       "      <th>8</th>\n",
       "      <td>665-32-9167</td>\n",
       "      <td>A</td>\n",
       "      <td>Yangon</td>\n",
       "      <td>Member</td>\n",
       "      <td>Female</td>\n",
       "      <td>Health and beauty</td>\n",
       "      <td>36.26</td>\n",
       "      <td>2</td>\n",
       "      <td>3.6260</td>\n",
       "      <td>76.1460</td>\n",
       "      <td>1/10/2019</td>\n",
       "      <td>17:15</td>\n",
       "      <td>Credit card</td>\n",
       "      <td>72.52</td>\n",
       "      <td>4.761905</td>\n",
       "      <td>3.6260</td>\n",
       "      <td>7.2</td>\n",
       "    </tr>\n",
       "    <tr>\n",
       "      <th>9</th>\n",
       "      <td>692-92-5582</td>\n",
       "      <td>B</td>\n",
       "      <td>Mandalay</td>\n",
       "      <td>Member</td>\n",
       "      <td>Female</td>\n",
       "      <td>Food and beverages</td>\n",
       "      <td>54.84</td>\n",
       "      <td>3</td>\n",
       "      <td>8.2260</td>\n",
       "      <td>172.7460</td>\n",
       "      <td>2/20/2019</td>\n",
       "      <td>13:27</td>\n",
       "      <td>Credit card</td>\n",
       "      <td>164.52</td>\n",
       "      <td>4.761905</td>\n",
       "      <td>8.2260</td>\n",
       "      <td>5.9</td>\n",
       "    </tr>\n",
       "  </tbody>\n",
       "</table>\n",
       "</div>"
      ],
      "text/plain": [
       "    Invoice ID Branch       City Customer type  Gender  \\\n",
       "0  750-67-8428      A     Yangon        Member  Female   \n",
       "1  226-31-3081      C  Naypyitaw        Normal  Female   \n",
       "2  631-41-3108      A     Yangon        Normal    Male   \n",
       "3  123-19-1176      A     Yangon        Member    Male   \n",
       "4  373-73-7910      A     Yangon        Normal    Male   \n",
       "5  699-14-3026      C  Naypyitaw        Normal    Male   \n",
       "6  355-53-5943      A     Yangon        Member  Female   \n",
       "7  315-22-5665      C  Naypyitaw        Normal  Female   \n",
       "8  665-32-9167      A     Yangon        Member  Female   \n",
       "9  692-92-5582      B   Mandalay        Member  Female   \n",
       "\n",
       "             Product line  Unit price  Quantity   Tax 5%     Total       Date  \\\n",
       "0       Health and beauty       74.69         7  26.1415  548.9715   1/5/2019   \n",
       "1  Electronic accessories       15.28         5   3.8200   80.2200   3/8/2019   \n",
       "2      Home and lifestyle       46.33         7  16.2155  340.5255   3/3/2019   \n",
       "3       Health and beauty       58.22         8  23.2880  489.0480  1/27/2019   \n",
       "4       Sports and travel       86.31         7  30.2085  634.3785   2/8/2019   \n",
       "5  Electronic accessories       85.39         7  29.8865  627.6165  3/25/2019   \n",
       "6  Electronic accessories       68.84         6  20.6520  433.6920  2/25/2019   \n",
       "7      Home and lifestyle       73.56        10  36.7800  772.3800  2/24/2019   \n",
       "8       Health and beauty       36.26         2   3.6260   76.1460  1/10/2019   \n",
       "9      Food and beverages       54.84         3   8.2260  172.7460  2/20/2019   \n",
       "\n",
       "    Time      Payment    cogs  gross margin percentage  gross income  Rating  \n",
       "0  13:08      Ewallet  522.83                 4.761905       26.1415     9.1  \n",
       "1  10:29         Cash   76.40                 4.761905        3.8200     9.6  \n",
       "2  13:23  Credit card  324.31                 4.761905       16.2155     7.4  \n",
       "3  20:33      Ewallet  465.76                 4.761905       23.2880     8.4  \n",
       "4  10:37      Ewallet  604.17                 4.761905       30.2085     5.3  \n",
       "5  18:30      Ewallet  597.73                 4.761905       29.8865     4.1  \n",
       "6  14:36      Ewallet  413.04                 4.761905       20.6520     5.8  \n",
       "7  11:38      Ewallet  735.60                 4.761905       36.7800     8.0  \n",
       "8  17:15  Credit card   72.52                 4.761905        3.6260     7.2  \n",
       "9  13:27  Credit card  164.52                 4.761905        8.2260     5.9  "
      ]
     },
     "execution_count": 101,
     "metadata": {},
     "output_type": "execute_result"
    }
   ],
   "source": [
    "df.head(10)"
   ]
  },
  {
   "cell_type": "code",
   "execution_count": 102,
   "metadata": {},
   "outputs": [
    {
     "name": "stdout",
     "output_type": "stream",
     "text": [
      "<class 'pandas.core.frame.DataFrame'>\n",
      "RangeIndex: 1000 entries, 0 to 999\n",
      "Data columns (total 17 columns):\n",
      " #   Column                   Non-Null Count  Dtype  \n",
      "---  ------                   --------------  -----  \n",
      " 0   Invoice ID               1000 non-null   object \n",
      " 1   Branch                   1000 non-null   object \n",
      " 2   City                     1000 non-null   object \n",
      " 3   Customer type            1000 non-null   object \n",
      " 4   Gender                   1000 non-null   object \n",
      " 5   Product line             1000 non-null   object \n",
      " 6   Unit price               1000 non-null   float64\n",
      " 7   Quantity                 1000 non-null   int64  \n",
      " 8   Tax 5%                   1000 non-null   float64\n",
      " 9   Total                    1000 non-null   float64\n",
      " 10  Date                     1000 non-null   object \n",
      " 11  Time                     1000 non-null   object \n",
      " 12  Payment                  1000 non-null   object \n",
      " 13  cogs                     1000 non-null   float64\n",
      " 14  gross margin percentage  1000 non-null   float64\n",
      " 15  gross income             1000 non-null   float64\n",
      " 16  Rating                   1000 non-null   float64\n",
      "dtypes: float64(7), int64(1), object(9)\n",
      "memory usage: 132.9+ KB\n"
     ]
    }
   ],
   "source": [
    "df.info()"
   ]
  },
  {
   "cell_type": "code",
   "execution_count": 103,
   "metadata": {},
   "outputs": [],
   "source": [
    "df['Date']=pd.to_datetime(df['Date'],errors='coerce')"
   ]
  },
  {
   "cell_type": "code",
   "execution_count": 104,
   "metadata": {},
   "outputs": [
    {
     "data": {
      "text/plain": [
       "Invoice ID                 0\n",
       "Branch                     0\n",
       "City                       0\n",
       "Customer type              0\n",
       "Gender                     0\n",
       "Product line               0\n",
       "Unit price                 0\n",
       "Quantity                   0\n",
       "Tax 5%                     0\n",
       "Total                      0\n",
       "Date                       0\n",
       "Time                       0\n",
       "Payment                    0\n",
       "cogs                       0\n",
       "gross margin percentage    0\n",
       "gross income               0\n",
       "Rating                     0\n",
       "dtype: int64"
      ]
     },
     "execution_count": 104,
     "metadata": {},
     "output_type": "execute_result"
    }
   ],
   "source": [
    "df.isna().sum()"
   ]
  },
  {
   "cell_type": "code",
   "execution_count": 105,
   "metadata": {},
   "outputs": [],
   "source": [
    "df.drop_duplicates(inplace=True)"
   ]
  },
  {
   "cell_type": "code",
   "execution_count": 106,
   "metadata": {},
   "outputs": [
    {
     "data": {
      "text/html": [
       "<style type=\"text/css\">\n",
       "</style>\n",
       "<table id=\"T_7904f\">\n",
       "  <thead>\n",
       "    <tr>\n",
       "      <th class=\"blank level0\" >&nbsp;</th>\n",
       "      <th id=\"T_7904f_level0_col0\" class=\"col_heading level0 col0\" >Unit price</th>\n",
       "      <th id=\"T_7904f_level0_col1\" class=\"col_heading level0 col1\" >Quantity</th>\n",
       "      <th id=\"T_7904f_level0_col2\" class=\"col_heading level0 col2\" >Tax 5%</th>\n",
       "      <th id=\"T_7904f_level0_col3\" class=\"col_heading level0 col3\" >Total</th>\n",
       "      <th id=\"T_7904f_level0_col4\" class=\"col_heading level0 col4\" >cogs</th>\n",
       "      <th id=\"T_7904f_level0_col5\" class=\"col_heading level0 col5\" >gross margin percentage</th>\n",
       "      <th id=\"T_7904f_level0_col6\" class=\"col_heading level0 col6\" >gross income</th>\n",
       "      <th id=\"T_7904f_level0_col7\" class=\"col_heading level0 col7\" >Rating</th>\n",
       "    </tr>\n",
       "  </thead>\n",
       "  <tbody>\n",
       "    <tr>\n",
       "      <th id=\"T_7904f_level0_row0\" class=\"row_heading level0 row0\" >count</th>\n",
       "      <td id=\"T_7904f_row0_col0\" class=\"data row0 col0\" >1000.00</td>\n",
       "      <td id=\"T_7904f_row0_col1\" class=\"data row0 col1\" >1000.00</td>\n",
       "      <td id=\"T_7904f_row0_col2\" class=\"data row0 col2\" >1000.00</td>\n",
       "      <td id=\"T_7904f_row0_col3\" class=\"data row0 col3\" >1000.00</td>\n",
       "      <td id=\"T_7904f_row0_col4\" class=\"data row0 col4\" >1000.00</td>\n",
       "      <td id=\"T_7904f_row0_col5\" class=\"data row0 col5\" >1000.00</td>\n",
       "      <td id=\"T_7904f_row0_col6\" class=\"data row0 col6\" >1000.00</td>\n",
       "      <td id=\"T_7904f_row0_col7\" class=\"data row0 col7\" >1000.00</td>\n",
       "    </tr>\n",
       "    <tr>\n",
       "      <th id=\"T_7904f_level0_row1\" class=\"row_heading level0 row1\" >mean</th>\n",
       "      <td id=\"T_7904f_row1_col0\" class=\"data row1 col0\" >55.67</td>\n",
       "      <td id=\"T_7904f_row1_col1\" class=\"data row1 col1\" >5.51</td>\n",
       "      <td id=\"T_7904f_row1_col2\" class=\"data row1 col2\" >15.38</td>\n",
       "      <td id=\"T_7904f_row1_col3\" class=\"data row1 col3\" >322.97</td>\n",
       "      <td id=\"T_7904f_row1_col4\" class=\"data row1 col4\" >307.59</td>\n",
       "      <td id=\"T_7904f_row1_col5\" class=\"data row1 col5\" >4.76</td>\n",
       "      <td id=\"T_7904f_row1_col6\" class=\"data row1 col6\" >15.38</td>\n",
       "      <td id=\"T_7904f_row1_col7\" class=\"data row1 col7\" >6.97</td>\n",
       "    </tr>\n",
       "    <tr>\n",
       "      <th id=\"T_7904f_level0_row2\" class=\"row_heading level0 row2\" >std</th>\n",
       "      <td id=\"T_7904f_row2_col0\" class=\"data row2 col0\" >26.49</td>\n",
       "      <td id=\"T_7904f_row2_col1\" class=\"data row2 col1\" >2.92</td>\n",
       "      <td id=\"T_7904f_row2_col2\" class=\"data row2 col2\" >11.71</td>\n",
       "      <td id=\"T_7904f_row2_col3\" class=\"data row2 col3\" >245.89</td>\n",
       "      <td id=\"T_7904f_row2_col4\" class=\"data row2 col4\" >234.18</td>\n",
       "      <td id=\"T_7904f_row2_col5\" class=\"data row2 col5\" >0.00</td>\n",
       "      <td id=\"T_7904f_row2_col6\" class=\"data row2 col6\" >11.71</td>\n",
       "      <td id=\"T_7904f_row2_col7\" class=\"data row2 col7\" >1.72</td>\n",
       "    </tr>\n",
       "    <tr>\n",
       "      <th id=\"T_7904f_level0_row3\" class=\"row_heading level0 row3\" >min</th>\n",
       "      <td id=\"T_7904f_row3_col0\" class=\"data row3 col0\" >10.08</td>\n",
       "      <td id=\"T_7904f_row3_col1\" class=\"data row3 col1\" >1.00</td>\n",
       "      <td id=\"T_7904f_row3_col2\" class=\"data row3 col2\" >0.51</td>\n",
       "      <td id=\"T_7904f_row3_col3\" class=\"data row3 col3\" >10.68</td>\n",
       "      <td id=\"T_7904f_row3_col4\" class=\"data row3 col4\" >10.17</td>\n",
       "      <td id=\"T_7904f_row3_col5\" class=\"data row3 col5\" >4.76</td>\n",
       "      <td id=\"T_7904f_row3_col6\" class=\"data row3 col6\" >0.51</td>\n",
       "      <td id=\"T_7904f_row3_col7\" class=\"data row3 col7\" >4.00</td>\n",
       "    </tr>\n",
       "    <tr>\n",
       "      <th id=\"T_7904f_level0_row4\" class=\"row_heading level0 row4\" >25%</th>\n",
       "      <td id=\"T_7904f_row4_col0\" class=\"data row4 col0\" >32.88</td>\n",
       "      <td id=\"T_7904f_row4_col1\" class=\"data row4 col1\" >3.00</td>\n",
       "      <td id=\"T_7904f_row4_col2\" class=\"data row4 col2\" >5.92</td>\n",
       "      <td id=\"T_7904f_row4_col3\" class=\"data row4 col3\" >124.42</td>\n",
       "      <td id=\"T_7904f_row4_col4\" class=\"data row4 col4\" >118.50</td>\n",
       "      <td id=\"T_7904f_row4_col5\" class=\"data row4 col5\" >4.76</td>\n",
       "      <td id=\"T_7904f_row4_col6\" class=\"data row4 col6\" >5.92</td>\n",
       "      <td id=\"T_7904f_row4_col7\" class=\"data row4 col7\" >5.50</td>\n",
       "    </tr>\n",
       "    <tr>\n",
       "      <th id=\"T_7904f_level0_row5\" class=\"row_heading level0 row5\" >50%</th>\n",
       "      <td id=\"T_7904f_row5_col0\" class=\"data row5 col0\" >55.23</td>\n",
       "      <td id=\"T_7904f_row5_col1\" class=\"data row5 col1\" >5.00</td>\n",
       "      <td id=\"T_7904f_row5_col2\" class=\"data row5 col2\" >12.09</td>\n",
       "      <td id=\"T_7904f_row5_col3\" class=\"data row5 col3\" >253.85</td>\n",
       "      <td id=\"T_7904f_row5_col4\" class=\"data row5 col4\" >241.76</td>\n",
       "      <td id=\"T_7904f_row5_col5\" class=\"data row5 col5\" >4.76</td>\n",
       "      <td id=\"T_7904f_row5_col6\" class=\"data row5 col6\" >12.09</td>\n",
       "      <td id=\"T_7904f_row5_col7\" class=\"data row5 col7\" >7.00</td>\n",
       "    </tr>\n",
       "    <tr>\n",
       "      <th id=\"T_7904f_level0_row6\" class=\"row_heading level0 row6\" >75%</th>\n",
       "      <td id=\"T_7904f_row6_col0\" class=\"data row6 col0\" >77.94</td>\n",
       "      <td id=\"T_7904f_row6_col1\" class=\"data row6 col1\" >8.00</td>\n",
       "      <td id=\"T_7904f_row6_col2\" class=\"data row6 col2\" >22.45</td>\n",
       "      <td id=\"T_7904f_row6_col3\" class=\"data row6 col3\" >471.35</td>\n",
       "      <td id=\"T_7904f_row6_col4\" class=\"data row6 col4\" >448.91</td>\n",
       "      <td id=\"T_7904f_row6_col5\" class=\"data row6 col5\" >4.76</td>\n",
       "      <td id=\"T_7904f_row6_col6\" class=\"data row6 col6\" >22.45</td>\n",
       "      <td id=\"T_7904f_row6_col7\" class=\"data row6 col7\" >8.50</td>\n",
       "    </tr>\n",
       "    <tr>\n",
       "      <th id=\"T_7904f_level0_row7\" class=\"row_heading level0 row7\" >max</th>\n",
       "      <td id=\"T_7904f_row7_col0\" class=\"data row7 col0\" >99.96</td>\n",
       "      <td id=\"T_7904f_row7_col1\" class=\"data row7 col1\" >10.00</td>\n",
       "      <td id=\"T_7904f_row7_col2\" class=\"data row7 col2\" >49.65</td>\n",
       "      <td id=\"T_7904f_row7_col3\" class=\"data row7 col3\" >1042.65</td>\n",
       "      <td id=\"T_7904f_row7_col4\" class=\"data row7 col4\" >993.00</td>\n",
       "      <td id=\"T_7904f_row7_col5\" class=\"data row7 col5\" >4.76</td>\n",
       "      <td id=\"T_7904f_row7_col6\" class=\"data row7 col6\" >49.65</td>\n",
       "      <td id=\"T_7904f_row7_col7\" class=\"data row7 col7\" >10.00</td>\n",
       "    </tr>\n",
       "  </tbody>\n",
       "</table>\n"
      ],
      "text/plain": [
       "<pandas.io.formats.style.Styler at 0x1a7f534d3d0>"
      ]
     },
     "execution_count": 106,
     "metadata": {},
     "output_type": "execute_result"
    }
   ],
   "source": [
    "df.describe().style.format(precision=2)"
   ]
  },
  {
   "cell_type": "markdown",
   "metadata": {},
   "source": [
    ".For the columns \"Quantity\", \"Unit price\" and \"Rating\" :The mean and the median are close, which suggests a symmetrical distribution, In the other hand The range (Max - Min) is large compared to the standard deviation. So based on that we can say that the data is not likely normally distributed\n",
    "=================================================================================================================================================\n",
    ".For the column \"Rating\": The mean and the median are equale, also the std and the range have value of 0. So we have a uniform distribution with a very narrow range\n",
    "=================================================================================================================================================\n",
    ".For the columns \"Tax\", \"Total\", \"cogs\" and \"gross income\": we can see that the mean is greater than the median, which means that we have Right-skewed distribution."
   ]
  },
  {
   "cell_type": "markdown",
   "metadata": {},
   "source": [
    "Ploting The Distribution And Skewness"
   ]
  },
  {
   "cell_type": "code",
   "execution_count": 107,
   "metadata": {},
   "outputs": [
    {
     "data": {
      "text/plain": [
       "<Axes: xlabel='Rating', ylabel='Count'>"
      ]
     },
     "execution_count": 107,
     "metadata": {},
     "output_type": "execute_result"
    },
    {
     "data": {
      "image/png": "[encoded data removed]",
      "text/plain": [
       "<Figure size 1400x1000 with 4 Axes>"
      ]
     },
     "metadata": {},
     "output_type": "display_data"
    }
   ],
   "source": [
    "fig, axs = plt.subplots(2, 2, figsize=(14,10), gridspec_kw={'hspace': 0.3, 'wspace': 0.2})\n",
    "sns.histplot(x = 'Unit price', data = df, ax = axs[0,0] )\n",
    "sns.histplot(x = 'gross margin percentage',data = df, ax = axs[0,1] )\n",
    "sns.histplot(x = 'Quantity',data = df, ax = axs[1,0] )\n",
    "sns.histplot(x = 'Rating',data = df ,ax = axs[1,1] )"
   ]
  },
  {
   "cell_type": "markdown",
   "metadata": {},
   "source": [
    "For the column \"gross margin\", we can see that the histogram shown a uniform distribution.\n",
    "For \"Quantity\", \"Rating\", \"Unit price\", are not normally distributed."
   ]
  },
  {
   "cell_type": "code",
   "execution_count": 108,
   "metadata": {},
   "outputs": [
    {
     "data": {
      "text/plain": [
       "<Axes: xlabel='Total', ylabel='Count'>"
      ]
     },
     "execution_count": 108,
     "metadata": {},
     "output_type": "execute_result"
    },
    {
     "data": {
      "image/png": "[encoded data removed]",
      "text/plain": [
       "<Figure size 1400x1000 with 4 Axes>"
      ]
     },
     "metadata": {},
     "output_type": "display_data"
    }
   ],
   "source": [
    "fig, ax = fig, axs = plt.subplots(2, 2, figsize=(14,10), gridspec_kw={'hspace': 0.3, 'wspace': 0.2})\n",
    "sns.histplot(x = 'gross income', data = df, ax = axs[0,0] )\n",
    "sns.histplot(x = 'cogs',data = df, ax = axs[0,1] )\n",
    "sns.histplot(x = 'Tax 5%',data = df, ax = axs[1,0] )\n",
    "sns.histplot(x = 'Total',data = df ,ax = axs[1,1] )"
   ]
  },
  {
   "cell_type": "markdown",
   "metadata": {},
   "source": [
    "For the variable \"Tax\", \"Total\", \"cogs\" and \"gross income\", the histograms showed shapes that lean to the left, with a higher concentration of bars on the left side and tails extending towards the right. which confirm the observation of right-skewed distributions."
   ]
  },
  {
   "cell_type": "code",
   "execution_count": 109,
   "metadata": {},
   "outputs": [],
   "source": [
    "#Outliers affects The Eda so we will  remove it"
   ]
  },
  {
   "cell_type": "code",
   "execution_count": 110,
   "metadata": {},
   "outputs": [
    {
     "data": {
      "text/plain": [
       "Index(['Invoice ID', 'Branch', 'City', 'Customer type', 'Gender',\n",
       "       'Product line', 'Unit price', 'Quantity', 'Tax 5%', 'Total', 'Date',\n",
       "       'Time', 'Payment', 'cogs', 'gross margin percentage', 'gross income',\n",
       "       'Rating'],\n",
       "      dtype='object')"
      ]
     },
     "execution_count": 110,
     "metadata": {},
     "output_type": "execute_result"
    }
   ],
   "source": [
    "df.columns"
   ]
  },
  {
   "cell_type": "code",
   "execution_count": 111,
   "metadata": {},
   "outputs": [
    {
     "data": {
      "text/plain": [
       "<Axes: xlabel='Total'>"
      ]
     },
     "execution_count": 111,
     "metadata": {},
     "output_type": "execute_result"
    },
    {
     "data": {
      "image/png": "[encoded data removed]",
      "text/plain": [
       "<Figure size 1400x1000 with 4 Axes>"
      ]
     },
     "metadata": {},
     "output_type": "display_data"
    }
   ],
   "source": [
    "fig, axs = plt.subplots(2, 2, figsize=(14,10), gridspec_kw={'hspace': 0.3, 'wspace': 0.2})\n",
    "sns.boxplot(x = 'gross income', data = df, ax = axs[0,0] )\n",
    "sns.boxplot(x = 'cogs',data = df, ax = axs[0,1] )\n",
    "sns.boxplot(x = 'Tax 5%',data = df, ax = axs[1,0] )\n",
    "sns.boxplot(x = 'Total',data = df ,ax = axs[1,1] )"
   ]
  },
  {
   "cell_type": "code",
   "execution_count": 112,
   "metadata": {},
   "outputs": [],
   "source": [
    "columns = ['gross income','cogs','Tax 5%', 'Total']\n",
    "import pandas as pd\n",
    "\n",
    "def remove_outliers(df, columns):\n",
    "    \"\"\"\n",
    "    Removes outliers from the specified columns in a DataFrame using the IQR method.\n",
    "    \n",
    "    Parameters:\n",
    "    df (pd.DataFrame): The input DataFrame.\n",
    "    columns (list): A list of column names to clean.\n",
    "    \n",
    "    Returns:\n",
    "    pd.DataFrame: The DataFrame with outliers removed from the specified columns.\n",
    "    \"\"\"\n",
    "    for col in columns:\n",
    "        # Calculate Q1 (25th percentile) and Q3 (75th percentile)\n",
    "        Q1 = df[col].quantile(0.25)\n",
    "        Q3 = df[col].quantile(0.75)\n",
    "        \n",
    "        # Calculate the Interquartile Range (IQR)\n",
    "        IQR = Q3 - Q1\n",
    "        \n",
    "        # Define the bounds for detecting outliers\n",
    "        lower_bound = Q1 - 1.5 * IQR\n",
    "        upper_bound = Q3 + 1.5 * IQR\n",
    "        \n",
    "        # Filter the DataFrame to remove outliers\n",
    "        df = df[(df[col] >= lower_bound) & (df[col] <= upper_bound)]\n",
    "    \n",
    "    return df\n"
   ]
  },
  {
   "cell_type": "code",
   "execution_count": 113,
   "metadata": {},
   "outputs": [],
   "source": [
    "df=remove_outliers(df,columns)"
   ]
  },
  {
   "cell_type": "code",
   "execution_count": 114,
   "metadata": {},
   "outputs": [
    {
     "data": {
      "text/plain": [
       "<Axes: xlabel='Total'>"
      ]
     },
     "execution_count": 114,
     "metadata": {},
     "output_type": "execute_result"
    },
    {
     "data": {
      "image/png": "[encoded data removed]",
      "text/plain": [
       "<Figure size 1400x1000 with 4 Axes>"
      ]
     },
     "metadata": {},
     "output_type": "display_data"
    }
   ],
   "source": [
    "fig, axs = plt.subplots(2, 2, figsize=(14,10), gridspec_kw={'hspace': 0.3, 'wspace': 0.2})\n",
    "sns.boxplot(x = 'gross income', data = df, ax = axs[0,0] )\n",
    "sns.boxplot(x = 'cogs',data = df, ax = axs[0,1] )\n",
    "sns.boxplot(x = 'Tax 5%',data = df, ax = axs[1,0] )\n",
    "sns.boxplot(x = 'Total',data = df ,ax = axs[1,1] )"
   ]
  },
  {
   "cell_type": "markdown",
   "metadata": {},
   "source": [
    "Now Lets Break To The Eda and visulaization"
   ]
  },
  {
   "cell_type": "code",
   "execution_count": 115,
   "metadata": {},
   "outputs": [
    {
     "data": {
      "text/html": [
       "<div>\n",
       "<style scoped>\n",
       "    .dataframe tbody tr th:only-of-type {\n",
       "        vertical-align: middle;\n",
       "    }\n",
       "\n",
       "    .dataframe tbody tr th {\n",
       "        vertical-align: top;\n",
       "    }\n",
       "\n",
       "    .dataframe thead th {\n",
       "        text-align: right;\n",
       "    }\n",
       "</style>\n",
       "<table border=\"1\" class=\"dataframe\">\n",
       "  <thead>\n",
       "    <tr style=\"text-align: right;\">\n",
       "      <th></th>\n",
       "      <th>Invoice ID</th>\n",
       "      <th>Branch</th>\n",
       "      <th>City</th>\n",
       "      <th>Customer type</th>\n",
       "      <th>Gender</th>\n",
       "      <th>Product line</th>\n",
       "      <th>Unit price</th>\n",
       "      <th>Quantity</th>\n",
       "      <th>Tax 5%</th>\n",
       "      <th>Total</th>\n",
       "      <th>Date</th>\n",
       "      <th>Time</th>\n",
       "      <th>Payment</th>\n",
       "      <th>cogs</th>\n",
       "      <th>gross margin percentage</th>\n",
       "      <th>gross income</th>\n",
       "      <th>Rating</th>\n",
       "    </tr>\n",
       "  </thead>\n",
       "  <tbody>\n",
       "    <tr>\n",
       "      <th>0</th>\n",
       "      <td>750-67-8428</td>\n",
       "      <td>A</td>\n",
       "      <td>Yangon</td>\n",
       "      <td>Member</td>\n",
       "      <td>Female</td>\n",
       "      <td>Health and beauty</td>\n",
       "      <td>74.69</td>\n",
       "      <td>7</td>\n",
       "      <td>26.1415</td>\n",
       "      <td>548.9715</td>\n",
       "      <td>2019-01-05</td>\n",
       "      <td>13:08</td>\n",
       "      <td>Ewallet</td>\n",
       "      <td>522.83</td>\n",
       "      <td>4.761905</td>\n",
       "      <td>26.1415</td>\n",
       "      <td>9.1</td>\n",
       "    </tr>\n",
       "    <tr>\n",
       "      <th>1</th>\n",
       "      <td>226-31-3081</td>\n",
       "      <td>C</td>\n",
       "      <td>Naypyitaw</td>\n",
       "      <td>Normal</td>\n",
       "      <td>Female</td>\n",
       "      <td>Electronic accessories</td>\n",
       "      <td>15.28</td>\n",
       "      <td>5</td>\n",
       "      <td>3.8200</td>\n",
       "      <td>80.2200</td>\n",
       "      <td>2019-03-08</td>\n",
       "      <td>10:29</td>\n",
       "      <td>Cash</td>\n",
       "      <td>76.40</td>\n",
       "      <td>4.761905</td>\n",
       "      <td>3.8200</td>\n",
       "      <td>9.6</td>\n",
       "    </tr>\n",
       "    <tr>\n",
       "      <th>2</th>\n",
       "      <td>631-41-3108</td>\n",
       "      <td>A</td>\n",
       "      <td>Yangon</td>\n",
       "      <td>Normal</td>\n",
       "      <td>Male</td>\n",
       "      <td>Home and lifestyle</td>\n",
       "      <td>46.33</td>\n",
       "      <td>7</td>\n",
       "      <td>16.2155</td>\n",
       "      <td>340.5255</td>\n",
       "      <td>2019-03-03</td>\n",
       "      <td>13:23</td>\n",
       "      <td>Credit card</td>\n",
       "      <td>324.31</td>\n",
       "      <td>4.761905</td>\n",
       "      <td>16.2155</td>\n",
       "      <td>7.4</td>\n",
       "    </tr>\n",
       "    <tr>\n",
       "      <th>3</th>\n",
       "      <td>123-19-1176</td>\n",
       "      <td>A</td>\n",
       "      <td>Yangon</td>\n",
       "      <td>Member</td>\n",
       "      <td>Male</td>\n",
       "      <td>Health and beauty</td>\n",
       "      <td>58.22</td>\n",
       "      <td>8</td>\n",
       "      <td>23.2880</td>\n",
       "      <td>489.0480</td>\n",
       "      <td>2019-01-27</td>\n",
       "      <td>20:33</td>\n",
       "      <td>Ewallet</td>\n",
       "      <td>465.76</td>\n",
       "      <td>4.761905</td>\n",
       "      <td>23.2880</td>\n",
       "      <td>8.4</td>\n",
       "    </tr>\n",
       "    <tr>\n",
       "      <th>4</th>\n",
       "      <td>373-73-7910</td>\n",
       "      <td>A</td>\n",
       "      <td>Yangon</td>\n",
       "      <td>Normal</td>\n",
       "      <td>Male</td>\n",
       "      <td>Sports and travel</td>\n",
       "      <td>86.31</td>\n",
       "      <td>7</td>\n",
       "      <td>30.2085</td>\n",
       "      <td>634.3785</td>\n",
       "      <td>2019-02-08</td>\n",
       "      <td>10:37</td>\n",
       "      <td>Ewallet</td>\n",
       "      <td>604.17</td>\n",
       "      <td>4.761905</td>\n",
       "      <td>30.2085</td>\n",
       "      <td>5.3</td>\n",
       "    </tr>\n",
       "  </tbody>\n",
       "</table>\n",
       "</div>"
      ],
      "text/plain": [
       "    Invoice ID Branch       City Customer type  Gender  \\\n",
       "0  750-67-8428      A     Yangon        Member  Female   \n",
       "1  226-31-3081      C  Naypyitaw        Normal  Female   \n",
       "2  631-41-3108      A     Yangon        Normal    Male   \n",
       "3  123-19-1176      A     Yangon        Member    Male   \n",
       "4  373-73-7910      A     Yangon        Normal    Male   \n",
       "\n",
       "             Product line  Unit price  Quantity   Tax 5%     Total       Date  \\\n",
       "0       Health and beauty       74.69         7  26.1415  548.9715 2019-01-05   \n",
       "1  Electronic accessories       15.28         5   3.8200   80.2200 2019-03-08   \n",
       "2      Home and lifestyle       46.33         7  16.2155  340.5255 2019-03-03   \n",
       "3       Health and beauty       58.22         8  23.2880  489.0480 2019-01-27   \n",
       "4       Sports and travel       86.31         7  30.2085  634.3785 2019-02-08   \n",
       "\n",
       "    Time      Payment    cogs  gross margin percentage  gross income  Rating  \n",
       "0  13:08      Ewallet  522.83                 4.761905       26.1415     9.1  \n",
       "1  10:29         Cash   76.40                 4.761905        3.8200     9.6  \n",
       "2  13:23  Credit card  324.31                 4.761905       16.2155     7.4  \n",
       "3  20:33      Ewallet  465.76                 4.761905       23.2880     8.4  \n",
       "4  10:37      Ewallet  604.17                 4.761905       30.2085     5.3  "
      ]
     },
     "execution_count": 115,
     "metadata": {},
     "output_type": "execute_result"
    }
   ],
   "source": [
    "df.head()"
   ]
  },
  {
   "cell_type": "markdown",
   "metadata": {},
   "source": [
    "Univarte Anlysis"
   ]
  },
  {
   "cell_type": "code",
   "execution_count": 118,
   "metadata": {},
   "outputs": [
    {
     "data": {
      "text/html": [
       "<div>\n",
       "<style scoped>\n",
       "    .dataframe tbody tr th:only-of-type {\n",
       "        vertical-align: middle;\n",
       "    }\n",
       "\n",
       "    .dataframe tbody tr th {\n",
       "        vertical-align: top;\n",
       "    }\n",
       "\n",
       "    .dataframe thead th {\n",
       "        text-align: right;\n",
       "    }\n",
       "</style>\n",
       "<table border=\"1\" class=\"dataframe\">\n",
       "  <thead>\n",
       "    <tr style=\"text-align: right;\">\n",
       "      <th></th>\n",
       "      <th>Branch</th>\n",
       "    </tr>\n",
       "  </thead>\n",
       "  <tbody>\n",
       "    <tr>\n",
       "      <th>A</th>\n",
       "      <td>339</td>\n",
       "    </tr>\n",
       "    <tr>\n",
       "      <th>B</th>\n",
       "      <td>330</td>\n",
       "    </tr>\n",
       "    <tr>\n",
       "      <th>C</th>\n",
       "      <td>322</td>\n",
       "    </tr>\n",
       "  </tbody>\n",
       "</table>\n",
       "</div>"
      ],
      "text/plain": [
       "   Branch\n",
       "A     339\n",
       "B     330\n",
       "C     322"
      ]
     },
     "execution_count": 118,
     "metadata": {},
     "output_type": "execute_result"
    }
   ],
   "source": [
    "pd.DataFrame(df['Branch'].value_counts(ascending = False))"
   ]
  },
  {
   "cell_type": "code",
   "execution_count": 117,
   "metadata": {},
   "outputs": [
    {
     "data": {
      "image/png": "[encoded data removed]",
      "text/plain": [
       "<Figure size 1000x800 with 1 Axes>"
      ]
     },
     "metadata": {},
     "output_type": "display_data"
    }
   ],
   "source": [
    "plt.figure(figsize=(10,8))\n",
    "sns.countplot(x ='Branch',data=df)\n",
    "plt.show()"
   ]
  },
  {
   "cell_type": "markdown",
   "metadata": {},
   "source": [
    "Branch C is the Top"
   ]
  },
  {
   "cell_type": "code",
   "execution_count": 119,
   "metadata": {},
   "outputs": [
    {
     "data": {
      "text/html": [
       "<div>\n",
       "<style scoped>\n",
       "    .dataframe tbody tr th:only-of-type {\n",
       "        vertical-align: middle;\n",
       "    }\n",
       "\n",
       "    .dataframe tbody tr th {\n",
       "        vertical-align: top;\n",
       "    }\n",
       "\n",
       "    .dataframe thead th {\n",
       "        text-align: right;\n",
       "    }\n",
       "</style>\n",
       "<table border=\"1\" class=\"dataframe\">\n",
       "  <thead>\n",
       "    <tr style=\"text-align: right;\">\n",
       "      <th></th>\n",
       "      <th>Gender</th>\n",
       "    </tr>\n",
       "  </thead>\n",
       "  <tbody>\n",
       "    <tr>\n",
       "      <th>Male</th>\n",
       "      <td>496</td>\n",
       "    </tr>\n",
       "    <tr>\n",
       "      <th>Female</th>\n",
       "      <td>495</td>\n",
       "    </tr>\n",
       "  </tbody>\n",
       "</table>\n",
       "</div>"
      ],
      "text/plain": [
       "        Gender\n",
       "Male       496\n",
       "Female     495"
      ]
     },
     "execution_count": 119,
     "metadata": {},
     "output_type": "execute_result"
    }
   ],
   "source": [
    "pd.DataFrame(df['Gender'].value_counts(ascending = False))"
   ]
  },
  {
   "cell_type": "code",
   "execution_count": 120,
   "metadata": {},
   "outputs": [
    {
     "data": {
      "image/png": "[encoded data removed]",
      "text/plain": [
       "<Figure size 1000x800 with 1 Axes>"
      ]
     },
     "metadata": {},
     "output_type": "display_data"
    }
   ],
   "source": [
    "plt.figure(figsize=(10,8))\n",
    "sns.countplot(x ='Gender',data=df)\n",
    "plt.show()"
   ]
  },
  {
   "cell_type": "markdown",
   "metadata": {},
   "source": [
    "Almost The Same Numbers"
   ]
  },
  {
   "cell_type": "code",
   "execution_count": 122,
   "metadata": {},
   "outputs": [
    {
     "data": {
      "text/html": [
       "<div>\n",
       "<style scoped>\n",
       "    .dataframe tbody tr th:only-of-type {\n",
       "        vertical-align: middle;\n",
       "    }\n",
       "\n",
       "    .dataframe tbody tr th {\n",
       "        vertical-align: top;\n",
       "    }\n",
       "\n",
       "    .dataframe thead th {\n",
       "        text-align: right;\n",
       "    }\n",
       "</style>\n",
       "<table border=\"1\" class=\"dataframe\">\n",
       "  <thead>\n",
       "    <tr style=\"text-align: right;\">\n",
       "      <th></th>\n",
       "      <th>Payment</th>\n",
       "    </tr>\n",
       "  </thead>\n",
       "  <tbody>\n",
       "    <tr>\n",
       "      <th>Ewallet</th>\n",
       "      <td>342</td>\n",
       "    </tr>\n",
       "    <tr>\n",
       "      <th>Cash</th>\n",
       "      <td>342</td>\n",
       "    </tr>\n",
       "    <tr>\n",
       "      <th>Credit card</th>\n",
       "      <td>307</td>\n",
       "    </tr>\n",
       "  </tbody>\n",
       "</table>\n",
       "</div>"
      ],
      "text/plain": [
       "             Payment\n",
       "Ewallet          342\n",
       "Cash             342\n",
       "Credit card      307"
      ]
     },
     "execution_count": 122,
     "metadata": {},
     "output_type": "execute_result"
    }
   ],
   "source": [
    "pd.DataFrame(df['Payment'].value_counts(ascending = False))"
   ]
  },
  {
   "cell_type": "code",
   "execution_count": 123,
   "metadata": {},
   "outputs": [
    {
     "data": {
      "image/png": "[encoded data removed]",
      "text/plain": [
       "<Figure size 1000x800 with 1 Axes>"
      ]
     },
     "metadata": {},
     "output_type": "display_data"
    }
   ],
   "source": [
    "plt.figure(figsize=(10,8))\n",
    "sns.countplot(x ='Payment',data=df)\n",
    "plt.show()"
   ]
  },
  {
   "cell_type": "markdown",
   "metadata": {},
   "source": [
    "Ewallet and Cash are almost the most used ways to pay"
   ]
  },
  {
   "cell_type": "code",
   "execution_count": 127,
   "metadata": {},
   "outputs": [
    {
     "data": {
      "text/html": [
       "<div>\n",
       "<style scoped>\n",
       "    .dataframe tbody tr th:only-of-type {\n",
       "        vertical-align: middle;\n",
       "    }\n",
       "\n",
       "    .dataframe tbody tr th {\n",
       "        vertical-align: top;\n",
       "    }\n",
       "\n",
       "    .dataframe thead th {\n",
       "        text-align: right;\n",
       "    }\n",
       "</style>\n",
       "<table border=\"1\" class=\"dataframe\">\n",
       "  <thead>\n",
       "    <tr style=\"text-align: right;\">\n",
       "      <th></th>\n",
       "      <th>Customer type</th>\n",
       "    </tr>\n",
       "  </thead>\n",
       "  <tbody>\n",
       "    <tr>\n",
       "      <th>Member</th>\n",
       "      <td>498</td>\n",
       "    </tr>\n",
       "    <tr>\n",
       "      <th>Normal</th>\n",
       "      <td>493</td>\n",
       "    </tr>\n",
       "  </tbody>\n",
       "</table>\n",
       "</div>"
      ],
      "text/plain": [
       "        Customer type\n",
       "Member            498\n",
       "Normal            493"
      ]
     },
     "execution_count": 127,
     "metadata": {},
     "output_type": "execute_result"
    }
   ],
   "source": [
    "pd.DataFrame(df['Customer type'].value_counts(ascending = False)) \n"
   ]
  },
  {
   "cell_type": "code",
   "execution_count": 128,
   "metadata": {},
   "outputs": [
    {
     "data": {
      "image/png": "[encoded data removed]",
      "text/plain": [
       "<Figure size 700x400 with 1 Axes>"
      ]
     },
     "metadata": {},
     "output_type": "display_data"
    }
   ],
   "source": [
    "plt.figure(figsize=(7, 4))\n",
    "sns.countplot(data = df, x = \"Customer type\")\n",
    "plt.show()"
   ]
  },
  {
   "cell_type": "code",
   "execution_count": 125,
   "metadata": {},
   "outputs": [
    {
     "data": {
      "text/html": [
       "<div>\n",
       "<style scoped>\n",
       "    .dataframe tbody tr th:only-of-type {\n",
       "        vertical-align: middle;\n",
       "    }\n",
       "\n",
       "    .dataframe tbody tr th {\n",
       "        vertical-align: top;\n",
       "    }\n",
       "\n",
       "    .dataframe thead th {\n",
       "        text-align: right;\n",
       "    }\n",
       "</style>\n",
       "<table border=\"1\" class=\"dataframe\">\n",
       "  <thead>\n",
       "    <tr style=\"text-align: right;\">\n",
       "      <th></th>\n",
       "      <th>City</th>\n",
       "    </tr>\n",
       "  </thead>\n",
       "  <tbody>\n",
       "    <tr>\n",
       "      <th>Yangon</th>\n",
       "      <td>339</td>\n",
       "    </tr>\n",
       "    <tr>\n",
       "      <th>Mandalay</th>\n",
       "      <td>330</td>\n",
       "    </tr>\n",
       "    <tr>\n",
       "      <th>Naypyitaw</th>\n",
       "      <td>322</td>\n",
       "    </tr>\n",
       "  </tbody>\n",
       "</table>\n",
       "</div>"
      ],
      "text/plain": [
       "           City\n",
       "Yangon      339\n",
       "Mandalay    330\n",
       "Naypyitaw   322"
      ]
     },
     "execution_count": 125,
     "metadata": {},
     "output_type": "execute_result"
    }
   ],
   "source": [
    "pd.DataFrame(df['City'].value_counts(ascending = False))"
   ]
  },
  {
   "cell_type": "code",
   "execution_count": 126,
   "metadata": {},
   "outputs": [
    {
     "data": {
      "image/png": "[encoded data removed]",
      "text/plain": [
       "<Figure size 1000x800 with 1 Axes>"
      ]
     },
     "metadata": {},
     "output_type": "display_data"
    }
   ],
   "source": [
    "plt.figure(figsize=(10,8))\n",
    "sns.countplot(x ='City',data=df)\n",
    "plt.show()"
   ]
  },
  {
   "cell_type": "code",
   "execution_count": null,
   "metadata": {},
   "outputs": [],
   "source": [
    "pd.DataFrame(df['Product line'].value_counts(ascending = False))"
   ]
  },
  {
   "cell_type": "code",
   "execution_count": 130,
   "metadata": {},
   "outputs": [
    {
     "data": {
      "image/png": "[encoded data removed]",
      "text/plain": [
       "<Figure size 700x400 with 1 Axes>"
      ]
     },
     "metadata": {},
     "output_type": "display_data"
    }
   ],
   "source": [
    "plt.figure(figsize=(7, 4))\n",
    "# Create an order\n",
    "Pl_counts = df['Product line'].value_counts().sort_values(ascending=False)\n",
    "sns.countplot(data = df, y = 'Product line', order = Pl_counts.index.tolist())\n",
    "plt.show()"
   ]
  },
  {
   "cell_type": "markdown",
   "metadata": {},
   "source": [
    "Summary:\n",
    "\n",
    "Branch A has the most customers. This could be due to its location in a high-traffic area, its larger size offering a potentially wider product selection, or a unique product mix catering to the specific demands of its local customer base.\n",
    "\n",
    "Yangon has the most customers. This could be due to a combination of factors, such as the concentration of branches in Yangon, the demographics of the city with a larger potential customer base, or targeted marketing efforts focused on this location.\n",
    "\n",
    "Generally, customers prefer to use e-wallet is preferred for payment.\n",
    "\n",
    "Fashion accessories are selling slightly higher in quantity than other products.This could be due to the current trends, seasonal factors, or promotions."
   ]
  },
  {
   "cell_type": "code",
   "execution_count": null,
   "metadata": {},
   "outputs": [],
   "source": []
  },
  {
   "cell_type": "markdown",
   "metadata": {},
   "source": [
    "Bivariate analysis"
   ]
  },
  {
   "cell_type": "code",
   "execution_count": 124,
   "metadata": {},
   "outputs": [
    {
     "data": {
      "application/vnd.plotly.v1+json": {
       "config": {
        "plotlyServerURL": "https://plot.ly"
       },
       "data": [
        {
         "alignmentgroup": "True",
         "bingroup": "x",
         "hovertemplate": "Gender=Female<br>Branch=%{x}<br>count=%{y}<extra></extra>",
         "legendgroup": "Female",
         "marker": {
          "color": "#636efa",
          "pattern": {
           "shape": ""
          }
         },
         "name": "Female",
         "offsetgroup": "Female",
         "orientation": "v",
         "showlegend": true,
         "type": "histogram",
         "x": [
          "A",
          "C",
          "A",
          "C",
          "A",
          "B",
          "B",
          "A",
          "A",
          "B",
          "A",
          "B",
          "A",
          "A",
          "B",
          "C",
          "C",
          "A",
          "C",
          "B",
          "B",
          "C",
          "B",
          "B",
          "C",
          "A",
          "B",
          "C",
          "A",
          "C",
          "B",
          "C",
          "B",
          "A",
          "B",
          "C",
          "C",
          "A",
          "C",
          "C",
          "C",
          "B",
          "C",
          "C",
          "B",
          "C",
          "C",
          "A",
          "C",
          "C",
          "C",
          "B",
          "C",
          "B",
          "C",
          "C",
          "A",
          "A",
          "B",
          "A",
          "A",
          "C",
          "C",
          "B",
          "B",
          "A",
          "B",
          "C",
          "A",
          "A",
          "C",
          "C",
          "C",
          "A",
          "C",
          "A",
          "B",
          "C",
          "C",
          "C",
          "C",
          "A",
          "B",
          "C",
          "B",
          "B",
          "C",
          "C",
          "A",
          "C",
          "C",
          "B",
          "A",
          "C",
          "C",
          "B",
          "B",
          "C",
          "B",
          "B",
          "A",
          "B",
          "C",
          "C",
          "B",
          "A",
          "B",
          "B",
          "B",
          "A",
          "C",
          "B",
          "B",
          "C",
          "A",
          "C",
          "B",
          "A",
          "A",
          "B",
          "A",
          "B",
          "C",
          "A",
          "A",
          "B",
          "C",
          "C",
          "A",
          "A",
          "A",
          "C",
          "B",
          "A",
          "A",
          "A",
          "C",
          "C",
          "A",
          "B",
          "A",
          "A",
          "A",
          "A",
          "A",
          "A",
          "C",
          "C",
          "C",
          "C",
          "C",
          "A",
          "A",
          "B",
          "C",
          "B",
          "B",
          "B",
          "C",
          "A",
          "C",
          "B",
          "B",
          "C",
          "B",
          "C",
          "C",
          "C",
          "C",
          "C",
          "C",
          "B",
          "B",
          "C",
          "A",
          "A",
          "B",
          "B",
          "C",
          "B",
          "C",
          "A",
          "A",
          "C",
          "C",
          "B",
          "A",
          "A",
          "A",
          "A",
          "B",
          "C",
          "B",
          "C",
          "B",
          "A",
          "C",
          "B",
          "C",
          "C",
          "B",
          "A",
          "C",
          "C",
          "B",
          "A",
          "A",
          "B",
          "C",
          "B",
          "A",
          "A",
          "B",
          "B",
          "B",
          "B",
          "A",
          "B",
          "B",
          "C",
          "B",
          "C",
          "C",
          "C",
          "C",
          "C",
          "C",
          "A",
          "A",
          "A",
          "C",
          "C",
          "B",
          "B",
          "B",
          "B",
          "A",
          "B",
          "C",
          "C",
          "C",
          "B",
          "A",
          "C",
          "B",
          "B",
          "B",
          "C",
          "B",
          "A",
          "A",
          "C",
          "B",
          "C",
          "A",
          "A",
          "B",
          "C",
          "A",
          "B",
          "A",
          "C",
          "B",
          "B",
          "A",
          "B",
          "A",
          "B",
          "B",
          "B",
          "A",
          "B",
          "A",
          "C",
          "A",
          "B",
          "C",
          "B",
          "A",
          "A",
          "C",
          "B",
          "A",
          "A",
          "C",
          "A",
          "A",
          "C",
          "C",
          "A",
          "C",
          "B",
          "C",
          "A",
          "C",
          "A",
          "C",
          "A",
          "C",
          "A",
          "A",
          "B",
          "B",
          "B",
          "A",
          "C",
          "B",
          "B",
          "C",
          "C",
          "C",
          "B",
          "A",
          "C",
          "A",
          "A",
          "B",
          "B",
          "C",
          "C",
          "A",
          "B",
          "C",
          "B",
          "B",
          "A",
          "B",
          "A",
          "B",
          "B",
          "C",
          "B",
          "B",
          "B",
          "A",
          "C",
          "C",
          "C",
          "A",
          "A",
          "C",
          "B",
          "B",
          "B",
          "C",
          "C",
          "C",
          "A",
          "A",
          "B",
          "B",
          "C",
          "C",
          "C",
          "B",
          "A",
          "C",
          "A",
          "C",
          "C",
          "C",
          "B",
          "B",
          "A",
          "A",
          "C",
          "A",
          "B",
          "A",
          "A",
          "B",
          "A",
          "A",
          "B",
          "C",
          "B",
          "A",
          "B",
          "C",
          "C",
          "C",
          "B",
          "A",
          "A",
          "C",
          "C",
          "C",
          "A",
          "C",
          "A",
          "C",
          "A",
          "B",
          "A",
          "A",
          "A",
          "B",
          "C",
          "A",
          "C",
          "A",
          "B",
          "C",
          "A",
          "A",
          "B",
          "A",
          "B",
          "A",
          "B",
          "B",
          "C",
          "A",
          "C",
          "C",
          "C",
          "A",
          "A",
          "B",
          "A",
          "B",
          "A",
          "A",
          "C",
          "B",
          "B",
          "A",
          "C",
          "B",
          "A",
          "B",
          "B",
          "C",
          "A",
          "A",
          "A",
          "C",
          "C",
          "B",
          "C",
          "C",
          "C",
          "A",
          "C",
          "C",
          "B",
          "A",
          "B",
          "B",
          "C",
          "A",
          "A",
          "C",
          "A",
          "B",
          "C",
          "B",
          "C",
          "C",
          "C",
          "B",
          "A",
          "B",
          "C",
          "A",
          "B",
          "C",
          "A",
          "A",
          "C",
          "A",
          "A",
          "B",
          "B",
          "B",
          "C",
          "A",
          "C",
          "A",
          "A",
          "B",
          "A",
          "A",
          "B",
          "B",
          "A",
          "B",
          "B",
          "A",
          "B",
          "B",
          "A",
          "B",
          "C",
          "A"
         ],
         "xaxis": "x",
         "yaxis": "y"
        },
        {
         "alignmentgroup": "True",
         "bingroup": "x",
         "hovertemplate": "Gender=Male<br>Branch=%{x}<br>count=%{y}<extra></extra>",
         "legendgroup": "Male",
         "marker": {
          "color": "#EF553B",
          "pattern": {
           "shape": ""
          }
         },
         "name": "Male",
         "offsetgroup": "Male",
         "orientation": "v",
         "showlegend": true,
         "type": "histogram",
         "x": [
          "A",
          "A",
          "A",
          "C",
          "B",
          "A",
          "A",
          "A",
          "C",
          "B",
          "B",
          "A",
          "A",
          "B",
          "A",
          "B",
          "B",
          "B",
          "A",
          "A",
          "B",
          "C",
          "C",
          "B",
          "B",
          "C",
          "C",
          "B",
          "A",
          "A",
          "C",
          "C",
          "A",
          "B",
          "A",
          "A",
          "C",
          "C",
          "A",
          "C",
          "C",
          "C",
          "C",
          "A",
          "A",
          "B",
          "C",
          "A",
          "B",
          "A",
          "B",
          "C",
          "C",
          "A",
          "B",
          "A",
          "C",
          "A",
          "C",
          "A",
          "B",
          "B",
          "B",
          "C",
          "B",
          "C",
          "B",
          "C",
          "B",
          "A",
          "C",
          "C",
          "B",
          "A",
          "C",
          "A",
          "A",
          "B",
          "B",
          "B",
          "B",
          "A",
          "A",
          "C",
          "B",
          "B",
          "A",
          "A",
          "A",
          "B",
          "C",
          "B",
          "B",
          "A",
          "A",
          "A",
          "C",
          "C",
          "C",
          "A",
          "C",
          "B",
          "B",
          "A",
          "B",
          "A",
          "C",
          "C",
          "C",
          "B",
          "B",
          "A",
          "B",
          "B",
          "A",
          "B",
          "B",
          "B",
          "C",
          "A",
          "B",
          "C",
          "B",
          "A",
          "C",
          "A",
          "A",
          "A",
          "C",
          "A",
          "B",
          "A",
          "A",
          "A",
          "B",
          "B",
          "C",
          "A",
          "A",
          "B",
          "A",
          "A",
          "A",
          "C",
          "B",
          "C",
          "A",
          "B",
          "C",
          "A",
          "C",
          "A",
          "B",
          "C",
          "B",
          "C",
          "B",
          "C",
          "A",
          "A",
          "C",
          "B",
          "C",
          "A",
          "B",
          "C",
          "C",
          "C",
          "C",
          "A",
          "A",
          "B",
          "A",
          "C",
          "B",
          "A",
          "B",
          "A",
          "A",
          "A",
          "C",
          "A",
          "B",
          "A",
          "A",
          "A",
          "A",
          "B",
          "B",
          "B",
          "A",
          "C",
          "A",
          "A",
          "A",
          "C",
          "C",
          "C",
          "A",
          "B",
          "C",
          "B",
          "A",
          "B",
          "B",
          "C",
          "C",
          "A",
          "A",
          "B",
          "A",
          "A",
          "A",
          "B",
          "B",
          "C",
          "B",
          "A",
          "B",
          "B",
          "C",
          "B",
          "C",
          "C",
          "A",
          "C",
          "C",
          "C",
          "C",
          "C",
          "B",
          "A",
          "A",
          "B",
          "C",
          "C",
          "A",
          "B",
          "C",
          "A",
          "B",
          "A",
          "C",
          "B",
          "A",
          "C",
          "A",
          "B",
          "A",
          "C",
          "B",
          "B",
          "B",
          "C",
          "B",
          "A",
          "B",
          "A",
          "C",
          "B",
          "C",
          "A",
          "C",
          "C",
          "A",
          "B",
          "B",
          "A",
          "A",
          "A",
          "B",
          "C",
          "A",
          "A",
          "C",
          "C",
          "B",
          "A",
          "B",
          "C",
          "A",
          "B",
          "A",
          "B",
          "C",
          "A",
          "B",
          "B",
          "A",
          "B",
          "A",
          "B",
          "B",
          "C",
          "B",
          "C",
          "B",
          "A",
          "C",
          "A",
          "C",
          "B",
          "B",
          "A",
          "C",
          "C",
          "B",
          "A",
          "B",
          "B",
          "C",
          "A",
          "B",
          "C",
          "A",
          "B",
          "A",
          "B",
          "A",
          "A",
          "A",
          "A",
          "B",
          "B",
          "B",
          "A",
          "B",
          "B",
          "C",
          "A",
          "C",
          "B",
          "C",
          "B",
          "A",
          "B",
          "B",
          "A",
          "C",
          "B",
          "A",
          "B",
          "C",
          "B",
          "C",
          "A",
          "A",
          "A",
          "C",
          "C",
          "A",
          "B",
          "A",
          "B",
          "B",
          "B",
          "C",
          "C",
          "A",
          "A",
          "C",
          "A",
          "A",
          "B",
          "B",
          "C",
          "B",
          "C",
          "A",
          "A",
          "B",
          "B",
          "C",
          "C",
          "B",
          "A",
          "C",
          "C",
          "A",
          "B",
          "C",
          "B",
          "A",
          "B",
          "A",
          "B",
          "C",
          "C",
          "B",
          "C",
          "B",
          "C",
          "A",
          "C",
          "C",
          "A",
          "A",
          "C",
          "A",
          "B",
          "B",
          "C",
          "B",
          "C",
          "B",
          "A",
          "A",
          "B",
          "B",
          "B",
          "C",
          "A",
          "C",
          "A",
          "B",
          "A",
          "A",
          "A",
          "B",
          "C",
          "A",
          "B",
          "A",
          "A",
          "A",
          "A",
          "C",
          "B",
          "B",
          "A",
          "C",
          "B",
          "C",
          "A",
          "A",
          "C",
          "A",
          "A",
          "C",
          "C",
          "B",
          "B",
          "A",
          "A",
          "A",
          "B",
          "B",
          "B",
          "C",
          "C",
          "A",
          "B",
          "A",
          "C",
          "A",
          "C",
          "B",
          "B",
          "B",
          "B",
          "C",
          "C",
          "A",
          "C",
          "A",
          "A",
          "C",
          "B",
          "C",
          "B",
          "B",
          "C",
          "B",
          "C",
          "A",
          "C",
          "B",
          "A",
          "B",
          "B",
          "A",
          "C",
          "B",
          "B",
          "C",
          "A",
          "C",
          "C",
          "B",
          "C",
          "B",
          "A",
          "B",
          "C",
          "A",
          "A"
         ],
         "xaxis": "x",
         "yaxis": "y"
        }
       ],
       "layout": {
        "barmode": "relative",
        "legend": {
         "title": {
          "text": "Gender"
         },
         "tracegroupgap": 0
        },
        "margin": {
         "t": 60
        },
        "template": {
         "data": {
          "bar": [
           {
            "error_x": {
             "color": "#2a3f5f"
            },
            "error_y": {
             "color": "#2a3f5f"
            },
            "marker": {
             "line": {
              "color": "#E5ECF6",
              "width": 0.5
             },
             "pattern": {
              "fillmode": "overlay",
              "size": 10,
              "solidity": 0.2
             }
            },
            "type": "bar"
           }
          ],
          "barpolar": [
           {
            "marker": {
             "line": {
              "color": "#E5ECF6",
              "width": 0.5
             },
             "pattern": {
              "fillmode": "overlay",
              "size": 10,
              "solidity": 0.2
             }
            },
            "type": "barpolar"
           }
          ],
          "carpet": [
           {
            "aaxis": {
             "endlinecolor": "#2a3f5f",
             "gridcolor": "white",
             "linecolor": "white",
             "minorgridcolor": "white",
             "startlinecolor": "#2a3f5f"
            },
            "baxis": {
             "endlinecolor": "#2a3f5f",
             "gridcolor": "white",
             "linecolor": "white",
             "minorgridcolor": "white",
             "startlinecolor": "#2a3f5f"
            },
            "type": "carpet"
           }
          ],
          "choropleth": [
           {
            "colorbar": {
             "outlinewidth": 0,
             "ticks": ""
            },
            "type": "choropleth"
           }
          ],
          "contour": [
           {
            "colorbar": {
             "outlinewidth": 0,
             "ticks": ""
            },
            "colorscale": [
             [
              0,
              "#0d0887"
             ],
             [
              0.1111111111111111,
              "#46039f"
             ],
             [
              0.2222222222222222,
              "#7201a8"
             ],
             [
              0.3333333333333333,
              "#9c179e"
             ],
             [
              0.4444444444444444,
              "#bd3786"
             ],
             [
              0.5555555555555556,
              "#d8576b"
             ],
             [
              0.6666666666666666,
              "#ed7953"
             ],
             [
              0.7777777777777778,
              "#fb9f3a"
             ],
             [
              0.8888888888888888,
              "#fdca26"
             ],
             [
              1,
              "#f0f921"
             ]
            ],
            "type": "contour"
           }
          ],
          "contourcarpet": [
           {
            "colorbar": {
             "outlinewidth": 0,
             "ticks": ""
            },
            "type": "contourcarpet"
           }
          ],
          "heatmap": [
           {
            "colorbar": {
             "outlinewidth": 0,
             "ticks": ""
            },
            "colorscale": [
             [
              0,
              "#0d0887"
             ],
             [
              0.1111111111111111,
              "#46039f"
             ],
             [
              0.2222222222222222,
              "#7201a8"
             ],
             [
              0.3333333333333333,
              "#9c179e"
             ],
             [
              0.4444444444444444,
              "#bd3786"
             ],
             [
              0.5555555555555556,
              "#d8576b"
             ],
             [
              0.6666666666666666,
              "#ed7953"
             ],
             [
              0.7777777777777778,
              "#fb9f3a"
             ],
             [
              0.8888888888888888,
              "#fdca26"
             ],
             [
              1,
              "#f0f921"
             ]
            ],
            "type": "heatmap"
           }
          ],
          "heatmapgl": [
           {
            "colorbar": {
             "outlinewidth": 0,
             "ticks": ""
            },
            "colorscale": [
             [
              0,
              "#0d0887"
             ],
             [
              0.1111111111111111,
              "#46039f"
             ],
             [
              0.2222222222222222,
              "#7201a8"
             ],
             [
              0.3333333333333333,
              "#9c179e"
             ],
             [
              0.4444444444444444,
              "#bd3786"
             ],
             [
              0.5555555555555556,
              "#d8576b"
             ],
             [
              0.6666666666666666,
              "#ed7953"
             ],
             [
              0.7777777777777778,
              "#fb9f3a"
             ],
             [
              0.8888888888888888,
              "#fdca26"
             ],
             [
              1,
              "#f0f921"
             ]
            ],
            "type": "heatmapgl"
           }
          ],
          "histogram": [
           {
            "marker": {
             "pattern": {
              "fillmode": "overlay",
              "size": 10,
              "solidity": 0.2
             }
            },
            "type": "histogram"
           }
          ],
          "histogram2d": [
           {
            "colorbar": {
             "outlinewidth": 0,
             "ticks": ""
            },
            "colorscale": [
             [
              0,
              "#0d0887"
             ],
             [
              0.1111111111111111,
              "#46039f"
             ],
             [
              0.2222222222222222,
              "#7201a8"
             ],
             [
              0.3333333333333333,
              "#9c179e"
             ],
             [
              0.4444444444444444,
              "#bd3786"
             ],
             [
              0.5555555555555556,
              "#d8576b"
             ],
             [
              0.6666666666666666,
              "#ed7953"
             ],
             [
              0.7777777777777778,
              "#fb9f3a"
             ],
             [
              0.8888888888888888,
              "#fdca26"
             ],
             [
              1,
              "#f0f921"
             ]
            ],
            "type": "histogram2d"
           }
          ],
          "histogram2dcontour": [
           {
            "colorbar": {
             "outlinewidth": 0,
             "ticks": ""
            },
            "colorscale": [
             [
              0,
              "#0d0887"
             ],
             [
              0.1111111111111111,
              "#46039f"
             ],
             [
              0.2222222222222222,
              "#7201a8"
             ],
             [
              0.3333333333333333,
              "#9c179e"
             ],
             [
              0.4444444444444444,
              "#bd3786"
             ],
             [
              0.5555555555555556,
              "#d8576b"
             ],
             [
              0.6666666666666666,
              "#ed7953"
             ],
             [
              0.7777777777777778,
              "#fb9f3a"
             ],
             [
              0.8888888888888888,
              "#fdca26"
             ],
             [
              1,
              "#f0f921"
             ]
            ],
            "type": "histogram2dcontour"
           }
          ],
          "mesh3d": [
           {
            "colorbar": {
             "outlinewidth": 0,
             "ticks": ""
            },
            "type": "mesh3d"
           }
          ],
          "parcoords": [
           {
            "line": {
             "colorbar": {
              "outlinewidth": 0,
              "ticks": ""
             }
            },
            "type": "parcoords"
           }
          ],
          "pie": [
           {
            "automargin": true,
            "type": "pie"
           }
          ],
          "scatter": [
           {
            "fillpattern": {
             "fillmode": "overlay",
             "size": 10,
             "solidity": 0.2
            },
            "type": "scatter"
           }
          ],
          "scatter3d": [
           {
            "line": {
             "colorbar": {
              "outlinewidth": 0,
              "ticks": ""
             }
            },
            "marker": {
             "colorbar": {
              "outlinewidth": 0,
              "ticks": ""
             }
            },
            "type": "scatter3d"
           }
          ],
          "scattercarpet": [
           {
            "marker": {
             "colorbar": {
              "outlinewidth": 0,
              "ticks": ""
             }
            },
            "type": "scattercarpet"
           }
          ],
          "scattergeo": [
           {
            "marker": {
             "colorbar": {
              "outlinewidth": 0,
              "ticks": ""
             }
            },
            "type": "scattergeo"
           }
          ],
          "scattergl": [
           {
            "marker": {
             "colorbar": {
              "outlinewidth": 0,
              "ticks": ""
             }
            },
            "type": "scattergl"
           }
          ],
          "scattermapbox": [
           {
            "marker": {
             "colorbar": {
              "outlinewidth": 0,
              "ticks": ""
             }
            },
            "type": "scattermapbox"
           }
          ],
          "scatterpolar": [
           {
            "marker": {
             "colorbar": {
              "outlinewidth": 0,
              "ticks": ""
             }
            },
            "type": "scatterpolar"
           }
          ],
          "scatterpolargl": [
           {
            "marker": {
             "colorbar": {
              "outlinewidth": 0,
              "ticks": ""
             }
            },
            "type": "scatterpolargl"
           }
          ],
          "scatterternary": [
           {
            "marker": {
             "colorbar": {
              "outlinewidth": 0,
              "ticks": ""
             }
            },
            "type": "scatterternary"
           }
          ],
          "surface": [
           {
            "colorbar": {
             "outlinewidth": 0,
             "ticks": ""
            },
            "colorscale": [
             [
              0,
              "#0d0887"
             ],
             [
              0.1111111111111111,
              "#46039f"
             ],
             [
              0.2222222222222222,
              "#7201a8"
             ],
             [
              0.3333333333333333,
              "#9c179e"
             ],
             [
              0.4444444444444444,
              "#bd3786"
             ],
             [
              0.5555555555555556,
              "#d8576b"
             ],
             [
              0.6666666666666666,
              "#ed7953"
             ],
             [
              0.7777777777777778,
              "#fb9f3a"
             ],
             [
              0.8888888888888888,
              "#fdca26"
             ],
             [
              1,
              "#f0f921"
             ]
            ],
            "type": "surface"
           }
          ],
          "table": [
           {
            "cells": {
             "fill": {
              "color": "#EBF0F8"
             },
             "line": {
              "color": "white"
             }
            },
            "header": {
             "fill": {
              "color": "#C8D4E3"
             },
             "line": {
              "color": "white"
             }
            },
            "type": "table"
           }
          ]
         },
         "layout": {
          "annotationdefaults": {
           "arrowcolor": "#2a3f5f",
           "arrowhead": 0,
           "arrowwidth": 1
          },
          "autotypenumbers": "strict",
          "coloraxis": {
           "colorbar": {
            "outlinewidth": 0,
            "ticks": ""
           }
          },
          "colorscale": {
           "diverging": [
            [
             0,
             "#8e0152"
            ],
            [
             0.1,
             "#c51b7d"
            ],
            [
             0.2,
             "#de77ae"
            ],
            [
             0.3,
             "#f1b6da"
            ],
            [
             0.4,
             "#fde0ef"
            ],
            [
             0.5,
             "#f7f7f7"
            ],
            [
             0.6,
             "#e6f5d0"
            ],
            [
             0.7,
             "#b8e186"
            ],
            [
             0.8,
             "#7fbc41"
            ],
            [
             0.9,
             "#4d9221"
            ],
            [
             1,
             "#276419"
            ]
           ],
           "sequential": [
            [
             0,
             "#0d0887"
            ],
            [
             0.1111111111111111,
             "#46039f"
            ],
            [
             0.2222222222222222,
             "#7201a8"
            ],
            [
             0.3333333333333333,
             "#9c179e"
            ],
            [
             0.4444444444444444,
             "#bd3786"
            ],
            [
             0.5555555555555556,
             "#d8576b"
            ],
            [
             0.6666666666666666,
             "#ed7953"
            ],
            [
             0.7777777777777778,
             "#fb9f3a"
            ],
            [
             0.8888888888888888,
             "#fdca26"
            ],
            [
             1,
             "#f0f921"
            ]
           ],
           "sequentialminus": [
            [
             0,
             "#0d0887"
            ],
            [
             0.1111111111111111,
             "#46039f"
            ],
            [
             0.2222222222222222,
             "#7201a8"
            ],
            [
             0.3333333333333333,
             "#9c179e"
            ],
            [
             0.4444444444444444,
             "#bd3786"
            ],
            [
             0.5555555555555556,
             "#d8576b"
            ],
            [
             0.6666666666666666,
             "#ed7953"
            ],
            [
             0.7777777777777778,
             "#fb9f3a"
            ],
            [
             0.8888888888888888,
             "#fdca26"
            ],
            [
             1,
             "#f0f921"
            ]
           ]
          },
          "colorway": [
           "#636efa",
           "#EF553B",
           "#00cc96",
           "#ab63fa",
           "#FFA15A",
           "#19d3f3",
           "#FF6692",
           "#B6E880",
           "#FF97FF",
           "#FECB52"
          ],
          "font": {
           "color": "#2a3f5f"
          },
          "geo": {
           "bgcolor": "white",
           "lakecolor": "white",
           "landcolor": "#E5ECF6",
           "showlakes": true,
           "showland": true,
           "subunitcolor": "white"
          },
          "hoverlabel": {
           "align": "left"
          },
          "hovermode": "closest",
          "mapbox": {
           "style": "light"
          },
          "paper_bgcolor": "white",
          "plot_bgcolor": "#E5ECF6",
          "polar": {
           "angularaxis": {
            "gridcolor": "white",
            "linecolor": "white",
            "ticks": ""
           },
           "bgcolor": "#E5ECF6",
           "radialaxis": {
            "gridcolor": "white",
            "linecolor": "white",
            "ticks": ""
           }
          },
          "scene": {
           "xaxis": {
            "backgroundcolor": "#E5ECF6",
            "gridcolor": "white",
            "gridwidth": 2,
            "linecolor": "white",
            "showbackground": true,
            "ticks": "",
            "zerolinecolor": "white"
           },
           "yaxis": {
            "backgroundcolor": "#E5ECF6",
            "gridcolor": "white",
            "gridwidth": 2,
            "linecolor": "white",
            "showbackground": true,
            "ticks": "",
            "zerolinecolor": "white"
           },
           "zaxis": {
            "backgroundcolor": "#E5ECF6",
            "gridcolor": "white",
            "gridwidth": 2,
            "linecolor": "white",
            "showbackground": true,
            "ticks": "",
            "zerolinecolor": "white"
           }
          },
          "shapedefaults": {
           "line": {
            "color": "#2a3f5f"
           }
          },
          "ternary": {
           "aaxis": {
            "gridcolor": "white",
            "linecolor": "white",
            "ticks": ""
           },
           "baxis": {
            "gridcolor": "white",
            "linecolor": "white",
            "ticks": ""
           },
           "bgcolor": "#E5ECF6",
           "caxis": {
            "gridcolor": "white",
            "linecolor": "white",
            "ticks": ""
           }
          },
          "title": {
           "x": 0.05
          },
          "xaxis": {
           "automargin": true,
           "gridcolor": "white",
           "linecolor": "white",
           "ticks": "",
           "title": {
            "standoff": 15
           },
           "zerolinecolor": "white",
           "zerolinewidth": 2
          },
          "yaxis": {
           "automargin": true,
           "gridcolor": "white",
           "linecolor": "white",
           "ticks": "",
           "title": {
            "standoff": 15
           },
           "zerolinecolor": "white",
           "zerolinewidth": 2
          }
         }
        },
        "title": {
         "text": "Branch Distribution By Gender"
        },
        "xaxis": {
         "anchor": "y",
         "domain": [
          0,
          1
         ],
         "title": {
          "text": "Branch"
         }
        },
        "yaxis": {
         "anchor": "x",
         "domain": [
          0,
          1
         ],
         "title": {
          "text": "Count"
         }
        }
       }
      }
     },
     "metadata": {},
     "output_type": "display_data"
    }
   ],
   "source": [
    "fig = px.histogram(df,x='Branch',color='Gender')\n",
    "fig.update_layout(\n",
    "    title=\"Branch Distribution By Gender\",\n",
    "    xaxis=dict(title=\"Branch\"),\n",
    "    yaxis=dict(title=\"Count\")\n",
    ")\n",
    "fig.show()"
   ]
  },
  {
   "cell_type": "code",
   "execution_count": 147,
   "metadata": {},
   "outputs": [
    {
     "data": {
      "application/vnd.plotly.v1+json": {
       "config": {
        "plotlyServerURL": "https://plot.ly"
       },
       "data": [
        {
         "alignmentgroup": "True",
         "bingroup": "x",
         "hovertemplate": "Customer type=Member<br>Branch=%{x}<br>count=%{y}<extra></extra>",
         "legendgroup": "Member",
         "marker": {
          "color": "#636efa",
          "pattern": {
           "shape": ""
          }
         },
         "name": "Member",
         "offsetgroup": "Member",
         "orientation": "v",
         "showlegend": true,
         "type": "histogram",
         "x": [
          "A",
          "A",
          "A",
          "A",
          "B",
          "B",
          "B",
          "B",
          "A",
          "C",
          "A",
          "A",
          "B",
          "C",
          "C",
          "A",
          "B",
          "B",
          "C",
          "B",
          "C",
          "C",
          "B",
          "B",
          "B",
          "B",
          "C",
          "C",
          "A",
          "B",
          "C",
          "A",
          "A",
          "C",
          "B",
          "A",
          "B",
          "A",
          "B",
          "A",
          "B",
          "C",
          "A",
          "C",
          "C",
          "C",
          "A",
          "C",
          "A",
          "B",
          "C",
          "A",
          "C",
          "B",
          "C",
          "A",
          "C",
          "B",
          "B",
          "C",
          "B",
          "C",
          "B",
          "C",
          "A",
          "B",
          "A",
          "C",
          "C",
          "C",
          "C",
          "A",
          "B",
          "B",
          "C",
          "A",
          "B",
          "B",
          "B",
          "A",
          "B",
          "B",
          "A",
          "A",
          "C",
          "C",
          "A",
          "B",
          "B",
          "B",
          "C",
          "C",
          "C",
          "C",
          "B",
          "B",
          "B",
          "C",
          "C",
          "B",
          "A",
          "C",
          "C",
          "B",
          "C",
          "B",
          "B",
          "B",
          "A",
          "C",
          "B",
          "C",
          "A",
          "A",
          "B",
          "A",
          "A",
          "B",
          "C",
          "A",
          "B",
          "A",
          "A",
          "A",
          "C",
          "B",
          "A",
          "A",
          "B",
          "A",
          "A",
          "C",
          "A",
          "C",
          "C",
          "A",
          "A",
          "A",
          "C",
          "A",
          "B",
          "A",
          "A",
          "C",
          "A",
          "A",
          "C",
          "B",
          "A",
          "A",
          "A",
          "B",
          "C",
          "A",
          "A",
          "C",
          "C",
          "C",
          "C",
          "C",
          "C",
          "A",
          "C",
          "B",
          "A",
          "A",
          "C",
          "A",
          "B",
          "B",
          "B",
          "B",
          "A",
          "C",
          "B",
          "B",
          "B",
          "A",
          "A",
          "A",
          "B",
          "A",
          "B",
          "C",
          "A",
          "C",
          "B",
          "C",
          "C",
          "A",
          "A",
          "B",
          "B",
          "C",
          "C",
          "A",
          "B",
          "A",
          "C",
          "A",
          "C",
          "B",
          "B",
          "A",
          "B",
          "A",
          "C",
          "C",
          "C",
          "B",
          "A",
          "B",
          "C",
          "B",
          "B",
          "A",
          "B",
          "B",
          "C",
          "B",
          "C",
          "A",
          "C",
          "C",
          "C",
          "C",
          "A",
          "A",
          "B",
          "A",
          "B",
          "C",
          "B",
          "B",
          "A",
          "B",
          "C",
          "B",
          "A",
          "B",
          "C",
          "A",
          "B",
          "B",
          "C",
          "B",
          "C",
          "C",
          "B",
          "C",
          "C",
          "C",
          "A",
          "A",
          "B",
          "B",
          "A",
          "B",
          "C",
          "C",
          "B",
          "C",
          "B",
          "A",
          "B",
          "A",
          "A",
          "A",
          "B",
          "B",
          "A",
          "B",
          "A",
          "C",
          "B",
          "C",
          "C",
          "A",
          "A",
          "B",
          "A",
          "C",
          "A",
          "C",
          "B",
          "C",
          "B",
          "C",
          "A",
          "A",
          "B",
          "C",
          "A",
          "C",
          "A",
          "B",
          "B",
          "B",
          "B",
          "A",
          "A",
          "B",
          "B",
          "B",
          "B",
          "C",
          "B",
          "C",
          "C",
          "A",
          "B",
          "C",
          "A",
          "B",
          "B",
          "A",
          "A",
          "A",
          "C",
          "B",
          "C",
          "B",
          "C",
          "A",
          "B",
          "B",
          "B",
          "A",
          "A",
          "B",
          "A",
          "B",
          "B",
          "B",
          "A",
          "C",
          "C",
          "C",
          "A",
          "C",
          "A",
          "A",
          "A",
          "B",
          "B",
          "B",
          "C",
          "A",
          "C",
          "C",
          "A",
          "A",
          "B",
          "C",
          "C",
          "B",
          "C",
          "C",
          "B",
          "A",
          "A",
          "B",
          "C",
          "C",
          "B",
          "A",
          "A",
          "C",
          "C",
          "B",
          "C",
          "B",
          "C",
          "B",
          "A",
          "C",
          "B",
          "A",
          "B",
          "A",
          "A",
          "A",
          "B",
          "C",
          "C",
          "C",
          "C",
          "C",
          "B",
          "A",
          "C",
          "C",
          "C",
          "A",
          "C",
          "A",
          "C",
          "C",
          "C",
          "A",
          "B",
          "C",
          "A",
          "B",
          "B",
          "A",
          "C",
          "B",
          "A",
          "B",
          "A",
          "A",
          "B",
          "A",
          "B",
          "A",
          "C",
          "A",
          "C",
          "A",
          "A",
          "C",
          "A",
          "A",
          "A",
          "C",
          "A",
          "A",
          "C",
          "B",
          "C",
          "C",
          "A",
          "B",
          "A",
          "A",
          "C",
          "B",
          "B",
          "B",
          "C",
          "B",
          "A",
          "A",
          "A",
          "A",
          "A",
          "C",
          "B",
          "C",
          "C",
          "A",
          "C",
          "A",
          "C",
          "A",
          "B",
          "A",
          "A",
          "C",
          "B",
          "C",
          "C",
          "C",
          "B",
          "A",
          "C",
          "C",
          "A",
          "C",
          "A",
          "C",
          "B",
          "C",
          "B",
          "B",
          "B",
          "C",
          "B",
          "C",
          "A",
          "C",
          "A",
          "C",
          "A",
          "B",
          "B",
          "B",
          "B",
          "B",
          "C",
          "A",
          "B",
          "C",
          "B",
          "C",
          "A",
          "A"
         ],
         "xaxis": "x",
         "yaxis": "y"
        },
        {
         "alignmentgroup": "True",
         "bingroup": "x",
         "hovertemplate": "Customer type=Normal<br>Branch=%{x}<br>count=%{y}<extra></extra>",
         "legendgroup": "Normal",
         "marker": {
          "color": "#EF553B",
          "pattern": {
           "shape": ""
          }
         },
         "name": "Normal",
         "offsetgroup": "Normal",
         "orientation": "v",
         "showlegend": true,
         "type": "histogram",
         "x": [
          "C",
          "A",
          "A",
          "C",
          "C",
          "A",
          "A",
          "A",
          "A",
          "A",
          "B",
          "B",
          "B",
          "A",
          "B",
          "A",
          "B",
          "A",
          "B",
          "B",
          "A",
          "A",
          "C",
          "B",
          "C",
          "A",
          "C",
          "C",
          "C",
          "A",
          "C",
          "C",
          "C",
          "A",
          "C",
          "C",
          "C",
          "B",
          "C",
          "C",
          "C",
          "A",
          "B",
          "C",
          "C",
          "A",
          "B",
          "C",
          "A",
          "B",
          "C",
          "C",
          "A",
          "B",
          "C",
          "A",
          "C",
          "B",
          "C",
          "A",
          "B",
          "A",
          "A",
          "A",
          "C",
          "B",
          "B",
          "B",
          "C",
          "C",
          "A",
          "B",
          "A",
          "A",
          "C",
          "C",
          "A",
          "A",
          "C",
          "C",
          "B",
          "B",
          "C",
          "A",
          "A",
          "C",
          "B",
          "A",
          "A",
          "C",
          "B",
          "C",
          "A",
          "C",
          "C",
          "A",
          "A",
          "C",
          "B",
          "B",
          "C",
          "B",
          "A",
          "A",
          "C",
          "C",
          "A",
          "B",
          "B",
          "A",
          "C",
          "B",
          "B",
          "A",
          "B",
          "B",
          "B",
          "B",
          "B",
          "C",
          "A",
          "A",
          "B",
          "B",
          "A",
          "C",
          "A",
          "A",
          "A",
          "B",
          "B",
          "C",
          "A",
          "A",
          "C",
          "B",
          "C",
          "B",
          "A",
          "B",
          "B",
          "C",
          "A",
          "C",
          "A",
          "B",
          "C",
          "B",
          "C",
          "B",
          "C",
          "C",
          "C",
          "A",
          "B",
          "A",
          "A",
          "C",
          "C",
          "A",
          "A",
          "A",
          "B",
          "B",
          "A",
          "A",
          "A",
          "B",
          "C",
          "C",
          "A",
          "A",
          "A",
          "B",
          "A",
          "C",
          "C",
          "B",
          "B",
          "C",
          "C",
          "A",
          "C",
          "C",
          "C",
          "C",
          "B",
          "C",
          "C",
          "A",
          "C",
          "B",
          "C",
          "B",
          "A",
          "C",
          "A",
          "B",
          "B",
          "A",
          "A",
          "A",
          "B",
          "C",
          "C",
          "B",
          "A",
          "A",
          "C",
          "B",
          "B",
          "A",
          "A",
          "B",
          "C",
          "B",
          "C",
          "C",
          "B",
          "B",
          "C",
          "A",
          "B",
          "B",
          "C",
          "A",
          "C",
          "C",
          "A",
          "C",
          "B",
          "B",
          "A",
          "A",
          "B",
          "C",
          "C",
          "C",
          "B",
          "C",
          "A",
          "A",
          "C",
          "B",
          "A",
          "C",
          "C",
          "A",
          "B",
          "A",
          "C",
          "B",
          "B",
          "B",
          "C",
          "C",
          "C",
          "B",
          "B",
          "B",
          "A",
          "A",
          "A",
          "A",
          "B",
          "C",
          "A",
          "B",
          "A",
          "A",
          "B",
          "C",
          "A",
          "C",
          "A",
          "A",
          "A",
          "B",
          "A",
          "A",
          "B",
          "A",
          "B",
          "B",
          "B",
          "C",
          "B",
          "B",
          "C",
          "B",
          "B",
          "A",
          "C",
          "A",
          "B",
          "C",
          "B",
          "A",
          "B",
          "C",
          "A",
          "B",
          "C",
          "B",
          "A",
          "A",
          "A",
          "C",
          "A",
          "B",
          "A",
          "C",
          "C",
          "C",
          "C",
          "C",
          "B",
          "B",
          "A",
          "A",
          "A",
          "B",
          "A",
          "A",
          "A",
          "A",
          "B",
          "A",
          "C",
          "B",
          "C",
          "C",
          "B",
          "B",
          "A",
          "C",
          "B",
          "C",
          "A",
          "B",
          "B",
          "B",
          "C",
          "A",
          "C",
          "B",
          "C",
          "A",
          "C",
          "B",
          "C",
          "B",
          "B",
          "B",
          "C",
          "A",
          "C",
          "C",
          "A",
          "A",
          "B",
          "B",
          "B",
          "C",
          "A",
          "B",
          "C",
          "A",
          "C",
          "C",
          "A",
          "B",
          "A",
          "A",
          "A",
          "B",
          "B",
          "C",
          "B",
          "B",
          "A",
          "C",
          "B",
          "B",
          "C",
          "A",
          "C",
          "A",
          "C",
          "C",
          "A",
          "A",
          "A",
          "B",
          "B",
          "B",
          "A",
          "A",
          "A",
          "B",
          "C",
          "B",
          "A",
          "A",
          "B",
          "C",
          "A",
          "B",
          "A",
          "C",
          "A",
          "B",
          "A",
          "B",
          "C",
          "A",
          "B",
          "A",
          "C",
          "A",
          "A",
          "A",
          "C",
          "B",
          "B",
          "B",
          "B",
          "B",
          "B",
          "A",
          "C",
          "C",
          "A",
          "A",
          "C",
          "C",
          "B",
          "B",
          "B",
          "C",
          "B",
          "A",
          "C",
          "C",
          "B",
          "B",
          "C",
          "A",
          "C",
          "A",
          "B",
          "B",
          "C",
          "B",
          "B",
          "B",
          "B",
          "A",
          "C",
          "B",
          "C",
          "A",
          "C",
          "A",
          "A",
          "A",
          "A",
          "B",
          "A",
          "B",
          "C",
          "A",
          "B",
          "B",
          "A",
          "A",
          "B",
          "A",
          "C",
          "A",
          "B",
          "B",
          "A",
          "C",
          "C",
          "B",
          "B",
          "A",
          "B",
          "A",
          "B",
          "C",
          "A"
         ],
         "xaxis": "x",
         "yaxis": "y"
        }
       ],
       "layout": {
        "barmode": "relative",
        "legend": {
         "title": {
          "text": "Customer type"
         },
         "tracegroupgap": 0
        },
        "margin": {
         "t": 60
        },
        "template": {
         "data": {
          "bar": [
           {
            "error_x": {
             "color": "#2a3f5f"
            },
            "error_y": {
             "color": "#2a3f5f"
            },
            "marker": {
             "line": {
              "color": "#E5ECF6",
              "width": 0.5
             },
             "pattern": {
              "fillmode": "overlay",
              "size": 10,
              "solidity": 0.2
             }
            },
            "type": "bar"
           }
          ],
          "barpolar": [
           {
            "marker": {
             "line": {
              "color": "#E5ECF6",
              "width": 0.5
             },
             "pattern": {
              "fillmode": "overlay",
              "size": 10,
              "solidity": 0.2
             }
            },
            "type": "barpolar"
           }
          ],
          "carpet": [
           {
            "aaxis": {
             "endlinecolor": "#2a3f5f",
             "gridcolor": "white",
             "linecolor": "white",
             "minorgridcolor": "white",
             "startlinecolor": "#2a3f5f"
            },
            "baxis": {
             "endlinecolor": "#2a3f5f",
             "gridcolor": "white",
             "linecolor": "white",
             "minorgridcolor": "white",
             "startlinecolor": "#2a3f5f"
            },
            "type": "carpet"
           }
          ],
          "choropleth": [
           {
            "colorbar": {
             "outlinewidth": 0,
             "ticks": ""
            },
            "type": "choropleth"
           }
          ],
          "contour": [
           {
            "colorbar": {
             "outlinewidth": 0,
             "ticks": ""
            },
            "colorscale": [
             [
              0,
              "#0d0887"
             ],
             [
              0.1111111111111111,
              "#46039f"
             ],
             [
              0.2222222222222222,
              "#7201a8"
             ],
             [
              0.3333333333333333,
              "#9c179e"
             ],
             [
              0.4444444444444444,
              "#bd3786"
             ],
             [
              0.5555555555555556,
              "#d8576b"
             ],
             [
              0.6666666666666666,
              "#ed7953"
             ],
             [
              0.7777777777777778,
              "#fb9f3a"
             ],
             [
              0.8888888888888888,
              "#fdca26"
             ],
             [
              1,
              "#f0f921"
             ]
            ],
            "type": "contour"
           }
          ],
          "contourcarpet": [
           {
            "colorbar": {
             "outlinewidth": 0,
             "ticks": ""
            },
            "type": "contourcarpet"
           }
          ],
          "heatmap": [
           {
            "colorbar": {
             "outlinewidth": 0,
             "ticks": ""
            },
            "colorscale": [
             [
              0,
              "#0d0887"
             ],
             [
              0.1111111111111111,
              "#46039f"
             ],
             [
              0.2222222222222222,
              "#7201a8"
             ],
             [
              0.3333333333333333,
              "#9c179e"
             ],
             [
              0.4444444444444444,
              "#bd3786"
             ],
             [
              0.5555555555555556,
              "#d8576b"
             ],
             [
              0.6666666666666666,
              "#ed7953"
             ],
             [
              0.7777777777777778,
              "#fb9f3a"
             ],
             [
              0.8888888888888888,
              "#fdca26"
             ],
             [
              1,
              "#f0f921"
             ]
            ],
            "type": "heatmap"
           }
          ],
          "heatmapgl": [
           {
            "colorbar": {
             "outlinewidth": 0,
             "ticks": ""
            },
            "colorscale": [
             [
              0,
              "#0d0887"
             ],
             [
              0.1111111111111111,
              "#46039f"
             ],
             [
              0.2222222222222222,
              "#7201a8"
             ],
             [
              0.3333333333333333,
              "#9c179e"
             ],
             [
              0.4444444444444444,
              "#bd3786"
             ],
             [
              0.5555555555555556,
              "#d8576b"
             ],
             [
              0.6666666666666666,
              "#ed7953"
             ],
             [
              0.7777777777777778,
              "#fb9f3a"
             ],
             [
              0.8888888888888888,
              "#fdca26"
             ],
             [
              1,
              "#f0f921"
             ]
            ],
            "type": "heatmapgl"
           }
          ],
          "histogram": [
           {
            "marker": {
             "pattern": {
              "fillmode": "overlay",
              "size": 10,
              "solidity": 0.2
             }
            },
            "type": "histogram"
           }
          ],
          "histogram2d": [
           {
            "colorbar": {
             "outlinewidth": 0,
             "ticks": ""
            },
            "colorscale": [
             [
              0,
              "#0d0887"
             ],
             [
              0.1111111111111111,
              "#46039f"
             ],
             [
              0.2222222222222222,
              "#7201a8"
             ],
             [
              0.3333333333333333,
              "#9c179e"
             ],
             [
              0.4444444444444444,
              "#bd3786"
             ],
             [
              0.5555555555555556,
              "#d8576b"
             ],
             [
              0.6666666666666666,
              "#ed7953"
             ],
             [
              0.7777777777777778,
              "#fb9f3a"
             ],
             [
              0.8888888888888888,
              "#fdca26"
             ],
             [
              1,
              "#f0f921"
             ]
            ],
            "type": "histogram2d"
           }
          ],
          "histogram2dcontour": [
           {
            "colorbar": {
             "outlinewidth": 0,
             "ticks": ""
            },
            "colorscale": [
             [
              0,
              "#0d0887"
             ],
             [
              0.1111111111111111,
              "#46039f"
             ],
             [
              0.2222222222222222,
              "#7201a8"
             ],
             [
              0.3333333333333333,
              "#9c179e"
             ],
             [
              0.4444444444444444,
              "#bd3786"
             ],
             [
              0.5555555555555556,
              "#d8576b"
             ],
             [
              0.6666666666666666,
              "#ed7953"
             ],
             [
              0.7777777777777778,
              "#fb9f3a"
             ],
             [
              0.8888888888888888,
              "#fdca26"
             ],
             [
              1,
              "#f0f921"
             ]
            ],
            "type": "histogram2dcontour"
           }
          ],
          "mesh3d": [
           {
            "colorbar": {
             "outlinewidth": 0,
             "ticks": ""
            },
            "type": "mesh3d"
           }
          ],
          "parcoords": [
           {
            "line": {
             "colorbar": {
              "outlinewidth": 0,
              "ticks": ""
             }
            },
            "type": "parcoords"
           }
          ],
          "pie": [
           {
            "automargin": true,
            "type": "pie"
           }
          ],
          "scatter": [
           {
            "fillpattern": {
             "fillmode": "overlay",
             "size": 10,
             "solidity": 0.2
            },
            "type": "scatter"
           }
          ],
          "scatter3d": [
           {
            "line": {
             "colorbar": {
              "outlinewidth": 0,
              "ticks": ""
             }
            },
            "marker": {
             "colorbar": {
              "outlinewidth": 0,
              "ticks": ""
             }
            },
            "type": "scatter3d"
           }
          ],
          "scattercarpet": [
           {
            "marker": {
             "colorbar": {
              "outlinewidth": 0,
              "ticks": ""
             }
            },
            "type": "scattercarpet"
           }
          ],
          "scattergeo": [
           {
            "marker": {
             "colorbar": {
              "outlinewidth": 0,
              "ticks": ""
             }
            },
            "type": "scattergeo"
           }
          ],
          "scattergl": [
           {
            "marker": {
             "colorbar": {
              "outlinewidth": 0,
              "ticks": ""
             }
            },
            "type": "scattergl"
           }
          ],
          "scattermapbox": [
           {
            "marker": {
             "colorbar": {
              "outlinewidth": 0,
              "ticks": ""
             }
            },
            "type": "scattermapbox"
           }
          ],
          "scatterpolar": [
           {
            "marker": {
             "colorbar": {
              "outlinewidth": 0,
              "ticks": ""
             }
            },
            "type": "scatterpolar"
           }
          ],
          "scatterpolargl": [
           {
            "marker": {
             "colorbar": {
              "outlinewidth": 0,
              "ticks": ""
             }
            },
            "type": "scatterpolargl"
           }
          ],
          "scatterternary": [
           {
            "marker": {
             "colorbar": {
              "outlinewidth": 0,
              "ticks": ""
             }
            },
            "type": "scatterternary"
           }
          ],
          "surface": [
           {
            "colorbar": {
             "outlinewidth": 0,
             "ticks": ""
            },
            "colorscale": [
             [
              0,
              "#0d0887"
             ],
             [
              0.1111111111111111,
              "#46039f"
             ],
             [
              0.2222222222222222,
              "#7201a8"
             ],
             [
              0.3333333333333333,
              "#9c179e"
             ],
             [
              0.4444444444444444,
              "#bd3786"
             ],
             [
              0.5555555555555556,
              "#d8576b"
             ],
             [
              0.6666666666666666,
              "#ed7953"
             ],
             [
              0.7777777777777778,
              "#fb9f3a"
             ],
             [
              0.8888888888888888,
              "#fdca26"
             ],
             [
              1,
              "#f0f921"
             ]
            ],
            "type": "surface"
           }
          ],
          "table": [
           {
            "cells": {
             "fill": {
              "color": "#EBF0F8"
             },
             "line": {
              "color": "white"
             }
            },
            "header": {
             "fill": {
              "color": "#C8D4E3"
             },
             "line": {
              "color": "white"
             }
            },
            "type": "table"
           }
          ]
         },
         "layout": {
          "annotationdefaults": {
           "arrowcolor": "#2a3f5f",
           "arrowhead": 0,
           "arrowwidth": 1
          },
          "autotypenumbers": "strict",
          "coloraxis": {
           "colorbar": {
            "outlinewidth": 0,
            "ticks": ""
           }
          },
          "colorscale": {
           "diverging": [
            [
             0,
             "#8e0152"
            ],
            [
             0.1,
             "#c51b7d"
            ],
            [
             0.2,
             "#de77ae"
            ],
            [
             0.3,
             "#f1b6da"
            ],
            [
             0.4,
             "#fde0ef"
            ],
            [
             0.5,
             "#f7f7f7"
            ],
            [
             0.6,
             "#e6f5d0"
            ],
            [
             0.7,
             "#b8e186"
            ],
            [
             0.8,
             "#7fbc41"
            ],
            [
             0.9,
             "#4d9221"
            ],
            [
             1,
             "#276419"
            ]
           ],
           "sequential": [
            [
             0,
             "#0d0887"
            ],
            [
             0.1111111111111111,
             "#46039f"
            ],
            [
             0.2222222222222222,
             "#7201a8"
            ],
            [
             0.3333333333333333,
             "#9c179e"
            ],
            [
             0.4444444444444444,
             "#bd3786"
            ],
            [
             0.5555555555555556,
             "#d8576b"
            ],
            [
             0.6666666666666666,
             "#ed7953"
            ],
            [
             0.7777777777777778,
             "#fb9f3a"
            ],
            [
             0.8888888888888888,
             "#fdca26"
            ],
            [
             1,
             "#f0f921"
            ]
           ],
           "sequentialminus": [
            [
             0,
             "#0d0887"
            ],
            [
             0.1111111111111111,
             "#46039f"
            ],
            [
             0.2222222222222222,
             "#7201a8"
            ],
            [
             0.3333333333333333,
             "#9c179e"
            ],
            [
             0.4444444444444444,
             "#bd3786"
            ],
            [
             0.5555555555555556,
             "#d8576b"
            ],
            [
             0.6666666666666666,
             "#ed7953"
            ],
            [
             0.7777777777777778,
             "#fb9f3a"
            ],
            [
             0.8888888888888888,
             "#fdca26"
            ],
            [
             1,
             "#f0f921"
            ]
           ]
          },
          "colorway": [
           "#636efa",
           "#EF553B",
           "#00cc96",
           "#ab63fa",
           "#FFA15A",
           "#19d3f3",
           "#FF6692",
           "#B6E880",
           "#FF97FF",
           "#FECB52"
          ],
          "font": {
           "color": "#2a3f5f"
          },
          "geo": {
           "bgcolor": "white",
           "lakecolor": "white",
           "landcolor": "#E5ECF6",
           "showlakes": true,
           "showland": true,
           "subunitcolor": "white"
          },
          "hoverlabel": {
           "align": "left"
          },
          "hovermode": "closest",
          "mapbox": {
           "style": "light"
          },
          "paper_bgcolor": "white",
          "plot_bgcolor": "#E5ECF6",
          "polar": {
           "angularaxis": {
            "gridcolor": "white",
            "linecolor": "white",
            "ticks": ""
           },
           "bgcolor": "#E5ECF6",
           "radialaxis": {
            "gridcolor": "white",
            "linecolor": "white",
            "ticks": ""
           }
          },
          "scene": {
           "xaxis": {
            "backgroundcolor": "#E5ECF6",
            "gridcolor": "white",
            "gridwidth": 2,
            "linecolor": "white",
            "showbackground": true,
            "ticks": "",
            "zerolinecolor": "white"
           },
           "yaxis": {
            "backgroundcolor": "#E5ECF6",
            "gridcolor": "white",
            "gridwidth": 2,
            "linecolor": "white",
            "showbackground": true,
            "ticks": "",
            "zerolinecolor": "white"
           },
           "zaxis": {
            "backgroundcolor": "#E5ECF6",
            "gridcolor": "white",
            "gridwidth": 2,
            "linecolor": "white",
            "showbackground": true,
            "ticks": "",
            "zerolinecolor": "white"
           }
          },
          "shapedefaults": {
           "line": {
            "color": "#2a3f5f"
           }
          },
          "ternary": {
           "aaxis": {
            "gridcolor": "white",
            "linecolor": "white",
            "ticks": ""
           },
           "baxis": {
            "gridcolor": "white",
            "linecolor": "white",
            "ticks": ""
           },
           "bgcolor": "#E5ECF6",
           "caxis": {
            "gridcolor": "white",
            "linecolor": "white",
            "ticks": ""
           }
          },
          "title": {
           "x": 0.05
          },
          "xaxis": {
           "automargin": true,
           "gridcolor": "white",
           "linecolor": "white",
           "ticks": "",
           "title": {
            "standoff": 15
           },
           "zerolinecolor": "white",
           "zerolinewidth": 2
          },
          "yaxis": {
           "automargin": true,
           "gridcolor": "white",
           "linecolor": "white",
           "ticks": "",
           "title": {
            "standoff": 15
           },
           "zerolinecolor": "white",
           "zerolinewidth": 2
          }
         }
        },
        "title": {
         "text": "Branch Distribution By Gender"
        },
        "xaxis": {
         "anchor": "y",
         "domain": [
          0,
          1
         ],
         "title": {
          "text": "Branch"
         }
        },
        "yaxis": {
         "anchor": "x",
         "domain": [
          0,
          1
         ],
         "title": {
          "text": "Count"
         }
        }
       }
      }
     },
     "metadata": {},
     "output_type": "display_data"
    }
   ],
   "source": [
    "fig = px.histogram(df,x='Branch',color='Customer type')\n",
    "fig.update_layout(\n",
    "    title=\"Branch Distribution By Gender\",\n",
    "    xaxis=dict(title=\"Branch\"),\n",
    "    yaxis=dict(title=\"Count\")\n",
    ")\n",
    "fig.show()"
   ]
  },
  {
   "cell_type": "code",
   "execution_count": 146,
   "metadata": {},
   "outputs": [
    {
     "data": {
      "application/vnd.plotly.v1+json": {
       "config": {
        "plotlyServerURL": "https://plot.ly"
       },
       "data": [
        {
         "alignmentgroup": "True",
         "bingroup": "x",
         "hovertemplate": "Gender=Female<br>Customer type=%{x}<br>count=%{y}<extra></extra>",
         "legendgroup": "Female",
         "marker": {
          "color": "#636efa",
          "pattern": {
           "shape": ""
          }
         },
         "name": "Female",
         "offsetgroup": "Female",
         "orientation": "v",
         "showlegend": true,
         "type": "histogram",
         "x": [
          "Member",
          "Normal",
          "Member",
          "Normal",
          "Member",
          "Member",
          "Member",
          "Normal",
          "Normal",
          "Member",
          "Member",
          "Normal",
          "Member",
          "Normal",
          "Normal",
          "Member",
          "Member",
          "Normal",
          "Normal",
          "Member",
          "Member",
          "Member",
          "Member",
          "Member",
          "Member",
          "Member",
          "Member",
          "Normal",
          "Member",
          "Member",
          "Member",
          "Normal",
          "Member",
          "Member",
          "Member",
          "Normal",
          "Normal",
          "Member",
          "Member",
          "Normal",
          "Normal",
          "Normal",
          "Member",
          "Normal",
          "Normal",
          "Member",
          "Normal",
          "Member",
          "Normal",
          "Normal",
          "Normal",
          "Member",
          "Member",
          "Normal",
          "Member",
          "Normal",
          "Normal",
          "Normal",
          "Member",
          "Normal",
          "Normal",
          "Normal",
          "Member",
          "Normal",
          "Normal",
          "Member",
          "Normal",
          "Normal",
          "Normal",
          "Member",
          "Member",
          "Member",
          "Member",
          "Normal",
          "Normal",
          "Member",
          "Member",
          "Normal",
          "Normal",
          "Normal",
          "Normal",
          "Normal",
          "Member",
          "Normal",
          "Normal",
          "Normal",
          "Normal",
          "Member",
          "Normal",
          "Member",
          "Member",
          "Member",
          "Normal",
          "Member",
          "Member",
          "Normal",
          "Normal",
          "Normal",
          "Member",
          "Normal",
          "Member",
          "Normal",
          "Member",
          "Member",
          "Member",
          "Normal",
          "Normal",
          "Member",
          "Normal",
          "Normal",
          "Member",
          "Member",
          "Member",
          "Normal",
          "Normal",
          "Normal",
          "Member",
          "Member",
          "Member",
          "Member",
          "Member",
          "Normal",
          "Member",
          "Member",
          "Normal",
          "Normal",
          "Member",
          "Normal",
          "Normal",
          "Normal",
          "Member",
          "Normal",
          "Normal",
          "Member",
          "Member",
          "Member",
          "Member",
          "Member",
          "Normal",
          "Normal",
          "Normal",
          "Member",
          "Member",
          "Normal",
          "Member",
          "Member",
          "Member",
          "Member",
          "Member",
          "Normal",
          "Normal",
          "Normal",
          "Member",
          "Normal",
          "Normal",
          "Member",
          "Member",
          "Member",
          "Normal",
          "Normal",
          "Member",
          "Normal",
          "Member",
          "Normal",
          "Member",
          "Normal",
          "Normal",
          "Normal",
          "Normal",
          "Normal",
          "Normal",
          "Member",
          "Normal",
          "Normal",
          "Normal",
          "Member",
          "Member",
          "Normal",
          "Normal",
          "Normal",
          "Member",
          "Normal",
          "Normal",
          "Member",
          "Member",
          "Normal",
          "Member",
          "Normal",
          "Normal",
          "Normal",
          "Member",
          "Normal",
          "Normal",
          "Member",
          "Member",
          "Normal",
          "Normal",
          "Normal",
          "Normal",
          "Member",
          "Normal",
          "Member",
          "Member",
          "Normal",
          "Member",
          "Member",
          "Normal",
          "Normal",
          "Normal",
          "Member",
          "Member",
          "Normal",
          "Member",
          "Member",
          "Member",
          "Normal",
          "Normal",
          "Member",
          "Member",
          "Member",
          "Member",
          "Normal",
          "Member",
          "Member",
          "Member",
          "Member",
          "Member",
          "Member",
          "Member",
          "Normal",
          "Normal",
          "Member",
          "Member",
          "Normal",
          "Member",
          "Normal",
          "Member",
          "Member",
          "Member",
          "Normal",
          "Normal",
          "Member",
          "Member",
          "Member",
          "Normal",
          "Member",
          "Normal",
          "Member",
          "Member",
          "Normal",
          "Normal",
          "Member",
          "Normal",
          "Member",
          "Member",
          "Member",
          "Member",
          "Normal",
          "Normal",
          "Member",
          "Normal",
          "Member",
          "Member",
          "Normal",
          "Normal",
          "Normal",
          "Normal",
          "Normal",
          "Normal",
          "Member",
          "Member",
          "Normal",
          "Normal",
          "Normal",
          "Normal",
          "Normal",
          "Normal",
          "Member",
          "Normal",
          "Member",
          "Member",
          "Member",
          "Normal",
          "Normal",
          "Member",
          "Member",
          "Member",
          "Normal",
          "Normal",
          "Member",
          "Normal",
          "Normal",
          "Member",
          "Member",
          "Member",
          "Normal",
          "Member",
          "Member",
          "Member",
          "Normal",
          "Member",
          "Member",
          "Normal",
          "Member",
          "Normal",
          "Normal",
          "Member",
          "Member",
          "Member",
          "Member",
          "Member",
          "Normal",
          "Normal",
          "Normal",
          "Member",
          "Member",
          "Normal",
          "Member",
          "Member",
          "Normal",
          "Normal",
          "Normal",
          "Member",
          "Normal",
          "Normal",
          "Normal",
          "Member",
          "Member",
          "Member",
          "Normal",
          "Normal",
          "Member",
          "Member",
          "Member",
          "Normal",
          "Member",
          "Member",
          "Normal",
          "Member",
          "Member",
          "Normal",
          "Member",
          "Member",
          "Normal",
          "Member",
          "Normal",
          "Normal",
          "Normal",
          "Member",
          "Member",
          "Normal",
          "Member",
          "Member",
          "Member",
          "Member",
          "Member",
          "Member",
          "Member",
          "Member",
          "Member",
          "Member",
          "Member",
          "Member",
          "Normal",
          "Member",
          "Member",
          "Normal",
          "Member",
          "Normal",
          "Normal",
          "Member",
          "Member",
          "Member",
          "Normal",
          "Normal",
          "Normal",
          "Normal",
          "Member",
          "Member",
          "Member",
          "Normal",
          "Normal",
          "Normal",
          "Member",
          "Normal",
          "Member",
          "Normal",
          "Normal",
          "Member",
          "Member",
          "Member",
          "Member",
          "Member",
          "Normal",
          "Normal",
          "Normal",
          "Normal",
          "Normal",
          "Normal",
          "Member",
          "Member",
          "Normal",
          "Normal",
          "Member",
          "Normal",
          "Member",
          "Member",
          "Member",
          "Member",
          "Member",
          "Member",
          "Member",
          "Member",
          "Member",
          "Normal",
          "Member",
          "Normal",
          "Normal",
          "Normal",
          "Member",
          "Normal",
          "Member",
          "Member",
          "Member",
          "Normal",
          "Normal",
          "Member",
          "Member",
          "Member",
          "Normal",
          "Member",
          "Member",
          "Member",
          "Member",
          "Member",
          "Member",
          "Normal",
          "Normal",
          "Normal",
          "Member",
          "Member",
          "Member",
          "Member",
          "Normal",
          "Member",
          "Normal",
          "Member",
          "Normal",
          "Member",
          "Normal",
          "Normal",
          "Member",
          "Normal",
          "Normal",
          "Member",
          "Member",
          "Normal",
          "Member",
          "Normal",
          "Member",
          "Normal",
          "Member",
          "Normal",
          "Member",
          "Normal",
          "Normal",
          "Normal",
          "Normal",
          "Member",
          "Normal",
          "Normal",
          "Normal",
          "Normal",
          "Member",
          "Member",
          "Member",
          "Normal",
          "Normal",
          "Member",
          "Normal",
          "Normal",
          "Normal",
          "Normal",
          "Member",
          "Member",
          "Normal",
          "Normal",
          "Normal",
          "Member",
          "Normal",
          "Normal",
          "Normal",
          "Normal",
          "Member",
          "Member"
         ],
         "xaxis": "x",
         "yaxis": "y"
        },
        {
         "alignmentgroup": "True",
         "bingroup": "x",
         "hovertemplate": "Gender=Male<br>Customer type=%{x}<br>count=%{y}<extra></extra>",
         "legendgroup": "Male",
         "marker": {
          "color": "#EF553B",
          "pattern": {
           "shape": ""
          }
         },
         "name": "Male",
         "offsetgroup": "Male",
         "orientation": "v",
         "showlegend": true,
         "type": "histogram",
         "x": [
          "Normal",
          "Member",
          "Normal",
          "Normal",
          "Member",
          "Normal",
          "Normal",
          "Normal",
          "Member",
          "Normal",
          "Normal",
          "Normal",
          "Member",
          "Normal",
          "Normal",
          "Normal",
          "Member",
          "Normal",
          "Normal",
          "Member",
          "Member",
          "Member",
          "Member",
          "Member",
          "Member",
          "Member",
          "Member",
          "Normal",
          "Member",
          "Normal",
          "Normal",
          "Normal",
          "Member",
          "Member",
          "Member",
          "Normal",
          "Normal",
          "Normal",
          "Normal",
          "Member",
          "Normal",
          "Member",
          "Normal",
          "Member",
          "Normal",
          "Member",
          "Normal",
          "Normal",
          "Normal",
          "Normal",
          "Normal",
          "Member",
          "Normal",
          "Normal",
          "Normal",
          "Member",
          "Normal",
          "Normal",
          "Member",
          "Member",
          "Member",
          "Member",
          "Normal",
          "Member",
          "Member",
          "Member",
          "Member",
          "Normal",
          "Normal",
          "Normal",
          "Member",
          "Normal",
          "Member",
          "Normal",
          "Member",
          "Normal",
          "Member",
          "Member",
          "Normal",
          "Member",
          "Normal",
          "Normal",
          "Normal",
          "Normal",
          "Normal",
          "Member",
          "Normal",
          "Member",
          "Normal",
          "Member",
          "Normal",
          "Member",
          "Normal",
          "Member",
          "Member",
          "Normal",
          "Member",
          "Normal",
          "Member",
          "Member",
          "Normal",
          "Member",
          "Member",
          "Normal",
          "Normal",
          "Normal",
          "Member",
          "Normal",
          "Normal",
          "Member",
          "Member",
          "Normal",
          "Normal",
          "Normal",
          "Normal",
          "Normal",
          "Normal",
          "Normal",
          "Normal",
          "Normal",
          "Member",
          "Member",
          "Member",
          "Member",
          "Normal",
          "Normal",
          "Normal",
          "Normal",
          "Member",
          "Member",
          "Normal",
          "Member",
          "Member",
          "Member",
          "Normal",
          "Member",
          "Member",
          "Normal",
          "Member",
          "Member",
          "Member",
          "Member",
          "Member",
          "Member",
          "Normal",
          "Normal",
          "Member",
          "Normal",
          "Member",
          "Member",
          "Normal",
          "Member",
          "Normal",
          "Member",
          "Member",
          "Normal",
          "Normal",
          "Normal",
          "Member",
          "Member",
          "Normal",
          "Member",
          "Normal",
          "Member",
          "Member",
          "Member",
          "Member",
          "Member",
          "Member",
          "Normal",
          "Normal",
          "Normal",
          "Member",
          "Member",
          "Member",
          "Member",
          "Normal",
          "Normal",
          "Normal",
          "Member",
          "Member",
          "Normal",
          "Member",
          "Normal",
          "Member",
          "Normal",
          "Normal",
          "Member",
          "Normal",
          "Normal",
          "Member",
          "Normal",
          "Normal",
          "Member",
          "Member",
          "Normal",
          "Normal",
          "Member",
          "Member",
          "Member",
          "Normal",
          "Normal",
          "Member",
          "Normal",
          "Member",
          "Normal",
          "Member",
          "Member",
          "Normal",
          "Normal",
          "Member",
          "Normal",
          "Normal",
          "Normal",
          "Member",
          "Normal",
          "Member",
          "Member",
          "Normal",
          "Normal",
          "Normal",
          "Normal",
          "Normal",
          "Member",
          "Normal",
          "Member",
          "Member",
          "Normal",
          "Member",
          "Normal",
          "Normal",
          "Normal",
          "Member",
          "Normal",
          "Normal",
          "Normal",
          "Member",
          "Normal",
          "Normal",
          "Member",
          "Member",
          "Normal",
          "Normal",
          "Normal",
          "Normal",
          "Normal",
          "Normal",
          "Member",
          "Normal",
          "Normal",
          "Normal",
          "Normal",
          "Member",
          "Normal",
          "Normal",
          "Member",
          "Member",
          "Normal",
          "Member",
          "Member",
          "Member",
          "Normal",
          "Member",
          "Normal",
          "Normal",
          "Normal",
          "Member",
          "Normal",
          "Normal",
          "Member",
          "Normal",
          "Normal",
          "Normal",
          "Normal",
          "Member",
          "Member",
          "Member",
          "Normal",
          "Normal",
          "Normal",
          "Member",
          "Normal",
          "Member",
          "Normal",
          "Normal",
          "Member",
          "Normal",
          "Member",
          "Member",
          "Normal",
          "Normal",
          "Member",
          "Normal",
          "Normal",
          "Normal",
          "Normal",
          "Normal",
          "Normal",
          "Normal",
          "Normal",
          "Member",
          "Member",
          "Normal",
          "Normal",
          "Normal",
          "Normal",
          "Normal",
          "Normal",
          "Member",
          "Member",
          "Member",
          "Member",
          "Member",
          "Member",
          "Member",
          "Member",
          "Normal",
          "Member",
          "Member",
          "Normal",
          "Normal",
          "Member",
          "Normal",
          "Member",
          "Member",
          "Normal",
          "Normal",
          "Member",
          "Member",
          "Member",
          "Normal",
          "Member",
          "Normal",
          "Normal",
          "Member",
          "Member",
          "Member",
          "Member",
          "Member",
          "Member",
          "Member",
          "Member",
          "Normal",
          "Member",
          "Normal",
          "Member",
          "Member",
          "Member",
          "Member",
          "Member",
          "Member",
          "Normal",
          "Member",
          "Normal",
          "Member",
          "Normal",
          "Member",
          "Normal",
          "Normal",
          "Member",
          "Member",
          "Member",
          "Normal",
          "Normal",
          "Member",
          "Member",
          "Normal",
          "Normal",
          "Normal",
          "Member",
          "Normal",
          "Member",
          "Member",
          "Normal",
          "Member",
          "Normal",
          "Normal",
          "Normal",
          "Member",
          "Member",
          "Member",
          "Normal",
          "Member",
          "Normal",
          "Member",
          "Normal",
          "Member",
          "Member",
          "Normal",
          "Member",
          "Member",
          "Normal",
          "Normal",
          "Normal",
          "Member",
          "Normal",
          "Normal",
          "Member",
          "Member",
          "Normal",
          "Normal",
          "Member",
          "Normal",
          "Member",
          "Normal",
          "Normal",
          "Normal",
          "Member",
          "Member",
          "Normal",
          "Member",
          "Member",
          "Normal",
          "Normal",
          "Normal",
          "Member",
          "Normal",
          "Member",
          "Normal",
          "Normal",
          "Normal",
          "Normal",
          "Normal",
          "Member",
          "Member",
          "Normal",
          "Normal",
          "Normal",
          "Normal",
          "Member",
          "Member",
          "Member",
          "Member",
          "Normal",
          "Member",
          "Normal",
          "Member",
          "Member",
          "Normal",
          "Member",
          "Member",
          "Member",
          "Normal",
          "Member",
          "Member",
          "Normal",
          "Member",
          "Normal",
          "Normal",
          "Member",
          "Member",
          "Normal",
          "Normal",
          "Normal",
          "Member",
          "Member",
          "Normal",
          "Member",
          "Normal",
          "Normal",
          "Normal",
          "Member",
          "Normal",
          "Member",
          "Normal",
          "Member",
          "Member",
          "Member",
          "Member",
          "Member",
          "Member",
          "Member",
          "Normal",
          "Member",
          "Member",
          "Member",
          "Normal",
          "Member",
          "Member",
          "Normal",
          "Normal",
          "Normal",
          "Member",
          "Member",
          "Member",
          "Normal",
          "Normal",
          "Normal",
          "Member",
          "Member",
          "Member",
          "Normal",
          "Normal",
          "Normal",
          "Member",
          "Normal"
         ],
         "xaxis": "x",
         "yaxis": "y"
        }
       ],
       "layout": {
        "barmode": "relative",
        "legend": {
         "title": {
          "text": "Gender"
         },
         "tracegroupgap": 0
        },
        "margin": {
         "t": 60
        },
        "template": {
         "data": {
          "bar": [
           {
            "error_x": {
             "color": "#2a3f5f"
            },
            "error_y": {
             "color": "#2a3f5f"
            },
            "marker": {
             "line": {
              "color": "#E5ECF6",
              "width": 0.5
             },
             "pattern": {
              "fillmode": "overlay",
              "size": 10,
              "solidity": 0.2
             }
            },
            "type": "bar"
           }
          ],
          "barpolar": [
           {
            "marker": {
             "line": {
              "color": "#E5ECF6",
              "width": 0.5
             },
             "pattern": {
              "fillmode": "overlay",
              "size": 10,
              "solidity": 0.2
             }
            },
            "type": "barpolar"
           }
          ],
          "carpet": [
           {
            "aaxis": {
             "endlinecolor": "#2a3f5f",
             "gridcolor": "white",
             "linecolor": "white",
             "minorgridcolor": "white",
             "startlinecolor": "#2a3f5f"
            },
            "baxis": {
             "endlinecolor": "#2a3f5f",
             "gridcolor": "white",
             "linecolor": "white",
             "minorgridcolor": "white",
             "startlinecolor": "#2a3f5f"
            },
            "type": "carpet"
           }
          ],
          "choropleth": [
           {
            "colorbar": {
             "outlinewidth": 0,
             "ticks": ""
            },
            "type": "choropleth"
           }
          ],
          "contour": [
           {
            "colorbar": {
             "outlinewidth": 0,
             "ticks": ""
            },
            "colorscale": [
             [
              0,
              "#0d0887"
             ],
             [
              0.1111111111111111,
              "#46039f"
             ],
             [
              0.2222222222222222,
              "#7201a8"
             ],
             [
              0.3333333333333333,
              "#9c179e"
             ],
             [
              0.4444444444444444,
              "#bd3786"
             ],
             [
              0.5555555555555556,
              "#d8576b"
             ],
             [
              0.6666666666666666,
              "#ed7953"
             ],
             [
              0.7777777777777778,
              "#fb9f3a"
             ],
             [
              0.8888888888888888,
              "#fdca26"
             ],
             [
              1,
              "#f0f921"
             ]
            ],
            "type": "contour"
           }
          ],
          "contourcarpet": [
           {
            "colorbar": {
             "outlinewidth": 0,
             "ticks": ""
            },
            "type": "contourcarpet"
           }
          ],
          "heatmap": [
           {
            "colorbar": {
             "outlinewidth": 0,
             "ticks": ""
            },
            "colorscale": [
             [
              0,
              "#0d0887"
             ],
             [
              0.1111111111111111,
              "#46039f"
             ],
             [
              0.2222222222222222,
              "#7201a8"
             ],
             [
              0.3333333333333333,
              "#9c179e"
             ],
             [
              0.4444444444444444,
              "#bd3786"
             ],
             [
              0.5555555555555556,
              "#d8576b"
             ],
             [
              0.6666666666666666,
              "#ed7953"
             ],
             [
              0.7777777777777778,
              "#fb9f3a"
             ],
             [
              0.8888888888888888,
              "#fdca26"
             ],
             [
              1,
              "#f0f921"
             ]
            ],
            "type": "heatmap"
           }
          ],
          "heatmapgl": [
           {
            "colorbar": {
             "outlinewidth": 0,
             "ticks": ""
            },
            "colorscale": [
             [
              0,
              "#0d0887"
             ],
             [
              0.1111111111111111,
              "#46039f"
             ],
             [
              0.2222222222222222,
              "#7201a8"
             ],
             [
              0.3333333333333333,
              "#9c179e"
             ],
             [
              0.4444444444444444,
              "#bd3786"
             ],
             [
              0.5555555555555556,
              "#d8576b"
             ],
             [
              0.6666666666666666,
              "#ed7953"
             ],
             [
              0.7777777777777778,
              "#fb9f3a"
             ],
             [
              0.8888888888888888,
              "#fdca26"
             ],
             [
              1,
              "#f0f921"
             ]
            ],
            "type": "heatmapgl"
           }
          ],
          "histogram": [
           {
            "marker": {
             "pattern": {
              "fillmode": "overlay",
              "size": 10,
              "solidity": 0.2
             }
            },
            "type": "histogram"
           }
          ],
          "histogram2d": [
           {
            "colorbar": {
             "outlinewidth": 0,
             "ticks": ""
            },
            "colorscale": [
             [
              0,
              "#0d0887"
             ],
             [
              0.1111111111111111,
              "#46039f"
             ],
             [
              0.2222222222222222,
              "#7201a8"
             ],
             [
              0.3333333333333333,
              "#9c179e"
             ],
             [
              0.4444444444444444,
              "#bd3786"
             ],
             [
              0.5555555555555556,
              "#d8576b"
             ],
             [
              0.6666666666666666,
              "#ed7953"
             ],
             [
              0.7777777777777778,
              "#fb9f3a"
             ],
             [
              0.8888888888888888,
              "#fdca26"
             ],
             [
              1,
              "#f0f921"
             ]
            ],
            "type": "histogram2d"
           }
          ],
          "histogram2dcontour": [
           {
            "colorbar": {
             "outlinewidth": 0,
             "ticks": ""
            },
            "colorscale": [
             [
              0,
              "#0d0887"
             ],
             [
              0.1111111111111111,
              "#46039f"
             ],
             [
              0.2222222222222222,
              "#7201a8"
             ],
             [
              0.3333333333333333,
              "#9c179e"
             ],
             [
              0.4444444444444444,
              "#bd3786"
             ],
             [
              0.5555555555555556,
              "#d8576b"
             ],
             [
              0.6666666666666666,
              "#ed7953"
             ],
             [
              0.7777777777777778,
              "#fb9f3a"
             ],
             [
              0.8888888888888888,
              "#fdca26"
             ],
             [
              1,
              "#f0f921"
             ]
            ],
            "type": "histogram2dcontour"
           }
          ],
          "mesh3d": [
           {
            "colorbar": {
             "outlinewidth": 0,
             "ticks": ""
            },
            "type": "mesh3d"
           }
          ],
          "parcoords": [
           {
            "line": {
             "colorbar": {
              "outlinewidth": 0,
              "ticks": ""
             }
            },
            "type": "parcoords"
           }
          ],
          "pie": [
           {
            "automargin": true,
            "type": "pie"
           }
          ],
          "scatter": [
           {
            "fillpattern": {
             "fillmode": "overlay",
             "size": 10,
             "solidity": 0.2
            },
            "type": "scatter"
           }
          ],
          "scatter3d": [
           {
            "line": {
             "colorbar": {
              "outlinewidth": 0,
              "ticks": ""
             }
            },
            "marker": {
             "colorbar": {
              "outlinewidth": 0,
              "ticks": ""
             }
            },
            "type": "scatter3d"
           }
          ],
          "scattercarpet": [
           {
            "marker": {
             "colorbar": {
              "outlinewidth": 0,
              "ticks": ""
             }
            },
            "type": "scattercarpet"
           }
          ],
          "scattergeo": [
           {
            "marker": {
             "colorbar": {
              "outlinewidth": 0,
              "ticks": ""
             }
            },
            "type": "scattergeo"
           }
          ],
          "scattergl": [
           {
            "marker": {
             "colorbar": {
              "outlinewidth": 0,
              "ticks": ""
             }
            },
            "type": "scattergl"
           }
          ],
          "scattermapbox": [
           {
            "marker": {
             "colorbar": {
              "outlinewidth": 0,
              "ticks": ""
             }
            },
            "type": "scattermapbox"
           }
          ],
          "scatterpolar": [
           {
            "marker": {
             "colorbar": {
              "outlinewidth": 0,
              "ticks": ""
             }
            },
            "type": "scatterpolar"
           }
          ],
          "scatterpolargl": [
           {
            "marker": {
             "colorbar": {
              "outlinewidth": 0,
              "ticks": ""
             }
            },
            "type": "scatterpolargl"
           }
          ],
          "scatterternary": [
           {
            "marker": {
             "colorbar": {
              "outlinewidth": 0,
              "ticks": ""
             }
            },
            "type": "scatterternary"
           }
          ],
          "surface": [
           {
            "colorbar": {
             "outlinewidth": 0,
             "ticks": ""
            },
            "colorscale": [
             [
              0,
              "#0d0887"
             ],
             [
              0.1111111111111111,
              "#46039f"
             ],
             [
              0.2222222222222222,
              "#7201a8"
             ],
             [
              0.3333333333333333,
              "#9c179e"
             ],
             [
              0.4444444444444444,
              "#bd3786"
             ],
             [
              0.5555555555555556,
              "#d8576b"
             ],
             [
              0.6666666666666666,
              "#ed7953"
             ],
             [
              0.7777777777777778,
              "#fb9f3a"
             ],
             [
              0.8888888888888888,
              "#fdca26"
             ],
             [
              1,
              "#f0f921"
             ]
            ],
            "type": "surface"
           }
          ],
          "table": [
           {
            "cells": {
             "fill": {
              "color": "#EBF0F8"
             },
             "line": {
              "color": "white"
             }
            },
            "header": {
             "fill": {
              "color": "#C8D4E3"
             },
             "line": {
              "color": "white"
             }
            },
            "type": "table"
           }
          ]
         },
         "layout": {
          "annotationdefaults": {
           "arrowcolor": "#2a3f5f",
           "arrowhead": 0,
           "arrowwidth": 1
          },
          "autotypenumbers": "strict",
          "coloraxis": {
           "colorbar": {
            "outlinewidth": 0,
            "ticks": ""
           }
          },
          "colorscale": {
           "diverging": [
            [
             0,
             "#8e0152"
            ],
            [
             0.1,
             "#c51b7d"
            ],
            [
             0.2,
             "#de77ae"
            ],
            [
             0.3,
             "#f1b6da"
            ],
            [
             0.4,
             "#fde0ef"
            ],
            [
             0.5,
             "#f7f7f7"
            ],
            [
             0.6,
             "#e6f5d0"
            ],
            [
             0.7,
             "#b8e186"
            ],
            [
             0.8,
             "#7fbc41"
            ],
            [
             0.9,
             "#4d9221"
            ],
            [
             1,
             "#276419"
            ]
           ],
           "sequential": [
            [
             0,
             "#0d0887"
            ],
            [
             0.1111111111111111,
             "#46039f"
            ],
            [
             0.2222222222222222,
             "#7201a8"
            ],
            [
             0.3333333333333333,
             "#9c179e"
            ],
            [
             0.4444444444444444,
             "#bd3786"
            ],
            [
             0.5555555555555556,
             "#d8576b"
            ],
            [
             0.6666666666666666,
             "#ed7953"
            ],
            [
             0.7777777777777778,
             "#fb9f3a"
            ],
            [
             0.8888888888888888,
             "#fdca26"
            ],
            [
             1,
             "#f0f921"
            ]
           ],
           "sequentialminus": [
            [
             0,
             "#0d0887"
            ],
            [
             0.1111111111111111,
             "#46039f"
            ],
            [
             0.2222222222222222,
             "#7201a8"
            ],
            [
             0.3333333333333333,
             "#9c179e"
            ],
            [
             0.4444444444444444,
             "#bd3786"
            ],
            [
             0.5555555555555556,
             "#d8576b"
            ],
            [
             0.6666666666666666,
             "#ed7953"
            ],
            [
             0.7777777777777778,
             "#fb9f3a"
            ],
            [
             0.8888888888888888,
             "#fdca26"
            ],
            [
             1,
             "#f0f921"
            ]
           ]
          },
          "colorway": [
           "#636efa",
           "#EF553B",
           "#00cc96",
           "#ab63fa",
           "#FFA15A",
           "#19d3f3",
           "#FF6692",
           "#B6E880",
           "#FF97FF",
           "#FECB52"
          ],
          "font": {
           "color": "#2a3f5f"
          },
          "geo": {
           "bgcolor": "white",
           "lakecolor": "white",
           "landcolor": "#E5ECF6",
           "showlakes": true,
           "showland": true,
           "subunitcolor": "white"
          },
          "hoverlabel": {
           "align": "left"
          },
          "hovermode": "closest",
          "mapbox": {
           "style": "light"
          },
          "paper_bgcolor": "white",
          "plot_bgcolor": "#E5ECF6",
          "polar": {
           "angularaxis": {
            "gridcolor": "white",
            "linecolor": "white",
            "ticks": ""
           },
           "bgcolor": "#E5ECF6",
           "radialaxis": {
            "gridcolor": "white",
            "linecolor": "white",
            "ticks": ""
           }
          },
          "scene": {
           "xaxis": {
            "backgroundcolor": "#E5ECF6",
            "gridcolor": "white",
            "gridwidth": 2,
            "linecolor": "white",
            "showbackground": true,
            "ticks": "",
            "zerolinecolor": "white"
           },
           "yaxis": {
            "backgroundcolor": "#E5ECF6",
            "gridcolor": "white",
            "gridwidth": 2,
            "linecolor": "white",
            "showbackground": true,
            "ticks": "",
            "zerolinecolor": "white"
           },
           "zaxis": {
            "backgroundcolor": "#E5ECF6",
            "gridcolor": "white",
            "gridwidth": 2,
            "linecolor": "white",
            "showbackground": true,
            "ticks": "",
            "zerolinecolor": "white"
           }
          },
          "shapedefaults": {
           "line": {
            "color": "#2a3f5f"
           }
          },
          "ternary": {
           "aaxis": {
            "gridcolor": "white",
            "linecolor": "white",
            "ticks": ""
           },
           "baxis": {
            "gridcolor": "white",
            "linecolor": "white",
            "ticks": ""
           },
           "bgcolor": "#E5ECF6",
           "caxis": {
            "gridcolor": "white",
            "linecolor": "white",
            "ticks": ""
           }
          },
          "title": {
           "x": 0.05
          },
          "xaxis": {
           "automargin": true,
           "gridcolor": "white",
           "linecolor": "white",
           "ticks": "",
           "title": {
            "standoff": 15
           },
           "zerolinecolor": "white",
           "zerolinewidth": 2
          },
          "yaxis": {
           "automargin": true,
           "gridcolor": "white",
           "linecolor": "white",
           "ticks": "",
           "title": {
            "standoff": 15
           },
           "zerolinecolor": "white",
           "zerolinewidth": 2
          }
         }
        },
        "title": {
         "text": "Branch Distribution By Gender"
        },
        "xaxis": {
         "anchor": "y",
         "domain": [
          0,
          1
         ],
         "title": {
          "text": "Branch"
         }
        },
        "yaxis": {
         "anchor": "x",
         "domain": [
          0,
          1
         ],
         "title": {
          "text": "Count"
         }
        }
       }
      }
     },
     "metadata": {},
     "output_type": "display_data"
    }
   ],
   "source": [
    "fig = px.histogram(df,x='Customer type',color='Gender')\n",
    "fig.update_layout(\n",
    "    title=\"Branch Distribution By Gender\",\n",
    "    xaxis=dict(title=\"Branch\"),\n",
    "    yaxis=dict(title=\"Count\")\n",
    ")\n",
    "fig.show()"
   ]
  },
  {
   "cell_type": "code",
   "execution_count": 148,
   "metadata": {},
   "outputs": [
    {
     "data": {
      "application/vnd.plotly.v1+json": {
       "config": {
        "plotlyServerURL": "https://plot.ly"
       },
       "data": [
        {
         "alignmentgroup": "True",
         "bingroup": "x",
         "hovertemplate": "Payment=Ewallet<br>Branch=%{x}<br>count=%{y}<extra></extra>",
         "legendgroup": "Ewallet",
         "marker": {
          "color": "#636efa",
          "pattern": {
           "shape": ""
          }
         },
         "name": "Ewallet",
         "offsetgroup": "Ewallet",
         "orientation": "v",
         "showlegend": true,
         "type": "histogram",
         "x": [
          "A",
          "A",
          "A",
          "C",
          "A",
          "C",
          "B",
          "A",
          "A",
          "B",
          "C",
          "B",
          "A",
          "A",
          "C",
          "C",
          "A",
          "A",
          "C",
          "B",
          "B",
          "C",
          "B",
          "B",
          "A",
          "C",
          "B",
          "C",
          "B",
          "B",
          "A",
          "C",
          "B",
          "C",
          "C",
          "C",
          "A",
          "A",
          "B",
          "A",
          "A",
          "B",
          "A",
          "B",
          "B",
          "A",
          "B",
          "B",
          "C",
          "B",
          "C",
          "A",
          "A",
          "A",
          "C",
          "B",
          "B",
          "B",
          "C",
          "B",
          "A",
          "B",
          "A",
          "A",
          "C",
          "A",
          "C",
          "B",
          "B",
          "A",
          "B",
          "B",
          "A",
          "B",
          "A",
          "C",
          "B",
          "A",
          "B",
          "B",
          "B",
          "B",
          "B",
          "C",
          "A",
          "A",
          "A",
          "A",
          "A",
          "B",
          "A",
          "A",
          "A",
          "C",
          "B",
          "A",
          "B",
          "B",
          "C",
          "A",
          "C",
          "B",
          "A",
          "A",
          "A",
          "C",
          "C",
          "A",
          "B",
          "C",
          "A",
          "B",
          "C",
          "A",
          "B",
          "C",
          "C",
          "A",
          "C",
          "C",
          "C",
          "A",
          "C",
          "A",
          "A",
          "A",
          "A",
          "C",
          "B",
          "C",
          "A",
          "C",
          "B",
          "A",
          "A",
          "B",
          "C",
          "B",
          "C",
          "A",
          "C",
          "A",
          "C",
          "C",
          "C",
          "C",
          "A",
          "A",
          "C",
          "C",
          "C",
          "B",
          "A",
          "A",
          "B",
          "A",
          "B",
          "B",
          "B",
          "B",
          "C",
          "C",
          "A",
          "A",
          "A",
          "C",
          "B",
          "A",
          "A",
          "B",
          "A",
          "B",
          "C",
          "A",
          "C",
          "A",
          "C",
          "A",
          "B",
          "A",
          "B",
          "A",
          "A",
          "B",
          "A",
          "C",
          "A",
          "B",
          "C",
          "B",
          "B",
          "A",
          "C",
          "A",
          "C",
          "A",
          "C",
          "C",
          "B",
          "A",
          "A",
          "B",
          "A",
          "A",
          "C",
          "C",
          "A",
          "A",
          "A",
          "B",
          "B",
          "B",
          "C",
          "B",
          "C",
          "A",
          "B",
          "B",
          "A",
          "A",
          "B",
          "B",
          "C",
          "A",
          "B",
          "C",
          "A",
          "C",
          "A",
          "B",
          "C",
          "A",
          "B",
          "C",
          "B",
          "C",
          "A",
          "C",
          "C",
          "C",
          "C",
          "A",
          "B",
          "C",
          "A",
          "A",
          "B",
          "B",
          "C",
          "B",
          "C",
          "A",
          "A",
          "B",
          "A",
          "B",
          "C",
          "B",
          "A",
          "A",
          "A",
          "A",
          "B",
          "B",
          "C",
          "B",
          "A",
          "C",
          "C",
          "A",
          "B",
          "C",
          "B",
          "C",
          "C",
          "C",
          "B",
          "B",
          "A",
          "B",
          "A",
          "B",
          "A",
          "C",
          "A",
          "A",
          "C",
          "B",
          "A",
          "C",
          "A",
          "C",
          "C",
          "A",
          "C",
          "C",
          "B",
          "B",
          "A",
          "A",
          "A",
          "C",
          "A",
          "C",
          "A",
          "B",
          "C",
          "A",
          "C",
          "A",
          "B",
          "B",
          "C",
          "B",
          "B",
          "B",
          "A",
          "C",
          "B",
          "C",
          "C",
          "C",
          "A",
          "A",
          "B",
          "C",
          "B",
          "B",
          "B",
          "B",
          "A",
          "B",
          "B",
          "A",
          "B",
          "B",
          "C",
          "B",
          "A",
          "B",
          "C",
          "C"
         ],
         "xaxis": "x",
         "yaxis": "y"
        },
        {
         "alignmentgroup": "True",
         "bingroup": "x",
         "hovertemplate": "Payment=Cash<br>Branch=%{x}<br>count=%{y}<extra></extra>",
         "legendgroup": "Cash",
         "marker": {
          "color": "#EF553B",
          "pattern": {
           "shape": ""
          }
         },
         "name": "Cash",
         "offsetgroup": "Cash",
         "orientation": "v",
         "showlegend": true,
         "type": "histogram",
         "x": [
          "C",
          "B",
          "A",
          "B",
          "B",
          "B",
          "A",
          "B",
          "B",
          "B",
          "C",
          "B",
          "C",
          "C",
          "B",
          "C",
          "A",
          "C",
          "A",
          "A",
          "C",
          "B",
          "A",
          "A",
          "A",
          "C",
          "C",
          "C",
          "C",
          "C",
          "A",
          "B",
          "C",
          "C",
          "B",
          "C",
          "C",
          "C",
          "A",
          "B",
          "A",
          "C",
          "C",
          "B",
          "A",
          "B",
          "A",
          "B",
          "C",
          "A",
          "B",
          "C",
          "C",
          "C",
          "B",
          "A",
          "A",
          "C",
          "C",
          "C",
          "B",
          "C",
          "C",
          "C",
          "B",
          "C",
          "C",
          "B",
          "B",
          "A",
          "C",
          "C",
          "A",
          "B",
          "B",
          "B",
          "B",
          "B",
          "A",
          "A",
          "B",
          "A",
          "A",
          "B",
          "B",
          "A",
          "B",
          "C",
          "A",
          "B",
          "C",
          "C",
          "A",
          "A",
          "B",
          "C",
          "C",
          "A",
          "A",
          "A",
          "C",
          "C",
          "A",
          "C",
          "C",
          "B",
          "A",
          "A",
          "A",
          "B",
          "A",
          "C",
          "C",
          "C",
          "C",
          "C",
          "C",
          "A",
          "A",
          "C",
          "A",
          "B",
          "A",
          "B",
          "B",
          "A",
          "A",
          "C",
          "A",
          "A",
          "B",
          "C",
          "B",
          "C",
          "A",
          "C",
          "C",
          "C",
          "A",
          "C",
          "B",
          "C",
          "C",
          "B",
          "B",
          "C",
          "C",
          "B",
          "B",
          "B",
          "B",
          "B",
          "A",
          "A",
          "C",
          "C",
          "B",
          "A",
          "B",
          "C",
          "A",
          "B",
          "B",
          "A",
          "B",
          "B",
          "C",
          "C",
          "C",
          "C",
          "B",
          "C",
          "A",
          "B",
          "A",
          "C",
          "C",
          "B",
          "B",
          "C",
          "B",
          "C",
          "C",
          "B",
          "A",
          "B",
          "B",
          "B",
          "A",
          "C",
          "C",
          "A",
          "B",
          "A",
          "B",
          "B",
          "A",
          "B",
          "B",
          "B",
          "A",
          "B",
          "B",
          "A",
          "C",
          "A",
          "A",
          "C",
          "A",
          "A",
          "B",
          "C",
          "C",
          "B",
          "C",
          "B",
          "B",
          "A",
          "B",
          "B",
          "B",
          "C",
          "B",
          "C",
          "B",
          "C",
          "C",
          "B",
          "A",
          "A",
          "B",
          "C",
          "B",
          "B",
          "A",
          "B",
          "A",
          "C",
          "A",
          "C",
          "A",
          "C",
          "C",
          "A",
          "B",
          "B",
          "B",
          "C",
          "A",
          "B",
          "C",
          "C",
          "C",
          "B",
          "A",
          "C",
          "C",
          "C",
          "A",
          "B",
          "B",
          "A",
          "C",
          "B",
          "C",
          "C",
          "C",
          "C",
          "A",
          "A",
          "B",
          "A",
          "A",
          "B",
          "A",
          "A",
          "C",
          "C",
          "A",
          "C",
          "A",
          "B",
          "B",
          "A",
          "C",
          "A",
          "B",
          "A",
          "C",
          "A",
          "A",
          "B",
          "B",
          "A",
          "B",
          "A",
          "B",
          "A",
          "B",
          "A",
          "C",
          "B",
          "A",
          "A",
          "C",
          "B",
          "B",
          "C",
          "C",
          "A",
          "C",
          "A",
          "A",
          "C",
          "A",
          "B",
          "A",
          "A",
          "C",
          "A",
          "C",
          "B",
          "A",
          "C",
          "B",
          "C",
          "A",
          "C",
          "A",
          "C",
          "A",
          "B",
          "A",
          "C",
          "A",
          "C",
          "A",
          "C",
          "C",
          "A",
          "A",
          "A"
         ],
         "xaxis": "x",
         "yaxis": "y"
        },
        {
         "alignmentgroup": "True",
         "bingroup": "x",
         "hovertemplate": "Payment=Credit card<br>Branch=%{x}<br>count=%{y}<extra></extra>",
         "legendgroup": "Credit card",
         "marker": {
          "color": "#00cc96",
          "pattern": {
           "shape": ""
          }
         },
         "name": "Credit card",
         "offsetgroup": "Credit card",
         "orientation": "v",
         "showlegend": true,
         "type": "histogram",
         "x": [
          "A",
          "A",
          "B",
          "A",
          "A",
          "A",
          "B",
          "A",
          "A",
          "B",
          "A",
          "B",
          "B",
          "C",
          "C",
          "A",
          "C",
          "C",
          "C",
          "A",
          "C",
          "C",
          "A",
          "B",
          "C",
          "C",
          "C",
          "C",
          "C",
          "A",
          "C",
          "B",
          "C",
          "A",
          "C",
          "B",
          "A",
          "C",
          "C",
          "C",
          "C",
          "B",
          "A",
          "B",
          "C",
          "A",
          "A",
          "C",
          "A",
          "B",
          "A",
          "B",
          "B",
          "A",
          "C",
          "A",
          "C",
          "B",
          "A",
          "C",
          "C",
          "C",
          "B",
          "C",
          "B",
          "B",
          "A",
          "B",
          "C",
          "B",
          "C",
          "C",
          "A",
          "A",
          "C",
          "B",
          "A",
          "B",
          "C",
          "C",
          "A",
          "C",
          "A",
          "C",
          "A",
          "A",
          "A",
          "A",
          "C",
          "B",
          "B",
          "C",
          "B",
          "A",
          "A",
          "C",
          "A",
          "B",
          "A",
          "A",
          "A",
          "C",
          "B",
          "B",
          "B",
          "B",
          "B",
          "C",
          "A",
          "A",
          "B",
          "A",
          "B",
          "B",
          "A",
          "A",
          "B",
          "A",
          "B",
          "C",
          "C",
          "A",
          "A",
          "C",
          "B",
          "B",
          "B",
          "B",
          "B",
          "A",
          "C",
          "B",
          "A",
          "B",
          "C",
          "C",
          "B",
          "B",
          "B",
          "C",
          "B",
          "A",
          "C",
          "C",
          "A",
          "A",
          "A",
          "C",
          "A",
          "C",
          "B",
          "B",
          "B",
          "C",
          "B",
          "C",
          "C",
          "C",
          "B",
          "A",
          "A",
          "B",
          "B",
          "A",
          "B",
          "A",
          "C",
          "B",
          "C",
          "B",
          "A",
          "C",
          "B",
          "C",
          "A",
          "C",
          "B",
          "B",
          "B",
          "A",
          "C",
          "B",
          "A",
          "C",
          "B",
          "A",
          "C",
          "C",
          "A",
          "C",
          "A",
          "A",
          "B",
          "B",
          "A",
          "A",
          "A",
          "B",
          "B",
          "A",
          "C",
          "B",
          "A",
          "C",
          "A",
          "C",
          "B",
          "C",
          "B",
          "C",
          "A",
          "B",
          "B",
          "B",
          "B",
          "A",
          "B",
          "B",
          "A",
          "A",
          "A",
          "B",
          "B",
          "C",
          "B",
          "A",
          "C",
          "C",
          "C",
          "B",
          "C",
          "B",
          "A",
          "A",
          "B",
          "B",
          "A",
          "C",
          "C",
          "C",
          "B",
          "C",
          "A",
          "A",
          "C",
          "C",
          "A",
          "C",
          "A",
          "A",
          "B",
          "A",
          "A",
          "C",
          "B",
          "B",
          "A",
          "B",
          "A",
          "B",
          "A",
          "A",
          "B",
          "A",
          "C",
          "A",
          "C",
          "B",
          "B",
          "C",
          "A",
          "A",
          "A",
          "C",
          "B",
          "C",
          "B",
          "B",
          "C",
          "A",
          "C",
          "B",
          "B",
          "B",
          "C",
          "C",
          "C",
          "C",
          "B",
          "A",
          "B",
          "C",
          "A",
          "A",
          "C",
          "A",
          "B",
          "B",
          "A",
          "B",
          "B",
          "B",
          "B",
          "B",
          "B",
          "B",
          "A"
         ],
         "xaxis": "x",
         "yaxis": "y"
        }
       ],
       "layout": {
        "barmode": "relative",
        "legend": {
         "title": {
          "text": "Payment"
         },
         "tracegroupgap": 0
        },
        "margin": {
         "t": 60
        },
        "template": {
         "data": {
          "bar": [
           {
            "error_x": {
             "color": "#2a3f5f"
            },
            "error_y": {
             "color": "#2a3f5f"
            },
            "marker": {
             "line": {
              "color": "#E5ECF6",
              "width": 0.5
             },
             "pattern": {
              "fillmode": "overlay",
              "size": 10,
              "solidity": 0.2
             }
            },
            "type": "bar"
           }
          ],
          "barpolar": [
           {
            "marker": {
             "line": {
              "color": "#E5ECF6",
              "width": 0.5
             },
             "pattern": {
              "fillmode": "overlay",
              "size": 10,
              "solidity": 0.2
             }
            },
            "type": "barpolar"
           }
          ],
          "carpet": [
           {
            "aaxis": {
             "endlinecolor": "#2a3f5f",
             "gridcolor": "white",
             "linecolor": "white",
             "minorgridcolor": "white",
             "startlinecolor": "#2a3f5f"
            },
            "baxis": {
             "endlinecolor": "#2a3f5f",
             "gridcolor": "white",
             "linecolor": "white",
             "minorgridcolor": "white",
             "startlinecolor": "#2a3f5f"
            },
            "type": "carpet"
           }
          ],
          "choropleth": [
           {
            "colorbar": {
             "outlinewidth": 0,
             "ticks": ""
            },
            "type": "choropleth"
           }
          ],
          "contour": [
           {
            "colorbar": {
             "outlinewidth": 0,
             "ticks": ""
            },
            "colorscale": [
             [
              0,
              "#0d0887"
             ],
             [
              0.1111111111111111,
              "#46039f"
             ],
             [
              0.2222222222222222,
              "#7201a8"
             ],
             [
              0.3333333333333333,
              "#9c179e"
             ],
             [
              0.4444444444444444,
              "#bd3786"
             ],
             [
              0.5555555555555556,
              "#d8576b"
             ],
             [
              0.6666666666666666,
              "#ed7953"
             ],
             [
              0.7777777777777778,
              "#fb9f3a"
             ],
             [
              0.8888888888888888,
              "#fdca26"
             ],
             [
              1,
              "#f0f921"
             ]
            ],
            "type": "contour"
           }
          ],
          "contourcarpet": [
           {
            "colorbar": {
             "outlinewidth": 0,
             "ticks": ""
            },
            "type": "contourcarpet"
           }
          ],
          "heatmap": [
           {
            "colorbar": {
             "outlinewidth": 0,
             "ticks": ""
            },
            "colorscale": [
             [
              0,
              "#0d0887"
             ],
             [
              0.1111111111111111,
              "#46039f"
             ],
             [
              0.2222222222222222,
              "#7201a8"
             ],
             [
              0.3333333333333333,
              "#9c179e"
             ],
             [
              0.4444444444444444,
              "#bd3786"
             ],
             [
              0.5555555555555556,
              "#d8576b"
             ],
             [
              0.6666666666666666,
              "#ed7953"
             ],
             [
              0.7777777777777778,
              "#fb9f3a"
             ],
             [
              0.8888888888888888,
              "#fdca26"
             ],
             [
              1,
              "#f0f921"
             ]
            ],
            "type": "heatmap"
           }
          ],
          "heatmapgl": [
           {
            "colorbar": {
             "outlinewidth": 0,
             "ticks": ""
            },
            "colorscale": [
             [
              0,
              "#0d0887"
             ],
             [
              0.1111111111111111,
              "#46039f"
             ],
             [
              0.2222222222222222,
              "#7201a8"
             ],
             [
              0.3333333333333333,
              "#9c179e"
             ],
             [
              0.4444444444444444,
              "#bd3786"
             ],
             [
              0.5555555555555556,
              "#d8576b"
             ],
             [
              0.6666666666666666,
              "#ed7953"
             ],
             [
              0.7777777777777778,
              "#fb9f3a"
             ],
             [
              0.8888888888888888,
              "#fdca26"
             ],
             [
              1,
              "#f0f921"
             ]
            ],
            "type": "heatmapgl"
           }
          ],
          "histogram": [
           {
            "marker": {
             "pattern": {
              "fillmode": "overlay",
              "size": 10,
              "solidity": 0.2
             }
            },
            "type": "histogram"
           }
          ],
          "histogram2d": [
           {
            "colorbar": {
             "outlinewidth": 0,
             "ticks": ""
            },
            "colorscale": [
             [
              0,
              "#0d0887"
             ],
             [
              0.1111111111111111,
              "#46039f"
             ],
             [
              0.2222222222222222,
              "#7201a8"
             ],
             [
              0.3333333333333333,
              "#9c179e"
             ],
             [
              0.4444444444444444,
              "#bd3786"
             ],
             [
              0.5555555555555556,
              "#d8576b"
             ],
             [
              0.6666666666666666,
              "#ed7953"
             ],
             [
              0.7777777777777778,
              "#fb9f3a"
             ],
             [
              0.8888888888888888,
              "#fdca26"
             ],
             [
              1,
              "#f0f921"
             ]
            ],
            "type": "histogram2d"
           }
          ],
          "histogram2dcontour": [
           {
            "colorbar": {
             "outlinewidth": 0,
             "ticks": ""
            },
            "colorscale": [
             [
              0,
              "#0d0887"
             ],
             [
              0.1111111111111111,
              "#46039f"
             ],
             [
              0.2222222222222222,
              "#7201a8"
             ],
             [
              0.3333333333333333,
              "#9c179e"
             ],
             [
              0.4444444444444444,
              "#bd3786"
             ],
             [
              0.5555555555555556,
              "#d8576b"
             ],
             [
              0.6666666666666666,
              "#ed7953"
             ],
             [
              0.7777777777777778,
              "#fb9f3a"
             ],
             [
              0.8888888888888888,
              "#fdca26"
             ],
             [
              1,
              "#f0f921"
             ]
            ],
            "type": "histogram2dcontour"
           }
          ],
          "mesh3d": [
           {
            "colorbar": {
             "outlinewidth": 0,
             "ticks": ""
            },
            "type": "mesh3d"
           }
          ],
          "parcoords": [
           {
            "line": {
             "colorbar": {
              "outlinewidth": 0,
              "ticks": ""
             }
            },
            "type": "parcoords"
           }
          ],
          "pie": [
           {
            "automargin": true,
            "type": "pie"
           }
          ],
          "scatter": [
           {
            "fillpattern": {
             "fillmode": "overlay",
             "size": 10,
             "solidity": 0.2
            },
            "type": "scatter"
           }
          ],
          "scatter3d": [
           {
            "line": {
             "colorbar": {
              "outlinewidth": 0,
              "ticks": ""
             }
            },
            "marker": {
             "colorbar": {
              "outlinewidth": 0,
              "ticks": ""
             }
            },
            "type": "scatter3d"
           }
          ],
          "scattercarpet": [
           {
            "marker": {
             "colorbar": {
              "outlinewidth": 0,
              "ticks": ""
             }
            },
            "type": "scattercarpet"
           }
          ],
          "scattergeo": [
           {
            "marker": {
             "colorbar": {
              "outlinewidth": 0,
              "ticks": ""
             }
            },
            "type": "scattergeo"
           }
          ],
          "scattergl": [
           {
            "marker": {
             "colorbar": {
              "outlinewidth": 0,
              "ticks": ""
             }
            },
            "type": "scattergl"
           }
          ],
          "scattermapbox": [
           {
            "marker": {
             "colorbar": {
              "outlinewidth": 0,
              "ticks": ""
             }
            },
            "type": "scattermapbox"
           }
          ],
          "scatterpolar": [
           {
            "marker": {
             "colorbar": {
              "outlinewidth": 0,
              "ticks": ""
             }
            },
            "type": "scatterpolar"
           }
          ],
          "scatterpolargl": [
           {
            "marker": {
             "colorbar": {
              "outlinewidth": 0,
              "ticks": ""
             }
            },
            "type": "scatterpolargl"
           }
          ],
          "scatterternary": [
           {
            "marker": {
             "colorbar": {
              "outlinewidth": 0,
              "ticks": ""
             }
            },
            "type": "scatterternary"
           }
          ],
          "surface": [
           {
            "colorbar": {
             "outlinewidth": 0,
             "ticks": ""
            },
            "colorscale": [
             [
              0,
              "#0d0887"
             ],
             [
              0.1111111111111111,
              "#46039f"
             ],
             [
              0.2222222222222222,
              "#7201a8"
             ],
             [
              0.3333333333333333,
              "#9c179e"
             ],
             [
              0.4444444444444444,
              "#bd3786"
             ],
             [
              0.5555555555555556,
              "#d8576b"
             ],
             [
              0.6666666666666666,
              "#ed7953"
             ],
             [
              0.7777777777777778,
              "#fb9f3a"
             ],
             [
              0.8888888888888888,
              "#fdca26"
             ],
             [
              1,
              "#f0f921"
             ]
            ],
            "type": "surface"
           }
          ],
          "table": [
           {
            "cells": {
             "fill": {
              "color": "#EBF0F8"
             },
             "line": {
              "color": "white"
             }
            },
            "header": {
             "fill": {
              "color": "#C8D4E3"
             },
             "line": {
              "color": "white"
             }
            },
            "type": "table"
           }
          ]
         },
         "layout": {
          "annotationdefaults": {
           "arrowcolor": "#2a3f5f",
           "arrowhead": 0,
           "arrowwidth": 1
          },
          "autotypenumbers": "strict",
          "coloraxis": {
           "colorbar": {
            "outlinewidth": 0,
            "ticks": ""
           }
          },
          "colorscale": {
           "diverging": [
            [
             0,
             "#8e0152"
            ],
            [
             0.1,
             "#c51b7d"
            ],
            [
             0.2,
             "#de77ae"
            ],
            [
             0.3,
             "#f1b6da"
            ],
            [
             0.4,
             "#fde0ef"
            ],
            [
             0.5,
             "#f7f7f7"
            ],
            [
             0.6,
             "#e6f5d0"
            ],
            [
             0.7,
             "#b8e186"
            ],
            [
             0.8,
             "#7fbc41"
            ],
            [
             0.9,
             "#4d9221"
            ],
            [
             1,
             "#276419"
            ]
           ],
           "sequential": [
            [
             0,
             "#0d0887"
            ],
            [
             0.1111111111111111,
             "#46039f"
            ],
            [
             0.2222222222222222,
             "#7201a8"
            ],
            [
             0.3333333333333333,
             "#9c179e"
            ],
            [
             0.4444444444444444,
             "#bd3786"
            ],
            [
             0.5555555555555556,
             "#d8576b"
            ],
            [
             0.6666666666666666,
             "#ed7953"
            ],
            [
             0.7777777777777778,
             "#fb9f3a"
            ],
            [
             0.8888888888888888,
             "#fdca26"
            ],
            [
             1,
             "#f0f921"
            ]
           ],
           "sequentialminus": [
            [
             0,
             "#0d0887"
            ],
            [
             0.1111111111111111,
             "#46039f"
            ],
            [
             0.2222222222222222,
             "#7201a8"
            ],
            [
             0.3333333333333333,
             "#9c179e"
            ],
            [
             0.4444444444444444,
             "#bd3786"
            ],
            [
             0.5555555555555556,
             "#d8576b"
            ],
            [
             0.6666666666666666,
             "#ed7953"
            ],
            [
             0.7777777777777778,
             "#fb9f3a"
            ],
            [
             0.8888888888888888,
             "#fdca26"
            ],
            [
             1,
             "#f0f921"
            ]
           ]
          },
          "colorway": [
           "#636efa",
           "#EF553B",
           "#00cc96",
           "#ab63fa",
           "#FFA15A",
           "#19d3f3",
           "#FF6692",
           "#B6E880",
           "#FF97FF",
           "#FECB52"
          ],
          "font": {
           "color": "#2a3f5f"
          },
          "geo": {
           "bgcolor": "white",
           "lakecolor": "white",
           "landcolor": "#E5ECF6",
           "showlakes": true,
           "showland": true,
           "subunitcolor": "white"
          },
          "hoverlabel": {
           "align": "left"
          },
          "hovermode": "closest",
          "mapbox": {
           "style": "light"
          },
          "paper_bgcolor": "white",
          "plot_bgcolor": "#E5ECF6",
          "polar": {
           "angularaxis": {
            "gridcolor": "white",
            "linecolor": "white",
            "ticks": ""
           },
           "bgcolor": "#E5ECF6",
           "radialaxis": {
            "gridcolor": "white",
            "linecolor": "white",
            "ticks": ""
           }
          },
          "scene": {
           "xaxis": {
            "backgroundcolor": "#E5ECF6",
            "gridcolor": "white",
            "gridwidth": 2,
            "linecolor": "white",
            "showbackground": true,
            "ticks": "",
            "zerolinecolor": "white"
           },
           "yaxis": {
            "backgroundcolor": "#E5ECF6",
            "gridcolor": "white",
            "gridwidth": 2,
            "linecolor": "white",
            "showbackground": true,
            "ticks": "",
            "zerolinecolor": "white"
           },
           "zaxis": {
            "backgroundcolor": "#E5ECF6",
            "gridcolor": "white",
            "gridwidth": 2,
            "linecolor": "white",
            "showbackground": true,
            "ticks": "",
            "zerolinecolor": "white"
           }
          },
          "shapedefaults": {
           "line": {
            "color": "#2a3f5f"
           }
          },
          "ternary": {
           "aaxis": {
            "gridcolor": "white",
            "linecolor": "white",
            "ticks": ""
           },
           "baxis": {
            "gridcolor": "white",
            "linecolor": "white",
            "ticks": ""
           },
           "bgcolor": "#E5ECF6",
           "caxis": {
            "gridcolor": "white",
            "linecolor": "white",
            "ticks": ""
           }
          },
          "title": {
           "x": 0.05
          },
          "xaxis": {
           "automargin": true,
           "gridcolor": "white",
           "linecolor": "white",
           "ticks": "",
           "title": {
            "standoff": 15
           },
           "zerolinecolor": "white",
           "zerolinewidth": 2
          },
          "yaxis": {
           "automargin": true,
           "gridcolor": "white",
           "linecolor": "white",
           "ticks": "",
           "title": {
            "standoff": 15
           },
           "zerolinecolor": "white",
           "zerolinewidth": 2
          }
         }
        },
        "title": {
         "text": "Branch Distribution By Gender"
        },
        "xaxis": {
         "anchor": "y",
         "domain": [
          0,
          1
         ],
         "title": {
          "text": "Branch"
         }
        },
        "yaxis": {
         "anchor": "x",
         "domain": [
          0,
          1
         ],
         "title": {
          "text": "Count"
         }
        }
       }
      }
     },
     "metadata": {},
     "output_type": "display_data"
    }
   ],
   "source": [
    "fig = px.histogram(df,x='Branch',color='Payment')\n",
    "fig.update_layout(\n",
    "    title=\"Branch Distribution By Gender\",\n",
    "    xaxis=dict(title=\"Branch\"),\n",
    "    yaxis=dict(title=\"Count\")\n",
    ")\n",
    "fig.show()"
   ]
  },
  {
   "cell_type": "code",
   "execution_count": null,
   "metadata": {},
   "outputs": [],
   "source": []
  },
  {
   "cell_type": "markdown",
   "metadata": {},
   "source": [
    "fig = px.histogram(df,x='Branch',color='Gender')\n",
    "fig.update_layout(\n",
    "    title=\"Branch Distribution By Gender\",\n",
    "    xaxis=dict(title=\"Branch\"),\n",
    "    yaxis=dict(title=\"Count\")\n",
    ")\n",
    "fig.show()"
   ]
  },
  {
   "cell_type": "markdown",
   "metadata": {},
   "source": [
    "Date_Columns\n",
    ". A column for The Day\n",
    ". A column for the hour"
   ]
  },
  {
   "cell_type": "code",
   "execution_count": 131,
   "metadata": {},
   "outputs": [],
   "source": [
    "df['Day']=df['Date'].dt.day"
   ]
  },
  {
   "cell_type": "code",
   "execution_count": 132,
   "metadata": {},
   "outputs": [],
   "source": [
    "df['Week_day']= df['Date'].dt.strftime('%A')\n",
    "weekday_categories = ['Monday', 'Tuesday', 'Wednesday', 'Thursday', 'Friday', 'Saturday', 'Sunday']#Usa order\n",
    "df['Week_day'] = pd.Categorical(df['Week_day'], categories=weekday_categories, ordered=True)"
   ]
  },
  {
   "cell_type": "code",
   "execution_count": 133,
   "metadata": {},
   "outputs": [],
   "source": [
    "#hour_column\n",
    "df['Hour'] = pd.to_datetime(df['Time']).dt.hour\n",
    "\n",
    "def extract_Daytime(x):\n",
    "    if x == 00:\n",
    "        return 'Midnight'\n",
    "    elif x == 12:\n",
    "        return \"Noon\"\n",
    "    elif x > 00 and x < 12:\n",
    "        return \"Morning\"\n",
    "    elif x > 12 and x < 18:\n",
    "        return \"Afternoon\"\n",
    "    else:\n",
    "        return \"Evening\"\n"
   ]
  },
  {
   "cell_type": "code",
   "execution_count": 134,
   "metadata": {},
   "outputs": [],
   "source": [
    "df['Daytime_Period'] = df['Hour'].apply(extract_Daytime)"
   ]
  },
  {
   "cell_type": "code",
   "execution_count": 135,
   "metadata": {},
   "outputs": [
    {
     "name": "stderr",
     "output_type": "stream",
     "text": [
      "C:\\Users\\ghozy\\AppData\\Local\\Temp\\ipykernel_2536\\3643903805.py:2: FutureWarning:\n",
      "\n",
      "\n",
      "\n",
      "The `ci` parameter is deprecated. Use `errorbar=None` for the same effect.\n",
      "\n",
      "\n"
     ]
    },
    {
     "data": {
      "image/png": "[encoded data removed]",
      "text/plain": [
       "<Figure size 1000x400 with 1 Axes>"
      ]
     },
     "metadata": {},
     "output_type": "display_data"
    }
   ],
   "source": [
    "plt.figure(figsize=(10, 4))\n",
    "sns.barplot(data = df, x = 'Week_day', y = 'Total',ci = None, estimator='sum')\n",
    "plt.ylabel('Total Sales')\n",
    "plt.title('Total Sales By Week_day')\n",
    "plt.show()"
   ]
  },
  {
   "cell_type": "code",
   "execution_count": 151,
   "metadata": {},
   "outputs": [
    {
     "data": {
      "application/vnd.plotly.v1+json": {
       "config": {
        "plotlyServerURL": "https://plot.ly"
       },
       "data": [
        {
         "alignmentgroup": "True",
         "bingroup": "x",
         "hovertemplate": "Week_day=Saturday<br>Branch=%{x}<br>count=%{y}<extra></extra>",
         "legendgroup": "Saturday",
         "marker": {
          "color": "#636efa",
          "pattern": {
           "shape": ""
          }
         },
         "name": "Saturday",
         "offsetgroup": "Saturday",
         "orientation": "v",
         "showlegend": true,
         "type": "histogram",
         "x": [
          "A",
          "B",
          "A",
          "C",
          "C",
          "C",
          "B",
          "A",
          "C",
          "A",
          "B",
          "C",
          "C",
          "C",
          "C",
          "A",
          "A",
          "C",
          "A",
          "C",
          "A",
          "C",
          "B",
          "B",
          "B",
          "A",
          "B",
          "B",
          "C",
          "A",
          "B",
          "B",
          "A",
          "C",
          "A",
          "C",
          "B",
          "A",
          "B",
          "B",
          "B",
          "A",
          "B",
          "A",
          "B",
          "B",
          "B",
          "C",
          "A",
          "A",
          "A",
          "C",
          "C",
          "B",
          "A",
          "C",
          "A",
          "A",
          "B",
          "B",
          "B",
          "B",
          "B",
          "A",
          "C",
          "A",
          "B",
          "C",
          "B",
          "B",
          "A",
          "C",
          "C",
          "C",
          "A",
          "B",
          "A",
          "B",
          "C",
          "A",
          "A",
          "C",
          "C",
          "A",
          "C",
          "B",
          "B",
          "A",
          "B",
          "B",
          "C",
          "B",
          "A",
          "C",
          "C",
          "C",
          "C",
          "B",
          "B",
          "B",
          "A",
          "A",
          "A",
          "B",
          "C",
          "C",
          "C",
          "B",
          "B",
          "C",
          "B",
          "B",
          "A",
          "B",
          "A",
          "B",
          "C",
          "B",
          "C",
          "B",
          "C",
          "C",
          "A",
          "C",
          "B",
          "B",
          "C",
          "B",
          "A",
          "A",
          "A",
          "A",
          "B",
          "B",
          "C",
          "A",
          "B",
          "C",
          "A",
          "A",
          "C",
          "C",
          "A",
          "B",
          "C",
          "C",
          "C",
          "B",
          "B",
          "C",
          "C",
          "A",
          "A",
          "A",
          "A",
          "B",
          "C",
          "B",
          "B",
          "B",
          "C",
          "A"
         ],
         "xaxis": "x",
         "yaxis": "y"
        },
        {
         "alignmentgroup": "True",
         "bingroup": "x",
         "hovertemplate": "Week_day=Friday<br>Branch=%{x}<br>count=%{y}<extra></extra>",
         "legendgroup": "Friday",
         "marker": {
          "color": "#EF553B",
          "pattern": {
           "shape": ""
          }
         },
         "name": "Friday",
         "offsetgroup": "Friday",
         "orientation": "v",
         "showlegend": true,
         "type": "histogram",
         "x": [
          "C",
          "A",
          "A",
          "B",
          "A",
          "B",
          "B",
          "A",
          "A",
          "B",
          "B",
          "C",
          "C",
          "A",
          "B",
          "C",
          "C",
          "A",
          "B",
          "C",
          "B",
          "B",
          "C",
          "A",
          "C",
          "C",
          "C",
          "B",
          "A",
          "B",
          "C",
          "B",
          "B",
          "B",
          "C",
          "A",
          "B",
          "A",
          "C",
          "A",
          "A",
          "A",
          "A",
          "B",
          "C",
          "A",
          "A",
          "C",
          "A",
          "A",
          "B",
          "B",
          "C",
          "B",
          "B",
          "C",
          "A",
          "C",
          "C",
          "B",
          "B",
          "A",
          "B",
          "B",
          "A",
          "A",
          "B",
          "A",
          "C",
          "B",
          "A",
          "C",
          "B",
          "B",
          "C",
          "B",
          "C",
          "A",
          "C",
          "A",
          "B",
          "B",
          "A",
          "C",
          "B",
          "A",
          "A",
          "B",
          "B",
          "A",
          "B",
          "B",
          "A",
          "B",
          "A",
          "B",
          "A",
          "A",
          "C",
          "A",
          "A",
          "A",
          "C",
          "B",
          "B",
          "C",
          "C",
          "A",
          "A",
          "B",
          "A",
          "C",
          "A",
          "C",
          "B",
          "A",
          "B",
          "B",
          "C",
          "A",
          "A",
          "A",
          "B",
          "B",
          "A",
          "C",
          "C",
          "B",
          "B",
          "C",
          "B",
          "B",
          "C",
          "A",
          "B",
          "A"
         ],
         "xaxis": "x",
         "yaxis": "y"
        },
        {
         "alignmentgroup": "True",
         "bingroup": "x",
         "hovertemplate": "Week_day=Sunday<br>Branch=%{x}<br>count=%{y}<extra></extra>",
         "legendgroup": "Sunday",
         "marker": {
          "color": "#00cc96",
          "pattern": {
           "shape": ""
          }
         },
         "name": "Sunday",
         "offsetgroup": "Sunday",
         "orientation": "v",
         "showlegend": true,
         "type": "histogram",
         "x": [
          "A",
          "A",
          "C",
          "A",
          "A",
          "A",
          "B",
          "B",
          "C",
          "A",
          "A",
          "C",
          "B",
          "C",
          "C",
          "C",
          "C",
          "C",
          "B",
          "A",
          "A",
          "B",
          "B",
          "A",
          "C",
          "A",
          "B",
          "A",
          "C",
          "C",
          "B",
          "B",
          "C",
          "A",
          "C",
          "A",
          "A",
          "A",
          "C",
          "A",
          "C",
          "A",
          "C",
          "A",
          "A",
          "C",
          "B",
          "B",
          "C",
          "A",
          "C",
          "A",
          "C",
          "A",
          "C",
          "B",
          "A",
          "A",
          "C",
          "C",
          "A",
          "C",
          "C",
          "B",
          "C",
          "C",
          "C",
          "B",
          "C",
          "A",
          "A",
          "B",
          "A",
          "B",
          "C",
          "A",
          "B",
          "C",
          "C",
          "C",
          "A",
          "B",
          "A",
          "A",
          "B",
          "A",
          "C",
          "A",
          "B",
          "B",
          "B",
          "C",
          "B",
          "B",
          "C",
          "A",
          "C",
          "A",
          "B",
          "A",
          "A",
          "C",
          "C",
          "C",
          "A",
          "C",
          "A",
          "A",
          "B",
          "B",
          "A",
          "C",
          "A",
          "B",
          "A",
          "A",
          "A",
          "C",
          "B",
          "B",
          "C",
          "A",
          "B",
          "C",
          "A",
          "B",
          "B",
          "C",
          "A",
          "A",
          "B",
          "B",
          "A"
         ],
         "xaxis": "x",
         "yaxis": "y"
        },
        {
         "alignmentgroup": "True",
         "bingroup": "x",
         "hovertemplate": "Week_day=Monday<br>Branch=%{x}<br>count=%{y}<extra></extra>",
         "legendgroup": "Monday",
         "marker": {
          "color": "#ab63fa",
          "pattern": {
           "shape": ""
          }
         },
         "name": "Monday",
         "offsetgroup": "Monday",
         "orientation": "v",
         "showlegend": true,
         "type": "histogram",
         "x": [
          "C",
          "A",
          "A",
          "A",
          "B",
          "C",
          "B",
          "B",
          "C",
          "C",
          "B",
          "C",
          "C",
          "C",
          "C",
          "A",
          "A",
          "C",
          "C",
          "A",
          "B",
          "C",
          "A",
          "C",
          "B",
          "C",
          "C",
          "B",
          "A",
          "B",
          "C",
          "A",
          "A",
          "B",
          "A",
          "B",
          "C",
          "A",
          "A",
          "A",
          "C",
          "A",
          "C",
          "C",
          "A",
          "A",
          "C",
          "B",
          "A",
          "A",
          "B",
          "C",
          "B",
          "C",
          "C",
          "A",
          "C",
          "A",
          "A",
          "B",
          "A",
          "A",
          "B",
          "B",
          "B",
          "B",
          "A",
          "C",
          "A",
          "A",
          "A",
          "C",
          "A",
          "A",
          "B",
          "C",
          "B",
          "C",
          "C",
          "B",
          "A",
          "A",
          "B",
          "A",
          "A",
          "B",
          "A",
          "C",
          "C",
          "B",
          "B",
          "C",
          "A",
          "B",
          "A",
          "A",
          "C",
          "C",
          "A",
          "B",
          "B",
          "A",
          "B",
          "B",
          "C",
          "B",
          "B",
          "B",
          "B",
          "C",
          "A",
          "A",
          "A",
          "B",
          "C",
          "A",
          "A",
          "B",
          "A",
          "A",
          "B",
          "B",
          "B",
          "C",
          "A"
         ],
         "xaxis": "x",
         "yaxis": "y"
        },
        {
         "alignmentgroup": "True",
         "bingroup": "x",
         "hovertemplate": "Week_day=Thursday<br>Branch=%{x}<br>count=%{y}<extra></extra>",
         "legendgroup": "Thursday",
         "marker": {
          "color": "#FFA15A",
          "pattern": {
           "shape": ""
          }
         },
         "name": "Thursday",
         "offsetgroup": "Thursday",
         "orientation": "v",
         "showlegend": true,
         "type": "histogram",
         "x": [
          "A",
          "A",
          "B",
          "B",
          "B",
          "C",
          "A",
          "B",
          "A",
          "A",
          "A",
          "A",
          "C",
          "B",
          "A",
          "A",
          "A",
          "B",
          "A",
          "B",
          "C",
          "C",
          "B",
          "C",
          "A",
          "C",
          "C",
          "C",
          "C",
          "C",
          "B",
          "C",
          "A",
          "A",
          "B",
          "A",
          "C",
          "C",
          "A",
          "B",
          "A",
          "A",
          "C",
          "A",
          "A",
          "B",
          "C",
          "C",
          "C",
          "A",
          "B",
          "A",
          "C",
          "B",
          "C",
          "C",
          "A",
          "B",
          "A",
          "C",
          "B",
          "B",
          "A",
          "C",
          "B",
          "A",
          "C",
          "A",
          "C",
          "C",
          "B",
          "A",
          "B",
          "C",
          "A",
          "C",
          "C",
          "B",
          "A",
          "B",
          "C",
          "C",
          "A",
          "B",
          "B",
          "A",
          "C",
          "B",
          "C",
          "B",
          "C",
          "B",
          "A",
          "A",
          "C",
          "A",
          "A",
          "B",
          "B",
          "B",
          "B",
          "C",
          "B",
          "B",
          "A",
          "C",
          "C",
          "A",
          "B",
          "C",
          "B",
          "A",
          "A",
          "B",
          "A",
          "C",
          "A",
          "C",
          "B",
          "C",
          "A",
          "A",
          "C",
          "C",
          "C",
          "B",
          "B",
          "C",
          "C",
          "A",
          "B",
          "C",
          "B",
          "C",
          "A",
          "B",
          "B",
          "B"
         ],
         "xaxis": "x",
         "yaxis": "y"
        },
        {
         "alignmentgroup": "True",
         "bingroup": "x",
         "hovertemplate": "Week_day=Wednesday<br>Branch=%{x}<br>count=%{y}<extra></extra>",
         "legendgroup": "Wednesday",
         "marker": {
          "color": "#19d3f3",
          "pattern": {
           "shape": ""
          }
         },
         "name": "Wednesday",
         "offsetgroup": "Wednesday",
         "orientation": "v",
         "showlegend": true,
         "type": "histogram",
         "x": [
          "B",
          "B",
          "C",
          "B",
          "B",
          "A",
          "A",
          "A",
          "C",
          "C",
          "A",
          "A",
          "B",
          "C",
          "C",
          "B",
          "C",
          "A",
          "C",
          "B",
          "A",
          "A",
          "B",
          "A",
          "C",
          "B",
          "C",
          "C",
          "B",
          "C",
          "B",
          "B",
          "A",
          "A",
          "A",
          "B",
          "B",
          "C",
          "A",
          "C",
          "B",
          "B",
          "C",
          "C",
          "A",
          "B",
          "C",
          "A",
          "C",
          "B",
          "A",
          "A",
          "A",
          "A",
          "B",
          "C",
          "B",
          "B",
          "B",
          "B",
          "B",
          "C",
          "C",
          "B",
          "B",
          "B",
          "C",
          "A",
          "B",
          "B",
          "B",
          "A",
          "A",
          "B",
          "A",
          "B",
          "B",
          "C",
          "A",
          "C",
          "A",
          "A",
          "A",
          "A",
          "B",
          "B",
          "B",
          "B",
          "C",
          "B",
          "C",
          "C",
          "B",
          "C",
          "A",
          "A",
          "C",
          "C",
          "B",
          "B",
          "A",
          "C",
          "A",
          "A",
          "C",
          "C",
          "A",
          "B",
          "C",
          "C",
          "C",
          "C",
          "A",
          "A",
          "C",
          "B",
          "A",
          "B",
          "C",
          "A",
          "C",
          "A",
          "A",
          "C",
          "C",
          "B",
          "C",
          "B",
          "B",
          "A",
          "B",
          "A",
          "C",
          "C",
          "B",
          "C",
          "B",
          "A",
          "C",
          "C"
         ],
         "xaxis": "x",
         "yaxis": "y"
        },
        {
         "alignmentgroup": "True",
         "bingroup": "x",
         "hovertemplate": "Week_day=Tuesday<br>Branch=%{x}<br>count=%{y}<extra></extra>",
         "legendgroup": "Tuesday",
         "marker": {
          "color": "#FF6692",
          "pattern": {
           "shape": ""
          }
         },
         "name": "Tuesday",
         "offsetgroup": "Tuesday",
         "orientation": "v",
         "showlegend": true,
         "type": "histogram",
         "x": [
          "A",
          "B",
          "A",
          "B",
          "A",
          "C",
          "C",
          "B",
          "A",
          "C",
          "C",
          "C",
          "B",
          "B",
          "C",
          "B",
          "B",
          "C",
          "B",
          "C",
          "C",
          "C",
          "C",
          "A",
          "B",
          "B",
          "A",
          "C",
          "C",
          "C",
          "B",
          "B",
          "B",
          "C",
          "A",
          "B",
          "A",
          "A",
          "B",
          "A",
          "B",
          "B",
          "A",
          "B",
          "A",
          "A",
          "C",
          "C",
          "B",
          "C",
          "A",
          "B",
          "B",
          "C",
          "C",
          "C",
          "B",
          "C",
          "C",
          "C",
          "B",
          "C",
          "C",
          "A",
          "C",
          "A",
          "B",
          "B",
          "A",
          "A",
          "B",
          "C",
          "B",
          "C",
          "B",
          "C",
          "B",
          "B",
          "C",
          "B",
          "C",
          "A",
          "C",
          "A",
          "B",
          "B",
          "A",
          "B",
          "A",
          "A",
          "C",
          "A",
          "A",
          "B",
          "C",
          "C",
          "B",
          "B",
          "A",
          "A",
          "C",
          "B",
          "B",
          "B",
          "B",
          "C",
          "A",
          "A",
          "A",
          "C",
          "C",
          "C",
          "B",
          "C",
          "A",
          "B",
          "B",
          "C",
          "A",
          "B",
          "A",
          "B",
          "B",
          "C",
          "C",
          "A",
          "C",
          "A",
          "A",
          "A",
          "A",
          "A",
          "B",
          "A",
          "C",
          "C",
          "C",
          "A",
          "B",
          "A",
          "A",
          "C",
          "A",
          "C",
          "B",
          "A",
          "A",
          "C",
          "A",
          "A",
          "C",
          "A",
          "A",
          "A",
          "B",
          "B",
          "C"
         ],
         "xaxis": "x",
         "yaxis": "y"
        }
       ],
       "layout": {
        "barmode": "relative",
        "legend": {
         "title": {
          "text": "Week_day"
         },
         "tracegroupgap": 0
        },
        "margin": {
         "t": 60
        },
        "template": {
         "data": {
          "bar": [
           {
            "error_x": {
             "color": "#2a3f5f"
            },
            "error_y": {
             "color": "#2a3f5f"
            },
            "marker": {
             "line": {
              "color": "#E5ECF6",
              "width": 0.5
             },
             "pattern": {
              "fillmode": "overlay",
              "size": 10,
              "solidity": 0.2
             }
            },
            "type": "bar"
           }
          ],
          "barpolar": [
           {
            "marker": {
             "line": {
              "color": "#E5ECF6",
              "width": 0.5
             },
             "pattern": {
              "fillmode": "overlay",
              "size": 10,
              "solidity": 0.2
             }
            },
            "type": "barpolar"
           }
          ],
          "carpet": [
           {
            "aaxis": {
             "endlinecolor": "#2a3f5f",
             "gridcolor": "white",
             "linecolor": "white",
             "minorgridcolor": "white",
             "startlinecolor": "#2a3f5f"
            },
            "baxis": {
             "endlinecolor": "#2a3f5f",
             "gridcolor": "white",
             "linecolor": "white",
             "minorgridcolor": "white",
             "startlinecolor": "#2a3f5f"
            },
            "type": "carpet"
           }
          ],
          "choropleth": [
           {
            "colorbar": {
             "outlinewidth": 0,
             "ticks": ""
            },
            "type": "choropleth"
           }
          ],
          "contour": [
           {
            "colorbar": {
             "outlinewidth": 0,
             "ticks": ""
            },
            "colorscale": [
             [
              0,
              "#0d0887"
             ],
             [
              0.1111111111111111,
              "#46039f"
             ],
             [
              0.2222222222222222,
              "#7201a8"
             ],
             [
              0.3333333333333333,
              "#9c179e"
             ],
             [
              0.4444444444444444,
              "#bd3786"
             ],
             [
              0.5555555555555556,
              "#d8576b"
             ],
             [
              0.6666666666666666,
              "#ed7953"
             ],
             [
              0.7777777777777778,
              "#fb9f3a"
             ],
             [
              0.8888888888888888,
              "#fdca26"
             ],
             [
              1,
              "#f0f921"
             ]
            ],
            "type": "contour"
           }
          ],
          "contourcarpet": [
           {
            "colorbar": {
             "outlinewidth": 0,
             "ticks": ""
            },
            "type": "contourcarpet"
           }
          ],
          "heatmap": [
           {
            "colorbar": {
             "outlinewidth": 0,
             "ticks": ""
            },
            "colorscale": [
             [
              0,
              "#0d0887"
             ],
             [
              0.1111111111111111,
              "#46039f"
             ],
             [
              0.2222222222222222,
              "#7201a8"
             ],
             [
              0.3333333333333333,
              "#9c179e"
             ],
             [
              0.4444444444444444,
              "#bd3786"
             ],
             [
              0.5555555555555556,
              "#d8576b"
             ],
             [
              0.6666666666666666,
              "#ed7953"
             ],
             [
              0.7777777777777778,
              "#fb9f3a"
             ],
             [
              0.8888888888888888,
              "#fdca26"
             ],
             [
              1,
              "#f0f921"
             ]
            ],
            "type": "heatmap"
           }
          ],
          "heatmapgl": [
           {
            "colorbar": {
             "outlinewidth": 0,
             "ticks": ""
            },
            "colorscale": [
             [
              0,
              "#0d0887"
             ],
             [
              0.1111111111111111,
              "#46039f"
             ],
             [
              0.2222222222222222,
              "#7201a8"
             ],
             [
              0.3333333333333333,
              "#9c179e"
             ],
             [
              0.4444444444444444,
              "#bd3786"
             ],
             [
              0.5555555555555556,
              "#d8576b"
             ],
             [
              0.6666666666666666,
              "#ed7953"
             ],
             [
              0.7777777777777778,
              "#fb9f3a"
             ],
             [
              0.8888888888888888,
              "#fdca26"
             ],
             [
              1,
              "#f0f921"
             ]
            ],
            "type": "heatmapgl"
           }
          ],
          "histogram": [
           {
            "marker": {
             "pattern": {
              "fillmode": "overlay",
              "size": 10,
              "solidity": 0.2
             }
            },
            "type": "histogram"
           }
          ],
          "histogram2d": [
           {
            "colorbar": {
             "outlinewidth": 0,
             "ticks": ""
            },
            "colorscale": [
             [
              0,
              "#0d0887"
             ],
             [
              0.1111111111111111,
              "#46039f"
             ],
             [
              0.2222222222222222,
              "#7201a8"
             ],
             [
              0.3333333333333333,
              "#9c179e"
             ],
             [
              0.4444444444444444,
              "#bd3786"
             ],
             [
              0.5555555555555556,
              "#d8576b"
             ],
             [
              0.6666666666666666,
              "#ed7953"
             ],
             [
              0.7777777777777778,
              "#fb9f3a"
             ],
             [
              0.8888888888888888,
              "#fdca26"
             ],
             [
              1,
              "#f0f921"
             ]
            ],
            "type": "histogram2d"
           }
          ],
          "histogram2dcontour": [
           {
            "colorbar": {
             "outlinewidth": 0,
             "ticks": ""
            },
            "colorscale": [
             [
              0,
              "#0d0887"
             ],
             [
              0.1111111111111111,
              "#46039f"
             ],
             [
              0.2222222222222222,
              "#7201a8"
             ],
             [
              0.3333333333333333,
              "#9c179e"
             ],
             [
              0.4444444444444444,
              "#bd3786"
             ],
             [
              0.5555555555555556,
              "#d8576b"
             ],
             [
              0.6666666666666666,
              "#ed7953"
             ],
             [
              0.7777777777777778,
              "#fb9f3a"
             ],
             [
              0.8888888888888888,
              "#fdca26"
             ],
             [
              1,
              "#f0f921"
             ]
            ],
            "type": "histogram2dcontour"
           }
          ],
          "mesh3d": [
           {
            "colorbar": {
             "outlinewidth": 0,
             "ticks": ""
            },
            "type": "mesh3d"
           }
          ],
          "parcoords": [
           {
            "line": {
             "colorbar": {
              "outlinewidth": 0,
              "ticks": ""
             }
            },
            "type": "parcoords"
           }
          ],
          "pie": [
           {
            "automargin": true,
            "type": "pie"
           }
          ],
          "scatter": [
           {
            "fillpattern": {
             "fillmode": "overlay",
             "size": 10,
             "solidity": 0.2
            },
            "type": "scatter"
           }
          ],
          "scatter3d": [
           {
            "line": {
             "colorbar": {
              "outlinewidth": 0,
              "ticks": ""
             }
            },
            "marker": {
             "colorbar": {
              "outlinewidth": 0,
              "ticks": ""
             }
            },
            "type": "scatter3d"
           }
          ],
          "scattercarpet": [
           {
            "marker": {
             "colorbar": {
              "outlinewidth": 0,
              "ticks": ""
             }
            },
            "type": "scattercarpet"
           }
          ],
          "scattergeo": [
           {
            "marker": {
             "colorbar": {
              "outlinewidth": 0,
              "ticks": ""
             }
            },
            "type": "scattergeo"
           }
          ],
          "scattergl": [
           {
            "marker": {
             "colorbar": {
              "outlinewidth": 0,
              "ticks": ""
             }
            },
            "type": "scattergl"
           }
          ],
          "scattermapbox": [
           {
            "marker": {
             "colorbar": {
              "outlinewidth": 0,
              "ticks": ""
             }
            },
            "type": "scattermapbox"
           }
          ],
          "scatterpolar": [
           {
            "marker": {
             "colorbar": {
              "outlinewidth": 0,
              "ticks": ""
             }
            },
            "type": "scatterpolar"
           }
          ],
          "scatterpolargl": [
           {
            "marker": {
             "colorbar": {
              "outlinewidth": 0,
              "ticks": ""
             }
            },
            "type": "scatterpolargl"
           }
          ],
          "scatterternary": [
           {
            "marker": {
             "colorbar": {
              "outlinewidth": 0,
              "ticks": ""
             }
            },
            "type": "scatterternary"
           }
          ],
          "surface": [
           {
            "colorbar": {
             "outlinewidth": 0,
             "ticks": ""
            },
            "colorscale": [
             [
              0,
              "#0d0887"
             ],
             [
              0.1111111111111111,
              "#46039f"
             ],
             [
              0.2222222222222222,
              "#7201a8"
             ],
             [
              0.3333333333333333,
              "#9c179e"
             ],
             [
              0.4444444444444444,
              "#bd3786"
             ],
             [
              0.5555555555555556,
              "#d8576b"
             ],
             [
              0.6666666666666666,
              "#ed7953"
             ],
             [
              0.7777777777777778,
              "#fb9f3a"
             ],
             [
              0.8888888888888888,
              "#fdca26"
             ],
             [
              1,
              "#f0f921"
             ]
            ],
            "type": "surface"
           }
          ],
          "table": [
           {
            "cells": {
             "fill": {
              "color": "#EBF0F8"
             },
             "line": {
              "color": "white"
             }
            },
            "header": {
             "fill": {
              "color": "#C8D4E3"
             },
             "line": {
              "color": "white"
             }
            },
            "type": "table"
           }
          ]
         },
         "layout": {
          "annotationdefaults": {
           "arrowcolor": "#2a3f5f",
           "arrowhead": 0,
           "arrowwidth": 1
          },
          "autotypenumbers": "strict",
          "coloraxis": {
           "colorbar": {
            "outlinewidth": 0,
            "ticks": ""
           }
          },
          "colorscale": {
           "diverging": [
            [
             0,
             "#8e0152"
            ],
            [
             0.1,
             "#c51b7d"
            ],
            [
             0.2,
             "#de77ae"
            ],
            [
             0.3,
             "#f1b6da"
            ],
            [
             0.4,
             "#fde0ef"
            ],
            [
             0.5,
             "#f7f7f7"
            ],
            [
             0.6,
             "#e6f5d0"
            ],
            [
             0.7,
             "#b8e186"
            ],
            [
             0.8,
             "#7fbc41"
            ],
            [
             0.9,
             "#4d9221"
            ],
            [
             1,
             "#276419"
            ]
           ],
           "sequential": [
            [
             0,
             "#0d0887"
            ],
            [
             0.1111111111111111,
             "#46039f"
            ],
            [
             0.2222222222222222,
             "#7201a8"
            ],
            [
             0.3333333333333333,
             "#9c179e"
            ],
            [
             0.4444444444444444,
             "#bd3786"
            ],
            [
             0.5555555555555556,
             "#d8576b"
            ],
            [
             0.6666666666666666,
             "#ed7953"
            ],
            [
             0.7777777777777778,
             "#fb9f3a"
            ],
            [
             0.8888888888888888,
             "#fdca26"
            ],
            [
             1,
             "#f0f921"
            ]
           ],
           "sequentialminus": [
            [
             0,
             "#0d0887"
            ],
            [
             0.1111111111111111,
             "#46039f"
            ],
            [
             0.2222222222222222,
             "#7201a8"
            ],
            [
             0.3333333333333333,
             "#9c179e"
            ],
            [
             0.4444444444444444,
             "#bd3786"
            ],
            [
             0.5555555555555556,
             "#d8576b"
            ],
            [
             0.6666666666666666,
             "#ed7953"
            ],
            [
             0.7777777777777778,
             "#fb9f3a"
            ],
            [
             0.8888888888888888,
             "#fdca26"
            ],
            [
             1,
             "#f0f921"
            ]
           ]
          },
          "colorway": [
           "#636efa",
           "#EF553B",
           "#00cc96",
           "#ab63fa",
           "#FFA15A",
           "#19d3f3",
           "#FF6692",
           "#B6E880",
           "#FF97FF",
           "#FECB52"
          ],
          "font": {
           "color": "#2a3f5f"
          },
          "geo": {
           "bgcolor": "white",
           "lakecolor": "white",
           "landcolor": "#E5ECF6",
           "showlakes": true,
           "showland": true,
           "subunitcolor": "white"
          },
          "hoverlabel": {
           "align": "left"
          },
          "hovermode": "closest",
          "mapbox": {
           "style": "light"
          },
          "paper_bgcolor": "white",
          "plot_bgcolor": "#E5ECF6",
          "polar": {
           "angularaxis": {
            "gridcolor": "white",
            "linecolor": "white",
            "ticks": ""
           },
           "bgcolor": "#E5ECF6",
           "radialaxis": {
            "gridcolor": "white",
            "linecolor": "white",
            "ticks": ""
           }
          },
          "scene": {
           "xaxis": {
            "backgroundcolor": "#E5ECF6",
            "gridcolor": "white",
            "gridwidth": 2,
            "linecolor": "white",
            "showbackground": true,
            "ticks": "",
            "zerolinecolor": "white"
           },
           "yaxis": {
            "backgroundcolor": "#E5ECF6",
            "gridcolor": "white",
            "gridwidth": 2,
            "linecolor": "white",
            "showbackground": true,
            "ticks": "",
            "zerolinecolor": "white"
           },
           "zaxis": {
            "backgroundcolor": "#E5ECF6",
            "gridcolor": "white",
            "gridwidth": 2,
            "linecolor": "white",
            "showbackground": true,
            "ticks": "",
            "zerolinecolor": "white"
           }
          },
          "shapedefaults": {
           "line": {
            "color": "#2a3f5f"
           }
          },
          "ternary": {
           "aaxis": {
            "gridcolor": "white",
            "linecolor": "white",
            "ticks": ""
           },
           "baxis": {
            "gridcolor": "white",
            "linecolor": "white",
            "ticks": ""
           },
           "bgcolor": "#E5ECF6",
           "caxis": {
            "gridcolor": "white",
            "linecolor": "white",
            "ticks": ""
           }
          },
          "title": {
           "x": 0.05
          },
          "xaxis": {
           "automargin": true,
           "gridcolor": "white",
           "linecolor": "white",
           "ticks": "",
           "title": {
            "standoff": 15
           },
           "zerolinecolor": "white",
           "zerolinewidth": 2
          },
          "yaxis": {
           "automargin": true,
           "gridcolor": "white",
           "linecolor": "white",
           "ticks": "",
           "title": {
            "standoff": 15
           },
           "zerolinecolor": "white",
           "zerolinewidth": 2
          }
         }
        },
        "title": {
         "text": "Branch Distribution By Gender"
        },
        "xaxis": {
         "anchor": "y",
         "domain": [
          0,
          1
         ],
         "title": {
          "text": "Branch"
         }
        },
        "yaxis": {
         "anchor": "x",
         "domain": [
          0,
          1
         ],
         "title": {
          "text": "Count"
         }
        }
       }
      }
     },
     "metadata": {},
     "output_type": "display_data"
    }
   ],
   "source": [
    "fig = px.histogram(df,x='Branch',color='Week_day')\n",
    "fig.update_layout(\n",
    "    title=\"Branch Distribution By Gender\",\n",
    "    xaxis=dict(title=\"Branch\"),\n",
    "    yaxis=dict(title=\"Count\")\n",
    ")\n",
    "fig.show()"
   ]
  },
  {
   "cell_type": "markdown",
   "metadata": {},
   "source": [
    "Saturday is the most day people go shopping (Its the weekend)"
   ]
  },
  {
   "cell_type": "code",
   "execution_count": 136,
   "metadata": {},
   "outputs": [
    {
     "name": "stderr",
     "output_type": "stream",
     "text": [
      "C:\\Users\\ghozy\\AppData\\Local\\Temp\\ipykernel_2536\\666092114.py:5: FutureWarning:\n",
      "\n",
      "\n",
      "\n",
      "The `ci` parameter is deprecated. Use `errorbar=None` for the same effect.\n",
      "\n",
      "\n"
     ]
    },
    {
     "data": {
      "image/png": "[encoded data removed]",
      "text/plain": [
       "<Figure size 1000x400 with 1 Axes>"
      ]
     },
     "metadata": {},
     "output_type": "display_data"
    }
   ],
   "source": [
    "daytime_period_order = ['Morning', 'Afternoon', 'Evening', 'Noon']\n",
    "df['Daytime_Period'] = pd.Categorical(df['Daytime_Period'], categories=daytime_period_order, ordered=True)\n",
    "\n",
    "plt.figure(figsize=(10, 4))\n",
    "sns.barplot(data = df, x = 'Daytime_Period', y = 'Total',ci = None, estimator='sum')\n",
    "plt.ylabel('Total Sales')\n",
    "plt.title('Total Sales By Day_Period')\n",
    "plt.show()"
   ]
  },
  {
   "cell_type": "markdown",
   "metadata": {},
   "source": [
    "Afternoon is the most period people go shopping (After working hour)"
   ]
  },
  {
   "cell_type": "code",
   "execution_count": 137,
   "metadata": {},
   "outputs": [
    {
     "name": "stderr",
     "output_type": "stream",
     "text": [
      "C:\\Users\\ghozy\\AppData\\Local\\Temp\\ipykernel_2536\\1442449754.py:3: FutureWarning:\n",
      "\n",
      "\n",
      "\n",
      "The `ci` parameter is deprecated. Use `errorbar=None` for the same effect.\n",
      "\n",
      "\n"
     ]
    },
    {
     "data": {
      "image/png": "[encoded data removed]",
      "text/plain": [
       "<Figure size 640x480 with 1 Axes>"
      ]
     },
     "metadata": {},
     "output_type": "display_data"
    }
   ],
   "source": [
    "T_lineProduct= df.groupby('Product line')['Total'].sum().sort_values(ascending = False)\n",
    "\n",
    "sns.barplot(data = df,\n",
    "           x = 'Total',\n",
    "           y = 'Product line',\n",
    "           estimator = 'sum',\n",
    "           ci = None,\n",
    "           order = T_lineProduct.index.tolist()).set(title='Total Sales by Product line')\n",
    "plt.show()"
   ]
  },
  {
   "cell_type": "code",
   "execution_count": 138,
   "metadata": {},
   "outputs": [
    {
     "data": {
      "text/html": [
       "<div>\n",
       "<style scoped>\n",
       "    .dataframe tbody tr th:only-of-type {\n",
       "        vertical-align: middle;\n",
       "    }\n",
       "\n",
       "    .dataframe tbody tr th {\n",
       "        vertical-align: top;\n",
       "    }\n",
       "\n",
       "    .dataframe thead th {\n",
       "        text-align: right;\n",
       "    }\n",
       "</style>\n",
       "<table border=\"1\" class=\"dataframe\">\n",
       "  <thead>\n",
       "    <tr style=\"text-align: right;\">\n",
       "      <th></th>\n",
       "      <th>Total</th>\n",
       "    </tr>\n",
       "    <tr>\n",
       "      <th>Branch</th>\n",
       "      <th></th>\n",
       "    </tr>\n",
       "  </thead>\n",
       "  <tbody>\n",
       "    <tr>\n",
       "      <th>A</th>\n",
       "      <td>105161.08</td>\n",
       "    </tr>\n",
       "    <tr>\n",
       "      <th>C</th>\n",
       "      <td>104441.43</td>\n",
       "    </tr>\n",
       "    <tr>\n",
       "      <th>B</th>\n",
       "      <td>104152.80</td>\n",
       "    </tr>\n",
       "  </tbody>\n",
       "</table>\n",
       "</div>"
      ],
      "text/plain": [
       "            Total\n",
       "Branch           \n",
       "A       105161.08\n",
       "C       104441.43\n",
       "B       104152.80"
      ]
     },
     "execution_count": 138,
     "metadata": {},
     "output_type": "execute_result"
    }
   ],
   "source": [
    "pd.DataFrame(round(df.groupby('Branch')['Total'].sum().sort_values(ascending = False),2))"
   ]
  },
  {
   "cell_type": "code",
   "execution_count": 139,
   "metadata": {},
   "outputs": [
    {
     "name": "stderr",
     "output_type": "stream",
     "text": [
      "C:\\Users\\ghozy\\AppData\\Local\\Temp\\ipykernel_2536\\3927431874.py:3: FutureWarning:\n",
      "\n",
      "\n",
      "\n",
      "The `ci` parameter is deprecated. Use `errorbar=None` for the same effect.\n",
      "\n",
      "\n"
     ]
    },
    {
     "data": {
      "image/png": "[encoded data removed]",
      "text/plain": [
       "<Figure size 640x480 with 1 Axes>"
      ]
     },
     "metadata": {},
     "output_type": "display_data"
    }
   ],
   "source": [
    "B_Total= df.groupby('Branch')['Total'].sum().sort_values(ascending = False)\n",
    "\n",
    "sns.barplot(data = df,\n",
    "           y = 'Total',\n",
    "           x = 'Branch',\n",
    "           estimator = 'sum',\n",
    "           ci = None,\n",
    "           order = B_Total.index.tolist()).set(title='Total Sales by Branch')\n",
    "plt.show()"
   ]
  },
  {
   "cell_type": "code",
   "execution_count": null,
   "metadata": {},
   "outputs": [],
   "source": [
    "pd.DataFrame(round(df.groupby('Branch')['Total'].sum().sort_values(ascending = False),2))"
   ]
  },
  {
   "cell_type": "code",
   "execution_count": 140,
   "metadata": {},
   "outputs": [
    {
     "name": "stderr",
     "output_type": "stream",
     "text": [
      "C:\\Users\\ghozy\\AppData\\Local\\Temp\\ipykernel_2536\\2359588038.py:3: FutureWarning:\n",
      "\n",
      "\n",
      "\n",
      "The `ci` parameter is deprecated. Use `errorbar=None` for the same effect.\n",
      "\n",
      "\n"
     ]
    },
    {
     "data": {
      "image/png": "[encoded data removed]",
      "text/plain": [
       "<Figure size 640x480 with 1 Axes>"
      ]
     },
     "metadata": {},
     "output_type": "display_data"
    }
   ],
   "source": [
    "C_Total= df.groupby('City')['Total'].sum().sort_values(ascending = False)\n",
    "\n",
    "sns.barplot(data = df,\n",
    "           y = 'Total',\n",
    "           x = 'City',\n",
    "           estimator = 'sum',\n",
    "           ci = None,\n",
    "           order = C_Total.index.tolist()).set(title='Total Sales by City')\n",
    "plt.show()"
   ]
  },
  {
   "cell_type": "code",
   "execution_count": 141,
   "metadata": {},
   "outputs": [
    {
     "data": {
      "text/html": [
       "<div>\n",
       "<style scoped>\n",
       "    .dataframe tbody tr th:only-of-type {\n",
       "        vertical-align: middle;\n",
       "    }\n",
       "\n",
       "    .dataframe tbody tr th {\n",
       "        vertical-align: top;\n",
       "    }\n",
       "\n",
       "    .dataframe thead th {\n",
       "        text-align: right;\n",
       "    }\n",
       "</style>\n",
       "<table border=\"1\" class=\"dataframe\">\n",
       "  <thead>\n",
       "    <tr style=\"text-align: right;\">\n",
       "      <th></th>\n",
       "      <th>Total</th>\n",
       "    </tr>\n",
       "    <tr>\n",
       "      <th>Customer type</th>\n",
       "      <th></th>\n",
       "    </tr>\n",
       "  </thead>\n",
       "  <tbody>\n",
       "    <tr>\n",
       "      <th>Member</th>\n",
       "      <td>161125.63</td>\n",
       "    </tr>\n",
       "    <tr>\n",
       "      <th>Normal</th>\n",
       "      <td>152629.68</td>\n",
       "    </tr>\n",
       "  </tbody>\n",
       "</table>\n",
       "</div>"
      ],
      "text/plain": [
       "                   Total\n",
       "Customer type           \n",
       "Member         161125.63\n",
       "Normal         152629.68"
      ]
     },
     "execution_count": 141,
     "metadata": {},
     "output_type": "execute_result"
    }
   ],
   "source": [
    "pd.DataFrame(round(df.groupby('Customer type')['Total'].sum().sort_values(ascending = False),2))\n"
   ]
  },
  {
   "cell_type": "code",
   "execution_count": 142,
   "metadata": {},
   "outputs": [
    {
     "name": "stderr",
     "output_type": "stream",
     "text": [
      "C:\\Users\\ghozy\\AppData\\Local\\Temp\\ipykernel_2536\\3551674851.py:1: FutureWarning:\n",
      "\n",
      "\n",
      "\n",
      "The `ci` parameter is deprecated. Use `errorbar=None` for the same effect.\n",
      "\n",
      "\n"
     ]
    },
    {
     "data": {
      "image/png": "[encoded data removed]",
      "text/plain": [
       "<Figure size 640x480 with 1 Axes>"
      ]
     },
     "metadata": {},
     "output_type": "display_data"
    }
   ],
   "source": [
    "sns.barplot(data = df,\n",
    "           y = 'Total',\n",
    "           x = 'Customer type',\n",
    "           estimator = 'sum',\n",
    "           ci = None).set(title='Total Sales by Customer type')\n",
    "plt.show()"
   ]
  },
  {
   "cell_type": "code",
   "execution_count": 143,
   "metadata": {},
   "outputs": [
    {
     "data": {
      "text/html": [
       "<div>\n",
       "<style scoped>\n",
       "    .dataframe tbody tr th:only-of-type {\n",
       "        vertical-align: middle;\n",
       "    }\n",
       "\n",
       "    .dataframe tbody tr th {\n",
       "        vertical-align: top;\n",
       "    }\n",
       "\n",
       "    .dataframe thead th {\n",
       "        text-align: right;\n",
       "    }\n",
       "</style>\n",
       "<table border=\"1\" class=\"dataframe\">\n",
       "  <thead>\n",
       "    <tr style=\"text-align: right;\">\n",
       "      <th></th>\n",
       "      <th>Total</th>\n",
       "    </tr>\n",
       "    <tr>\n",
       "      <th>Gender</th>\n",
       "      <th></th>\n",
       "    </tr>\n",
       "  </thead>\n",
       "  <tbody>\n",
       "    <tr>\n",
       "      <th>Female</th>\n",
       "      <td>161738.12</td>\n",
       "    </tr>\n",
       "    <tr>\n",
       "      <th>Male</th>\n",
       "      <td>152017.19</td>\n",
       "    </tr>\n",
       "  </tbody>\n",
       "</table>\n",
       "</div>"
      ],
      "text/plain": [
       "            Total\n",
       "Gender           \n",
       "Female  161738.12\n",
       "Male    152017.19"
      ]
     },
     "execution_count": 143,
     "metadata": {},
     "output_type": "execute_result"
    }
   ],
   "source": [
    "pd.DataFrame(round(df.groupby('Gender')['Total'].sum().sort_values(ascending = False),2))"
   ]
  },
  {
   "cell_type": "code",
   "execution_count": 144,
   "metadata": {},
   "outputs": [
    {
     "name": "stderr",
     "output_type": "stream",
     "text": [
      "C:\\Users\\ghozy\\AppData\\Local\\Temp\\ipykernel_2536\\1911659736.py:1: FutureWarning:\n",
      "\n",
      "\n",
      "\n",
      "The `ci` parameter is deprecated. Use `errorbar=None` for the same effect.\n",
      "\n",
      "\n"
     ]
    },
    {
     "data": {
      "image/png": "[encoded data removed]",
      "text/plain": [
       "<Figure size 640x480 with 1 Axes>"
      ]
     },
     "metadata": {},
     "output_type": "display_data"
    }
   ],
   "source": [
    "sns.barplot(data = df,\n",
    "           y = 'Total',\n",
    "           x = 'Gender',\n",
    "           estimator = 'sum',\n",
    "           ci = None).set(title='Total Sales by Gender')\n",
    "plt.show()"
   ]
  },
  {
   "cell_type": "code",
   "execution_count": null,
   "metadata": {},
   "outputs": [],
   "source": []
  },
  {
   "cell_type": "code",
   "execution_count": null,
   "metadata": {},
   "outputs": [],
   "source": []
  },
  {
   "cell_type": "code",
   "execution_count": null,
   "metadata": {},
   "outputs": [],
   "source": []
  },
  {
   "cell_type": "code",
   "execution_count": null,
   "metadata": {},
   "outputs": [],
   "source": []
  },
  {
   "cell_type": "code",
   "execution_count": null,
   "metadata": {},
   "outputs": [],
   "source": []
  },
  {
   "cell_type": "code",
   "execution_count": null,
   "metadata": {},
   "outputs": [],
   "source": []
  },
  {
   "cell_type": "code",
   "execution_count": null,
   "metadata": {},
   "outputs": [],
   "source": []
  },
  {
   "cell_type": "code",
   "execution_count": null,
   "metadata": {},
   "outputs": [],
   "source": []
  },
  {
   "cell_type": "code",
   "execution_count": null,
   "metadata": {},
   "outputs": [],
   "source": []
  },
  {
   "cell_type": "code",
   "execution_count": null,
   "metadata": {},
   "outputs": [],
   "source": []
  },
  {
   "cell_type": "code",
   "execution_count": null,
   "metadata": {},
   "outputs": [],
   "source": []
  },
  {
   "cell_type": "code",
   "execution_count": null,
   "metadata": {},
   "outputs": [],
   "source": []
  },
  {
   "cell_type": "code",
   "execution_count": null,
   "metadata": {},
   "outputs": [],
   "source": []
  },
  {
   "cell_type": "code",
   "execution_count": null,
   "metadata": {},
   "outputs": [],
   "source": []
  },
  {
   "cell_type": "code",
   "execution_count": null,
   "metadata": {},
   "outputs": [],
   "source": []
  },
  {
   "cell_type": "code",
   "execution_count": null,
   "metadata": {},
   "outputs": [],
   "source": []
  },
  {
   "cell_type": "code",
   "execution_count": null,
   "metadata": {},
   "outputs": [],
   "source": []
  },
  {
   "cell_type": "code",
   "execution_count": null,
   "metadata": {},
   "outputs": [],
   "source": []
  },
  {
   "cell_type": "code",
   "execution_count": null,
   "metadata": {},
   "outputs": [],
   "source": []
  },
  {
   "cell_type": "code",
   "execution_count": null,
   "metadata": {},
   "outputs": [],
   "source": []
  },
  {
   "cell_type": "code",
   "execution_count": null,
   "metadata": {},
   "outputs": [],
   "source": []
  },
  {
   "cell_type": "code",
   "execution_count": null,
   "metadata": {},
   "outputs": [],
   "source": []
  },
  {
   "cell_type": "code",
   "execution_count": null,
   "metadata": {},
   "outputs": [],
   "source": []
  },
  {
   "cell_type": "code",
   "execution_count": null,
   "metadata": {},
   "outputs": [],
   "source": []
  },
  {
   "cell_type": "code",
   "execution_count": null,
   "metadata": {},
   "outputs": [],
   "source": []
  },
  {
   "cell_type": "code",
   "execution_count": null,
   "metadata": {},
   "outputs": [],
   "source": []
  },
  {
   "cell_type": "code",
   "execution_count": null,
   "metadata": {},
   "outputs": [],
   "source": []
  },
  {
   "cell_type": "code",
   "execution_count": null,
   "metadata": {},
   "outputs": [],
   "source": []
  },
  {
   "cell_type": "code",
   "execution_count": null,
   "metadata": {},
   "outputs": [],
   "source": []
  },
  {
   "cell_type": "code",
   "execution_count": null,
   "metadata": {},
   "outputs": [],
   "source": []
  },
  {
   "cell_type": "code",
   "execution_count": null,
   "metadata": {},
   "outputs": [],
   "source": []
  },
  {
   "cell_type": "code",
   "execution_count": null,
   "metadata": {},
   "outputs": [],
   "source": []
  },
  {
   "cell_type": "code",
   "execution_count": null,
   "metadata": {},
   "outputs": [],
   "source": []
  },
  {
   "cell_type": "code",
   "execution_count": null,
   "metadata": {},
   "outputs": [],
   "source": []
  },
  {
   "cell_type": "code",
   "execution_count": null,
   "metadata": {},
   "outputs": [],
   "source": []
  }
 ],
 "metadata": {
  "kernelspec": {
   "display_name": "base",
   "language": "python",
   "name": "python3"
  },
  "language_info": {
   "codemirror_mode": {
    "name": "ipython",
    "version": 3
   },
   "file_extension": ".py",
   "mimetype": "text/x-python",
   "name": "python",
   "nbconvert_exporter": "python",
   "pygments_lexer": "ipython3",
   "version": "3.11.4"
  }
 },
 "nbformat": 4,
 "nbformat_minor": 2
}
